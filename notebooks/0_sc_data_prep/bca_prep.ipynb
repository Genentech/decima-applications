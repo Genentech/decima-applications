{
 "cells": [
  {
   "cell_type": "markdown",
   "id": "9db4ba28-aab6-4d88-8e60-50510a2d4d5d",
   "metadata": {},
   "source": [
    "# Pseudobulk the Brain Cell Atlas (BCA) data"
   ]
  },
  {
   "cell_type": "code",
   "execution_count": null,
   "id": "52f14965-fb1b-4acd-96a5-9e8e7a074887",
   "metadata": {},
   "outputs": [],
   "source": [
    "import scanpy as sc\n",
    "import glob\n",
    "import os\n",
    "from tqdm.auto import tqdm\n",
    "import pandas as pd\n",
    "import numpy as np\n",
    "\n",
    "pd.options.display.max_columns = None"
   ]
  },
  {
   "cell_type": "markdown",
   "id": "e2799e3a-5f60-4f8e-89f7-e45322177466",
   "metadata": {},
   "source": [
    "## List files"
   ]
  },
  {
   "cell_type": "code",
   "execution_count": null,
   "id": "e09c230f-5da9-46f3-9e95-09704c3d8a59",
   "metadata": {},
   "outputs": [],
   "source": [
    "files = os.listdir('.')\n",
    "h5ads = []\n",
    "\n",
    "for f in files:\n",
    "    if not os.path.isdir(f) or not f.startswith('human'):\n",
    "        continue\n",
    "\n",
    "    h5ads.extend(glob.glob(f + '/processedData/*.h5ad'))\n",
    "\n",
    "h5ads"
   ]
  },
  {
   "cell_type": "markdown",
   "id": "633f8bcc-2a15-4d5c-a05a-feec85718de9",
   "metadata": {},
   "source": [
    "## Read files and filter cells"
   ]
  },
  {
   "cell_type": "code",
   "execution_count": null,
   "id": "eaab851e-5e92-48af-a152-5256546fa169",
   "metadata": {},
   "outputs": [],
   "source": [
    "ads = {}\n",
    "\n",
    "for h5 in tqdm(h5ads):\n",
    "    ad = sc.read(h5)\n",
    "    # transfer cell type labels from the adult ref\n",
    "    if h5 == 'human_brain_wholebrain_Siletti_2022_10x/processedData/meta.h5ad':\n",
    "        ad.obs['cell_type'] = ad.obs['Supercluster']\n",
    "\n",
    "    if ad.obs.sample_type.unique()[0] in ['Organoid', 'Fetal']:\n",
    "        print('skip')\n",
    "        continue\n",
    "\n",
    "    if ad.obs.seq_tech.unique()[0] != '10X':\n",
    "        print('skip')        \n",
    "        continue\n",
    "    \n",
    "    if not np.all(ad.X.data == ad.X.data.astype(int)):\n",
    "        print('skip')\n",
    "        continue\n",
    "\n",
    "    ad.obs.donor_status = ad.obs.donor_status.astype(str)\n",
    "    ad.obs.donor_ID = ad.obs.donor_ID.astype(str) + '-' + ad.obs.donor_age.astype(str) + '-' + ad.obs.donor_gender.astype(str) + '-' + ad.obs.donor_status.astype(str)\n",
    "    ad.obs.subregion = ad.obs.subregion.astype(str)\n",
    "    ad = ad[ad.obs.sample_ID.notna()]\n",
    "\n",
    "    ads[h5] = ad"
   ]
  },
  {
   "cell_type": "markdown",
   "id": "d0b46998-3573-4370-998b-3e36c92b2a37",
   "metadata": {},
   "source": [
    "## Pseudobulk"
   ]
  },
  {
   "cell_type": "code",
   "execution_count": null,
   "id": "b6dc0303-12dc-4931-8d48-4a8f5e918d2d",
   "metadata": {},
   "outputs": [],
   "source": [
    "pb_cols = [\n",
    "    'sample_ID',\n",
    "    'cell_type',\n",
    "    'donor_ID',\n",
    "    'sample_status',\n",
    "    'treatment',\n",
    "    'region',\n",
    "    'subregion',    \n",
    "]"
   ]
  },
  {
   "cell_type": "markdown",
   "id": "5b5f2071-1143-4452-a4fb-c78c10fb2743",
   "metadata": {
    "execution": {
     "iopub.execute_input": "2024-08-09T01:19:53.974449Z",
     "iopub.status.busy": "2024-08-09T01:19:53.974128Z",
     "iopub.status.idle": "2024-08-09T01:20:26.463280Z",
     "shell.execute_reply": "2024-08-09T01:20:26.462807Z",
     "shell.execute_reply.started": "2024-08-09T01:19:53.974432Z"
    }
   },
   "source": [
    "sc.get.aggregate(\n",
    "    ads['human_brain_CV_SunN_2022_10x/processedData/annot.h5ad'], \n",
    "    [\n",
    "        #'project_code',\n",
    "        'sample_ID',\n",
    "        'cell_type',\n",
    "        'donor_ID',        \n",
    "        #'donor_age',\n",
    "        #'donor_gender',\n",
    "        #'donor_status',\n",
    "        'sample_status',\n",
    "        #'sample_type',\n",
    "        #'seq_method',\n",
    "        #'seq_tech',\n",
    "        'treatment',\n",
    "        #'reference',\n",
    "        'region',\n",
    "        'subregion',    \n",
    "    ], func='sum')"
   ]
  },
  {
   "cell_type": "code",
   "execution_count": null,
   "id": "737dc492-fc2d-41f7-a252-fd3beb188caa",
   "metadata": {},
   "outputs": [],
   "source": [
    "ads_pb = []\n",
    "\n",
    "for name, ad in tqdm(list(ads.items())):\n",
    "    print(name)\n",
    "\n",
    "    project = ad.obs.project_code.values[0]\n",
    "    ad.obs = ad.obs[pb_cols]\n",
    "            \n",
    "    ad_pb = sc.get.aggregate(ad, pb_cols, func='sum')\n",
    "    ad_pb.X = ad_pb.layers['sum']\n",
    "    del ad_pb.layers['sum']\n",
    "    ad_pb.obs['project_code'] = project\n",
    "    ad.obs['project_code'] = project    \n",
    "\n",
    "    ad_pb.obs.index =  ad_pb.obs.project_code.astype(str) + '-' + ad_pb.obs.donor_ID.astype(str) + '-' + ad_pb.obs.sample_ID.astype(str) + '-' + ad_pb.obs.cell_type.astype(str) + '-' + ad_pb.obs.region.astype(str) + '-' + ad_pb.obs.subregion.astype(str)\n",
    "\n",
    "    # add cell counts\n",
    "    counts = ad.obs[pb_cols].value_counts().reset_index()\n",
    "    counts['project_code'] = project\n",
    "    counts.index = counts.project_code.astype(str) + '-' + counts.donor_ID.astype(str) + '-' + counts.sample_ID.astype(str) + '-' + counts.cell_type.astype(str) + '-' + counts.region.astype(str) + '-' + counts.subregion.astype(str)\n",
    "    counts = counts.rename(columns={'count': 'n_cells'})\n",
    "    \n",
    "    ad_pb.obs['study_name'] = name\n",
    "    ad_pb.obs['n_cells'] = counts.n_cells\n",
    "    \n",
    "    ad_pb = ad_pb[~ad_pb.obs.cell_type.isin(['unannotated', 'unannoted', 'Miscellaneous'])].copy()\n",
    "    ad_pb = ad_pb[ad_pb.obs.n_cells > 10].copy()\n",
    "\n",
    "    ad_pb.var = ad_pb.var.iloc[:, 0:0] #drop all var columns\n",
    "    ad_pb.var.index.name = None\n",
    "\n",
    "    display(ad_pb)\n",
    "    \n",
    "    ads_pb.append(ad_pb)"
   ]
  },
  {
   "cell_type": "markdown",
   "id": "3f84275f-d21c-4249-b117-d3734de21418",
   "metadata": {},
   "source": [
    "## Save"
   ]
  },
  {
   "cell_type": "code",
   "execution_count": null,
   "id": "67b91817-2d58-4022-97a5-2ae9465bdd2b",
   "metadata": {},
   "outputs": [],
   "source": [
    "final_ad = sc.concat(ads_pb, join='outer')\n",
    "final_ad.write('bca_pseudobulk.h5ad')"
   ]
  }
 ],
 "metadata": {
  "kernelspec": {
   "display_name": "Python 3 (ipykernel)",
   "language": "python",
   "name": "python3"
  },
  "language_info": {
   "codemirror_mode": {
    "name": "ipython",
    "version": 3
   },
   "file_extension": ".py",
   "mimetype": "text/x-python",
   "name": "python",
   "nbconvert_exporter": "python",
   "pygments_lexer": "ipython3",
   "version": "3.11.9"
  }
 },
 "nbformat": 4,
 "nbformat_minor": 5
}
