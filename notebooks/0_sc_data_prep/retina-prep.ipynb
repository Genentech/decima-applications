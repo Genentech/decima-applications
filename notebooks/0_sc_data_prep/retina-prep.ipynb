{
 "cells": [
  {
   "cell_type": "markdown",
   "id": "baf8b5a1-9e3c-43c9-873f-f04d2578aee6",
   "metadata": {},
   "source": [
    "# Pseudobulk the Retina (HRCA) cell atlas data"
   ]
  },
  {
   "cell_type": "code",
   "execution_count": 1,
   "id": "bb55f2e8-8d8f-4adf-b426-b19552c2fb5d",
   "metadata": {
    "execution": {
     "iopub.execute_input": "2024-08-23T21:39:56.724560Z",
     "iopub.status.busy": "2024-08-23T21:39:56.724439Z",
     "iopub.status.idle": "2024-08-23T21:39:59.216885Z",
     "shell.execute_reply": "2024-08-23T21:39:59.216343Z",
     "shell.execute_reply.started": "2024-08-23T21:39:56.724548Z"
    }
   },
   "outputs": [
    {
     "name": "stderr",
     "output_type": "stream",
     "text": [
      "/home/eraslag1/.miniconda3/lib/python3.10/site-packages/pandas/core/computation/expressions.py:21: UserWarning: Pandas requires version '2.8.4' or newer of 'numexpr' (version '2.7.3' currently installed).\n",
      "  from pandas.core.computation.check import NUMEXPR_INSTALLED\n"
     ]
    }
   ],
   "source": [
    "import scanpy as sc\n",
    "import pandas as pd\n",
    "pd.options.display.max_columns = None"
   ]
  },
  {
   "cell_type": "markdown",
   "id": "aceff6d3-05df-45ba-bbee-19b34912b855",
   "metadata": {},
   "source": [
    "## Load data"
   ]
  },
  {
   "cell_type": "code",
   "execution_count": 2,
   "id": "1c726193-5356-477b-986b-76143f4d4f89",
   "metadata": {
    "execution": {
     "iopub.execute_input": "2024-08-23T21:39:59.218667Z",
     "iopub.status.busy": "2024-08-23T21:39:59.218155Z",
     "iopub.status.idle": "2024-08-23T21:44:48.098467Z",
     "shell.execute_reply": "2024-08-23T21:44:48.097930Z",
     "shell.execute_reply.started": "2024-08-23T21:39:59.218649Z"
    }
   },
   "outputs": [
    {
     "data": {
      "text/plain": [
       "AnnData object with n_obs × n_vars = 1775529 × 60042\n",
       "    obs: 'mapped_reference_assembly', 'mapped_reference_annotation', 'alignment_software', 'donor_id', 'donor_age', 'self_reported_ethnicity_ontology_term_id', 'donor_cause_of_death', 'donor_living_at_sample_collection', 'organism_ontology_term_id', 'sample_uuid', 'sample_preservation_method', 'tissue_ontology_term_id', 'development_stage_ontology_term_id', 'sample_derivation_process', 'sample_source', 'tissue_type', 'suspension_derivation_process', 'suspension_dissociation_reagent', 'suspension_enriched_cell_types', 'suspension_enrichment_factors', 'suspension_uuid', 'suspension_type', 'tissue_handling_interval', 'library_uuid', 'assay_ontology_term_id', 'library_starting_quantity', 'sequencing_platform', 'is_primary_data', 'cell_type_ontology_term_id', 'author_cell_type', 'disease_ontology_term_id', 'sex_ontology_term_id', 'nCount_RNA', 'nFeature_RNA', 'percent.mt', 'majorclass', 'cluster2', 'AC_group1', 'BC_marker', 'BC_group1', 'BC_group2', 'AC_marker', 'RGC_fullname', 'RGC_marker', 'study_name', 'cell_type', 'assay', 'disease', 'organism', 'sex', 'tissue', 'self_reported_ethnicity', 'development_stage', 'observation_joinid'\n",
       "    var: 'feature_name', 'feature_reference', 'feature_biotype', 'feature_length'\n",
       "    uns: 'citation', 'default_embedding', 'schema_reference', 'schema_version', 'title'\n",
       "    obsm: 'X_scVI', 'X_umap'"
      ]
     },
     "execution_count": 2,
     "metadata": {},
     "output_type": "execute_result"
    }
   ],
   "source": [
    "ad = sc.read('cellxgene-retina-snRNA-seq.h5ad') # from https://cellxgene.cziscience.com/collections/4c6eaf5c-6d57-4c76-b1e9-60df8c655f1e sn all cells\n",
    "ad = ad.raw.to_adata()"
   ]
  },
  {
   "cell_type": "code",
   "execution_count": 13,
   "id": "1ca3c003-4433-443c-9bb6-7d4a51fcb745",
   "metadata": {
    "execution": {
     "iopub.execute_input": "2024-08-23T21:44:48.229408Z",
     "iopub.status.busy": "2024-08-23T21:44:48.229111Z",
     "iopub.status.idle": "2024-08-23T21:44:48.231608Z",
     "shell.execute_reply": "2024-08-23T21:44:48.231207Z",
     "shell.execute_reply.started": "2024-08-23T21:44:48.229394Z"
    }
   },
   "outputs": [],
   "source": [
    "ident_cols = ['cell_type', 'majorclass', 'donor_id', 'sex', 'donor_age', 'sample_uuid', 'tissue', 'sample_source', 'study_name', 'development_stage']"
   ]
  },
  {
   "cell_type": "code",
   "execution_count": 14,
   "id": "dc07c5fb-a173-4fa3-8dd2-15ee4d15aca4",
   "metadata": {
    "execution": {
     "iopub.execute_input": "2024-08-23T21:44:48.232249Z",
     "iopub.status.busy": "2024-08-23T21:44:48.232120Z",
     "iopub.status.idle": "2024-08-23T21:44:48.257778Z",
     "shell.execute_reply": "2024-08-23T21:44:48.257247Z",
     "shell.execute_reply.started": "2024-08-23T21:44:48.232237Z"
    }
   },
   "outputs": [],
   "source": [
    "ad.obs = ad.obs[ident_cols]"
   ]
  },
  {
   "cell_type": "markdown",
   "id": "ef71e915-1cfa-4d02-9e8c-3c90a4fb0e14",
   "metadata": {},
   "source": [
    "## Filter"
   ]
  },
  {
   "cell_type": "code",
   "execution_count": 17,
   "id": "a3897b46-d8d6-4089-baa8-aef348ecb175",
   "metadata": {
    "execution": {
     "iopub.execute_input": "2024-08-23T21:44:48.264884Z",
     "iopub.status.busy": "2024-08-23T21:44:48.264753Z",
     "iopub.status.idle": "2024-08-23T21:46:43.318566Z",
     "shell.execute_reply": "2024-08-23T21:46:43.318100Z",
     "shell.execute_reply.started": "2024-08-23T21:44:48.264871Z"
    }
   },
   "outputs": [
    {
     "data": {
      "text/plain": [
       "AnnData object with n_obs × n_vars = 1775529 × 39871\n",
       "    obs: 'cell_type', 'majorclass', 'donor_id', 'sex', 'donor_age', 'sample_uuid', 'tissue', 'sample_source', 'study_name', 'development_stage'\n",
       "    var: 'feature_name', 'feature_reference', 'feature_biotype', 'feature_length', 'n_cells'\n",
       "    uns: 'citation', 'default_embedding', 'schema_reference', 'schema_version', 'title'\n",
       "    obsm: 'X_scVI', 'X_umap'"
      ]
     },
     "execution_count": 17,
     "metadata": {},
     "output_type": "execute_result"
    }
   ],
   "source": [
    "sc.pp.filter_genes(ad, min_cells=50)"
   ]
  },
  {
   "cell_type": "code",
   "execution_count": 19,
   "id": "2d9de204-18ab-4280-9716-95161951e511",
   "metadata": {
    "execution": {
     "iopub.execute_input": "2024-08-23T21:46:43.323753Z",
     "iopub.status.busy": "2024-08-23T21:46:43.323616Z",
     "iopub.status.idle": "2024-08-23T21:46:43.326192Z",
     "shell.execute_reply": "2024-08-23T21:46:43.325797Z",
     "shell.execute_reply.started": "2024-08-23T21:46:43.323740Z"
    }
   },
   "outputs": [],
   "source": [
    "ad.var.index = ad.var.feature_name"
   ]
  },
  {
   "cell_type": "code",
   "execution_count": 20,
   "id": "848b4a4a-a736-4d40-b1df-9c92569ef390",
   "metadata": {
    "execution": {
     "iopub.execute_input": "2024-08-23T21:46:43.326855Z",
     "iopub.status.busy": "2024-08-23T21:46:43.326720Z",
     "iopub.status.idle": "2024-08-23T21:46:43.328966Z",
     "shell.execute_reply": "2024-08-23T21:46:43.328566Z",
     "shell.execute_reply.started": "2024-08-23T21:46:43.326843Z"
    }
   },
   "outputs": [],
   "source": [
    "ad.var.index.name = None"
   ]
  },
  {
   "cell_type": "code",
   "execution_count": 21,
   "id": "30c21a10-66a3-475c-87aa-f68f250485d7",
   "metadata": {
    "collapsed": true,
    "execution": {
     "iopub.execute_input": "2024-08-23T21:46:43.329630Z",
     "iopub.status.busy": "2024-08-23T21:46:43.329497Z",
     "iopub.status.idle": "2024-08-23T21:46:43.333499Z",
     "shell.execute_reply": "2024-08-23T21:46:43.333067Z",
     "shell.execute_reply.started": "2024-08-23T21:46:43.329617Z"
    },
    "jupyter": {
     "outputs_hidden": true
    }
   },
   "outputs": [
    {
     "name": "stderr",
     "output_type": "stream",
     "text": [
      "/home/eraslag1/.miniconda3/lib/python3.10/site-packages/anndata/_core/anndata.py:767: UserWarning: \n",
      "AnnData expects .var.index to contain strings, but got values like:\n",
      "    ['TSPAN6', 'TNMD', 'DPM1', 'SCYL3', 'C1orf112']\n",
      "\n",
      "    Inferred to be: categorical\n",
      "\n",
      "  value_idx = self._prep_dim_index(value.index, attr)\n"
     ]
    }
   ],
   "source": [
    "ad.var = ad.var.iloc[:, 0:0]"
   ]
  },
  {
   "cell_type": "code",
   "execution_count": 25,
   "id": "3378a3c5-4f00-4019-bea5-0589f47e02ad",
   "metadata": {
    "execution": {
     "iopub.execute_input": "2024-08-23T21:46:43.369334Z",
     "iopub.status.busy": "2024-08-23T21:46:43.369199Z",
     "iopub.status.idle": "2024-08-23T21:46:44.540226Z",
     "shell.execute_reply": "2024-08-23T21:46:44.539673Z",
     "shell.execute_reply.started": "2024-08-23T21:46:43.369322Z"
    }
   },
   "outputs": [],
   "source": [
    "ad.obs.donor_id = ad.obs.donor_id.astype(str) + '-' + ad.obs.sex.astype(str) + '-' + ad.obs.donor_age.astype(str)"
   ]
  },
  {
   "cell_type": "code",
   "execution_count": 26,
   "id": "3c58d5f4-ab7f-494c-95de-cc587d15c73b",
   "metadata": {
    "execution": {
     "iopub.execute_input": "2024-08-23T21:46:44.541040Z",
     "iopub.status.busy": "2024-08-23T21:46:44.540897Z",
     "iopub.status.idle": "2024-08-23T21:46:44.570143Z",
     "shell.execute_reply": "2024-08-23T21:46:44.569598Z",
     "shell.execute_reply.started": "2024-08-23T21:46:44.541026Z"
    }
   },
   "outputs": [],
   "source": [
    "ad.obs.drop(columns=['sex', 'donor_age'], inplace=True)"
   ]
  },
  {
   "cell_type": "code",
   "execution_count": 28,
   "id": "a3602c15-3e8a-4a32-a639-a51c2ea61169",
   "metadata": {
    "execution": {
     "iopub.execute_input": "2024-08-23T21:46:44.580561Z",
     "iopub.status.busy": "2024-08-23T21:46:44.580262Z",
     "iopub.status.idle": "2024-08-23T21:46:44.582635Z",
     "shell.execute_reply": "2024-08-23T21:46:44.582245Z",
     "shell.execute_reply.started": "2024-08-23T21:46:44.580547Z"
    }
   },
   "outputs": [],
   "source": [
    "ident_cols = ['cell_type', 'donor_id', 'sample_uuid', 'tissue', 'study_name']\n",
    "ad.obs = ad.obs[ident_cols]"
   ]
  },
  {
   "cell_type": "markdown",
   "id": "647d6814-3b73-4e3d-b433-f9fcbb7c57ac",
   "metadata": {},
   "source": [
    "## Pseudobulk"
   ]
  },
  {
   "cell_type": "code",
   "execution_count": 31,
   "id": "424d8ec7-60d8-4966-b01f-ebc9c99ce83a",
   "metadata": {
    "execution": {
     "iopub.execute_input": "2024-08-23T21:46:44.638645Z",
     "iopub.status.busy": "2024-08-23T21:46:44.638508Z",
     "iopub.status.idle": "2024-08-23T21:47:05.866339Z",
     "shell.execute_reply": "2024-08-23T21:47:05.865785Z",
     "shell.execute_reply.started": "2024-08-23T21:46:44.638632Z"
    }
   },
   "outputs": [],
   "source": [
    "adp = sc.get.aggregate(ad, ad.obs.columns, func='sum')"
   ]
  },
  {
   "cell_type": "code",
   "execution_count": 32,
   "id": "5f140f2e-ab73-4c8d-a22b-aecaf715f2e4",
   "metadata": {
    "execution": {
     "iopub.execute_input": "2024-08-23T21:47:05.867360Z",
     "iopub.status.busy": "2024-08-23T21:47:05.867040Z",
     "iopub.status.idle": "2024-08-23T21:47:05.869836Z",
     "shell.execute_reply": "2024-08-23T21:47:05.869357Z",
     "shell.execute_reply.started": "2024-08-23T21:47:05.867345Z"
    }
   },
   "outputs": [],
   "source": [
    "adp.X = adp.layers['sum']\n",
    "del adp.layers['sum']"
   ]
  },
  {
   "cell_type": "markdown",
   "id": "1307fa2d-858a-46ce-a8ab-4f50641ed5fd",
   "metadata": {},
   "source": [
    "## Add cell counts"
   ]
  },
  {
   "cell_type": "code",
   "execution_count": 35,
   "id": "bad4cd3d-5e83-4d58-89d0-e721f7ca2039",
   "metadata": {
    "execution": {
     "iopub.execute_input": "2024-08-23T21:47:05.881301Z",
     "iopub.status.busy": "2024-08-23T21:47:05.881164Z",
     "iopub.status.idle": "2024-08-23T21:47:06.071164Z",
     "shell.execute_reply": "2024-08-23T21:47:06.070658Z",
     "shell.execute_reply.started": "2024-08-23T21:47:05.881288Z"
    }
   },
   "outputs": [],
   "source": [
    "counts = ad.obs[ident_cols].value_counts().reset_index()\n",
    "counts = counts.rename(columns={'count': 'n_cells'})"
   ]
  },
  {
   "cell_type": "code",
   "execution_count": 36,
   "id": "ad9a7762-6d50-4806-925e-a594663ab089",
   "metadata": {
    "execution": {
     "iopub.execute_input": "2024-08-23T21:47:06.072423Z",
     "iopub.status.busy": "2024-08-23T21:47:06.071807Z",
     "iopub.status.idle": "2024-08-23T21:47:06.088957Z",
     "shell.execute_reply": "2024-08-23T21:47:06.088353Z",
     "shell.execute_reply.started": "2024-08-23T21:47:06.072408Z"
    }
   },
   "outputs": [],
   "source": [
    "adp.obs = adp.obs.merge(counts, how='left')"
   ]
  },
  {
   "cell_type": "code",
   "execution_count": 38,
   "id": "fbbfc8cc-0e97-4a37-8e37-8e3cd71460f9",
   "metadata": {
    "execution": {
     "iopub.execute_input": "2024-08-23T21:47:06.098468Z",
     "iopub.status.busy": "2024-08-23T21:47:06.098335Z",
     "iopub.status.idle": "2024-08-23T21:47:06.236511Z",
     "shell.execute_reply": "2024-08-23T21:47:06.236069Z",
     "shell.execute_reply.started": "2024-08-23T21:47:06.098456Z"
    }
   },
   "outputs": [
    {
     "name": "stderr",
     "output_type": "stream",
     "text": [
      "/home/eraslag1/.miniconda3/lib/python3.10/site-packages/anndata/_core/aligned_df.py:67: ImplicitModificationWarning: Transforming to str index.\n",
      "  warnings.warn(\"Transforming to str index.\", ImplicitModificationWarning)\n"
     ]
    },
    {
     "data": {
      "text/plain": [
       "AnnData object with n_obs × n_vars = 1560 × 39871\n",
       "    obs: 'cell_type', 'donor_id', 'sample_uuid', 'tissue', 'study_name', 'n_cells'"
      ]
     },
     "execution_count": 38,
     "metadata": {},
     "output_type": "execute_result"
    }
   ],
   "source": [
    "adp = adp[adp.obs.n_cells>=10].copy()"
   ]
  },
  {
   "cell_type": "markdown",
   "id": "91ede06b-0f74-4068-af8d-52c6c6175250",
   "metadata": {},
   "source": [
    "## Save"
   ]
  },
  {
   "cell_type": "code",
   "execution_count": 39,
   "id": "b64e6ec7-768a-4785-a058-c2464949740a",
   "metadata": {
    "execution": {
     "iopub.execute_input": "2024-08-23T21:47:06.237273Z",
     "iopub.status.busy": "2024-08-23T21:47:06.237134Z",
     "iopub.status.idle": "2024-08-23T21:47:06.714694Z",
     "shell.execute_reply": "2024-08-23T21:47:06.714121Z",
     "shell.execute_reply.started": "2024-08-23T21:47:06.237260Z"
    }
   },
   "outputs": [],
   "source": [
    "adp.write('retina-snrna-seq-atlas.h5ad')"
   ]
  }
 ],
 "metadata": {
  "kernelspec": {
   "display_name": "Python 3 (ipykernel)",
   "language": "python",
   "name": "python3"
  },
  "language_info": {
   "codemirror_mode": {
    "name": "ipython",
    "version": 3
   },
   "file_extension": ".py",
   "mimetype": "text/x-python",
   "name": "python",
   "nbconvert_exporter": "python",
   "pygments_lexer": "ipython3",
   "version": "3.11.9"
  }
 },
 "nbformat": 4,
 "nbformat_minor": 5
}
