{
 "cells": [
  {
   "cell_type": "markdown",
   "id": "d21d49b9-3156-4573-aa9d-34a8b8398917",
   "metadata": {},
   "source": [
    "# Pseudobulk the Heart atlas data"
   ]
  },
  {
   "cell_type": "code",
   "execution_count": null,
   "id": "035ce718-d737-4421-9d1d-4943d7104c3c",
   "metadata": {},
   "outputs": [],
   "source": [
    "import scanpy as sc\n",
    "import pandas as pd\n",
    "\n",
    "pd.options.display.max_columns = None"
   ]
  },
  {
   "cell_type": "markdown",
   "id": "5456d2ca-4810-4e85-9905-5771f31b8ab2",
   "metadata": {},
   "source": [
    "## Load the raw data"
   ]
  },
  {
   "cell_type": "code",
   "execution_count": null,
   "id": "cf750e20-4cc7-44f6-9d96-1ad0c89b99d0",
   "metadata": {},
   "outputs": [],
   "source": [
    "# downloaded from https://www.heartcellatlas.org/ # Heart Global, raw\n",
    "ad = sc.read('Global_raw.h5ad')"
   ]
  },
  {
   "cell_type": "code",
   "execution_count": null,
   "id": "68b58230-d9e7-466a-be5d-f8b53823c624",
   "metadata": {},
   "outputs": [],
   "source": [
    "ad.obs.region_finest = ad.obs.region_finest.astype(str)"
   ]
  },
  {
   "cell_type": "code",
   "execution_count": null,
   "id": "e010a1b3-96ec-48c7-9330-e96d2aa5c144",
   "metadata": {},
   "outputs": [],
   "source": [
    "ad.obs.loc[ad.obs.region_finest == 'na', 'region_finest'] = 'SAN_unknown'\n",
    "ad.obs.loc[ad.obs.region_finest == 'IVS MID LV', 'region_finest'] = 'SP IVS MID LV'\n",
    "ad.obs.loc[ad.obs.region_finest == 'IVS MID RV', 'region_finest'] = 'SP IVS MID RV'"
   ]
  },
  {
   "cell_type": "code",
   "execution_count": null,
   "id": "3b2a0cfb-9031-442e-a911-f388860fd7b8",
   "metadata": {},
   "outputs": [],
   "source": [
    "ad._sanitize()"
   ]
  },
  {
   "cell_type": "markdown",
   "id": "fc5581a0-b563-40ab-a27b-b161bf7c6aec",
   "metadata": {},
   "source": [
    "## Filtering "
   ]
  },
  {
   "cell_type": "code",
   "execution_count": null,
   "id": "9273239c-0bff-49d8-b758-5a7b0fad240f",
   "metadata": {},
   "outputs": [],
   "source": [
    "ad = ad[(ad.obs.cell_or_nuclei == 'Nuclei') &  (ad.obs.cell_state!='unclassified')].copy()"
   ]
  },
  {
   "cell_type": "code",
   "execution_count": null,
   "id": "b8283116-734c-4e2b-b475-8e9f7e176cec",
   "metadata": {},
   "outputs": [],
   "source": [
    "ad.obs.cell_state = ad.obs.cell_type.astype(str) + '-' + ad.obs.cell_state.astype(str)"
   ]
  },
  {
   "cell_type": "code",
   "execution_count": null,
   "id": "7e73e868-93ab-4a23-ba57-510eb42f5fa9",
   "metadata": {},
   "outputs": [],
   "source": [
    "ident_cols = ['sample_ID', 'region_finest', 'cell_state', 'cell_type']\n",
    "ad.obs = ad.obs[ident_cols].copy()"
   ]
  },
  {
   "cell_type": "code",
   "execution_count": null,
   "id": "91ff194c-9c96-4965-90b4-1e7cd52fede8",
   "metadata": {},
   "outputs": [],
   "source": [
    "for c in ident_cols:\n",
    "    ad.obs[c] = ad.obs[c].astype(str)"
   ]
  },
  {
   "cell_type": "code",
   "execution_count": null,
   "id": "376f658e-9468-4f6e-adba-bd0e9f54da09",
   "metadata": {},
   "outputs": [],
   "source": [
    "ad._sanitize()"
   ]
  },
  {
   "cell_type": "markdown",
   "id": "6315cc85-975d-45ef-8f1b-746dc63fd72d",
   "metadata": {},
   "source": [
    "## Now the pseudobulking"
   ]
  },
  {
   "cell_type": "code",
   "execution_count": null,
   "id": "ace53edf-3cce-4508-b1aa-9175c72a2424",
   "metadata": {},
   "outputs": [],
   "source": [
    "counts = ad.obs[ident_cols].value_counts().reset_index()\n",
    "counts = counts.rename(columns={'count': 'n_cells'})"
   ]
  },
  {
   "cell_type": "code",
   "execution_count": null,
   "id": "d295ac27-e8fb-492e-9b52-ddc28a883171",
   "metadata": {},
   "outputs": [],
   "source": [
    "ad = ad[ad.obs.merge(counts, how='left').n_cells>=10].copy()"
   ]
  },
  {
   "cell_type": "code",
   "execution_count": null,
   "id": "b58dc0db-f352-412c-bfd9-16de71a20241",
   "metadata": {},
   "outputs": [],
   "source": [
    "sc.pp.filter_genes(ad, min_cells=50)"
   ]
  },
  {
   "cell_type": "code",
   "execution_count": null,
   "id": "676c0f4f-92bf-4346-8bc8-ffb148f6f62b",
   "metadata": {},
   "outputs": [],
   "source": [
    "ad.var['gene_id'] = ad.var.index\n",
    "ad.var.index = ad.var['gene_name-new']\n",
    "ad.var.index.name = None"
   ]
  },
  {
   "cell_type": "code",
   "execution_count": null,
   "id": "d68cce2f-1a59-47bf-96f1-24c285d64fed",
   "metadata": {},
   "outputs": [],
   "source": [
    "counts = ad.obs[ident_cols].value_counts().reset_index()\n",
    "counts = counts.rename(columns={'count': 'n_cells'})"
   ]
  },
  {
   "cell_type": "code",
   "execution_count": null,
   "id": "df152ba4-6e99-4fff-bc8f-33cc05fceae1",
   "metadata": {},
   "outputs": [],
   "source": [
    "adp = sc.get.aggregate(ad, ident_cols, func='sum')"
   ]
  },
  {
   "cell_type": "code",
   "execution_count": null,
   "id": "4223e932-3b11-475c-aa52-b3d7af0b577f",
   "metadata": {},
   "outputs": [],
   "source": [
    "adp.X = adp.layers['sum'].astype(int)"
   ]
  },
  {
   "cell_type": "code",
   "execution_count": null,
   "id": "f7e64377-6464-4a00-acc7-6c90af225f01",
   "metadata": {},
   "outputs": [],
   "source": [
    "del adp.layers['sum']"
   ]
  },
  {
   "cell_type": "markdown",
   "id": "91e25718-244f-4c19-94e4-1f967544e72d",
   "metadata": {},
   "source": [
    "### Add cell counts"
   ]
  },
  {
   "cell_type": "code",
   "execution_count": null,
   "id": "4049ade8-2649-422a-8d88-3f2b6fbd4e51",
   "metadata": {},
   "outputs": [],
   "source": [
    "adp.obs = adp.obs.merge(counts, how='left')"
   ]
  },
  {
   "cell_type": "code",
   "execution_count": null,
   "id": "d9620dac-2e7e-4635-a7e7-62c01898896a",
   "metadata": {},
   "outputs": [],
   "source": [
    "adp.obs.rename(columns={'region_finest': 'region'}, inplace=True)"
   ]
  },
  {
   "cell_type": "code",
   "execution_count": null,
   "id": "bc4a6188-32d6-4823-a03d-ceea89f28ab4",
   "metadata": {},
   "outputs": [],
   "source": [
    "adp = adp.copy()"
   ]
  },
  {
   "cell_type": "markdown",
   "id": "f3e722ee-aeba-45ed-8c96-571d0fafc3bc",
   "metadata": {},
   "source": [
    "## Save"
   ]
  },
  {
   "cell_type": "code",
   "execution_count": null,
   "id": "bdfebe8b-fc31-4d98-8ba8-f4840a95fb23",
   "metadata": {},
   "outputs": [],
   "source": [
    "adp.write('heart-pseudobulk.h5ad')"
   ]
  }
 ],
 "metadata": {
  "kernelspec": {
   "display_name": "Python 3 (ipykernel)",
   "language": "python",
   "name": "python3"
  },
  "language_info": {
   "codemirror_mode": {
    "name": "ipython",
    "version": 3
   },
   "file_extension": ".py",
   "mimetype": "text/x-python",
   "name": "python",
   "nbconvert_exporter": "python",
   "pygments_lexer": "ipython3",
   "version": "3.11.9"
  }
 },
 "nbformat": 4,
 "nbformat_minor": 5
}
