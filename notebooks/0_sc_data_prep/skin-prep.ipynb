{
 "cells": [
  {
   "cell_type": "markdown",
   "id": "d21d49b9-3156-4573-aa9d-34a8b8398917",
   "metadata": {},
   "source": [
    "# Pseudobulk the Skin Atopic Dermatitis atlas"
   ]
  },
  {
   "cell_type": "code",
   "execution_count": null,
   "id": "035ce718-d737-4421-9d1d-4943d7104c3c",
   "metadata": {},
   "outputs": [],
   "source": [
    "import scanpy as sc\n",
    "import pandas as pd\n",
    "pd.options.display.max_columns = None"
   ]
  },
  {
   "cell_type": "markdown",
   "id": "511973e5-37fe-47d0-85e1-e4cb2358bf70",
   "metadata": {},
   "source": [
    "## Load"
   ]
  },
  {
   "cell_type": "code",
   "execution_count": null,
   "id": "cf750e20-4cc7-44f6-9d96-1ad0c89b99d0",
   "metadata": {},
   "outputs": [],
   "source": [
    "ad = sc.read('scp-atlas-export.h5ad') # downloaded from https://singlecell.broadinstitute.org/single_cell/study/SCP2738/"
   ]
  },
  {
   "cell_type": "code",
   "execution_count": null,
   "id": "8452953c-ac29-4982-a0b8-36f4122ef1ca",
   "metadata": {},
   "outputs": [],
   "source": [
    "ad.X = ad.layers['counts']\n",
    "del ad.layers['counts']"
   ]
  },
  {
   "cell_type": "code",
   "execution_count": null,
   "id": "7e73e868-93ab-4a23-ba57-510eb42f5fa9",
   "metadata": {},
   "outputs": [],
   "source": [
    "ad.obs = ad.obs[['sample_ID', 'disease_status', 'study_ID', 'study_accession', 'celltype_granular', 'celltype_coarse']]"
   ]
  },
  {
   "cell_type": "code",
   "execution_count": null,
   "id": "e0a987fa-17ae-4591-8825-0c021be0c188",
   "metadata": {},
   "outputs": [],
   "source": [
    "ad.obs.sample_ID = ad.obs.sample_ID.astype(str) + '-' + ad.obs.study_accession.astype(str)"
   ]
  },
  {
   "cell_type": "code",
   "execution_count": null,
   "id": "91394181-18a5-481a-8611-d81bbfcf11ec",
   "metadata": {},
   "outputs": [],
   "source": [
    "ad.obs.disease_status = ad.obs.disease_status.astype(str)"
   ]
  },
  {
   "cell_type": "code",
   "execution_count": null,
   "id": "989e8902-4178-4494-a965-d76235fb58a7",
   "metadata": {},
   "outputs": [],
   "source": [
    "ad.obs.loc[ad.obs.disease_status=='Lesional', 'disease_status'] = 'atopic dermatitis (lesional)'\n",
    "ad.obs.loc[ad.obs.disease_status=='Non-lesional', 'disease_status'] = 'atopic dermatitis (non-lesional)'\n",
    "ad.obs.loc[ad.obs.disease_status=='Lesional Dupilumab (16 wk)', 'disease_status'] = 'atopic dermatitis (lesional, Dupilumab, 16 wk)'\n",
    "ad.obs.loc[ad.obs.disease_status=='Lesional Dupilumab (1 yr)', 'disease_status'] = 'atopic dermatitis (lesional, Dupilumab, 1 yr)'"
   ]
  },
  {
   "cell_type": "code",
   "execution_count": null,
   "id": "d58fb7d5-0d67-4c69-89c6-fbcc15d60004",
   "metadata": {},
   "outputs": [],
   "source": [
    "ad.obs.study_ID = ad.obs.study_ID.astype(str)"
   ]
  },
  {
   "cell_type": "code",
   "execution_count": null,
   "id": "3ec7ac9c-5b0d-452b-9a3e-bb19d90a0f63",
   "metadata": {},
   "outputs": [],
   "source": [
    "ad.obs.loc[ad.obs.study_ID=='Current study', 'study_ID'] = 'Fiskin et al.'"
   ]
  },
  {
   "cell_type": "markdown",
   "id": "4eefbf82-6f46-47d8-aa8d-06f0dd1c61e4",
   "metadata": {},
   "source": [
    "### Nicer cell types"
   ]
  },
  {
   "cell_type": "code",
   "execution_count": null,
   "id": "584df54d-25c3-44e6-991f-d5665a520620",
   "metadata": {},
   "outputs": [],
   "source": [
    "celltype_map = {\n",
    " 'KC 1': 'Keratinocyte 1',\n",
    " 'KC cycling': 'Keratinocyte cycling',\n",
    " 'KC 2': 'Keratinocyte 2',\n",
    " 'KC 3': 'Keratinocyte 3',\n",
    " 'KC 4': 'Keratinocyte 4',\n",
    " 'KC 5': 'Keratinocyte 5',\n",
    " 'Cornified KC 1': '',\n",
    " 'Cornified KC 2': '',\n",
    " 'HF': 'Hair follicle',\n",
    " 'Sweat gland 1': '',\n",
    " 'Sweat gland 2': '',\n",
    " 'Sebaceous gland': '',\n",
    " 'Sweat gland 3': '',\n",
    " 'FB papillary': 'Fibroblast papillary',\n",
    " 'FB CCL19+IL4I1+': 'Fibroblast CCL19+IL4I1+',\n",
    " 'FB CCL19+APOE+': 'Fibroblast CCL19+APOE+',\n",
    " 'FB APOC1+': 'Fibroblast APOC1+',\n",
    " 'FB GDF10+': 'Fibroblast GDF10+',\n",
    " 'FB CPE+': 'Fibroblast CPE+',\n",
    " 'FB CDH19+': 'Fibroblast CDH19+',\n",
    " 'FB NGFR+': 'Fibroblast NGFR+',\n",
    " 'FB reticular': 'Fibroblast reticular',\n",
    " 'FB DPEP1+': 'Fibroblast DPEP1+',\n",
    " 'FB dermal papilla': 'Fibroblast dermal papilla',\n",
    " 'PE TGFBI+': 'Pericyte TGFBI+',\n",
    " 'PE RGS hi': 'Pericyte RGS hi',\n",
    " 'PE/SMC GEM hi': 'Pericyte/SMC GEM hi',\n",
    " 'SMC RERGL+': 'Smooth muscle cell RERGL+',\n",
    " 'SMC DES+': 'Smooth muscle cell DES+',\n",
    " 'ArtEC ICAM2 hi': 'Arterial endothelial ICAM2 hi',\n",
    " 'ArtEC SOS1 hi': 'Arterial endothelial SOS1 hi',\n",
    " 'CapEC FABP4+': 'Capillary endothelial FABP4+',\n",
    " 'CapEC EDNRB hi': 'Capillary endothelial EDNRB hi',\n",
    " 'CapEC INSR hi': 'Capillary endothelial INSR hi',\n",
    " 'VenEC IL6+': 'Venous endothelial IL6+',\n",
    " 'VenEC CCL15 hi': 'Venous endothelial CCL15 hi',\n",
    " 'VenEC CCL14 hi': 'Venous endothelial CCL14 hi',\n",
    " 'ArtEC RGS5+IGFBP3+': 'Arterial endothelial RGS5+IGFBP3+',\n",
    " 'CapEC RGS5+FABP4+': 'Capillary endothelial RGS5+FABP4+',\n",
    " 'CapEC RGS5+EDNRB hi': 'Capillary endothelial RGS5+EDNRB hi',\n",
    " 'Cap EC RGS5+EDNRB hi MCAM hi': 'Capillary endothelial RGS5+EDNRB hi MCAM hi',\n",
    " 'VenEC RGS5+ACKR1 hi': 'Venous endothelial RGS5+ACKR1 hi',\n",
    " 'LEC': 'Lymphetic endothelial cell',\n",
    " 'Melano S100A4-': '',\n",
    " 'Melano S100A4+': '',\n",
    " 'Melano IFI27 hi': '',\n",
    " 'Schwann MBP+': '',\n",
    " 'Schwann NRXN1 hi': '',\n",
    " 'Schwann LAMP5+': '',\n",
    " 'Schwann DCN+': '',\n",
    " 'DC 1': '',\n",
    " 'DC 1 cycling': '',\n",
    " 'DC 2': '',\n",
    " 'DC 2 CD83+': '',\n",
    " 'DC 2 cycling': '',\n",
    " 'LDC': 'DC (Langerhans)',\n",
    " 'DC MMP12+': '',\n",
    " 'mmDC': 'DC (mregDC/mmDC)',\n",
    " 'DC IL1B+': '',\n",
    " 'MΦ IL1B+': '',\n",
    " 'MΦ FNIP2 hi': '',\n",
    " 'MΦ EGR1+': '',\n",
    " 'MΦ C1QA hi': '',\n",
    " 'MΦ STAB1 hi': '',\n",
    " 'MΦ SPP1+': '',\n",
    " 'Neutrophil': '',\n",
    " 'Mast CDC42EP3 hi': '',\n",
    " 'Mast CD69 hi': '',\n",
    " 'Mast CD63 hi': '',\n",
    " 'Mast cycling': '',\n",
    " 'B Naive/Mem': '',\n",
    " 'Plasmablast': '',\n",
    " 'Plasma IgA': '',\n",
    " 'Plasma IgG': '',\n",
    " 'NK': '',\n",
    " 'ILC': '',\n",
    " 'ILC cycling': '',\n",
    " 'γδ T': 'gd T cell',\n",
    " 'CD8+ CTL': '',\n",
    " 'CD8+ CTL IFNG hi': '',\n",
    " 'Treg': '',\n",
    " 'Treg cycling': '',\n",
    " 'T CREM hi': '',\n",
    " 'T CREM lo FOS lo': '',\n",
    " 'T FOS hi': '',\n",
    " 'T FOS hi cycling': ''}"
   ]
  },
  {
   "cell_type": "code",
   "execution_count": null,
   "id": "97aaa82e-caed-4818-8749-9277bf09fb05",
   "metadata": {},
   "outputs": [],
   "source": [
    "for k in celltype_map:\n",
    "    if celltype_map[k] == '':\n",
    "        celltype_map[k] = k"
   ]
  },
  {
   "cell_type": "code",
   "execution_count": null,
   "id": "e0509ae3-ee54-46d8-bdf7-eccf5cba8be8",
   "metadata": {},
   "outputs": [],
   "source": [
    "ad.obs.celltype_granular = ad.obs.celltype_granular.map(celltype_map)"
   ]
  },
  {
   "cell_type": "markdown",
   "id": "6315cc85-975d-45ef-8f1b-746dc63fd72d",
   "metadata": {},
   "source": [
    "## Now the pseudobulking"
   ]
  },
  {
   "cell_type": "code",
   "execution_count": null,
   "id": "f57f08b3-7b41-4d37-857e-b35f4a3432bb",
   "metadata": {},
   "outputs": [],
   "source": [
    "ident_cols = ['sample_ID', 'disease_status', 'study_ID', 'study_accession', 'celltype_granular', 'celltype_coarse']"
   ]
  },
  {
   "cell_type": "code",
   "execution_count": null,
   "id": "df152ba4-6e99-4fff-bc8f-33cc05fceae1",
   "metadata": {},
   "outputs": [],
   "source": [
    "adp = sc.get.aggregate(ad, ident_cols, func='sum')"
   ]
  },
  {
   "cell_type": "code",
   "execution_count": null,
   "id": "4223e932-3b11-475c-aa52-b3d7af0b577f",
   "metadata": {},
   "outputs": [],
   "source": [
    "adp.X = adp.layers['sum'].astype(int)"
   ]
  },
  {
   "cell_type": "code",
   "execution_count": null,
   "id": "f7e64377-6464-4a00-acc7-6c90af225f01",
   "metadata": {},
   "outputs": [],
   "source": [
    "del adp.layers['sum']"
   ]
  },
  {
   "cell_type": "markdown",
   "id": "91e25718-244f-4c19-94e4-1f967544e72d",
   "metadata": {},
   "source": [
    "### Add cell counts"
   ]
  },
  {
   "cell_type": "code",
   "execution_count": null,
   "id": "ace53edf-3cce-4508-b1aa-9175c72a2424",
   "metadata": {},
   "outputs": [],
   "source": [
    "counts = ad.obs[ident_cols].value_counts().reset_index()\n",
    "counts = counts.rename(columns={'count': 'n_cells'})"
   ]
  },
  {
   "cell_type": "code",
   "execution_count": null,
   "id": "4049ade8-2649-422a-8d88-3f2b6fbd4e51",
   "metadata": {},
   "outputs": [],
   "source": [
    "adp.obs = adp.obs.merge(counts, how='left')"
   ]
  },
  {
   "cell_type": "code",
   "execution_count": null,
   "id": "eff49f15-2664-4282-a37e-660ebc40b542",
   "metadata": {},
   "outputs": [],
   "source": [
    "adp = adp[adp.obs.n_cells>=10].copy()"
   ]
  },
  {
   "cell_type": "markdown",
   "id": "5b2dd0ab-03f0-42a2-b18c-c6bf997eb2fe",
   "metadata": {},
   "source": [
    "## Save"
   ]
  },
  {
   "cell_type": "code",
   "execution_count": null,
   "id": "bdfebe8b-fc31-4d98-8ba8-f4840a95fb23",
   "metadata": {},
   "outputs": [],
   "source": [
    "adp.write('skin-pseudobulk.h5ad')"
   ]
  }
 ],
 "metadata": {
  "kernelspec": {
   "display_name": "Python 3 (ipykernel)",
   "language": "python",
   "name": "python3"
  },
  "language_info": {
   "codemirror_mode": {
    "name": "ipython",
    "version": 3
   },
   "file_extension": ".py",
   "mimetype": "text/x-python",
   "name": "python",
   "nbconvert_exporter": "python",
   "pygments_lexer": "ipython3",
   "version": "3.11.9"
  }
 },
 "nbformat": 4,
 "nbformat_minor": 5
}
