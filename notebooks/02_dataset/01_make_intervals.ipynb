{
 "cells": [
  {
   "cell_type": "code",
   "execution_count": null,
   "id": "069b6578-0333-44aa-a658-523da1a70f88",
   "metadata": {},
   "outputs": [],
   "source": [
    "import pandas as pd\n",
    "import numpy as np\n",
    "import anndata\n",
    "import os\n",
    "import sys\n",
    "from plotnine import *\n",
    "\n",
    "sys.path.append('/code/decima/src/decima/')\n",
    "import preprocess\n",
    "\n",
    "from grelu.data.preprocess import filter_chromosomes"
   ]
  },
  {
   "cell_type": "markdown",
   "id": "1f9edddf-7b63-49ae-87e7-5fae7d945c5f",
   "metadata": {},
   "source": [
    "## Paths"
   ]
  },
  {
   "cell_type": "code",
   "execution_count": null,
   "id": "53caef13-c6f6-4aa6-a48b-18371ee24522",
   "metadata": {},
   "outputs": [],
   "source": [
    "save_dir=\"/gstore/data/resbioai/grelu/decima/20240823\"\n",
    "matrix_file = os.path.join(save_dir, \"aggregated.h5ad\")"
   ]
  },
  {
   "cell_type": "markdown",
   "id": "453c2a5e-8287-47e2-ac28-ae69f38e480f",
   "metadata": {},
   "source": [
    "## Load matrix"
   ]
  },
  {
   "cell_type": "code",
   "execution_count": null,
   "id": "1d0ed61f-1c7f-418f-befb-ab5d5a0dbc55",
   "metadata": {},
   "outputs": [],
   "source": [
    "%%time\n",
    "ad = anndata.read_h5ad(matrix_file)\n",
    "print(ad.shape)"
   ]
  },
  {
   "cell_type": "markdown",
   "id": "e7638ded-7823-4fb8-bce1-a420bbe3b707",
   "metadata": {},
   "source": [
    "## Format .var"
   ]
  },
  {
   "cell_type": "code",
   "execution_count": null,
   "id": "f1965f0a-1769-4f76-8ad0-b5ff3713ba2b",
   "metadata": {},
   "outputs": [],
   "source": [
    "ad.var = ad.var[['chrom', 'start', 'end','strand','gene_name','gene_type', 'frac_nan',\n",
    "                 'mean_counts', 'n_tracks']]"
   ]
  },
  {
   "cell_type": "code",
   "execution_count": null,
   "id": "00847b88-fb01-4b41-b411-dc7da9819044",
   "metadata": {},
   "outputs": [],
   "source": [
    "ad.var['gene_start'] = ad.var.start.tolist()\n",
    "ad.var['gene_end'] = ad.var.end.tolist()\n",
    "ad.var['gene_length'] = ad.var.end - ad.var.start"
   ]
  },
  {
   "cell_type": "markdown",
   "id": "50fa180c-5a40-4b32-a3f2-baaf8b8deb79",
   "metadata": {},
   "source": [
    "## Filter chromosomes"
   ]
  },
  {
   "cell_type": "code",
   "execution_count": null,
   "id": "66c22eac-5c36-4ac0-b07d-d6dc6fa9d6c0",
   "metadata": {},
   "outputs": [],
   "source": [
    "ad = filter_chromosomes(ad, \"autosomesX\")"
   ]
  },
  {
   "cell_type": "markdown",
   "id": "e41f697d-c889-45cd-9bd4-df9e6d4efc81",
   "metadata": {},
   "source": [
    "## Make intervals"
   ]
  },
  {
   "cell_type": "code",
   "execution_count": null,
   "id": "b4bd3ea6-de7a-4ac3-bd46-ecc4941c798c",
   "metadata": {},
   "outputs": [],
   "source": [
    "%%time\n",
    "\n",
    "ad = preprocess.var_to_intervals(ad.copy(), chr_end_pad = 10000, genome=\"hg38\")\n",
    "print(ad.shape)\n",
    "print(ad.var.start.min())"
   ]
  },
  {
   "cell_type": "markdown",
   "id": "18aef69a-191e-4446-b3fd-dbfc2dbe760b",
   "metadata": {},
   "source": [
    "## Drop intervals with too many Ns"
   ]
  },
  {
   "cell_type": "code",
   "execution_count": null,
   "id": "3aaf4f2d-268a-4f9d-8b06-b8053bc773cd",
   "metadata": {},
   "outputs": [],
   "source": [
    "%%time\n",
    "ad.var[\"frac_N\"] = ad.var.apply(lambda row: preprocess.get_frac_N(row), axis=1)"
   ]
  },
  {
   "cell_type": "code",
   "execution_count": null,
   "id": "9ac2b193-7073-425b-a7b5-7aada1682ea6",
   "metadata": {},
   "outputs": [],
   "source": [
    "print(ad.shape)\n",
    "ad = ad[:, ad.var.frac_N < 0.4]\n",
    "print(ad.shape)"
   ]
  },
  {
   "cell_type": "markdown",
   "id": "dafd5f63-c324-4ece-83ec-9430c3f06c34",
   "metadata": {},
   "source": [
    "## How many intervals don't contain the gene end?"
   ]
  },
  {
   "cell_type": "code",
   "execution_count": null,
   "id": "42fbe155-2ff0-4ffe-b5ed-f2871d7804f7",
   "metadata": {},
   "outputs": [],
   "source": [
    "(ad.var.gene_mask_end == 524288).sum()"
   ]
  },
  {
   "cell_type": "markdown",
   "id": "1ecd2406-be3d-4b73-a49d-0c26fe1fd5c4",
   "metadata": {},
   "source": [
    "## Visualize number of upstream and downstream bases"
   ]
  },
  {
   "cell_type": "code",
   "execution_count": null,
   "id": "bf0ef603-700c-4c70-9ba2-65c9d3a2619f",
   "metadata": {},
   "outputs": [],
   "source": [
    "ad.var.loc[:, 'Upstream bases'] = ad.var.gene_mask_start\n",
    "ad.var.loc[:, 'Downstream bases'] = 524288 - ad.var.gene_mask_end "
   ]
  },
  {
   "cell_type": "code",
   "execution_count": null,
   "id": "11728660-a9b6-4d0c-8d55-e9ce27af5dc1",
   "metadata": {},
   "outputs": [],
   "source": [
    "(\n",
    "    ggplot(ad.var, aes(x='Upstream bases')) \n",
    "    + geom_histogram(fill='white', color='black', bins=50)\n",
    "    + theme_classic() + theme(figure_size=(4, 2)) + ylab('Count')\n",
    "    + scale_y_log10(labels = label_value) \n",
    "    + xlab(\"Number of bases upstream of TSS\")\n",
    ")"
   ]
  },
  {
   "cell_type": "code",
   "execution_count": null,
   "id": "34e19e25-49fa-445a-aced-af5338f969d4",
   "metadata": {},
   "outputs": [],
   "source": [
    "(\n",
    "    ggplot(ad.var, aes(x='Downstream bases')) \n",
    "    + geom_histogram(fill='white', color='black', bins=50)\n",
    "    + theme_classic() + theme(figure_size=(4, 2)) + ylab('Count')\n",
    "    +xlab(\"Number of bases downstream of gene\")\n",
    ")"
   ]
  },
  {
   "cell_type": "markdown",
   "id": "f7026ce5-659d-4c57-8b21-becc9634a4d1",
   "metadata": {},
   "source": [
    "## Save filtered anndata"
   ]
  },
  {
   "cell_type": "code",
   "execution_count": null,
   "id": "65abeed2-fd54-4077-8cf1-f7c78e1107fb",
   "metadata": {},
   "outputs": [],
   "source": [
    "ad.write_h5ad(matrix_file)\n",
    "#ad = anndata.read_h5ad(out_file)"
   ]
  },
  {
   "cell_type": "code",
   "execution_count": null,
   "id": "977f9070-be72-4bf9-8da8-7c62f2f30f98",
   "metadata": {},
   "outputs": [],
   "source": []
  }
 ],
 "metadata": {
  "kernelspec": {
   "display_name": "Python 3 (ipykernel)",
   "language": "python",
   "name": "python3"
  },
  "language_info": {
   "codemirror_mode": {
    "name": "ipython",
    "version": 3
   },
   "file_extension": ".py",
   "mimetype": "text/x-python",
   "name": "python",
   "nbconvert_exporter": "python",
   "pygments_lexer": "ipython3",
   "version": "3.11.9"
  }
 },
 "nbformat": 4,
 "nbformat_minor": 5
}
