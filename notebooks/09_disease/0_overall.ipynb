{
 "cells": [
  {
   "cell_type": "code",
   "execution_count": null,
   "id": "e4621855-ff81-4412-a039-34f03c7d006a",
   "metadata": {},
   "outputs": [],
   "source": [
    "import numpy as np\n",
    "import pandas as pd\n",
    "import anndata\n",
    "from tqdm import tqdm\n",
    "import torch\n",
    "from scipy.stats import pearsonr\n",
    "import os, sys\n",
    "from grelu.visualize import plot_distribution\n",
    "\n",
    "sys.path.append('/code/decima/src/decima')\n",
    "\n",
    "import interpret\n",
    "from plotnine import *\n",
    "%matplotlib inline"
   ]
  },
  {
   "cell_type": "markdown",
   "id": "433b601e-b841-4a65-abbc-b1ddc507bbf7",
   "metadata": {},
   "source": [
    "## Paths"
   ]
  },
  {
   "cell_type": "code",
   "execution_count": null,
   "id": "4050a886-ac79-436c-937d-c300a57b2735",
   "metadata": {},
   "outputs": [],
   "source": [
    "save_dir=\"/gstore/data/resbioai/grelu/decima/20240823/\"\n",
    "matrix_file = os.path.join(save_dir, \"data.h5ad\")\n",
    "h5_file = os.path.join(save_dir, \"data.h5\")\n",
    "ckpt_dir = os.path.join(save_dir, 'lightning_logs')"
   ]
  },
  {
   "cell_type": "markdown",
   "id": "cfaaefaa-480c-460f-bc9d-c4cce761701d",
   "metadata": {},
   "source": [
    "## Load data"
   ]
  },
  {
   "cell_type": "code",
   "execution_count": null,
   "id": "9959ef03-2157-4b53-bc4a-48b62d4ea5cf",
   "metadata": {},
   "outputs": [],
   "source": [
    "ad = anndata.read_h5ad(matrix_file)\n",
    "ad = ad[:, ad.var.dataset==\"test\"]"
   ]
  },
  {
   "cell_type": "markdown",
   "id": "45fcc079-ec94-4f5e-acb8-2080d8f575a7",
   "metadata": {},
   "source": [
    "## Compute correlation for all disease - healthy pairs"
   ]
  },
  {
   "cell_type": "code",
   "execution_count": null,
   "id": "16030e73-38cb-4e23-88d4-7d161ad08de1",
   "metadata": {},
   "outputs": [],
   "source": [
    "results = []\n",
    "for disease in tqdm(ad.obs.disease.unique()):\n",
    "    if disease not in [\"healthy\", \"NA\"]:\n",
    "            \n",
    "        for study, tissue, ct in ad.obs.loc[(ad.obs.disease==disease), ['study', 'tissue', 'cell_type']].itertuples(index=False):\n",
    "            \n",
    "            d_ad = ad[(ad.obs.disease==disease) & (ad.obs.study == study) & (ad.obs.tissue == tissue) & (ad.obs.cell_type==ct)]\n",
    "            h_ad = ad[(ad.obs.disease == \"healthy\") &  (ad.obs.study == study) & (ad.obs.tissue == tissue) & (ad.obs.cell_type==ct)]\n",
    "\n",
    "            if (len(h_ad) > 0):\n",
    "                h_track = h_ad.obs.index.tolist()[0]\n",
    "                d_track = d_ad.obs.index.tolist()[0]\n",
    "\n",
    "                true_lfc = np.squeeze(d_ad.X - h_ad.X)\n",
    "                pred_lfc = np.squeeze(d_ad.layers['preds'] - h_ad.layers['preds'])\n",
    "                curr_lfc = pd.DataFrame({'true':true_lfc, 'pred':pred_lfc})\n",
    "        \n",
    "                corr = np.round(curr_lfc.corr().iloc[0, 1], 2)\n",
    "                n_de = np.sum(np.abs(curr_lfc.true) > 1)\n",
    "                sf_lfc = (d_ad.obs['size_factor'].values[0] - h_ad.obs['size_factor'].values[0])/27249\n",
    "    \n",
    "                results.append((disease, study, tissue, ct, h_track, d_track, corr, n_de, sf_lfc))"
   ]
  },
  {
   "cell_type": "code",
   "execution_count": null,
   "id": "7712d180-870f-44a1-b51b-bc643bb86d28",
   "metadata": {},
   "outputs": [],
   "source": [
    "results = pd.DataFrame(results, columns=[\"disease\", \"study\", \"tissue\", \"cell_type\", \"healthy_track\", \n",
    "                            \"disease_track\", \"lfc_pearson\", \"n_de\", 'lfc_sf'])"
   ]
  },
  {
   "cell_type": "code",
   "execution_count": null,
   "id": "1c09e2eb-8fc2-4a0e-bfbd-a5a8357d4c64",
   "metadata": {},
   "outputs": [],
   "source": [
    "results = results.merge(ad.obs[['n_cells', 'total_counts', 'n_genes']], left_on='healthy_track', right_index=True)\n",
    "results = results.merge(ad.obs[['n_cells', 'total_counts', 'n_genes']], left_on='disease_track', right_index=True)\n",
    "results.columns = results.columns[:-6].tolist() + ['healthy_cells', 'healthy_counts', 'healthy_n_genes', 'disease_cells', 'disease_counts', 'disease_n_genes']"
   ]
  },
  {
   "cell_type": "markdown",
   "id": "ed28f166-fc93-41d3-9c30-e5ab32401694",
   "metadata": {},
   "source": [
    "## Filter disease-healthy pairs"
   ]
  },
  {
   "cell_type": "code",
   "execution_count": null,
   "id": "8d8f6459-cf9a-4882-9e0e-52965ccc1725",
   "metadata": {},
   "outputs": [],
   "source": [
    "print(len(results[(results.disease_cells > 500) & (results.healthy_cells > 500)]))"
   ]
  },
  {
   "cell_type": "code",
   "execution_count": null,
   "id": "1c7f4df6-01c5-4ad4-b9df-ed3f199c2b36",
   "metadata": {},
   "outputs": [],
   "source": [
    "results[(results.disease_cells > 500) & (results.healthy_cells > 500)].lfc_pearson.mean()"
   ]
  },
  {
   "cell_type": "markdown",
   "id": "e7614c94-4038-4f75-9bfc-f28c5a2ab6ce",
   "metadata": {},
   "source": [
    "## Visualize histogram of performance"
   ]
  },
  {
   "cell_type": "code",
   "execution_count": null,
   "id": "b933588d-788e-495e-9582-5bc7a49fd905",
   "metadata": {},
   "outputs": [],
   "source": [
    "plot_distribution(results[(results.disease_cells > 500) & (results.healthy_cells > 500)].lfc_pearson, \n",
    "                  fill='white', color='black', figsize=(3.5, 2.5)) + xlab(\n",
    "    'Pearson correlation between\\npredicted and observed logFCs\\n(disease vs. healthy)')"
   ]
  },
  {
   "cell_type": "code",
   "execution_count": null,
   "id": "48868c51-7fca-44af-b562-45ab93a01957",
   "metadata": {},
   "outputs": [],
   "source": []
  }
 ],
 "metadata": {
  "kernelspec": {
   "display_name": "Python 3 (ipykernel)",
   "language": "python",
   "name": "python3"
  },
  "language_info": {
   "codemirror_mode": {
    "name": "ipython",
    "version": 3
   },
   "file_extension": ".py",
   "mimetype": "text/x-python",
   "name": "python",
   "nbconvert_exporter": "python",
   "pygments_lexer": "ipython3",
   "version": "3.11.9"
  }
 },
 "nbformat": 4,
 "nbformat_minor": 5
}
