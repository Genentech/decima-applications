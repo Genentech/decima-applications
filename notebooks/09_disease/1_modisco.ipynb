{
 "cells": [
  {
   "cell_type": "code",
   "execution_count": 1,
   "metadata": {},
   "outputs": [
    {
     "name": "stderr",
     "output_type": "stream",
     "text": [
      "/home/karollua/miniforge3/envs/phylop_model/lib/python3.12/site-packages/tqdm/auto.py:21: TqdmWarning: IProgress not found. Please update jupyter and ipywidgets. See https://ipywidgets.readthedocs.io/en/stable/user_install.html\n",
      "  from .autonotebook import tqdm as notebook_tqdm\n",
      "/home/karollua/miniforge3/envs/phylop_model/lib/python3.12/site-packages/enformer_pytorch/modeling_enformer.py:29: FutureWarning: You are using `torch.load` with `weights_only=False` (the current default value), which uses the default pickle module implicitly. It is possible to construct malicious pickle data which will execute arbitrary code during unpickling (See https://github.com/pytorch/pytorch/blob/main/SECURITY.md#untrusted-models for more details). In a future release, the default value for `weights_only` will be flipped to `True`. This limits the functions that could be executed during unpickling. Arbitrary objects will no longer be allowed to be loaded via this mode unless they are explicitly allowlisted by the user via `torch.serialization.add_safe_globals`. We recommend you start setting `weights_only=True` for any use case where you don't have full control of the loaded file. Please open an issue on GitHub for any issues related to this experimental feature.\n",
      "  TF_GAMMAS = torch.load(str(DIR / \"precomputed\"/ \"tf_gammas.pt\"))\n"
     ]
    }
   ],
   "source": [
    "import sys\n",
    "import yaml\n",
    "\n",
    "import numpy as np\n",
    "import pandas as pd\n",
    "import anndata\n",
    "import h5py\n",
    "import os\n",
    "import scipy\n",
    "import tqdm\n",
    "\n",
    "import torch\n",
    "from plotnine import *\n",
    "%matplotlib inline\n",
    "\n",
    "pd.options.mode.chained_assignment = None "
   ]
  },
  {
   "cell_type": "markdown",
   "metadata": {},
   "source": [
    "# Paths"
   ]
  },
  {
   "cell_type": "code",
   "execution_count": 2,
   "metadata": {
    "tags": [
     "parameters"
    ]
   },
   "outputs": [],
   "source": [
    "ckpts={\n",
    "'kugrjb50': '/gstore/data/resbioai/grelu/decima/20240823/lightning_logs/kugrjb50/checkpoints/epoch=3-step=2920.ckpt',\n",
    "'i68hdsdk': '/gstore/data/resbioai/grelu/decima/20240823/lightning_logs/i68hdsdk/checkpoints/epoch=2-step=2190.ckpt',\n",
    "'0as9e8of': '/gstore/data/resbioai/grelu/decima/20240823/lightning_logs/0as9e8of/checkpoints/epoch=7-step=5840.ckpt',\n",
    "'i9zsp4nm': '/gstore/data/resbioai/grelu/decima/20240823/lightning_logs/i9zsp4nm/checkpoints/epoch=8-step=6570.ckpt',\n",
    "}\n",
    "\n",
    "matrix_file = \"/gstore/data/resbioai/grelu/decima/20240823/data.h5ad\"\n",
    "h5_file = \"/gstore/data/resbioai/grelu/decima/20240823/data.h5\"\n",
    "meme_file_modisco = \"/gstore/data/resbioai/karollua/Decima/scborzoi/decima/data/jaspar/H12CORE_meme_format.meme\"\n",
    "motif_json = '/gstore/data/resbioai/karollua/Decima/scborzoi/decima/data/jaspar/H12CORE_annotation.jsonl'\n",
    "motifcluster_path = \"/gstore/data/resbioai/karollua/Decima/scborzoi/decima/data/jaspar/cluster/cluster_key.txt\"\n",
    "\n",
    "# where to save results\n",
    "save_dir = \"/gstore/data/resbioai/karollua/Decima/scborzoi/decima/\"\n",
    "ensembl_out_dir = \"/gstore/data/resbioai/karollua/Decima/scborzoi/decima/results/ensemble\""
   ]
  },
  {
   "cell_type": "markdown",
   "metadata": {},
   "source": [
    "## Load data"
   ]
  },
  {
   "cell_type": "code",
   "execution_count": 3,
   "metadata": {},
   "outputs": [],
   "source": [
    "ad = anndata.read_h5ad(anndata_file)"
   ]
  },
  {
   "cell_type": "code",
   "execution_count": null,
   "metadata": {},
   "outputs": [],
   "source": [
    "def rename_fn(disease,cell_type,tissue,study):\n",
    "    return f\"{disease.replace(' ','_').replace(\"'\",\"\").replace(\"'\",\"\").replace(\"(\",\"\").replace(\")\",\"\")}__{cell_type.replace(' ','_').replace(',','_')}__{tissue.replace(' ','_').replace('-','_')}__{study.replace('-','_')}\""
   ]
  },
  {
   "cell_type": "markdown",
   "metadata": {},
   "source": [
    "## List all case studies"
   ]
  },
  {
   "cell_type": "code",
   "execution_count": 22,
   "metadata": {
    "jupyter": {
     "source_hidden": true
    }
   },
   "outputs": [],
   "source": [
    "# cutoff set to ~300 genes\n",
    "case_studies = [\n",
    "    {\n",
    "        \"study\" : \"17481d16-ee44-49e5-bcf0-28c0780d8c4a\",\t\n",
    "        \"disease\" : \"Crohn\\'s disease\",\t\n",
    "        \"tissue\" : \"ileum\",\t\n",
    "        \"cell_type\" : \"fibroblast\",\n",
    "        'pred_cut': 1.5,\n",
    "    },\n",
    "    {\n",
    "        \"study\" : \"DS000011665\",\t\n",
    "        \"disease\" : \"Crohn\\'s disease\",\t\n",
    "        \"tissue\" : \"ileum\",\t\n",
    "        \"cell_type\" : \"fibroblast\",\n",
    "        'pred_cut': 0.405,\n",
    "    },\n",
    "    {\n",
    "        \"study\" : \"DS000010618\",\t\n",
    "        \"disease\" : \"ulcerative colitis\",\t\n",
    "        \"tissue\" : \"ascending colon\",\t\n",
    "        \"cell_type\" : \"fibroblast\",\n",
    "        'pred_cut': 0.405,\n",
    "    },\n",
    "    {\n",
    "        \"study\" : \"GSE132771\",\n",
    "        \"disease\" : \"idiopathic pulmonary fibrosis\",\n",
    "        \"tissue\" :  \"lung\",\n",
    "        \"cell_type\" : \"fibroblast\",\n",
    "        'pred_cut': 0.625,\n",
    "    },\n",
    "    {\n",
    "        \"study\" : \"GSE132771\",\n",
    "        \"disease\" : \"scleroderma\",\n",
    "        \"tissue\" :  \"lung\",\n",
    "        \"cell_type\" : \"fibroblast\",\n",
    "        'pred_cut': 0.73,\n",
    "    },\n",
    "    {\n",
    "        \"study\" : \"GSE128169\",\n",
    "        \"disease\" : \"scleroderma\",\n",
    "        \"tissue\" :  \"lung\",\n",
    "        \"cell_type\" : \"fibroblast\",\n",
    "        'pred_cut': 0.63,\n",
    "    },\n",
    "    {\n",
    "        \"study\" : \"DS000010618\",\n",
    "        \"disease\" : \"ulcerative colitis\",\n",
    "        \"tissue\" :  \"colon\",\n",
    "        \"cell_type\" : \"enterocyte\",\n",
    "        'pred_cut': 1.05,\n",
    "    },\n",
    "    {\n",
    "        \"study\" : \"17481d16-ee44-49e5-bcf0-28c0780d8c4a\",\n",
    "        \"disease\" : \"Crohn\\'s disease\",\n",
    "        \"tissue\" :  \"ileum\",\n",
    "        \"cell_type\" : \"enterocyte\",\n",
    "        'pred_cut': 1.25,\n",
    "    },\n",
    "    {\n",
    "        \"study\" : \"DS000011735\",\n",
    "        \"disease\" : \"idiopathic pulmonary fibrosis\",\n",
    "        \"tissue\" :  \"lung\",\n",
    "        \"cell_type\" : \"type II pneumocyte\",\n",
    "        'pred_cut': 0.7,\n",
    "    },\n",
    "    {\n",
    "        \"study\" : \"GSE128033\",\n",
    "        \"disease\" : \"idiopathic pulmonary fibrosis\",\n",
    "        \"tissue\" :  \"lung\",\n",
    "        \"cell_type\" : \"type II pneumocyte\",\n",
    "        'pred_cut': 0.56,\n",
    "    },\n",
    "    {\n",
    "        \"study\" : \"GSE128169\",\n",
    "        \"disease\" : \"scleroderma\",\n",
    "        \"tissue\" :  \"lung\",\n",
    "        \"cell_type\" : \"type II pneumocyte\",\n",
    "        'pred_cut': 0.655,\n",
    "    },\n",
    "    {\n",
    "        \"study\" : \"SCP2613\",\n",
    "        \"disease\" : \"atopic dermatitis (lesional)\",\n",
    "        \"tissue\" :  \"skin\",\n",
    "        \"cell_type\" : \"Keratinocyte 3\",\n",
    "        'pred_cut': 0.57,\n",
    "    },\n",
    "    {\n",
    "        \"study\" : \"E-MTAB-8142\",\n",
    "        \"disease\" : \"atopic dermatitis (lesional)\",\n",
    "        \"tissue\" :  \"skin\",\n",
    "        \"cell_type\" : \"Keratinocyte 3\",\n",
    "        'pred_cut': 0.525,\n",
    "    },\n",
    "    {\n",
    "        \"study\" : \"e75342a8-0f3b-4ec5-8ee1-245a23e0f7cb\",\n",
    "        \"disease\" : \"cardiomyopathy\",\n",
    "        \"tissue\" :  \"heart left ventricle\",\n",
    "        \"cell_type\" : \"fibroblast\",\n",
    "        'pred_cut': 0.335,\n",
    "    },\n",
    "    {\n",
    "        \"study\" : \"8191c283-0816-424b-9b61-c3e1d6258a77\",\n",
    "        \"disease\" : \"myocardial infarction\",\n",
    "        \"tissue\" :  \"heart left ventricle\",\n",
    "        \"cell_type\" : \"fibroblast\",\n",
    "        'pred_cut': 0.48,\n",
    "    },\n",
    "    {\n",
    "        \"study\" : \"GSE158127\",\n",
    "        \"disease\" : \"COVID-19\",\n",
    "        \"tissue\" :  \"lung parenchyma\",\n",
    "        \"cell_type\" : \"fibroblast\",\n",
    "        'pred_cut': 0.39,\n",
    "    },\n",
    "    {\n",
    "        \"study\" : \"bcb61471-2a44-4d00-a0af-ff085512674c\",\n",
    "        \"disease\" : \"chronic kidney disease\",\n",
    "        \"tissue\" :  \"renal medulla\",\n",
    "        \"cell_type\" : \"fibroblast\",\n",
    "        'pred_cut': 0.475,\n",
    "    },\n",
    "    {\n",
    "        \"study\" : \"GSE163122\",\n",
    "        \"disease\" : \"Alzheimer\\'s disease\",\n",
    "        \"tissue\" :  \"Cerebral cortex_Occipital Cortex\",\n",
    "        \"cell_type\" : \"fibroblast\",\n",
    "        'pred_cut': 0.45,\n",
    "    },\n",
    "        {\n",
    "        \"cell_type\":\"type II pneumocyte\",\n",
    "        \"tissue\":\"lung\",\n",
    "        \"disease\":\"chronic obstructive pulmonary disease\",\n",
    "        \"study\":\"DS000011735\",\n",
    "        'pred_cut':0.82,\n",
    "    },\n",
    "    {\n",
    "        \"cell_type\":\"CD8-positive, alpha-beta T cell\",\n",
    "        \"tissue\":\"blood\",\n",
    "        \"disease\":\"systemic lupus erythematosus\",\n",
    "        \"study\":\"GSE156989\",\n",
    "        'pred_cut':0.82,\n",
    "    },\n",
    "    {\n",
    "        \"cell_type\":\"CD4-positive, alpha-beta T cell\",\n",
    "        \"tissue\":\"blood\",\n",
    "        \"disease\":\"COVID-19\",\n",
    "        \"study\":\"ddfad306-714d-4cc0-9985-d9072820c530\",\n",
    "        'pred_cut':0.78,\n",
    "    },\n",
    "    {\n",
    "        \"cell_type\":\"memory B cell\",\n",
    "        \"tissue\":\"blood\",\n",
    "        \"disease\":\"systemic lupus erythematosus\",\n",
    "        \"study\":\"GSE156989\",\n",
    "        'pred_cut':0.625,\n",
    "    },\n",
    "    {\n",
    "        \"cell_type\":\"Fibroblast APOC1+\",\n",
    "        \"tissue\":\"skin\",\n",
    "        \"disease\":\"atopic dermatitis (non-lesional)\",\n",
    "        \"study\":\"SCP2613\",\n",
    "        'pred_cut':0.43,\n",
    "    },\n",
    "    {\n",
    "        \"cell_type\":\"Microglia\",\n",
    "        \"tissue\":\"Grey matter_Motor cortex\",\n",
    "        \"disease\":\"Amyotrophic lateral sclerosis\",\n",
    "        \"study\":\"GSE174332\",\n",
    "        'pred_cut':0.58,\n",
    "    },\n",
    "    {\n",
    "        \"cell_type\":\"goblet cell\",\n",
    "        \"tissue\":\"ileum\",\n",
    "        \"disease\":\"Crohn's disease\",\n",
    "        \"study\":\"17481d16-ee44-49e5-bcf0-28c0780d8c4a\",\n",
    "        'pred_cut':1.18,\n",
    "    },\n",
    "]"
   ]
  },
  {
   "cell_type": "markdown",
   "metadata": {},
   "source": [
    "## Compute attributions for each case study and model replicate"
   ]
  },
  {
   "cell_type": "code",
   "execution_count": 150,
   "metadata": {
    "collapsed": true,
    "jupyter": {
     "outputs_hidden": true
    }
   },
   "outputs": [
    {
     "name": "stdout",
     "output_type": "stream",
     "text": [
      "24\n",
      "4 goblet cell Crohn's disease /gstore/data/resbioai/grelu/decima/20240823/lightning_logs/kugrjb50/checkpoints/epoch=3-step=2920.ckpt /gstore/data/resbioai/karollua/Decima/scborzoi/decima/results/kugrjb50\n",
      "python Interpret.py -device 4 -ckpt_file /gstore/data/resbioai/grelu/decima/20240823/lightning_logs/kugrjb50/checkpoints/epoch=3-step=2920.ckpt -h5_file /gstore/data/resbioai/grelu/decima/20240823/data.h5 -gene_df_file /gstore/data/resbioai/karollua/Decima/scborzoi/decima/results/kugrjb50/Crohns_disease__goblet_cell__ileum__17481d16_ee44_49e5_bcf0_28c0780d8c4a/gene_df.csv -targets_file /gstore/data/resbioai/karollua/Decima/scborzoi/decima/results/kugrjb50/Crohns_disease__goblet_cell__ileum__17481d16_ee44_49e5_bcf0_28c0780d8c4a/targets.csv -out_dir /gstore/data/resbioai/karollua/Decima/scborzoi/decima/results/kugrjb50/Crohns_disease__goblet_cell__ileum__17481d16_ee44_49e5_bcf0_28c0780d8c4a > ../logs/interpretDisease_kugrjb50_Crohns_disease__goblet_cell__ileum__17481d16_ee44_49e5_bcf0_28c0780d8c4a.log 2>&1 &\n",
      "5 goblet cell Crohn's disease /gstore/data/resbioai/grelu/decima/20240823/lightning_logs/i68hdsdk/checkpoints/epoch=2-step=2190.ckpt /gstore/data/resbioai/karollua/Decima/scborzoi/decima/results/i68hdsdk\n",
      "python Interpret.py -device 5 -ckpt_file /gstore/data/resbioai/grelu/decima/20240823/lightning_logs/i68hdsdk/checkpoints/epoch=2-step=2190.ckpt -h5_file /gstore/data/resbioai/grelu/decima/20240823/data.h5 -gene_df_file /gstore/data/resbioai/karollua/Decima/scborzoi/decima/results/i68hdsdk/Crohns_disease__goblet_cell__ileum__17481d16_ee44_49e5_bcf0_28c0780d8c4a/gene_df.csv -targets_file /gstore/data/resbioai/karollua/Decima/scborzoi/decima/results/i68hdsdk/Crohns_disease__goblet_cell__ileum__17481d16_ee44_49e5_bcf0_28c0780d8c4a/targets.csv -out_dir /gstore/data/resbioai/karollua/Decima/scborzoi/decima/results/i68hdsdk/Crohns_disease__goblet_cell__ileum__17481d16_ee44_49e5_bcf0_28c0780d8c4a > ../logs/interpretDisease_i68hdsdk_Crohns_disease__goblet_cell__ileum__17481d16_ee44_49e5_bcf0_28c0780d8c4a.log 2>&1 &\n",
      "6 goblet cell Crohn's disease /gstore/data/resbioai/grelu/decima/20240823/lightning_logs/0as9e8of/checkpoints/epoch=7-step=5840.ckpt /gstore/data/resbioai/karollua/Decima/scborzoi/decima/results/0as9e8of\n",
      "python Interpret.py -device 6 -ckpt_file /gstore/data/resbioai/grelu/decima/20240823/lightning_logs/0as9e8of/checkpoints/epoch=7-step=5840.ckpt -h5_file /gstore/data/resbioai/grelu/decima/20240823/data.h5 -gene_df_file /gstore/data/resbioai/karollua/Decima/scborzoi/decima/results/0as9e8of/Crohns_disease__goblet_cell__ileum__17481d16_ee44_49e5_bcf0_28c0780d8c4a/gene_df.csv -targets_file /gstore/data/resbioai/karollua/Decima/scborzoi/decima/results/0as9e8of/Crohns_disease__goblet_cell__ileum__17481d16_ee44_49e5_bcf0_28c0780d8c4a/targets.csv -out_dir /gstore/data/resbioai/karollua/Decima/scborzoi/decima/results/0as9e8of/Crohns_disease__goblet_cell__ileum__17481d16_ee44_49e5_bcf0_28c0780d8c4a > ../logs/interpretDisease_0as9e8of_Crohns_disease__goblet_cell__ileum__17481d16_ee44_49e5_bcf0_28c0780d8c4a.log 2>&1 &\n",
      "7 goblet cell Crohn's disease /gstore/data/resbioai/grelu/decima/20240823/lightning_logs/i9zsp4nm/checkpoints/epoch=8-step=6570.ckpt /gstore/data/resbioai/karollua/Decima/scborzoi/decima/results/i9zsp4nm\n",
      "python Interpret.py -device 7 -ckpt_file /gstore/data/resbioai/grelu/decima/20240823/lightning_logs/i9zsp4nm/checkpoints/epoch=8-step=6570.ckpt -h5_file /gstore/data/resbioai/grelu/decima/20240823/data.h5 -gene_df_file /gstore/data/resbioai/karollua/Decima/scborzoi/decima/results/i9zsp4nm/Crohns_disease__goblet_cell__ileum__17481d16_ee44_49e5_bcf0_28c0780d8c4a/gene_df.csv -targets_file /gstore/data/resbioai/karollua/Decima/scborzoi/decima/results/i9zsp4nm/Crohns_disease__goblet_cell__ileum__17481d16_ee44_49e5_bcf0_28c0780d8c4a/targets.csv -out_dir /gstore/data/resbioai/karollua/Decima/scborzoi/decima/results/i9zsp4nm/Crohns_disease__goblet_cell__ileum__17481d16_ee44_49e5_bcf0_28c0780d8c4a > ../logs/interpretDisease_i9zsp4nm_Crohns_disease__goblet_cell__ileum__17481d16_ee44_49e5_bcf0_28c0780d8c4a.log 2>&1 &\n"
     ]
    }
   ],
   "source": [
    "for case_study in case_studies:\n",
    "\n",
    "    study = case_study['study']\n",
    "    disease = case_study['disease']\n",
    "    tissue = case_study['tissue']\n",
    "    cell_type = case_study['cell_type']\n",
    "    ct = cell_type\n",
    "    pred_cut = case_study['pred_cut']\n",
    "\n",
    "    on_tasks = ad[ad.obs.cell_type==ct & ad.obs.tissue==tissue & ad.obs.disease == disease & ad.obs.study == study].index.tolist()\n",
    "    off_tasks = ad[ad.obs.cell_type==ct & ad.obs.tissue==tissue & ad.obs.disease== 'healthy' & ad.obs.study == study.index.tolist()\n",
    "    \n",
    "    diff_df = pd.DataFrame({'gene':list(ad.var.index), 'pred_diff': ad[on_tasks].layers['preds'].mean(0) - ad[off_tasks].layers['preds'].mean(0)})\n",
    "    diff_df = diff_df[diff_df.pred_diff > pred_cut]\n",
    "\n",
    "    task_df = pd.DataFrame([{\"task_type\":\"on\",'task':on_tasks[0]}, {\"task_type\":\"off\",'task':off_tasks[0]}])\n",
    "    \n",
    "    devices = [4,5,6,7]\n",
    "    i = 0\n",
    "    for run_id, ckpt_file in ckpts.items():\n",
    "        device = devices[i]        \n",
    "        results_path_model = os.path.join(save_dir, \"results\", run_id)\n",
    "        name = rename_fn(disease,cell_type,tissue,study)\n",
    "        \n",
    "        out_dir = os.path.join(results_path_model, name)\n",
    "        gene_df_file = os.path.join(out_dir,'gene_df.csv')\n",
    "        targets_file = os.path.join(out_dir,'targets.csv')\n",
    "        \n",
    "        # write gene and task df\n",
    "        logfc_df.to_csv(gene_df_file, index=None)\n",
    "        task_df.to_csv(targets_file, index=None)\n",
    "        \n",
    "        # make and execute command\n",
    "        cmd = f\"python Interpret.py -device {device} -ckpt_file {ckpt_file} -h5_file {h5_file} -gene_df_file {gene_df_file} \\\n",
    "            -targets_file {targets_file} -out_dir {out_dir}\"\n",
    "        cmd = \" \".join(cmd.split())\n",
    "        print(cmd)\n",
    "        i += 1"
   ]
  },
  {
   "cell_type": "markdown",
   "metadata": {},
   "source": [
    "## Average attributions and run modisco for each case study"
   ]
  },
  {
   "cell_type": "code",
   "execution_count": 151,
   "metadata": {
    "collapsed": true,
    "jupyter": {
     "outputs_hidden": true
    }
   },
   "outputs": [
    {
     "name": "stderr",
     "output_type": "stream",
     "text": [
      "  0%|          | 0/25 [00:00<?, ?it/s]"
     ]
    },
    {
     "name": "stdout",
     "output_type": "stream",
     "text": [
      "(304, 4, 524288)\n"
     ]
    },
    {
     "name": "stderr",
     "output_type": "stream",
     "text": [
      " 76%|███████▌  | 19/25 [00:23<00:07,  1.24s/it]"
     ]
    },
    {
     "name": "stdout",
     "output_type": "stream",
     "text": [
      "(307, 4, 524288)\n"
     ]
    },
    {
     "name": "stderr",
     "output_type": "stream",
     "text": [
      " 80%|████████  | 20/25 [00:42<00:12,  2.49s/it]"
     ]
    },
    {
     "name": "stdout",
     "output_type": "stream",
     "text": [
      "(303, 4, 524288)\n"
     ]
    },
    {
     "name": "stderr",
     "output_type": "stream",
     "text": [
      " 84%|████████▍ | 21/25 [01:01<00:15,  3.95s/it]"
     ]
    },
    {
     "name": "stdout",
     "output_type": "stream",
     "text": [
      "(311, 4, 524288)\n"
     ]
    },
    {
     "name": "stderr",
     "output_type": "stream",
     "text": [
      " 88%|████████▊ | 22/25 [01:26<00:19,  6.41s/it]"
     ]
    },
    {
     "name": "stdout",
     "output_type": "stream",
     "text": [
      "(306, 4, 524288)\n"
     ]
    },
    {
     "name": "stderr",
     "output_type": "stream",
     "text": [
      " 92%|█████████▏| 23/25 [01:43<00:15,  7.82s/it]"
     ]
    },
    {
     "name": "stdout",
     "output_type": "stream",
     "text": [
      "(306, 4, 524288)\n"
     ]
    },
    {
     "name": "stderr",
     "output_type": "stream",
     "text": [
      " 96%|█████████▌| 24/25 [02:11<00:11, 11.27s/it]"
     ]
    },
    {
     "name": "stdout",
     "output_type": "stream",
     "text": [
      "(301, 4, 524288)\n"
     ]
    },
    {
     "name": "stderr",
     "output_type": "stream",
     "text": [
      "100%|██████████| 25/25 [02:35<00:00,  6.22s/it]\n"
     ]
    }
   ],
   "source": [
    "for case_study in tqdm.tqdm(case_studies):\n",
    "    study = case_study['study']\n",
    "    disease = case_study['disease']\n",
    "    tissue = case_study['tissue']\n",
    "    cell_type = case_study['cell_type']\n",
    "    ct = cell_type\n",
    "    \n",
    "    name = rename_fn(disease,cell_type,tissue,study)\n",
    "    results_path_ensemble = os.path.join(ensembl_out_dir, name)\n",
    "\n",
    "    attrs = []\n",
    "    for run_id, ckpt_file in ckpts.items():\n",
    "        results_path_model = os.path.join(save_dir, \"results\", run_id)\n",
    "        attr = np.load(os.path.join(results_path_model,name,\"attributions.npy\"))\n",
    "        attrs.append(attr)\n",
    "\n",
    "    # get path to attributions and one hot sequences\n",
    "    seq_file = os.path.join(results_path_ensemble,'sequences.npy')\n",
    "    attr_file = os.path.join(results_path_ensemble,'attributions.npy')\n",
    "        \n",
    "    # average the attributions\n",
    "    attrs = np.stack(attrs).mean(0)\n",
    "    np.save(attr_file, attrs)\n",
    "    \n",
    "    # save one sequence tensor\n",
    "    seq = np.load(os.path.join(results_path_model, name, \"sequences.npy\"))\n",
    "    np.save(seq_file, seq)\n",
    "\n",
    "    # make command\n",
    "    cmd = f\"python InterpretModisco.py -seq_file {seq_file} -attr_file {attr_file} -meme_file {meme_file_modisco} -out_dir {results_path_ensemble} -seqlets 50000\"\n",
    "    print(cmd)"
   ]
  },
  {
   "cell_type": "markdown",
   "metadata": {},
   "source": [
    "## Match modisco results to motif cluster"
   ]
  },
  {
   "cell_type": "code",
   "execution_count": 27,
   "metadata": {},
   "outputs": [],
   "source": [
    "rows = []\n",
    "\n",
    "for cs in case_studies:\n",
    "    print(cs)\n",
    "    study = cs['study']\n",
    "    disease = cs['disease']\n",
    "    tissue = cs['tissue']\n",
    "    cell_type = cs['cell_type']\n",
    "    ct = cell_type\n",
    "    \n",
    "    attrs = []\n",
    "\n",
    "    modisco_name = rename_fn(disease,cell_type,tissue,study)\n",
    "    modisco_dir = os.path.join(ensembl_out_dir,modisco_name)\n",
    "    modisco_h5 = os.path.join(modisco_dir,'modisco_full','modisco_report.h5')\n",
    "    \n",
    "    f = h5py.File(modisco_h5, 'r')\n",
    "    for i in range(len(f['pos_patterns'])):\n",
    "        num_seqlets = f['pos_patterns'][f'pattern_{i}']['seqlets']['n_seqlets'][0]\n",
    "        row = {'cell_type':cell_type, 'disease':disease, 'tissue':tissue, 'study':study, 'pattern':i, 'count':num_seqlets}\n",
    "\n",
    "        tomtom = pd.read_csv(os.path.join(modisco_dir,'modisco_full', 'tomtom',f\"pos_patterns.pattern_{i}.tomtom.tsv\"),sep=\"\\t\").dropna()\n",
    "        tomtom = tomtom[tomtom['q-value'] < 0.05]\n",
    "        if len(tomtom) > 0:\n",
    "            target = tomtom.sort_values('q-value')['Target_ID'].iloc[0]\n",
    "            top_target = tf_to_family_dict[target]['tf']\n",
    "            top_cluster = tf_to_motifcluster_dict[target]\n",
    "            if top_target is not None:\n",
    "                row['target'] = top_target\n",
    "                row['cluster'] = top_cluster\n",
    "                rows.append(row)\n",
    "\n",
    "ct_motif_df = pd.DataFrame(rows)"
   ]
  },
  {
   "cell_type": "markdown",
   "metadata": {},
   "source": [
    "## TWIST1"
   ]
  },
  {
   "cell_type": "code",
   "execution_count": null,
   "metadata": {},
   "outputs": [],
   "source": [
    "seqlet_counts = ct_motif_df.groupby(['cell_type','disease','tissue','study'])['count'].sum().reset_index().rename(columns={'count':'total'})\n",
    "twist_df = ct_motif_df.query('top_target == \"TWST1\"')[['cell_type','disease','tissue','study','count']].merge(\n",
    "    seqlet_counts, how='right', on=['cell_type','disease','tissue','study']).fillna(0)"
   ]
  },
  {
   "cell_type": "code",
   "execution_count": 29,
   "metadata": {},
   "outputs": [],
   "source": [
    "subdf_list = []\n",
    "for cs in case_studies:\n",
    "    on_tasks = ad[ad.obs.cell_type==ct & ad.obs.tissue==tissue & ad.obs.disease == disease & ad.obs.study == study].index.tolist()\n",
    "    off_tasks = ad[ad.obs.cell_type==ct & ad.obs.tissue==tissue & ad.obs.disease== 'healthy' & ad.obs.study == study.index.tolist()\n",
    "    sub_df = pd.DataFrame({'gene':list(ad.var.index), 'true_diff': ad[on_tasks].X.mean(0) - ad[off_tasks].X.mean(0)})\n",
    "    subdf_list.append(sub_df)\n",
    "\n",
    "cs_diff_df = pd.concat(subdf_list).reset_index()    "
   ]
  },
  {
   "cell_type": "code",
   "execution_count": 30,
   "metadata": {},
   "outputs": [
    {
     "name": "stdout",
     "output_type": "stream",
     "text": [
      "PearsonRResult(statistic=0.7639655500989944, pvalue=8.819952795161782e-06)\n"
     ]
    }
   ],
   "source": [
    "twist_df = twist_df.merge(cs_diff_df.query('gene == \"TWIST1\"')[['cell_type','disease','tissue','study','true_diff']], \n",
    "                          on=['cell_type','disease','tissue','study'])\n",
    "twist_df['motif_detected'] = twist_df['count'] > 0"
   ]
  },
  {
   "cell_type": "code",
   "execution_count": 32,
   "metadata": {},
   "outputs": [
    {
     "name": "stdout",
     "output_type": "stream",
     "text": [
      "MannwhitneyuResult(statistic=111.0, pvalue=0.003972020440337957)\n"
     ]
    },
    {
     "data": {
      "image/png": "[encoded data removed]"
     },
     "metadata": {
      "image/png": {
       "height": 300,
       "width": 350
      }
     },
     "output_type": "display_data"
    }
   ],
   "source": [
    "pval = scipy.stats.mannwhitneyu(twist_df.query('motif_detected')['true_diff'], twist_df.query('not motif_detected')['true_diff'])\n",
    "print(pval)\n",
    "(\n",
    "    ggplot(twist_df, aes(x='motif_detected', y = 'true_diff')) +\\\n",
    "    geom_boxplot() + theme_classic() + theme(figure_size=(3.5, 3.0)) \n",
    "    + xlab(\"TWIST1 dimer Motif in Modisco?\") + ylab(\"TWIST1 log Fold Change\")\n",
    "    + geom_vline(xintercept=0, color='grey', linetype='dashed')\n",
    "    + geom_hline(yintercept=0, color='grey', linetype='dashed')\n",
    "    + geom_text(x=2, y=-1, label=f\"P-value = {np.round(pval[1], 4)}\") \n",
    "    + theme(plot_title = element_text(size=12))\n",
    ")"
   ]
  }
 ],
 "metadata": {
  "kernelspec": {
   "display_name": "Python 3 (ipykernel)",
   "language": "python",
   "name": "python3"
  },
  "language_info": {
   "codemirror_mode": {
    "name": "ipython",
    "version": 3
   },
   "file_extension": ".py",
   "mimetype": "text/x-python",
   "name": "python",
   "nbconvert_exporter": "python",
   "pygments_lexer": "ipython3",
   "version": "3.11.9"
  }
 },
 "nbformat": 4,
 "nbformat_minor": 4
}
