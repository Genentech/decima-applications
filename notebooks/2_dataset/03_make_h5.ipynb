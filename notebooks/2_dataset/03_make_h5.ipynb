{
 "cells": [
  {
   "cell_type": "code",
   "execution_count": null,
   "id": "f3c121a6-8f3e-40aa-957f-980c2c0f4dda",
   "metadata": {},
   "outputs": [],
   "source": [
    "import pandas as pd\n",
    "import numpy as np\n",
    "import anndata\n",
    "import os, sys\n",
    "\n",
    "sys.path.append('/code/decima/src/decima/')\n",
    "import write_hdf5"
   ]
  },
  {
   "cell_type": "markdown",
   "id": "448715e3-0fc4-4fed-aa72-47e5c4a10b3f",
   "metadata": {},
   "source": [
    "## Paths"
   ]
  },
  {
   "cell_type": "code",
   "execution_count": null,
   "id": "d1af0a77-b94d-43b8-a212-20000922676d",
   "metadata": {},
   "outputs": [],
   "source": [
    "save_dir=\"/gstore/data/resbioai/grelu/decima/20240823/\"\n",
    "matrix_file = os.path.join(save_dir, \"aggregated.h5ad\")"
   ]
  },
  {
   "cell_type": "markdown",
   "id": "af8cb9a7-e5b7-46fb-9fa4-c19da2ec8b17",
   "metadata": {},
   "source": [
    "## Load matrix"
   ]
  },
  {
   "cell_type": "code",
   "execution_count": null,
   "id": "8e8e9f16-b45a-4c8e-a4c2-cfb664eaf342",
   "metadata": {},
   "outputs": [],
   "source": [
    "ad = anndata.read_h5ad(matrix_file)\n",
    "ad.shape"
   ]
  },
  {
   "cell_type": "markdown",
   "id": "a408d810-d76b-4885-bc27-3a46eb4d9036",
   "metadata": {},
   "source": [
    "## Write h5 file"
   ]
  },
  {
   "cell_type": "code",
   "execution_count": null,
   "id": "ff35fa7c-f7e9-4534-8005-bb08347dda87",
   "metadata": {},
   "outputs": [],
   "source": [
    "out_file = os.path.join(save_dir, \"data.h5\")"
   ]
  },
  {
   "cell_type": "code",
   "execution_count": null,
   "id": "5e27f6ea-d493-4fcf-99f0-a1ac9f6c4ef3",
   "metadata": {},
   "outputs": [],
   "source": [
    "ad.var = ad.var[ad.var.columns[1:].tolist() + ['gene_id']]"
   ]
  },
  {
   "cell_type": "code",
   "execution_count": null,
   "id": "d59b10e3-d492-47e4-8f50-b77213415889",
   "metadata": {},
   "outputs": [],
   "source": [
    "%%time\n",
    "\n",
    "write_hdf5.write_hdf5(file=out_file, ad=ad, pad=5000)"
   ]
  }
 ],
 "metadata": {
  "kernelspec": {
   "display_name": "Python 3 (ipykernel)",
   "language": "python",
   "name": "python3"
  },
  "language_info": {
   "codemirror_mode": {
    "name": "ipython",
    "version": 3
   },
   "file_extension": ".py",
   "mimetype": "text/x-python",
   "name": "python",
   "nbconvert_exporter": "python",
   "pygments_lexer": "ipython3",
   "version": "3.11.9"
  }
 },
 "nbformat": 4,
 "nbformat_minor": 5
}
