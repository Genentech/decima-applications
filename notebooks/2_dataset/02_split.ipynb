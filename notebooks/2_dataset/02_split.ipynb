{
 "cells": [
  {
   "cell_type": "code",
   "execution_count": null,
   "id": "ff2829c4-bb7f-43a8-8fe2-b013104868fd",
   "metadata": {
    "scrolled": true
   },
   "outputs": [],
   "source": [
    "import pandas as pd\n",
    "import numpy as np\n",
    "import anndata\n",
    "import os, sys\n",
    "import bioframe as bf"
   ]
  },
  {
   "cell_type": "markdown",
   "id": "c4d011e5-4284-40af-bd6c-2a5395ada757",
   "metadata": {},
   "source": [
    "## Paths"
   ]
  },
  {
   "cell_type": "code",
   "execution_count": null,
   "id": "d2ccc202-bb3b-4acf-8547-c9a6aa7b0fb1",
   "metadata": {},
   "outputs": [],
   "source": [
    "save_dir=\"/gstore/data/resbioai/grelu/decima/20240823/\"\n",
    "matrix_file = os.path.join(save_dir, \"aggregated.h5ad\")\n",
    "splits_file = '/gstore/data/resbioai/grelu/borzoi-data/hg38/sequences.bed'"
   ]
  },
  {
   "cell_type": "markdown",
   "id": "e469b282-c8c6-4cf0-845c-5ff55ed18a7a",
   "metadata": {},
   "source": [
    "## Read inputs"
   ]
  },
  {
   "cell_type": "code",
   "execution_count": null,
   "id": "7ca111b9-99a0-46b1-847d-3b25c5808806",
   "metadata": {},
   "outputs": [],
   "source": [
    "splits = pd.read_table(splits_file, header=None, names=['chrom', 'start', 'end', 'fold'])"
   ]
  },
  {
   "cell_type": "code",
   "execution_count": null,
   "id": "d278615d-6353-4cfe-a8f7-43bad9dba4d4",
   "metadata": {},
   "outputs": [],
   "source": [
    "ad = anndata.read_h5ad(matrix_file)"
   ]
  },
  {
   "cell_type": "markdown",
   "id": "7e74fce8-5fee-48b6-ad5e-0f6ed57f272a",
   "metadata": {},
   "source": [
    "## Overlap gene intervals with Borzoi folds"
   ]
  },
  {
   "cell_type": "code",
   "execution_count": null,
   "id": "3251036e-0d7d-4abd-98d2-b1d66647ede2",
   "metadata": {},
   "outputs": [],
   "source": [
    "overlaps = bf.overlap(ad.var.reset_index(names=\"gene\"), splits, how='left')\n",
    "overlaps = overlaps[['gene', 'fold_']].drop_duplicates().astype(str)\n",
    "overlaps.columns=['gene', 'fold']\n",
    "overlaps.head(2)"
   ]
  },
  {
   "cell_type": "markdown",
   "id": "52e5f6b0-ec69-4ed1-a918-6b41adec111e",
   "metadata": {},
   "source": [
    "## List all overlapping folds for each interval"
   ]
  },
  {
   "cell_type": "code",
   "execution_count": null,
   "id": "5e412858-d7ef-40b4-8c63-aee6d5ddbb6d",
   "metadata": {},
   "outputs": [],
   "source": [
    "overlaps = overlaps.groupby('gene').fold.apply(list).reset_index()\n",
    "overlaps.loc[overlaps.fold.apply(lambda x: x[0] is None), 'fold'] = \"none\"\n",
    "overlaps.head(2)"
   ]
  },
  {
   "cell_type": "code",
   "execution_count": null,
   "id": "6e7fa740-8cca-4c3c-aa72-fca328e27657",
   "metadata": {},
   "outputs": [],
   "source": [
    "# Add this to ad.var\n",
    "ind = ad.var.index\n",
    "ad.var = ad.var.merge(overlaps, left_index=True, right_on='gene', how='left')\n",
    "ad.var = ad.var.drop(columns='gene')\n",
    "ad.var.index = ind"
   ]
  },
  {
   "cell_type": "markdown",
   "id": "5428ebfd-8cbf-4f26-82eb-6e2a7d3ecef4",
   "metadata": {},
   "source": [
    "## Split datasets into train, val, test based on fold 3"
   ]
  },
  {
   "cell_type": "code",
   "execution_count": null,
   "id": "57cdb721-155b-4ff5-a9a6-984e4ca3da4e",
   "metadata": {},
   "outputs": [],
   "source": [
    "test_fold='fold3'\n",
    "val_fold='fold4'\n",
    "train_folds = [f'fold{f}' for f in range(8) if f'fold{f}' not in [val_fold, test_fold]]"
   ]
  },
  {
   "cell_type": "code",
   "execution_count": null,
   "id": "2a56169b-74fd-42e9-acea-709aaa0e8104",
   "metadata": {},
   "outputs": [],
   "source": [
    "# The important thing is that the model should not be validated/tested on any gene in the training folds.\n",
    "# Therefore, we will first assign every gene to test and then remove all that overlap with the other folds\n",
    "ad.var[\"dataset\"] = \"test\""
   ]
  },
  {
   "cell_type": "code",
   "execution_count": null,
   "id": "1129aa34-5ec7-48d1-a415-12008d64ede8",
   "metadata": {},
   "outputs": [],
   "source": [
    "# If the gene overlaps with val -> move it to val\n",
    "ad.var.loc[ad.var.fold.apply(lambda x: val_fold in x), \"dataset\"] = \"val\"\n",
    "\n",
    "# If the gene overlaps with train -> Move it to train\n",
    "ad.var.loc[ad.var.fold.apply(\n",
    "    lambda x: len(set(x).intersection(train_folds)) > 0), \"dataset\"] = \"train\"\n",
    "\n",
    "# If the gene does not overlap with any folds -> Move it to train\n",
    "ad.var.loc[ad.var.fold.apply(lambda x: x == \"none\"), \"dataset\"] = \"train\""
   ]
  },
  {
   "cell_type": "code",
   "execution_count": null,
   "id": "c74cc335-8937-4f41-b7aa-59d1f053ab95",
   "metadata": {},
   "outputs": [],
   "source": [
    "ad.var[\"fold\"] = ad.var[\"fold\"].astype(str)"
   ]
  },
  {
   "cell_type": "markdown",
   "id": "bc019600-ca84-400a-b255-16e282fab12b",
   "metadata": {},
   "source": [
    "## Check"
   ]
  },
  {
   "cell_type": "code",
   "execution_count": null,
   "id": "5c70a367-d274-473c-ac4e-3793d20e7263",
   "metadata": {},
   "outputs": [],
   "source": [
    "ad.var.dataset.value_counts()"
   ]
  },
  {
   "cell_type": "code",
   "execution_count": null,
   "id": "252ef47e-5388-4792-8533-a28e9e55d627",
   "metadata": {},
   "outputs": [],
   "source": [
    "ad.var.gene_name.value_counts().max()"
   ]
  },
  {
   "cell_type": "code",
   "execution_count": null,
   "id": "5e880e12-020f-440b-adaa-e9e9803b6741",
   "metadata": {},
   "outputs": [],
   "source": [
    "ad.var = ad.var.reset_index().set_index('gene_name')"
   ]
  },
  {
   "cell_type": "code",
   "execution_count": null,
   "id": "c8a9c8d7-99a0-4eaa-93d8-cf0117c3c27e",
   "metadata": {},
   "outputs": [],
   "source": [
    "ad.var.index = ad.var.index.tolist()\n",
    "ad.var_names = ad.var.index.tolist()"
   ]
  },
  {
   "cell_type": "markdown",
   "id": "4b4f1bd4-108b-4b15-a7d1-e90aff1bafc6",
   "metadata": {},
   "source": [
    "## Save"
   ]
  },
  {
   "cell_type": "code",
   "execution_count": null,
   "id": "26598b4f-b6e4-47d7-9161-0bc9bde6127e",
   "metadata": {},
   "outputs": [],
   "source": [
    "ad.write_h5ad(matrix_file)"
   ]
  },
  {
   "cell_type": "code",
   "execution_count": null,
   "id": "0024344e-442c-4bcd-b35a-382e34ab7b10",
   "metadata": {},
   "outputs": [],
   "source": []
  }
 ],
 "metadata": {
  "kernelspec": {
   "display_name": "Python 3 (ipykernel)",
   "language": "python",
   "name": "python3"
  },
  "language_info": {
   "codemirror_mode": {
    "name": "ipython",
    "version": 3
   },
   "file_extension": ".py",
   "mimetype": "text/x-python",
   "name": "python",
   "nbconvert_exporter": "python",
   "pygments_lexer": "ipython3",
   "version": "3.11.9"
  }
 },
 "nbformat": 4,
 "nbformat_minor": 5
}
