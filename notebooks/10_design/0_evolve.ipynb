{
 "cells": [
  {
   "cell_type": "code",
   "execution_count": null,
   "id": "68088f05-c244-45ce-aec9-ff1c7b45e5ca",
   "metadata": {},
   "outputs": [],
   "source": [
    "\n",
    "EBFP_seq = 'ATGGCTAGCAAGGGCGAGGAGCTGTTCACCGGGGTGGTGCCCATCCTGGTCGAGCTGGACGGCGACGTAAACGGCCACAAGTTCAGCGTGTCCGGCGAGGGCGAGGGCGATGCCACCTACGGCAAGCTGACCCTGAAGTTCATCTGCACCACCGGCAAGCTGCCCGTGCCCTGGCCCACACTAGTGACCACCCTGTCCCACGGCGTGCAGTGCTTCAGCCGCTACCCCGACCACATGAAGCAGCACGACTTCTTCAAGTCCGCCATGCCCGAAGGCTACGTCCAGGAGCGCACCATCTTCTTCAAGGACGACGGCAACTACAAGACCCGCGCCGAGGTGAAGTTCGAGGGCGACACCCTGGTGAACCGCATCGAGCTGAAGGGCATCGACTTCAAGGAGGACGGCAACATCCTGGGGCACAAGCTCGAGTACAACTTCAACAGCCACAACGTCTATATCATGGCCGACAAGCAGAAGAACGGCATCAAGGCCAACTTCAAGATCCGCCACAATATTGAGGACGGCAGCGTGCAGCTCGCCGACCACTACCAGCAGAACACCCCCATCGGCGACGGCCCCGTGCTGCTGCCCGACAACCACTACCTGAGCACCCAGTCCGCCCTGAGCAAAGACCCCAACGAGAAGCGCGATCACATGGTCCTGCTGGAGTTCGTGACCGCCGCCGGCATCACTCACGGCATGGACGAGCTGTACAAG'\n",
    "hSyn = 'AGTGCAAGTGGGTTTTAGGACCAGGATGAGGCGGGGTGGGGGTGCCTACCTGACGACCGACCCCGACCCACTGGACAAGCACCCAACCCCCATTCCCCAAATTGCGCATCCCCTATCAGAGAGGGGGAGGGGAAACAGGATGCGGCGAGGCGCGTGCGCACTGCCAGCTTCAGCACCGCGGACAGTGCCTTCGCCCCCGCCTGGCGGCGCGCGCCACCGCCGCCTCAGCACTGAAGGCGCGCTGACGTCACTCGCCGGTCCCCCGCAAACTCCCCTTCCCGGCCACCTTGGTCGCGTCCGCGCCGCCGCCGGCCCAGCCGGACCGCACCACGCGAGGCGCGAGATAGGGGGGCACGGGCGCGACCATCTGCGCTGCGGCGCCGGCGACTCAGCGCTGCCTCAGTCTGCGGTGGGCAGCGGAGGAGTCGTGTCGTGCCTGAGAGCGCAG'\n"
   ]
  },
  {
   "cell_type": "code",
   "execution_count": null,
   "id": "d385902f-f0c0-43bb-8d81-e785fafb433b",
   "metadata": {},
   "outputs": [],
   "source": [
    "import sys\n",
    "sys.path.append('/home/gunsalul/tools/decima/src/decima/')"
   ]
  },
  {
   "cell_type": "code",
   "execution_count": null,
   "id": "48500036-3742-4c41-8080-ed5dfb222985",
   "metadata": {},
   "outputs": [],
   "source": [
    "import numpy as np\n",
    "import pandas as pd\n",
    "import anndata\n",
    "from tqdm import tqdm\n",
    "import torch\n",
    "import os\n",
    "from grelu.sequence.format import *\n",
    "from grelu.sequence.mutate import mutate\n",
    "import grelu.sequence.utils\n",
    "import pandas as pd\n",
    "import seaborn as sns\n",
    "import csv\n",
    "import matplotlib.pyplot as plt\n",
    "\n",
    "from lightning import LightningModel\n",
    "import interpret\n",
    "%matplotlib inline"
   ]
  },
  {
   "cell_type": "markdown",
   "id": "3a1730fd-bd17-4615-ac0d-3703e1836375",
   "metadata": {},
   "source": [
    "# Load Decima and data"
   ]
  },
  {
   "cell_type": "code",
   "execution_count": null,
   "id": "46f16d9c-ddb2-4dd5-9ab3-31a9c46d6a00",
   "metadata": {},
   "outputs": [],
   "source": [
    "save_dir=\"/gstore/data/resbioai/grelu/decima/20240808\"\n",
    "matrix_file = os.path.join(save_dir, \"final_filtered.h5ad\")\n",
    "h5_file = os.path.join(save_dir, \"data.h5\")\n",
    "ad = anndata.read_h5ad(matrix_file)\n",
    "ad = ad[:, ad.var.dataset==\"test\"]\n",
    "device = 'cuda:1'"
   ]
  },
  {
   "cell_type": "code",
   "execution_count": null,
   "id": "3d6be375-dd55-419f-926c-fdc525b02ac6",
   "metadata": {},
   "outputs": [],
   "source": [
    "save_dir=\"/gstore/data/resbioai/grelu/decima/20240823/\"\n",
    "matrix_file = os.path.join(save_dir, \"aggregated.h5ad\")\n",
    "h5_file = os.path.join(save_dir, \"data.h5\")\n",
    "ckpt_dir = os.path.join(save_dir, 'lightning_logs')"
   ]
  },
  {
   "cell_type": "code",
   "execution_count": null,
   "id": "ad6a63f9-f3ff-4c74-9161-88e8e0497d09",
   "metadata": {},
   "outputs": [],
   "source": [
    "ckpt_dir = os.path.join(save_dir, 'lightning_logs')\n",
    "ckpts = [os.path.join(ckpt_dir, '0as9e8of/checkpoints/epoch=7-step=5840.ckpt'),  ]\n",
    "model = LightningModel.load_from_checkpoint(ckpts[0]) \n",
    "model = model.to(device)\n",
    "model = model.eval()"
   ]
  },
  {
   "cell_type": "code",
   "execution_count": null,
   "id": "d23b9a97-3d41-4dc0-8dde-37d10dfc29b5",
   "metadata": {},
   "outputs": [],
   "source": [
    "taskF = pd.DataFrame(model.data_params['tasks'])"
   ]
  },
  {
   "cell_type": "markdown",
   "id": "424dbf11-36f6-424c-bd68-21e993fa6a48",
   "metadata": {},
   "source": [
    "# Define start location"
   ]
  },
  {
   "cell_type": "code",
   "execution_count": null,
   "id": "9732a259-33b1-4505-8918-98f3efc74b51",
   "metadata": {},
   "outputs": [],
   "source": [
    "window_size = 524288\n",
    "TSS_offset = 5120*32\n",
    "# chr22:29,480,218-29,491,390 NEFH\n",
    "chrom = 'chr22'\n",
    "TSS_start = 29480218\n",
    "sequence_start_location = TSS_start - TSS_offset\n",
    "sequence_end_location = sequence_start_location + window_size\n",
    "seqF = pd.DataFrame([chrom, sequence_start_location,sequence_end_location]).T\n",
    "seqF.columns = ['chrom', 'start', 'end']\n",
    "full_sequence = intervals_to_strings(seqF,genome=\"hg38\")[0]\n",
    "TSS_drop_location = 67503862\n",
    "chrom = 'chr1'\n",
    "device = model.device\n",
    "device"
   ]
  },
  {
   "cell_type": "code",
   "execution_count": null,
   "id": "8987967d-5411-430f-8636-8d5ab154dce7",
   "metadata": {},
   "outputs": [],
   "source": [
    "def place_sequence(full_seq: str, placed_seq: str, loc: int) -> str:\n",
    "    \"\"\"\n",
    "    Place a sequence at a specific location within another sequence.\n",
    "\n",
    "    Args:\n",
    "        full_seq (str): The full sequence to insert into.\n",
    "        placed_seq (str): The sequence to be inserted.\n",
    "        loc (int): The location to insert the sequence.\n",
    "\n",
    "    Returns:\n",
    "        str: The resulting sequence after insertion.\n",
    "    \"\"\"\n",
    "    left_of_start = full_seq[0:loc]\n",
    "    right_of_start = full_seq[loc:len(full_seq) - len(placed_seq)]\n",
    "    new_seq = left_of_start + placed_seq + right_of_start\n",
    "    return new_seq\n",
    "\n",
    "def make_pred(full_inserted_sequence, inserted_sequence, window_size = 524288, TSS_offset=163840): # element + EBFP\n",
    "    shape = (window_size)\n",
    "    arr = np.zeros(shape=shape)\n",
    "    for i, row in enumerate(ad.var.itertuples()):\n",
    "        arr[TSS_offset:TSS_offset + len(inserted_sequence)] = 1\n",
    "    full_seq_one_hot = strings_to_one_hot(full_inserted_sequence, add_batch_axis=False)\n",
    "    arr_reshaped = torch.tensor(arr.reshape(1, -1))\n",
    "    x = torch.cat((full_seq_one_hot, arr_reshaped), dim=0).float()\n",
    "    x = x.to(model.device)\n",
    "    with torch.no_grad():\n",
    "        preds = model.forward(x).detach().cpu().numpy()\n",
    "    preds = preds.squeeze()\n",
    "    return preds "
   ]
  },
  {
   "cell_type": "markdown",
   "id": "981f5b49-9637-42d1-a83d-a07a5cb60a00",
   "metadata": {},
   "source": [
    "## Define tasks"
   ]
  },
  {
   "cell_type": "code",
   "execution_count": null,
   "id": "6dc6618e-3f3c-4022-b014-1abda2c187dd",
   "metadata": {},
   "outputs": [],
   "source": [
    "def get_cell_types(df, study, disease):\n",
    "    return set(df[(df['study'] == study) & (df['disease'] == disease)]['cell_type'])\n",
    "\n",
    "# Get the cell types for disease_tasks and healthy_tasks\n",
    "disease_cell_types = get_cell_types(taskF, 'DS000010618', 'ulcerative colitis')\n",
    "healthy_cell_types = get_cell_types(taskF, 'DS000010618', 'healthy')\n",
    "\n",
    "# Combine the cell types\n",
    "allowed_cell_types = disease_cell_types.union(healthy_cell_types)\n",
    "\n",
    "def label_tasks(row):\n",
    "    if row['study'] == 'DS000010618':\n",
    "        if row['cell_type'] == 'fibroblast':\n",
    "            if row['disease'] == 'ulcerative colitis':\n",
    "                return 'fibroblast_disease'\n",
    "            elif row['disease'] == 'healthy':\n",
    "                return 'fibroblast_healthy'\n",
    "        else:\n",
    "            if row['disease'] == 'ulcerative colitis':\n",
    "                return 'non_fibroblast_disease'\n",
    "            elif row['disease'] == 'healthy':\n",
    "                return 'non_fibroblast_healthy'\n",
    "    return 'excluded'\n",
    "\n",
    "def label_fibroblast(row):\n",
    "    if row['study'] == 'DS000010618':\n",
    "        if row['cell_type'] == 'fibroblast':\n",
    "            return 'fibroblast'\n",
    "        else:\n",
    "            return 'non_fibroblast'\n",
    "    return 'excluded'\n",
    "\n",
    "# Apply the labeling functions to create new columns\n",
    "taskF['label'] = taskF.apply(label_tasks, axis=1)\n",
    "taskF['fibroblast_label'] = taskF.apply(label_fibroblast, axis=1)\n",
    "\n",
    "# Filter the DataFrame based on these labels\n",
    "fibroblast_disease = taskF[taskF['label'] == 'fibroblast_disease']\n",
    "fibroblast_healthy = taskF[taskF['label'] == 'fibroblast_healthy']\n",
    "non_fibroblast_disease = taskF[taskF['label'] == 'non_fibroblast_disease']\n",
    "non_fibroblast_healthy = taskF[taskF['label'] == 'non_fibroblast_healthy']\n",
    "\n",
    "# Filter based on the new fibroblast_label column\n",
    "fibroblast = taskF[taskF['fibroblast_label'] == 'fibroblast']\n",
    "non_fibroblast = taskF[taskF['fibroblast_label'] == 'non_fibroblast']"
   ]
  },
  {
   "cell_type": "markdown",
   "id": "ce7c4aa0-2d38-44f1-8c25-93ed077cfc5c",
   "metadata": {},
   "source": [
    "# Generate starting sequence"
   ]
  },
  {
   "cell_type": "code",
   "execution_count": null,
   "id": "06993082-5553-4125-897c-cda7549ad72b",
   "metadata": {},
   "outputs": [],
   "source": [
    "sequence_length = 200\n",
    "random_starting_sequence = grelu.sequence.utils.generate_random_sequences(sequence_length, seed=42,\n",
    "                                                                  output_format = 'strings')[0]"
   ]
  },
  {
   "cell_type": "code",
   "execution_count": null,
   "id": "5403901c-10ce-47b5-9223-636aa7516399",
   "metadata": {},
   "outputs": [],
   "source": [
    "full_inserted_sequence = place_sequence(full_sequence, random_starting_sequence + EBFP_seq, TSS_offset)\n",
    "preds = make_pred(full_inserted_sequence, random_starting_sequence + EBFP_seq)\n",
    "taskF['starting_preds'] = preds"
   ]
  },
  {
   "cell_type": "code",
   "execution_count": null,
   "id": "666183f9-0893-4c34-8981-430ec4d0f8d4",
   "metadata": {},
   "outputs": [],
   "source": [
    "# Assuming taskF is your DataFrame\n",
    "subF = taskF[taskF['label'] != 'excluded']\n",
    "\n",
    "# Calculate mean starting_preds for each cell_type and label combination\n",
    "mean_preds = subF.groupby(['cell_type', 'label'])['starting_preds'].mean().reset_index()\n",
    "\n",
    "# Create the plot\n",
    "plt.figure(figsize=(14, 6), dpi=200)\n",
    "sns.barplot(data=mean_preds, x='cell_type', y='starting_preds', hue='label')\n",
    "\n",
    "# Customize the plot\n",
    "plt.title('Mean Starting Predictions by Cell Type and Label')\n",
    "plt.xlabel('Cell Type')\n",
    "plt.ylabel('Mean Starting Predictions')\n",
    "plt.xticks(rotation=45, ha='right')\n",
    "plt.legend(title='Label', bbox_to_anchor=(1.05, 1), loc='upper left', borderaxespad=0.)\n",
    "\n",
    "# Adjust layout\n",
    "plt.tight_layout()\n",
    "plt.subplots_adjust(right=0.85)\n",
    "\n",
    "# Show the plot\n",
    "plt.show()"
   ]
  },
  {
   "cell_type": "markdown",
   "id": "7983eee8-a570-4e08-8c74-91dea25cd643",
   "metadata": {},
   "source": [
    "# Evolve"
   ]
  },
  {
   "cell_type": "code",
   "execution_count": null,
   "id": "ff913d2b-9fe2-4924-9c9a-8fe72d790751",
   "metadata": {},
   "outputs": [],
   "source": [
    "rounds = 100"
   ]
  },
  {
   "cell_type": "code",
   "execution_count": null,
   "id": "18e837b8-d97d-4ae6-8815-4b5a353f2fb2",
   "metadata": {},
   "outputs": [],
   "source": [
    "def directed_evolution(full_inserted_sequence, inserted_seq, TSS_offset, rounds, diseaseF, healthyF, output_csv, cargo=EBFP_seq):\n",
    "    current_sequence = full_inserted_sequence\n",
    "    \n",
    "    with open(output_csv, 'w', newline='') as csvfile:\n",
    "        csvwriter = csv.writer(csvfile)\n",
    "        csvwriter.writerow(['Round', 'Position', 'Base', 'Specificity', 'Current_Sequence'])\n",
    "        \n",
    "        for round_num in tqdm(range(rounds), desc=\"Rounds\"):\n",
    "            best_mutation = {\n",
    "                'position': -1,\n",
    "                'base': '',\n",
    "                'specificity': float('-inf')\n",
    "            }\n",
    "            \n",
    "            for position in range(TSS_offset, TSS_offset + len(inserted_seq)):\n",
    "                for base in ['A', 'T', 'G', 'C']:\n",
    "                    if base == current_sequence[position]:\n",
    "                        continue\n",
    "                    \n",
    "                    new_seq = mutate(current_sequence, allele=base, pos=position)\n",
    "                    current_element = new_seq[TSS_offset:TSS_offset+len(inserted_seq)]\n",
    "                    \n",
    "                    preds = make_pred(new_seq, current_element+cargo)\n",
    "                    healthy_preds = preds[healthyF.index].mean()\n",
    "                    disease_preds = preds[diseaseF.index].mean()\n",
    "                    specificity = disease_preds - healthy_preds\n",
    "                    \n",
    "                    if specificity > best_mutation['specificity']:\n",
    "                        best_mutation = {\n",
    "                            'position': position,\n",
    "                            'base': base,\n",
    "                            'specificity': specificity\n",
    "                        }\n",
    "            \n",
    "            current_sequence = mutate(current_sequence, allele=best_mutation['base'], pos=best_mutation['position'])\n",
    "            current_element = current_sequence[TSS_offset:TSS_offset+len(inserted_seq)]\n",
    "            \n",
    "            csvwriter.writerow([\n",
    "                round_num + 1,\n",
    "                best_mutation['position'],\n",
    "                best_mutation['base'],\n",
    "                best_mutation['specificity'],\n",
    "                current_element\n",
    "            ])\n",
    "            csvfile.flush()  # Ensure data is written to the file immediately\n",
    "            \n",
    "            print(f\"Round {round_num+1}: Best specificity = {best_mutation['specificity']:.4f}, \"\n",
    "                  f\"Position = {best_mutation['position']}, Base = {best_mutation['base']}\")\n",
    "    \n",
    "    return current_element, best_mutation['specificity']\n"
   ]
  },
  {
   "cell_type": "code",
   "execution_count": null,
   "id": "ea61df6a-fcef-45d3-9cf1-6ac9c9cb036a",
   "metadata": {},
   "outputs": [],
   "source": [
    "inserted_seq = random_starting_sequence\n",
    "filename = 'fibroblast_sept29_200bp_part1.csv'\n",
    "diseaseF = fibroblast\n",
    "healthyF = non_fibroblast\n",
    "result, specificity = directed_evolution(full_inserted_sequence, inserted_seq, TSS_offset, rounds, diseaseF, healthyF, filename)"
   ]
  },
  {
   "cell_type": "code",
   "execution_count": null,
   "id": "b816b918-6553-42b3-a842-79a1677e1590",
   "metadata": {},
   "outputs": [],
   "source": [
    "mutationF_1 = pd.read_csv(filename)"
   ]
  },
  {
   "cell_type": "code",
   "execution_count": null,
   "id": "4ef953fb-53e5-43fe-ab2d-e32a8b95f640",
   "metadata": {},
   "outputs": [],
   "source": [
    "evolved_seq = mutationF_1.iloc[99].Current_Sequence"
   ]
  },
  {
   "cell_type": "markdown",
   "id": "0adca104-f61e-4c02-8097-7bd4086162ed",
   "metadata": {},
   "source": [
    "# Evolve w/ disease - P2"
   ]
  },
  {
   "cell_type": "code",
   "execution_count": null,
   "id": "1cd2599b-ef65-4905-bfb1-926da8a35c01",
   "metadata": {},
   "outputs": [],
   "source": [
    "full_inserted_sequence_evolved = place_sequence(full_sequence, evolved_seq + EBFP_seq, TSS_offset)"
   ]
  },
  {
   "cell_type": "code",
   "execution_count": null,
   "id": "0cfcfb12-1537-40cd-a956-e8d86b3a29a0",
   "metadata": {},
   "outputs": [],
   "source": [
    "filename = 'fibroblast_sept30_200bp_part2.csv'\n",
    "diseaseF = fibroblast_disease\n",
    "healthyF = fibroblast_healthy\n",
    "result, specificity = directed_evolution(full_inserted_sequence_evolved, evolved_seq, \n",
    "                                         TSS_offset, rounds, diseaseF, healthyF, filename)"
   ]
  }
 ],
 "metadata": {
  "kernelspec": {
   "display_name": "Python 3 (ipykernel)",
   "language": "python",
   "name": "python3"
  },
  "language_info": {
   "codemirror_mode": {
    "name": "ipython",
    "version": 3
   },
   "file_extension": ".py",
   "mimetype": "text/x-python",
   "name": "python",
   "nbconvert_exporter": "python",
   "pygments_lexer": "ipython3",
   "version": "3.11.9"
  }
 },
 "nbformat": 4,
 "nbformat_minor": 5
}
