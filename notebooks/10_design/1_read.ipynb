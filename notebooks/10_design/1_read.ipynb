{
 "cells": [
  {
   "cell_type": "markdown",
   "id": "42d3e4e4-64a3-44b7-872a-d5265511b1a6",
   "metadata": {},
   "source": [
    "# Plot Figure 7: cell-type and disease-specific design"
   ]
  },
  {
   "cell_type": "markdown",
   "id": "4b5a4105-98f0-458b-81ec-89a48957e96a",
   "metadata": {},
   "source": [
    "## Read evolution run"
   ]
  },
  {
   "cell_type": "code",
   "execution_count": null,
   "id": "036bfb55-1460-408c-8c08-526afdd1edca",
   "metadata": {},
   "outputs": [],
   "source": [
    "import pandas as pd\n",
    "import matplotlib.pyplot as plt\n",
    "import seaborn as sns\n",
    "import numpy as np\n",
    "from tqdm import tqdm\n",
    "import anndata\n",
    "import torch\n",
    "import logomaker\n",
    "from grelu.visualize import plot_attributions\n",
    "from grelu.interpret.motifs import scan_sequences\n",
    "from grelu.sequence.format import *\n",
    "\n",
    "import os, sys\n",
    "sys.path.append('/home/gunsalul/tools/decima/src/decima/')\n",
    "\n",
    "from lightning import LightningModel\n",
    "import interpret\n",
    "\n",
    "import matplotlib.pyplot as plt\n",
    "%matplotlib inline"
   ]
  },
  {
   "cell_type": "code",
   "execution_count": null,
   "id": "929dcd61-3b7a-4dc8-bb11-74c8ff0349aa",
   "metadata": {},
   "outputs": [],
   "source": [
    "output_file = 'fibroblast_sept29_200bp_part1.csv'\n",
    "mutationF_1 = pd.read_csv(output_file)\n",
    "output_file = 'fibroblast_sept30_200bp_part2.csv'\n",
    "mutationF_2 = pd.read_csv(output_file)\n",
    "mutationF_2['Round'] = mutationF_2['Round'] + 100"
   ]
  },
  {
   "cell_type": "code",
   "execution_count": null,
   "id": "0772f889-cf1d-4155-92d8-271c9e15a353",
   "metadata": {},
   "outputs": [],
   "source": [
    "mutationF = pd.concat([mutationF_1, mutationF_2])"
   ]
  },
  {
   "cell_type": "markdown",
   "id": "1dc1ebae-eeed-40ee-84c0-cd4de2dd36c0",
   "metadata": {},
   "source": [
    "# Read model"
   ]
  },
  {
   "cell_type": "code",
   "execution_count": null,
   "id": "2a68b7b2-6481-46a5-9279-558445c63963",
   "metadata": {},
   "outputs": [],
   "source": [
    "EBFP_seq = 'ATGGCTAGCAAGGGCGAGGAGCTGTTCACCGGGGTGGTGCCCATCCTGGTCGAGCTGGACGGCGACGTAAACGGCCACAAGTTCAGCGTGTCCGGCGAGGGCGAGGGCGATGCCACCTACGGCAAGCTGACCCTGAAGTTCATCTGCACCACCGGCAAGCTGCCCGTGCCCTGGCCCACACTAGTGACCACCCTGTCCCACGGCGTGCAGTGCTTCAGCCGCTACCCCGACCACATGAAGCAGCACGACTTCTTCAAGTCCGCCATGCCCGAAGGCTACGTCCAGGAGCGCACCATCTTCTTCAAGGACGACGGCAACTACAAGACCCGCGCCGAGGTGAAGTTCGAGGGCGACACCCTGGTGAACCGCATCGAGCTGAAGGGCATCGACTTCAAGGAGGACGGCAACATCCTGGGGCACAAGCTCGAGTACAACTTCAACAGCCACAACGTCTATATCATGGCCGACAAGCAGAAGAACGGCATCAAGGCCAACTTCAAGATCCGCCACAATATTGAGGACGGCAGCGTGCAGCTCGCCGACCACTACCAGCAGAACACCCCCATCGGCGACGGCCCCGTGCTGCTGCCCGACAACCACTACCTGAGCACCCAGTCCGCCCTGAGCAAAGACCCCAACGAGAAGCGCGATCACATGGTCCTGCTGGAGTTCGTGACCGCCGCCGGCATCACTCACGGCATGGACGAGCTGTACAAG'\n",
    "hSyn = 'AGTGCAAGTGGGTTTTAGGACCAGGATGAGGCGGGGTGGGGGTGCCTACCTGACGACCGACCCCGACCCACTGGACAAGCACCCAACCCCCATTCCCCAAATTGCGCATCCCCTATCAGAGAGGGGGAGGGGAAACAGGATGCGGCGAGGCGCGTGCGCACTGCCAGCTTCAGCACCGCGGACAGTGCCTTCGCCCCCGCCTGGCGGCGCGCGCCACCGCCGCCTCAGCACTGAAGGCGCGCTGACGTCACTCGCCGGTCCCCCGCAAACTCCCCTTCCCGGCCACCTTGGTCGCGTCCGCGCCGCCGCCGGCCCAGCCGGACCGCACCACGCGAGGCGCGAGATAGGGGGGCACGGGCGCGACCATCTGCGCTGCGGCGCCGGCGACTCAGCGCTGCCTCAGTCTGCGGTGGGCAGCGGAGGAGTCGTGTCGTGCCTGAGAGCGCAG'"
   ]
  },
  {
   "cell_type": "code",
   "execution_count": null,
   "id": "6ac3419a-c6d1-4f6f-8567-e1bc3dd5cbc7",
   "metadata": {},
   "outputs": [],
   "source": [
    "save_dir=\"/gstore/data/resbioai/grelu/decima/20240823/\"\n",
    "matrix_file = os.path.join(save_dir, \"aggregated.h5ad\")\n",
    "h5_file = os.path.join(save_dir, \"data.h5\")\n",
    "ckpt_dir = os.path.join(save_dir, 'lightning_logs')\n",
    "ckpts = [os.path.join(ckpt_dir, '0as9e8of/checkpoints/epoch=7-step=5840.ckpt'),  ]\n",
    "model = LightningModel.load_from_checkpoint(ckpts[0]) \n",
    "device = 'cuda:1'\n",
    "model = model.to(device)\n",
    "model = model.eval()"
   ]
  },
  {
   "cell_type": "code",
   "execution_count": null,
   "id": "6263f570-a895-4316-90dd-d79879dbc821",
   "metadata": {},
   "outputs": [],
   "source": [
    "window_size = 524288\n",
    "TSS_offset = 5120*32\n",
    "# chr22:29,480,218-29,491,390 NEFH\n",
    "chrom = 'chr22'\n",
    "TSS_start = 29480218\n",
    "sequence_start_location = TSS_start - TSS_offset\n",
    "sequence_end_location = sequence_start_location + window_size\n",
    "seqF = pd.DataFrame([chrom, sequence_start_location,sequence_end_location]).T\n",
    "seqF.columns = ['chrom', 'start', 'end']\n",
    "full_sequence = intervals_to_strings(seqF,genome=\"hg38\")[0]\n",
    "TSS_drop_location = 67503862\n",
    "chrom = 'chr1'\n",
    "device = model.device"
   ]
  },
  {
   "cell_type": "code",
   "execution_count": null,
   "id": "a2c8726f-519d-43c6-9441-9c290f5bf15e",
   "metadata": {},
   "outputs": [],
   "source": [
    "ad = anndata.read_h5ad(matrix_file)\n",
    "ad = ad[:, ad.var.dataset==\"test\"]"
   ]
  },
  {
   "cell_type": "code",
   "execution_count": null,
   "id": "f6a96cb6-12ed-4591-a9ff-c8320fb7fc87",
   "metadata": {},
   "outputs": [],
   "source": [
    "def place_sequence(full_seq: str, placed_seq: str, loc: int) -> str:\n",
    "    \"\"\"\n",
    "    Place a sequence at a specific location within another sequence.\n",
    "\n",
    "    Args:\n",
    "        full_seq (str): The full sequence to insert into.\n",
    "        placed_seq (str): The sequence to be inserted.\n",
    "        loc (int): The location to insert the sequence.\n",
    "\n",
    "    Returns:\n",
    "        str: The resulting sequence after insertion.\n",
    "    \"\"\"\n",
    "    left_of_start = full_seq[0:loc]\n",
    "    right_of_start = full_seq[loc:len(full_seq) - len(placed_seq)]\n",
    "    new_seq = left_of_start + placed_seq + right_of_start\n",
    "    return new_seq\n",
    "\n",
    "def make_pred(full_inserted_sequence, inserted_sequence, window_size = 524288, TSS_offset=163840): # element + EBFP\n",
    "    shape = (window_size)\n",
    "    arr = np.zeros(shape=shape)\n",
    "    for i, row in enumerate(ad.var.itertuples()):\n",
    "        arr[TSS_offset:TSS_offset + len(inserted_sequence)] = 1\n",
    "    full_seq_one_hot = strings_to_one_hot(full_inserted_sequence, add_batch_axis=False)\n",
    "    arr_reshaped = torch.tensor(arr.reshape(1, -1))\n",
    "    x = torch.cat((full_seq_one_hot, arr_reshaped), dim=0).float()\n",
    "    x = x.to(model.device)\n",
    "    with torch.no_grad():\n",
    "        preds = model.forward(x).detach().cpu().numpy()\n",
    "    preds = preds.squeeze()\n",
    "    return preds "
   ]
  },
  {
   "cell_type": "code",
   "execution_count": null,
   "id": "9eca549e-5ba5-417a-b2ac-354f08cb5a91",
   "metadata": {},
   "outputs": [],
   "source": [
    "taskF = pd.DataFrame(model.data_params['tasks'])"
   ]
  },
  {
   "cell_type": "markdown",
   "id": "50a034b2-ebff-4cb7-9fb3-9b2911a3d4d5",
   "metadata": {},
   "source": [
    "## Define tasks"
   ]
  },
  {
   "cell_type": "code",
   "execution_count": null,
   "id": "257619bb-81b6-43ac-ada7-3e1508b0e7a2",
   "metadata": {},
   "outputs": [],
   "source": [
    "def get_cell_types(df, study, disease):\n",
    "    return set(df[(df['study'] == study) & (df['disease'] == disease)]['cell_type'])\n",
    "\n",
    "# Get the cell types for disease_tasks and healthy_tasks\n",
    "disease_cell_types = get_cell_types(taskF, 'DS000010618', 'ulcerative colitis')\n",
    "healthy_cell_types = get_cell_types(taskF, 'DS000010618', 'healthy')\n",
    "\n",
    "# Combine the cell types\n",
    "allowed_cell_types = disease_cell_types.union(healthy_cell_types)\n",
    "\n",
    "def label_tasks(row):\n",
    "    if row['study'] == 'DS000010618':\n",
    "        if row['cell_type'] == 'fibroblast':\n",
    "            if row['disease'] == 'ulcerative colitis':\n",
    "                return 'fibroblast_disease'\n",
    "            elif row['disease'] == 'healthy':\n",
    "                return 'fibroblast_healthy'\n",
    "        else:\n",
    "            if row['disease'] == 'ulcerative colitis':\n",
    "                return 'non_fibroblast_disease'\n",
    "            elif row['disease'] == 'healthy':\n",
    "                return 'non_fibroblast_healthy'\n",
    "    return 'excluded'\n",
    "\n",
    "def label_fibroblast(row):\n",
    "    if row['study'] == 'DS000010618':\n",
    "        if row['cell_type'] == 'fibroblast':\n",
    "            return 'fibroblast'\n",
    "        else:\n",
    "            return 'non_fibroblast'\n",
    "    return 'excluded'\n",
    "\n",
    "# Apply the labeling functions to create new columns\n",
    "taskF['label'] = taskF.apply(label_tasks, axis=1)\n",
    "taskF['fibroblast_label'] = taskF.apply(label_fibroblast, axis=1)\n",
    "\n",
    "# Filter the DataFrame based on these labels\n",
    "fibroblast_disease = taskF[taskF['label'] == 'fibroblast_disease']\n",
    "fibroblast_healthy = taskF[taskF['label'] == 'fibroblast_healthy']\n",
    "non_fibroblast_disease = taskF[taskF['label'] == 'non_fibroblast_disease']\n",
    "non_fibroblast_healthy = taskF[taskF['label'] == 'non_fibroblast_healthy']\n",
    "\n",
    "# Filter based on the new fibroblast_label column\n",
    "fibroblast = taskF[taskF['fibroblast_label'] == 'fibroblast']\n",
    "non_fibroblast = taskF[taskF['fibroblast_label'] == 'non_fibroblast']"
   ]
  },
  {
   "cell_type": "markdown",
   "id": "03f5d7de-a5b6-4a9c-963a-23c343cb32a3",
   "metadata": {},
   "source": [
    "# Re-score mutations"
   ]
  },
  {
   "cell_type": "code",
   "execution_count": null,
   "id": "2008d14a-81e9-4d01-9f07-00e96bcc6001",
   "metadata": {
    "scrolled": true
   },
   "outputs": [],
   "source": [
    "tasks = []\n",
    "for i,row in mutationF.iterrows():\n",
    "    print(row['Round'])\n",
    "    cur_taskF = taskF.copy()\n",
    "    seq = row['Current_Sequence']\n",
    "    full_inserted_sequence = place_sequence(full_sequence, seq + EBFP_seq , TSS_offset)\n",
    "    preds = make_pred(full_inserted_sequence, seq + EBFP_seq)\n",
    "    cur_taskF['preds'] = preds\n",
    "    cur_taskF['round'] = row['Round']\n",
    "    tasks.append(cur_taskF)\n",
    "    \n",
    "concat_tasks = [taskF] + tasks # ADD round 0\n",
    "\n",
    "all_tasks = pd.concat(concat_tasks)"
   ]
  },
  {
   "cell_type": "code",
   "execution_count": null,
   "id": "ab27a0a5-9f64-47d4-95db-11b44df675d7",
   "metadata": {},
   "outputs": [],
   "source": [
    "subF = all_tasks[all_tasks['label'] != 'excluded']\n",
    "\n",
    "subF = subF[subF['label'].isin(['fibroblast_disease', 'fibroblast_healthy',\n",
    "                               'non_fibroblast_disease', 'non_fibroblast_healthy'])]"
   ]
  },
  {
   "cell_type": "code",
   "execution_count": null,
   "id": "bfa41d90-c3f0-429a-98dd-d554f7a1aa9e",
   "metadata": {},
   "outputs": [],
   "source": [
    "# Assuming all_tasks and combined_diff dataframes are already created\n",
    "\n",
    "# Create the combined plot\n",
    "fig, (ax1, ax2) = plt.subplots(2, 1, figsize=(11, 6), dpi=200)\n",
    "\n",
    "label_mapping = {\n",
    "    'fibroblast_disease': 'UC fibroblast',\n",
    "    'fibroblast_healthy': 'Healthy fibroblast',\n",
    "    'non_fibroblast_disease': 'UC non-fibroblast',\n",
    "    'non_fibroblast_healthy': 'Healthy non-fibroblast',\n",
    "    'fibroblast - non_fibroblast': 'Fibroblast vs Non-fibroblast',\n",
    "    'fibroblast_disease - fibroblast_healthy': 'UC vs Healthy fibroblast'\n",
    "}\n",
    "\n",
    "\n",
    "# First subplot\n",
    "subF = all_tasks[all_tasks['label'] != 'excluded']\n",
    "subF = subF[subF['label'].isin(['fibroblast_disease', 'fibroblast_healthy',\n",
    "                               'non_fibroblast_disease', 'non_fibroblast_healthy'])]\n",
    "mean_data = subF.groupby(['round', 'label'])['preds'].mean().reset_index()\n",
    "# Apply the mapping to the dataframes\n",
    "mean_data['label'] = mean_data['label'].map(label_mapping)\n",
    "sns.scatterplot(data=mean_data, x='round', y='preds', hue='label', s=50, alpha=.8, ax=ax1)\n",
    "ax1.set_title('Predictions across directed evolution')\n",
    "ax1.set_ylabel('Mean prediction')\n",
    "ax1.set_xlabel('')  # Remove x-label from top subplot\n",
    "ax1.set_xlim(0, 135)\n",
    "ax1.axvline(x=100, linestyle='dashed', alpha=.8)\n",
    "#ax1.tick_params(axis='x', rotation=45, ha='right')\n",
    "ax1.legend(bbox_to_anchor=(1.05, 1), loc='upper left', borderaxespad=0.)\n",
    "\n",
    "\n",
    "fibroblast = all_tasks[all_tasks['fibroblast_label'] == 'fibroblast']\n",
    "non_fibroblast = all_tasks[all_tasks['fibroblast_label'] == 'non_fibroblast']\n",
    "\n",
    "fibroblast_mean = fibroblast.groupby('round')['preds'].mean()\n",
    "non_fibroblast_mean = non_fibroblast.groupby('round')['preds'].mean()\n",
    "\n",
    "diff_fibro_non_fibro = (fibroblast_mean - non_fibroblast_mean).reset_index()\n",
    "diff_fibro_non_fibro['group'] = 'fibroblast - non_fibroblast'\n",
    "\n",
    "fibroblast_disease = all_tasks[all_tasks['label'] == 'fibroblast_disease']\n",
    "fibroblast_healthy = all_tasks[all_tasks['label'] == 'fibroblast_healthy']\n",
    "\n",
    "fibroblast_disease_mean = fibroblast_disease.groupby('round')['preds'].mean()\n",
    "fibroblast_healthy_mean = fibroblast_healthy.groupby('round')['preds'].mean()\n",
    "\n",
    "diff_disease_healthy = (fibroblast_disease_mean - fibroblast_healthy_mean).reset_index()\n",
    "diff_disease_healthy['group'] = 'fibroblast_disease - fibroblast_healthy'\n",
    "\n",
    "# Combine the differences\n",
    "combined_diff = pd.concat([diff_fibro_non_fibro, diff_disease_healthy])\n",
    "combined_diff['group'] = combined_diff['group'].map(label_mapping)\n",
    "\n",
    "custom_palette = [\"#b5b5b5\", \"#6e6e6e\"]\n",
    "sns.scatterplot(data=combined_diff, x='round', y='preds', hue='group', s=60, alpha=.8,\n",
    "                palette=custom_palette, ax=ax2)\n",
    "plt.axvline(x=100, linestyle='dashed', alpha=.8)\n",
    "ax2.set_title('Specificity across directed evolution')\n",
    "ax2.set_xlabel('Round')\n",
    "ax2.set_ylabel('Mean prediction')\n",
    "ax2.set_xlim(0, 135)\n",
    "#ax2.tick_params(axis='x', rotation=45, ha='right')\n",
    "ax2.legend(bbox_to_anchor=(1.05, 1), loc='upper left', borderaxespad=0.)\n",
    "\n",
    "# Adjust layout\n",
    "plt.tight_layout()\n",
    "fig.subplots_adjust(right=0.8, hspace=0.3)\n",
    "\n",
    "plt.show()"
   ]
  },
  {
   "cell_type": "code",
   "execution_count": null,
   "id": "fbff8be7-c8e0-42d0-8b7b-40d6dd71707a",
   "metadata": {},
   "outputs": [],
   "source": [
    "final_round = mean_data[mean_data['round'] == 150]"
   ]
  },
  {
   "cell_type": "markdown",
   "id": "63742fe3-6323-4e2e-8472-89db65e5f5bb",
   "metadata": {},
   "source": [
    "# ISM across groups"
   ]
  },
  {
   "cell_type": "code",
   "execution_count": null,
   "id": "6ab1959a-04de-4175-a8f2-6b566d16c912",
   "metadata": {},
   "outputs": [],
   "source": [
    "def ism(full_inserted_sequence, inserted_sequence, make_pred_func):\n",
    "    \"\"\"\n",
    "    Perform In Silico Mutagenesis (ISM) on the given sequence.\n",
    "    \n",
    "    :param full_inserted_sequence: The full sequence including the inserted sequence\n",
    "    :param inserted_sequence: The sequence to mutate (subset of full_inserted_sequence)\n",
    "    :param make_pred_func: Function that takes (full_inserted_sequence, inserted_sequence) and returns predictions\n",
    "    :return: 3D numpy array of shape (4, len(inserted_sequence), 8745)\n",
    "    \"\"\"\n",
    "    bases = ['A', 'T', 'G', 'C']\n",
    "    n_bases = len(bases)\n",
    "    seq_length = len(inserted_sequence)\n",
    "    n_celltypes = taskF.shape[0]\n",
    "    \n",
    "    # Initialize the ISM matrix\n",
    "    ism_matrix = np.zeros((n_bases, seq_length, n_celltypes))\n",
    "    \n",
    "    # Get predictions for the original sequence\n",
    "    original_preds = make_pred_func(full_inserted_sequence, inserted_sequence)\n",
    "    \n",
    "    # Find the start index of inserted_sequence within full_inserted_sequence\n",
    "    start_index = full_inserted_sequence.index(inserted_sequence)\n",
    "    \n",
    "    # Iterate over each position in the inserted sequence\n",
    "    for pos in tqdm(range(seq_length), desc=\"Positions\"):\n",
    "        original_base = inserted_sequence[pos]\n",
    "        \n",
    "        # Iterate over each possible base substitution\n",
    "        for i, base in enumerate(bases):\n",
    "            if base == original_base:\n",
    "                continue  # Skip if it's the same as the original base\n",
    "            \n",
    "            # Create mutated full sequence\n",
    "            mutated_full_seq = (full_inserted_sequence[:start_index + pos] + \n",
    "                                base + \n",
    "                                full_inserted_sequence[start_index + pos + 1:])\n",
    "            \n",
    "            # Create mutated inserted sequence\n",
    "            mutated_inserted_seq = inserted_sequence[:pos] + base + inserted_sequence[pos+1:]\n",
    "            \n",
    "            # Get predictions for the mutated sequence\n",
    "            mutated_preds = make_pred_func(mutated_full_seq, mutated_inserted_seq)\n",
    "            \n",
    "            # Calculate change in predictions for each cell type\n",
    "            ism_matrix[i, pos, :] = mutated_preds - original_preds\n",
    "    \n",
    "    return ism_matrix\n"
   ]
  },
  {
   "cell_type": "code",
   "execution_count": null,
   "id": "7b1b063e-0d6c-4d4a-b3ed-aef676529393",
   "metadata": {},
   "outputs": [],
   "source": [
    "final_sequence = mutationF[mutationF['Round'] == 150].Current_Sequence.item()\n",
    "final_sequence"
   ]
  },
  {
   "cell_type": "code",
   "execution_count": null,
   "id": "d8f24db1-7045-441e-bae9-119be83b5973",
   "metadata": {},
   "outputs": [],
   "source": [
    "placed_seq = place_sequence(full_sequence, final_sequence + EBFP_seq, TSS_offset)"
   ]
  },
  {
   "cell_type": "code",
   "execution_count": null,
   "id": "b4bac104-db9a-45a2-8bc3-1d67d0e68d03",
   "metadata": {},
   "outputs": [],
   "source": [
    "fibroblast_ism_results = ism(placed_seq, final_sequence, make_pred)"
   ]
  },
  {
   "cell_type": "code",
   "execution_count": null,
   "id": "73c046c9-a8b3-44d7-8028-d783920a00ca",
   "metadata": {},
   "outputs": [],
   "source": [
    "#np.save('fibroblast_double_evolve_sept11.npy',fibroblast_ism_results)\n",
    "np.save('fibroblast_double_evolve_sept30.npy',fibroblast_ism_results)"
   ]
  },
  {
   "cell_type": "code",
   "execution_count": null,
   "id": "96d19409-52c1-48ac-988d-97ee509f4ec9",
   "metadata": {},
   "outputs": [],
   "source": [
    "def plot_ism_heatmap(ism_results, sequence, title=\"ISM Heatmap for AD Brain Tasks\"):\n",
    "    \"\"\"\n",
    "    Plot a heatmap of the mean ISM results across AD brain tasks.\n",
    "    \n",
    "    :param ism_results: numpy array of shape (4, sequence_length) containing mean ISM results\n",
    "    :param sequence: original DNA sequence\n",
    "    :param title: title for the plot\n",
    "    \"\"\"\n",
    "    bases = ['A', 'T', 'G', 'C']\n",
    "    \n",
    "    plt.figure(figsize=(20, 6))\n",
    "    sns.heatmap(ism_results, cmap='RdBu_r', center=0, \n",
    "                xticklabels=list(sequence), yticklabels=bases)\n",
    "    \n",
    "    plt.title(title)\n",
    "    plt.xlabel(\"Sequence Position\")\n",
    "    plt.ylabel(\"Mutated Base\")\n",
    "    \n",
    "    # Add colorbar label\n",
    "    cbar = plt.gcf().axes[-1]\n",
    "    cbar.set_ylabel('Mean Change in Prediction', rotation=270, labelpad=20)\n",
    "    \n",
    "    plt.tight_layout()\n",
    "    plt.show()"
   ]
  },
  {
   "cell_type": "code",
   "execution_count": null,
   "id": "8b390aea-1781-45cb-9176-ea9ec7911eda",
   "metadata": {},
   "outputs": [],
   "source": [
    "fibroblast_disease = taskF[taskF['label'] == 'fibroblast_disease']\n",
    "fibroblast_healthy = taskF[taskF['label'] == 'fibroblast_healthy']\n",
    "non_fibroblast_disease = taskF[taskF['label'] == 'non_fibroblast_disease']\n",
    "non_fibroblast_healthy = taskF[taskF['label'] == 'non_fibroblast_healthy']"
   ]
  },
  {
   "cell_type": "code",
   "execution_count": null,
   "id": "620ccb91-35a0-4e68-bd08-b1a1aaca2c91",
   "metadata": {},
   "outputs": [],
   "source": [
    "ism_results = fibroblast_ism_results"
   ]
  },
  {
   "cell_type": "code",
   "execution_count": null,
   "id": "c90af13f-8ac2-481e-bf17-5cec9b75b4f1",
   "metadata": {},
   "outputs": [],
   "source": [
    "sequence = final_sequence"
   ]
  },
  {
   "cell_type": "code",
   "execution_count": null,
   "id": "7d4c1acc-8d56-44ef-a750-5de2a9e7ddf0",
   "metadata": {},
   "outputs": [],
   "source": [
    "task_list = [ fibroblast_disease.index.values, \n",
    "             fibroblast_healthy.index.values, \n",
    "             non_fibroblast_disease.index.values, \n",
    "             non_fibroblast_healthy.index.values] \n",
    "\n",
    "mean_ism_results = [ism_results[:, :, tasks].mean(axis=2) for tasks in task_list]\n",
    "mean_results_line = [mean_result.mean(axis=0) for mean_result in mean_ism_results]\n",
    "labels= ['UC fibroblast', 'Healthy fibroblast', 'UC non-fibroblast', 'Healthy non-fibroblast', ]\n",
    "\n",
    "plt.figure(figsize=(10, 3), dpi=200)\n",
    "for i in range(len(task_list)):\n",
    "    plt.plot(range(len(sequence)), mean_results_line[i], label = labels[i], alpha=.6)\n",
    "    plt.xlabel(\"Sequence Position\")\n",
    "    plt.ylabel(\"Mean Change in Prediction\")\n",
    "    plt.xlim(0,len(sequence))\n",
    "    plt.axhline(y=0, color='darkred', linestyle='--', alpha=0.5)\n",
    "    plt.tight_layout()\n",
    "    plt.title(f'Mean ISM across')\n",
    "\n",
    "plt.show()"
   ]
  },
  {
   "cell_type": "markdown",
   "id": "ae632f9b-609b-4fa0-82b3-7650f30c9703",
   "metadata": {},
   "source": [
    "# Scan for motifs in final evolved sequence"
   ]
  },
  {
   "cell_type": "code",
   "execution_count": null,
   "id": "f754f350-6637-4fd7-bda9-2a6adc07d84f",
   "metadata": {},
   "outputs": [],
   "source": [
    "scan_halfway = scan_sequences(\n",
    "        seqs=[halfway_sequence],\n",
    "        motifs = \"/gstore/data/resbioai/gunsalul/annotations/H12CORE_jaspar_format.meme\", # HOCOMOCOv12\n",
    "        names=None,\n",
    "        seq_ids=['fibroblast_evolved'],\n",
    "        rc=True, \n",
    "    )"
   ]
  },
  {
   "cell_type": "code",
   "execution_count": null,
   "id": "a90bc778-087b-4ac5-91ec-da5f879e5582",
   "metadata": {},
   "outputs": [],
   "source": [
    "scan_halfway['motif_center'] = scan.apply(lambda row: min(row['end'], row['start']) + abs(row['end'] - row['start']) // 2, axis=1)\n",
    "scanF_halfway_disease = scan_halfway.copy()\n",
    "scanF_halfway_healthy = scan_halfway.copy()\n",
    "\n",
    "disease_ism_track = halfway_ism_results[:,:,fibroblast_disease.index.values].mean(axis=2)\n",
    "healthy_ism_track = halfway_ism_results[:,:,non_fibroblast_healthy.index.values].mean(axis=2)\n",
    "\n",
    "scanF_halfway_disease['ism_weight'] = scan.apply(calculate_ism_weight, ism=disease_ism_track, axis=1)\n",
    "scanF_halfway_healthy['ism_weight'] = scan.apply(calculate_ism_weight, ism=healthy_ism_track, axis=1)"
   ]
  },
  {
   "cell_type": "code",
   "execution_count": null,
   "id": "48dc2a60-e645-4019-a608-04ed3fa9d6fd",
   "metadata": {},
   "outputs": [],
   "source": [
    "scan = scan_sequences(\n",
    "        seqs=[sequence],\n",
    "        motifs = \"/gstore/data/resbioai/gunsalul/annotations/H12CORE_jaspar_format.meme\", # HOCOMOCOv12\n",
    "        names=None,\n",
    "        seq_ids=['fibroblast_evolved'],\n",
    "        rc=True, \n",
    "    )"
   ]
  },
  {
   "cell_type": "code",
   "execution_count": null,
   "id": "c3e1ae15-1a1d-4717-9e15-c113a1459c74",
   "metadata": {},
   "outputs": [],
   "source": [
    "def calculate_ism_weight(row: pd.Series, ism: np.ndarray) -> float:\n",
    "    max_ism = np.abs(ism).max(axis=0)\n",
    "    start, end = min(row[\"start\"], row[\"end\"]), max(row[\"start\"], row[\"end\"])\n",
    "    return max_ism[start:end].mean()"
   ]
  },
  {
   "cell_type": "code",
   "execution_count": null,
   "id": "a46c9ef3-87e3-4b36-a2d6-bbca6c456273",
   "metadata": {},
   "outputs": [],
   "source": [
    "scan['motif_center'] = scan.apply(lambda row: min(row['end'], row['start']) + abs(row['end'] - row['start']) // 2, axis=1)\n",
    "scanF_disease = scan.copy()\n",
    "scanF_healthy = scan.copy()\n",
    "\n",
    "disease_ism_track = ism_results[:,:,fibroblast_disease.index.values].mean(axis=2)\n",
    "healthy_ism_track = ism_results[:,:,non_fibroblast_healthy.index.values].mean(axis=2)\n",
    "\n",
    "scanF_disease['ism_weight'] = scan.apply(calculate_ism_weight, ism=disease_ism_track, axis=1)\n",
    "scanF_healthy['ism_weight'] = scan.apply(calculate_ism_weight, ism=healthy_ism_track, axis=1)"
   ]
  },
  {
   "cell_type": "markdown",
   "id": "99efa069-ba56-4e97-8c64-20bb23769836",
   "metadata": {},
   "source": [
    "# Logo plots"
   ]
  },
  {
   "cell_type": "code",
   "execution_count": null,
   "id": "3a035b8d-c99b-4f31-8cb4-6a121719bfaf",
   "metadata": {},
   "outputs": [],
   "source": [
    "ismF = pd.DataFrame(disease_ism_track)\n",
    "ismF.columns = list(sequence)"
   ]
  },
  {
   "cell_type": "code",
   "execution_count": null,
   "id": "c5ec9eea-f54d-4dfd-8d07-cba212a8481d",
   "metadata": {},
   "outputs": [],
   "source": [
    "plot_ISM(ismF, method=\"logo\", figsize=(20, 1.5),ymax=1.2, ymin=-.2)  "
   ]
  },
  {
   "cell_type": "code",
   "execution_count": null,
   "id": "e01d94b5-df72-4d3e-a842-7a8e6652bd22",
   "metadata": {},
   "outputs": [],
   "source": [
    "plot_ISM(ismF_partial, method=\"logo\", figsize=(20,1.5), ymax=1.2, ymin=-.2)  "
   ]
  },
  {
   "cell_type": "code",
   "execution_count": null,
   "id": "0cdf12d2-c166-4be6-a877-a29085d457a0",
   "metadata": {},
   "outputs": [],
   "source": [
    "def plot_ISM(\n",
    "    ism_preds: pd.DataFrame,\n",
    "    start_pos: Optional[int] = None,\n",
    "    end_pos: Optional[int] = None,\n",
    "    figsize: Tuple[float, float] = (8, 1.5),\n",
    "    method: str = \"heatmap\",\n",
    "    ymin: Optional[float] = None,\n",
    "    ymax: Optional[float] = None,/\n",
    "    **kwargs,\n",
    "):\n",
    "    \"\"\"\n",
    "    Return in silico mutagenesis plot\n",
    "\n",
    "    Args:\n",
    "        ism_preds: ISM dataframe produced by `grelu.model.interpret.ISM_predict`\n",
    "        start_pos: Start position of region to plot\n",
    "        end_pos: End position of region to plot\n",
    "        figsize: Tuple containing (width, height)\n",
    "        method: 'heatmap' or 'logo'\n",
    "        ymin: Minimum value for the y-axis (color scale for heatmap, height for logo)\n",
    "        ymax: Maximum value for the y-axis (color scale for heatmap, height for logo)\n",
    "        **kwargs: Additional arguments to be passed to sns.heatmap (in case type='heatmap')\n",
    "        or plot_attributions (in case type = 'logo')\n",
    "\n",
    "    Returns:\n",
    "        Heatmap or sequence logo for the specified region.\n",
    "    \"\"\"\n",
    "    # Positions to plot\n",
    "    if start_pos is None:\n",
    "        start_pos = 0\n",
    "    if end_pos is None:\n",
    "        end_pos = ism_preds.shape[1]\n",
    "\n",
    "    # Subset dataframe\n",
    "    ism_preds = ism_preds.iloc[:, start_pos:end_pos].copy()\n",
    "\n",
    "    # Plot heatmap\n",
    "    if method == \"heatmap\":\n",
    "        fig, ax = plt.subplots(figsize=figsize)\n",
    "        heatmap_kwargs = kwargs.copy()\n",
    "        if ymin is not None or ymax is not None:\n",
    "            heatmap_kwargs['vmin'] = ymin if ymin is not None else ism_preds.min().min()\n",
    "            heatmap_kwargs['vmax'] = ymax if ymax is not None else ism_preds.max().max()\n",
    "        g = sns.heatmap(\n",
    "            ism_preds,\n",
    "            xticklabels=1,\n",
    "            yticklabels=1,\n",
    "            cmap=\"vlag\",\n",
    "            center=0,\n",
    "            **heatmap_kwargs,\n",
    "        )\n",
    "        g.set_yticklabels(g.get_yticklabels(), rotation=0, fontsize=8)\n",
    "        g.set_xticklabels(g.get_xticklabels(), rotation=0, fontsize=8)\n",
    "\n",
    "    # Plot logo\n",
    "    elif method == \"logo\":\n",
    "        from grelu.sequence.format import BASE_TO_INDEX_HASH\n",
    "\n",
    "        # Calculate mean mutation effect\n",
    "        means = -ism_preds.mean(0)\n",
    "\n",
    "        # Make attribution array - everything is set to 0\n",
    "        attrs = np.zeros((4, end_pos - start_pos)).astype(np.float32)\n",
    "\n",
    "        # Add score for the reference base\n",
    "        for i in range(end_pos - start_pos):\n",
    "            attrs[BASE_TO_INDEX_HASH[means.index[i]], i] = np.float32(means.iloc[i])\n",
    "\n",
    "        # Make logo\n",
    "        logo_kwargs = kwargs.copy()\n",
    "        if ymin is not None or ymax is not None:\n",
    "            logo_kwargs['ylim'] = (ymin if ymin is not None else attrs.min(), \n",
    "                                   ymax if ymax is not None else attrs.max())\n",
    "        g = plot_attributions(attrs, figsize=figsize, **logo_kwargs)\n",
    "\n",
    "    return g"
   ]
  },
  {
   "cell_type": "code",
   "execution_count": null,
   "id": "098719e7-a4da-4fbe-b29b-a1cff78b2955",
   "metadata": {},
   "outputs": [],
   "source": [
    "plot_ISM(ismF, method=\"logo\", figsize=(8,4), \n",
    "                         start_pos = 9, end_pos=19, ymin=0,ymax=1.2)   # JUN/FOS"
   ]
  },
  {
   "cell_type": "code",
   "execution_count": null,
   "id": "8e76069d-866b-4a3f-843b-40e74032ec6c",
   "metadata": {},
   "outputs": [],
   "source": [
    "plot_ISM(ismF, method=\"logo\", figsize=(8,4), \n",
    "                         start_pos = 69, end_pos=78, ymax=1.2, ymin=0)   # SMAD"
   ]
  },
  {
   "cell_type": "code",
   "execution_count": null,
   "id": "77bc9349-97be-4576-b4fd-6b2393a2abae",
   "metadata": {},
   "outputs": [],
   "source": [
    "plot_ISM(ismF, method=\"logo\", figsize=(8,4), \n",
    "                         start_pos = 109, end_pos=119, ymax=1.2, ymin=0)   # JUN/FOS"
   ]
  },
  {
   "cell_type": "code",
   "execution_count": null,
   "id": "24618309-99f0-4efd-8819-5d80c32695f9",
   "metadata": {},
   "outputs": [],
   "source": [
    "plot_ISM(ismF, method=\"logo\", figsize=(8,4), \n",
    "                         start_pos = 127, end_pos=138, ymin=0, ymax=1.2)   # TATA binding domain"
   ]
  },
  {
   "cell_type": "markdown",
   "id": "f6e7f6cd-680e-4dc3-8c5e-e7e13bea7b52",
   "metadata": {},
   "source": [
    "# Plot motifs before disease design"
   ]
  },
  {
   "cell_type": "code",
   "execution_count": null,
   "id": "37ce428f-bf3e-41ce-878b-4b5bdd475d97",
   "metadata": {},
   "outputs": [],
   "source": [
    "halfway_sequence = mutationF[mutationF['Round'] == 99].Current_Sequence.item()\n",
    "placed_halfway_seq = place_sequence(full_sequence, halfway_sequence + EBFP_seq, TSS_offset)\n",
    "halfway_ism_results = ism(placed_halfway_seq, halfway_sequence, make_pred)"
   ]
  },
  {
   "cell_type": "code",
   "execution_count": null,
   "id": "89021a23-67e3-46a1-8cf0-ac1a612e78ec",
   "metadata": {},
   "outputs": [],
   "source": [
    "halfway_disease_ism_track = halfway_ism_results[:,:,fibroblast_disease.index.values].mean(axis=2)\n",
    "ismF_partial = pd.DataFrame(halfway_disease_ism_track)\n",
    "ismF_partial.columns = list(halfway_sequence)"
   ]
  },
  {
   "cell_type": "code",
   "execution_count": null,
   "id": "0863431a-4a89-47e4-a2f0-8ba8f307e63e",
   "metadata": {},
   "outputs": [],
   "source": [
    "plot_ISM(ismF_partial,method=\"logo\", figsize=(8,4), start_pos = 9, end_pos=19, ymin=0, ymax=1.2)   # JUN/FOS"
   ]
  },
  {
   "cell_type": "code",
   "execution_count": null,
   "id": "a0e36618-dcb4-4b34-a7bb-151776e58510",
   "metadata": {},
   "outputs": [],
   "source": [
    "plot_ISM(ismF_partial, method=\"logo\", figsize=(8,4), start_pos = 69, end_pos=78,ymin=0, ymax=1.2)   # SMAD"
   ]
  },
  {
   "cell_type": "code",
   "execution_count": null,
   "id": "d9a9328c-81ae-44c4-b5ca-e27abe991b01",
   "metadata": {},
   "outputs": [],
   "source": [
    "plot_ISM(ismF_partial, method=\"logo\", figsize=(8,4), start_pos = 109, end_pos=119, ymin=0, ymax=1.2)# JUN/FOS"
   ]
  },
  {
   "cell_type": "code",
   "execution_count": null,
   "id": "8e6a64c6-c9e5-439c-974f-87c2be93d375",
   "metadata": {},
   "outputs": [],
   "source": [
    "plot_ISM(ismF_partial, method=\"logo\", figsize=(8,4), start_pos = 127, end_pos=138, ymin=0, ymax=1.2)   # TATA binding domain"
   ]
  },
  {
   "cell_type": "code",
   "execution_count": null,
   "id": "a79b1091-54d2-4910-9bda-a663769be5b2",
   "metadata": {},
   "outputs": [],
   "source": [
    "plot_ISM(ismF, method=\"logo\", figsize=(10,4), start_pos = 4, end_pos=19, ymin=0, ymax=1.2)   "
   ]
  },
  {
   "cell_type": "code",
   "execution_count": null,
   "id": "fb4abfd6-dd21-4e85-813f-c43403788a3d",
   "metadata": {},
   "outputs": [],
   "source": [
    "plot_ISM(ismF_partial, method=\"logo\", figsize=(10,4), start_pos = 4, end_pos=19, ymin=0, ymax=1.2)   "
   ]
  },
  {
   "cell_type": "markdown",
   "id": "f9846895-d0ac-4142-b709-e64abec1e1cf",
   "metadata": {},
   "source": [
    "# Plot HOMOCOCO motifs"
   ]
  },
  {
   "cell_type": "code",
   "execution_count": null,
   "id": "cdb046ca-9ca8-4dd6-9378-4ae37b02edb4",
   "metadata": {},
   "outputs": [],
   "source": [
    "### MOTIF INFO FROM hocomoco\n",
    "\n",
    "fosb_dict = {'A': [427.0, 8.0, 6.0, 921.0, 187.0, 25.0, 45.0, 980.0, 47.0],\n",
    " 'C': [229.0, 4.0, 20.0, 13.0, 0.0, 17.0, 944.0, 5.0, 373.0],\n",
    " 'G': [276.0, 9.0, 875.0, 3.0, 816.0, 17.0, 13.0, 4.0, 188.0],\n",
    " 'T': [71.0, 982.0, 102.0, 66.0, 0.0, 944.0, 1.0, 14.0, 395.0]}\n",
    "\n",
    "fosB_pcm_RC = {\n",
    "    'T': [47.0, 980.0, 45.0, 25.0, 187.0, 921.0, 6.0, 8.0, 427.0],\n",
    "    'G': [373.0, 5.0, 944.0, 17.0, 0.0, 13.0, 20.0, 4.0, 229.0],\n",
    "    'C': [188.0, 4.0, 13.0, 17.0, 816.0, 3.0, 875.0, 9.0, 276.0],\n",
    "    'A': [395.0, 14.0, 1.0, 944.0, 0.0, 66.0, 102.0, 982.0, 71.0]}\n",
    "\n",
    "tbd_dict = {\n",
    "    \"A\": [132, 67, 841, 25, 922, 685, 959, 830, 279, 135],\n",
    "    \"C\": [568, 34, 7, 14, 1, 1, 6, 5, 19, 299],\n",
    "    \"G\": [219, 24, 10, 18, 2, 9, 28, 63, 652, 515],\n",
    "    \"T\": [78, 872, 139, 940, 72, 302, 4, 99, 47, 48]\n",
    "}\n",
    "\n",
    "smad4_dict = {\n",
    "    \"A\": [156, 4, 248, 5, 29, 3, 569, 990],\n",
    "    \"C\": [6, 23, 29, 24, 948, 945, 19, 10],\n",
    "    \"G\": [20, 56, 50, 290, 234, 532, 698, 124],\n",
    "    \"T\": [2, 223, 969, 303, 20, 347, 11, 129]\n",
    "}\n",
    "\n",
    "smad4_pcm = {\n",
    "    \"A\": [156.0, 6.0, 20.0, 2.0, 4.0, 23.0, 56.0, 223.0],\n",
    "    \"C\": [248.0, 29.0, 50.0, 969.0, 5.0, 24.0, 290.0, 303.0],\n",
    "    \"G\": [29.0, 948.0, 234.0, 20.0, 3.0, 945.0, 532.0, 347.0],\n",
    "    \"T\": [569.0, 19.0, 698.0, 11.0, 990.0, 10.0, 124.0, 129.0]\n",
    "}\n",
    "\n",
    "smad4_pcm_RC = { \n",
    "    \"A\": [129.0, 124.0, 10.0, 990.0, 11.0, 698.0, 19.0, 569.0],\n",
    "    \"C\": [347.0, 532.0, 945.0, 3.0, 20.0, 234.0, 948.0, 29.0],\n",
    "    \"G\": [303.0, 290.0, 24.0, 5.0, 969.0, 50.0, 29.0, 248.0],\n",
    "    \"T\": [223.0, 56.0, 23.0, 4.0, 2.0, 20.0, 6.0, 156.0]\n",
    "}\n",
    "\n",
    "klf_pcm = {\n",
    "    \"A\": [321.0, 436.0, 14.0, 21.0, 5.0, 76.0, 10.0, 22.0, 115.0, 71.0, 70.0, 104.0, 134.0],\n",
    "    \"C\": [309.0, 41.0, 2.0, 7.0, 7.0, 591.0, 9.0, 35.0, 12.0, 24.0, 659.0, 500.0, 326.0],\n",
    "    \"G\": [232.0, 274.0, 972.0, 965.0, 980.0, 0.0, 945.0, 554.0, 765.0, 814.0, 90.0, 183.0, 374.0],\n",
    "    \"T\": [134.0, 245.0, 8.0, 3.0, 4.0, 329.0, 32.0, 385.0, 104.0, 87.0, 177.0, 209.0, 162.0]\n",
    "}\n",
    "\n",
    "\n",
    "jaspar_data = smad4_pcm_RC"
   ]
  },
  {
   "cell_type": "code",
   "execution_count": null,
   "id": "96cde6d2-346b-4077-92dc-ae8902cb7351",
   "metadata": {},
   "outputs": [],
   "source": [
    "jaspar_data = fosB_pcm_RC\n",
    "pcm_df = pd.DataFrame(jaspar_data) \n",
    "\n",
    "total_counts = pcm_df.sum(axis=1)\n",
    "pfm_df = pcm_df.div(total_counts, axis=0)\n",
    "information_content = 2 + np.sum(pfm_df * np.log2(pfm_df.clip(lower=1e-6)), axis=1)\n",
    "icm_df = pfm_df.multiply(information_content, axis=0)\n",
    "fig, ax = plt.subplots(figsize=(8,4))\n",
    "logo = logomaker.Logo(icm_df, ax=ax)\n",
    "logo.style_spines(visible=False)  # Remove axis spines\n",
    "logo.style_xticks(anchor=0, spacing=1)  # Position x-ticks appropriately\n",
    "plt.show()"
   ]
  },
  {
   "cell_type": "code",
   "execution_count": null,
   "id": "2d9c76eb-1669-40cf-a4fa-0349387ee239",
   "metadata": {},
   "outputs": [],
   "source": [
    "jaspar_data = fosb_dict\n",
    "pcm_df = pd.DataFrame(jaspar_data) # fosb_dict\n",
    "total_counts = pcm_df.sum(axis=1)\n",
    "pfm_df = pcm_df.div(total_counts, axis=0)\n",
    "information_content = 2 + np.sum(pfm_df * np.log2(pfm_df.clip(lower=1e-6)), axis=1)\n",
    "icm_df = pfm_df.multiply(information_content, axis=0)\n",
    "fig, ax = plt.subplots(figsize=(8,4))\n",
    "logo = logomaker.Logo(icm_df, ax=ax)\n",
    "logo.style_spines(visible=False)  # Remove axis spines\n",
    "logo.style_xticks(anchor=0, spacing=1)  # Position x-ticks appropriately\n",
    "plt.show()"
   ]
  },
  {
   "cell_type": "code",
   "execution_count": null,
   "id": "13192f4c-5ba3-4176-956c-de95ba2d7a1d",
   "metadata": {},
   "outputs": [],
   "source": [
    "jaspar_data = tbd_dict\n",
    "pcm_df = pd.DataFrame(jaspar_data) # fosb_dict\n",
    "total_counts = pcm_df.sum(axis=1)\n",
    "pfm_df = pcm_df.div(total_counts, axis=0)\n",
    "information_content = 2 + np.sum(pfm_df * np.log2(pfm_df.clip(lower=1e-6)), axis=1)\n",
    "icm_df = pfm_df.multiply(information_content, axis=0)\n",
    "fig, ax = plt.subplots(figsize=(8,4))\n",
    "logo = logomaker.Logo(icm_df, ax=ax)\n",
    "logo.style_spines(visible=False)  # Remove axis spines\n",
    "logo.style_xticks(anchor=0, spacing=1)  # Position x-ticks appropriately\n",
    "plt.show()"
   ]
  },
  {
   "cell_type": "code",
   "execution_count": null,
   "id": "3c9d6a5a-aaf7-4cc3-8ef7-c98bae91a3c1",
   "metadata": {},
   "outputs": [],
   "source": [
    "jaspar_data = smad4_pcm_RC\n",
    "pcm_df = pd.DataFrame(jaspar_data) # fosb_dict\n",
    "\n",
    "# Calculate the total counts at each position\n",
    "total_counts = pcm_df.sum(axis=1)\n",
    "pfm_df = pcm_df.div(total_counts, axis=0)\n",
    "information_content = 2 + np.sum(pfm_df * np.log2(pfm_df.clip(lower=1e-6)), axis=1)\n",
    "icm_df = pfm_df.multiply(information_content, axis=0)\n",
    "fig, ax = plt.subplots(figsize=(8,4))\n",
    "logo = logomaker.Logo(icm_df, ax=ax)\n",
    "logo.style_spines(visible=False)  # Remove axis spines\n",
    "logo.style_xticks(anchor=0, spacing=1)  # Position x-ticks appropriately\n",
    "plt.show()"
   ]
  },
  {
   "cell_type": "code",
   "execution_count": null,
   "id": "80a883b7-0920-4be2-bb5f-c4706ae3ad0a",
   "metadata": {},
   "outputs": [],
   "source": [
    "jaspar_data = klf_pcm\n",
    "pcm_df = pd.DataFrame(jaspar_data) # fosb_dict\n",
    "\n",
    "# Calculate the total counts at each position\n",
    "total_counts = pcm_df.sum(axis=1)\n",
    "pfm_df = pcm_df.div(total_counts, axis=0)\n",
    "information_content = 2 + np.sum(pfm_df * np.log2(pfm_df.clip(lower=1e-6)), axis=1)\n",
    "icm_df = pfm_df.multiply(information_content, axis=0)\n",
    "fig, ax = plt.subplots(figsize=(8,4))\n",
    "logo = logomaker.Logo(icm_df, ax=ax)\n",
    "logo.style_spines(visible=False)  # Remove axis spines\n",
    "logo.style_xticks(anchor=0, spacing=1)  # Position x-ticks appropriately\n",
    "plt.show()"
   ]
  }
 ],
 "metadata": {
  "kernelspec": {
   "display_name": "Python 3 (ipykernel)",
   "language": "python",
   "name": "python3"
  },
  "language_info": {
   "codemirror_mode": {
    "name": "ipython",
    "version": 3
   },
   "file_extension": ".py",
   "mimetype": "text/x-python",
   "name": "python",
   "nbconvert_exporter": "python",
   "pygments_lexer": "ipython3",
   "version": "3.11.9"
  }
 },
 "nbformat": 4,
 "nbformat_minor": 5
}
