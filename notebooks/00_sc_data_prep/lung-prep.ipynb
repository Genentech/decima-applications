{
 "cells": [
  {
   "cell_type": "markdown",
   "id": "d21d49b9-3156-4573-aa9d-34a8b8398917",
   "metadata": {},
   "source": [
    "# Pseudobulk the HLCA (Human lung cell atlas) data"
   ]
  },
  {
   "cell_type": "code",
   "execution_count": null,
   "id": "035ce718-d737-4421-9d1d-4943d7104c3c",
   "metadata": {},
   "outputs": [],
   "source": [
    "import scanpy as sc\n",
    "import pandas as pd\n",
    "\n",
    "pd.options.display.max_columns = None"
   ]
  },
  {
   "cell_type": "markdown",
   "id": "f36f436c-aa11-461d-8bd5-dc3a8e714bbe",
   "metadata": {},
   "source": [
    "## Load the data"
   ]
  },
  {
   "cell_type": "code",
   "execution_count": null,
   "id": "cf750e20-4cc7-44f6-9d96-1ad0c89b99d0",
   "metadata": {},
   "outputs": [],
   "source": [
    "# downloaded from https://data.humancellatlas.org/hca-bio-networks/lung/atlases/lung-v1-0 (full atlas = core + extension)\n",
    "ad = sc.read('hlca.h5ad') # 2,282,447 cells \n",
    "ad = ad.raw.to_adata()"
   ]
  },
  {
   "cell_type": "markdown",
   "id": "fc5581a0-b563-40ab-a27b-b161bf7c6aec",
   "metadata": {},
   "source": [
    "## Filtering "
   ]
  },
  {
   "cell_type": "code",
   "execution_count": null,
   "id": "9273239c-0bff-49d8-b758-5a7b0fad240f",
   "metadata": {},
   "outputs": [],
   "source": [
    "ad = ad[ad.obs.assay.str.startswith('10x') & (ad.obs.suspension_type == 'cell') & (ad.obs[\"3'_or_5'\"] == \"3'\")].copy()"
   ]
  },
  {
   "cell_type": "code",
   "execution_count": null,
   "id": "03dac97d-75a9-4f97-bf2e-2be04ddee018",
   "metadata": {},
   "outputs": [],
   "source": [
    "ad = ad[~ad.obs.ann_level_4.isin(['Unknown', 'None'])].copy()"
   ]
  },
  {
   "cell_type": "code",
   "execution_count": null,
   "id": "b9a4ae47-ace2-4722-97d7-0145c0add9e3",
   "metadata": {},
   "outputs": [],
   "source": [
    "ad = ad[ad.obs.ann_level_4.notna()].copy()"
   ]
  },
  {
   "cell_type": "code",
   "execution_count": null,
   "id": "88c11c95-0c28-4323-86a6-44bcef41a6e9",
   "metadata": {},
   "outputs": [],
   "source": [
    "ad.obs['tissue'] = ad.obs.tissue.astype(str) + ['' if x == 'nan' else f'-{x}' for x in ad.obs.tissue_level_2.astype(str)]"
   ]
  },
  {
   "cell_type": "code",
   "execution_count": null,
   "id": "99612d82-b72d-4625-ac22-7cee73934ed0",
   "metadata": {},
   "outputs": [],
   "source": [
    "ad.obs['donor_id'] = ad.obs.donor_id.astype(str) + '-' + ad.obs['sample'].astype(str)"
   ]
  },
  {
   "cell_type": "code",
   "execution_count": null,
   "id": "31c6bd5e-f5d4-47a0-b4cf-c731849c4541",
   "metadata": {},
   "outputs": [],
   "source": [
    "ident_cols = ['donor_id', 'ann_level_4', 'dataset', 'lung_condition', 'tissue']"
   ]
  },
  {
   "cell_type": "code",
   "execution_count": null,
   "id": "7e73e868-93ab-4a23-ba57-510eb42f5fa9",
   "metadata": {},
   "outputs": [],
   "source": [
    "ad.obs = ad.obs[ident_cols].copy()"
   ]
  },
  {
   "cell_type": "code",
   "execution_count": null,
   "id": "91ff194c-9c96-4965-90b4-1e7cd52fede8",
   "metadata": {},
   "outputs": [],
   "source": [
    "for c in ident_cols:\n",
    "    ad.obs[c] = ad.obs[c].astype(str)"
   ]
  },
  {
   "cell_type": "code",
   "execution_count": null,
   "id": "376f658e-9468-4f6e-adba-bd0e9f54da09",
   "metadata": {},
   "outputs": [],
   "source": [
    "ad._sanitize()"
   ]
  },
  {
   "cell_type": "markdown",
   "id": "6315cc85-975d-45ef-8f1b-746dc63fd72d",
   "metadata": {},
   "source": [
    "## Now the pseudobulking"
   ]
  },
  {
   "cell_type": "code",
   "execution_count": null,
   "id": "ace53edf-3cce-4508-b1aa-9175c72a2424",
   "metadata": {},
   "outputs": [],
   "source": [
    "counts = ad.obs[ident_cols].value_counts().reset_index()\n",
    "counts = counts.rename(columns={'count': 'n_cells'})"
   ]
  },
  {
   "cell_type": "code",
   "execution_count": null,
   "id": "d295ac27-e8fb-492e-9b52-ddc28a883171",
   "metadata": {},
   "outputs": [],
   "source": [
    "ad = ad[ad.obs.merge(counts, how='left').n_cells>=10].copy()"
   ]
  },
  {
   "cell_type": "code",
   "execution_count": null,
   "id": "b58dc0db-f352-412c-bfd9-16de71a20241",
   "metadata": {},
   "outputs": [],
   "source": [
    "sc.pp.filter_genes(ad, min_cells=50)"
   ]
  },
  {
   "cell_type": "code",
   "execution_count": null,
   "id": "d8da0af3-6c53-4f71-bc64-ac7cf7eac94f",
   "metadata": {},
   "outputs": [],
   "source": [
    "ad.var['gene_id'] = ad.var.index\n",
    "ad.var.index = ad.var.feature_name\n",
    "ad.var.index.name = None"
   ]
  },
  {
   "cell_type": "code",
   "execution_count": null,
   "id": "d68cce2f-1a59-47bf-96f1-24c285d64fed",
   "metadata": {},
   "outputs": [],
   "source": [
    "counts = ad.obs[ident_cols].value_counts().reset_index()\n",
    "counts = counts.rename(columns={'count': 'n_cells'})"
   ]
  },
  {
   "cell_type": "code",
   "execution_count": null,
   "id": "df152ba4-6e99-4fff-bc8f-33cc05fceae1",
   "metadata": {},
   "outputs": [],
   "source": [
    "adp = sc.get.aggregate(ad, ident_cols, func='sum')"
   ]
  },
  {
   "cell_type": "code",
   "execution_count": null,
   "id": "4223e932-3b11-475c-aa52-b3d7af0b577f",
   "metadata": {},
   "outputs": [],
   "source": [
    "adp.X = adp.layers['sum'].astype(int)"
   ]
  },
  {
   "cell_type": "code",
   "execution_count": null,
   "id": "f7e64377-6464-4a00-acc7-6c90af225f01",
   "metadata": {},
   "outputs": [],
   "source": [
    "del adp.layers['sum']"
   ]
  },
  {
   "cell_type": "markdown",
   "id": "91e25718-244f-4c19-94e4-1f967544e72d",
   "metadata": {},
   "source": [
    "### Add cell counts"
   ]
  },
  {
   "cell_type": "code",
   "execution_count": null,
   "id": "4049ade8-2649-422a-8d88-3f2b6fbd4e51",
   "metadata": {},
   "outputs": [],
   "source": [
    "adp.obs = adp.obs.merge(counts, how='left')"
   ]
  },
  {
   "cell_type": "code",
   "execution_count": null,
   "id": "d9620dac-2e7e-4635-a7e7-62c01898896a",
   "metadata": {},
   "outputs": [],
   "source": [
    "adp.obs.rename(columns={'ann_level_4': 'celltype', 'lung_condition': 'condition'}, inplace=True)"
   ]
  },
  {
   "cell_type": "markdown",
   "id": "0720f6f3-103c-426f-8051-58ab7b00047f",
   "metadata": {},
   "source": [
    "## Save"
   ]
  },
  {
   "cell_type": "code",
   "execution_count": null,
   "id": "bc4a6188-32d6-4823-a03d-ceea89f28ab4",
   "metadata": {},
   "outputs": [],
   "source": [
    "adp = adp.copy()"
   ]
  },
  {
   "cell_type": "code",
   "execution_count": null,
   "id": "bdfebe8b-fc31-4d98-8ba8-f4840a95fb23",
   "metadata": {},
   "outputs": [],
   "source": [
    "adp.write('lung-pseudobulk.h5ad')"
   ]
  }
 ],
 "metadata": {
  "kernelspec": {
   "display_name": "Python 3 (ipykernel)",
   "language": "python",
   "name": "python3"
  },
  "language_info": {
   "codemirror_mode": {
    "name": "ipython",
    "version": 3
   },
   "file_extension": ".py",
   "mimetype": "text/x-python",
   "name": "python",
   "nbconvert_exporter": "python",
   "pygments_lexer": "ipython3",
   "version": "3.11.9"
  }
 },
 "nbformat": 4,
 "nbformat_minor": 5
}
