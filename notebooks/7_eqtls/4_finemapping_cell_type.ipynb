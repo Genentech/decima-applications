{
 "cells": [
  {
   "cell_type": "code",
   "execution_count": null,
   "id": "b48840ed-aba4-4851-8eeb-cdbc61001e0e",
   "metadata": {},
   "outputs": [],
   "source": [
    "import sys\n",
    "import numpy as np\n",
    "import pandas as pd\n",
    "import os\n",
    "import anndata\n",
    "import scipy\n",
    "from tqdm import tqdm\n",
    "from io import StringIO\n",
    "from collections import defaultdict\n",
    "\n",
    "import matplotlib.pyplot as plt\n",
    "from plotnine import *\n",
    "%matplotlib inline"
   ]
  },
  {
   "cell_type": "markdown",
   "id": "cb3cf6a1-71b7-484f-a2ce-82533e505d14",
   "metadata": {},
   "source": [
    "## Paths"
   ]
  },
  {
   "cell_type": "code",
   "execution_count": null,
   "id": "6d0dc3b4-491a-4ff7-953b-3f063f7fae06",
   "metadata": {},
   "outputs": [],
   "source": [
    "matrix_file = \"/gstore/data/resbioai/grelu/decima/20240823/data.h5ad\"\n",
    "eqtl_ad_file = 'eqtl.h5ad'\n",
    "save_dir = \"/gstore/data/resbioai/karollua/Decima/scborzoi/decima/\"\n",
    "susie_df_file = os.path.join(save_dir,'data/eQTL_processed/susie_df.csv')"
   ]
  },
  {
   "cell_type": "markdown",
   "id": "7ae1d679-f254-4062-8fcf-f59c55ac4d0a",
   "metadata": {},
   "source": [
    "## Load data"
   ]
  },
  {
   "cell_type": "code",
   "execution_count": null,
   "id": "8c20e3e1-5b8a-4009-ae9c-7e7320daa991",
   "metadata": {},
   "outputs": [],
   "source": [
    "ad = anndata.read_h5ad(matrix_file)\n",
    "susie_df = pd.read_csv(susie_df_file)\n",
    "eqtl_ad = anndata.read_h5ad(eqtl_ad_file)\n",
    "# reduce to blood cells\n",
    "eqtl_ad = eqtl_ad[:,(eqtl_ad.var.tissue == 'blood')].copy()\n",
    "eqtl_ad.var = eqtl_ad.var.reset_index(drop=True)"
   ]
  },
  {
   "cell_type": "markdown",
   "id": "08e7f105-36f4-4524-81ab-9f5c6dd67aad",
   "metadata": {},
   "source": [
    "## Cell type matching"
   ]
  },
  {
   "cell_type": "code",
   "execution_count": null,
   "id": "c42321c6-9c40-4bbc-b791-905e29d6fd54",
   "metadata": {},
   "outputs": [],
   "source": [
    "from eqtl_meta import cell_type_mapping\n",
    "cell_type_mapping = pd.read_table(StringIO(cell_type_mapping))\n",
    "all_modelcelltypes = set(cell_type_mapping['model_celltype'])\n",
    "all_eqtlcelltypes = set(cell_type_mapping['eqtl_celltype'])"
   ]
  },
  {
   "cell_type": "markdown",
   "id": "0f0d81a6-40b4-4f3e-9733-cd176e767591",
   "metadata": {},
   "source": [
    "## Deduplicate eQTLs so we have one variant-gene pip per cell-type"
   ]
  },
  {
   "cell_type": "code",
   "execution_count": null,
   "id": "9d3e88ec-eb93-47c9-8fb2-7fdddfaa5264",
   "metadata": {},
   "outputs": [],
   "source": [
    "susie_dedup = susie_df.sort_values(['variant','gene_id','celltype','pip']).drop_duplicates(\n",
    "    subset=['gene_id','variant','celltype'], keep='last')\n",
    "len(susie_dedup)"
   ]
  },
  {
   "cell_type": "markdown",
   "id": "80870bca-bab1-4648-a4b6-ffc40348c9f0",
   "metadata": {},
   "source": [
    "## Subset high-confidence sc-eQTLs"
   ]
  },
  {
   "cell_type": "code",
   "execution_count": null,
   "id": "3622ceb1-33eb-4ce3-ae3a-f6abf3846286",
   "metadata": {},
   "outputs": [],
   "source": [
    "pip_cut = 0.9\n",
    "exclude_cell_types = ['dnT cell', 'gdT cell']\n",
    "susie_dedup = susie_dedup[~susie_dedup.celltype.isin(exclude_cell_types)]"
   ]
  },
  {
   "cell_type": "code",
   "execution_count": null,
   "id": "5ba19283-eeee-4e29-931d-e62cebcb83a6",
   "metadata": {},
   "outputs": [],
   "source": [
    "var_to_target_dict = defaultdict(list)\n",
    "high_pip_pairs = susie_dedup[susie_dedup.pip > pip_cut][['gene_id','variant']].drop_duplicates()\n",
    "for row in tqdm(susie_dedup.merge(high_pip_pairs, on=['gene_id', 'variant']).itertuples()):\n",
    "    var_to_target_dict[row.gene_id + \":\" + row.variant].append((row.celltype, row.pip))"
   ]
  },
  {
   "cell_type": "markdown",
   "id": "97939227-85dc-4d76-852e-185d13c5552c",
   "metadata": {},
   "source": [
    "# associate each variant to on-target and off-target cell-types"
   ]
  },
  {
   "cell_type": "code",
   "execution_count": null,
   "id": "9a79aad2-fff3-4f28-b568-a69c4ce8ea04",
   "metadata": {},
   "outputs": [],
   "source": [
    "pip_cut_ambig = 0.1\n",
    "rows = []\n",
    "for k in var_to_target_dict:\n",
    "    on_target = []\n",
    "    ambig = []\n",
    "    off_target = []\n",
    "    nonexpr = []\n",
    "    gene_id = k.split(\":\")[0]\n",
    "    variant = k.split(\":\")[1]\n",
    "    for ct, pip in var_to_target_dict[k]:\n",
    "        if ct in all_eqtlcelltypes:\n",
    "            if pip > pip_cut:\n",
    "                on_target += list(cell_type_mapping.query('eqtl_celltype == @ct')['model_celltype'])\n",
    "            elif pip > pip_cut_ambig:\n",
    "                ambig += list(cell_type_mapping.query('eqtl_celltype == @ct')['model_celltype'])\n",
    "\n",
    "    on_target = set(on_target)\n",
    "    ambig = set(ambig)\n",
    "    off_target = all_modelcelltypes - (on_target | ambig)\n",
    "    maxe = \n",
    "\n",
    "    rows.append({'gene_id':gene_id, 'variant':variant, \n",
    "                 'on_target':list(on_target), 'off_target':list(off_target), 'max_effect':maxe})\n",
    "\n",
    "high_pip_targets = pd.DataFrame(rows)"
   ]
  },
  {
   "cell_type": "markdown",
   "id": "30752d3f-bd6b-4262-928f-bc140c6f01a4",
   "metadata": {},
   "source": [
    "## Calculate expression threshold"
   ]
  },
  {
   "cell_type": "code",
   "execution_count": null,
   "id": "252e5a17-e023-46b4-9e5d-442ad03e093f",
   "metadata": {},
   "outputs": [],
   "source": [
    "(\n",
    "    ggplot(pd.DataFrame({'AvgExpr':ad.X.mean(0)}), aes(x='AvgExpr')) +\\\n",
    "    geom_histogram() + theme_classic() + theme(figure_size=(4, 1.5)) \n",
    "    + geom_vline(xintercept=1.5)\n",
    "    + xlab(\"Average Expression across Pseudobulks\") + ylab(\"Count\")\n",
    ")"
   ]
  },
  {
   "cell_type": "markdown",
   "id": "313cd6e9-dec8-44ca-b5ba-2de3fc9e4073",
   "metadata": {},
   "source": [
    "## compile celltype average expression for each gene"
   ]
  },
  {
   "cell_type": "code",
   "execution_count": null,
   "id": "eca730ab-4b72-4844-af34-e49180b2421f",
   "metadata": {},
   "outputs": [],
   "source": [
    "all_blood_cts = set(eqtl_ad.var.cell_type)\n",
    "ct_to_gene_to_expr = defaultdict(dict)\n",
    "for i, ct in tqdm(enumerate(all_blood_cts)):\n",
    "    ad_sub = ad[(ad.obs.cell_type == ct) & (ad.obs.tissue == \"blood\")].copy()\n",
    "    ct_to_gene_to_expr[ct] = {gene_id:ad_sub.X[:, ix].mean(0) for ix, gene_id in enumerate(ad.var.gene_id)}"
   ]
  },
  {
   "cell_type": "markdown",
   "id": "e49ff6a9-3aa1-4336-bbbd-140345a4d96d",
   "metadata": {},
   "source": [
    "## for each off-target celltype, find set of off-targets where the gene is expressed"
   ]
  },
  {
   "cell_type": "code",
   "execution_count": null,
   "id": "d9bdd4e9-399c-4c45-a81a-11b60995f22e",
   "metadata": {},
   "outputs": [],
   "source": [
    "nonexpr_cut = 1.5\n",
    "expressed_offtargets = []\n",
    "\n",
    "for row in high_pip_targets.itertuples():\n",
    "    nonexpr_offs = []\n",
    "    for ct in row.off_target:\n",
    "        if ct_to_gene_to_expr[ct][row.gene_id] < nonexpr_cut:\n",
    "            nonexpr_offs.append(ct)\n",
    "    new_offs = list(set(row.off_target).difference(nonexpr_offs))\n",
    "    expressed_offtargets.append(new_offs)\n",
    "\n",
    "high_pip_targets['expressed_off_target'] = expressed_offtargets\n",
    "high_pip_targets = high_pip_targets[high_pip_targets.expressed_off_target.apply(len) > 0]\n",
    "len(high_pip_targets)"
   ]
  },
  {
   "cell_type": "markdown",
   "id": "9eeb27c9-d0d5-4581-bad2-604092dc084c",
   "metadata": {},
   "source": [
    "## make cell type averaged eqtl data"
   ]
  },
  {
   "cell_type": "code",
   "execution_count": null,
   "id": "3eff9f8e-ee2b-4ad9-8534-7f61c7c55e36",
   "metadata": {},
   "outputs": [],
   "source": [
    "new_X = np.zeros((len(eqtl_ad.obs), len(all_blood_cts)))\n",
    "new_refs = np.zeros((len(eqtl_ad.obs), len(all_blood_cts)))\n",
    "var_rows = []\n",
    "\n",
    "for i,ct in enumerate(all_blood_cts):\n",
    "    var_rows.append({'cell_type':ct})\n",
    "    sub = eqtl_ad[:,eqtl_ad.var.cell_type == ct]\n",
    "    new_X[:,i] = np.abs(sub.X.mean(1))\n",
    "    new_refs[:,i] = sub.layers['ref_expr'].mean(1)\n",
    "\n",
    "eqtl_avg = anndata.AnnData(new_X, obs=eqtl_ad.obs, var=pd.DataFrame(var_rows), layers={'ref_expr':new_refs})\n",
    "eqtl_avg.shape"
   ]
  },
  {
   "cell_type": "code",
   "execution_count": null,
   "id": "35318fc1-de24-457c-ba99-e8fc8ec942af",
   "metadata": {},
   "outputs": [],
   "source": [
    "eqtl_avg = eqtl_avg[:, eqtl_avg.var.cell_type.isin(all_modelcelltypes)]\n",
    "eqtl_avg.shape"
   ]
  },
  {
   "cell_type": "markdown",
   "id": "826e97b5-6d30-4a69-a2e7-06b2ce807bfc",
   "metadata": {},
   "source": [
    "## Compute scores in on-target and off-target cell types"
   ]
  },
  {
   "cell_type": "code",
   "execution_count": null,
   "id": "b742d465-b5e2-476a-88aa-f391881d361c",
   "metadata": {},
   "outputs": [],
   "source": [
    "def extract_onofftarget_scores(row, eqtl_ct=eqtl_avg):\n",
    "    variant = row['variant']\n",
    "    gene_id = row['gene_id']\n",
    "    eqtl_var = eqtl_ct[(eqtl_ct.obs.variant == variant) & (eqtl_ct.obs.gene_id == gene_id)].copy()\n",
    "    ontarget_score = np.abs(eqtl_var[:,eqtl_var.var.cell_type.isin(row['on_target'])].X.mean())\n",
    "    offtarget_score = np.abs(eqtl_var[:,eqtl_var.var.cell_type.isin(row['expressed_off_target'])].X.mean())\n",
    "    return ontarget_score, offtarget_score\n",
    "\n",
    "high_pip_targets[['High PIP cells', 'Other cells with expression']] = high_pip_targets.apply(\n",
    "    lambda row: extract_onofftarget_scores(row), axis=1).to_list()"
   ]
  },
  {
   "cell_type": "markdown",
   "id": "b4394c90-b85d-4280-9621-fadf21c61317",
   "metadata": {},
   "source": [
    "## Visualize"
   ]
  },
  {
   "cell_type": "code",
   "execution_count": null,
   "id": "dcb5470d-b6df-4299-9d8b-6c0070527bcf",
   "metadata": {},
   "outputs": [],
   "source": [
    "print(scipy.stats.wilcoxon(high_pip_targets['High PIP cells'],high_pip_targets['Other cells with expression']))\n",
    "(\n",
    "    ggplot(high_pip_targets, aes(x='Other cells with expression', y = 'High PIP cells')) +\\\n",
    "    geom_pointdensity(size=.5) + theme_classic() + theme(figure_size=(2.8, 2.5)) \n",
    "    + geom_abline(intercept=0, slope=1)\n",
    "    + ylab(\"Average Predicted FC: on-target\")\n",
    "    + xlab(\"Average Predicted FC: off-target (expressed)\")\n",
    ")"
   ]
  },
  {
   "cell_type": "markdown",
   "id": "51264f52-6af5-463b-a080-27ee2002961f",
   "metadata": {},
   "source": [
    "## Compute accuracy"
   ]
  },
  {
   "cell_type": "code",
   "execution_count": null,
   "id": "00de3780-da61-4ecb-bc24-c50db3ca421c",
   "metadata": {},
   "outputs": [],
   "source": [
    "np.mean(high_pip_targets['High PIP cells'] > high_pip_targets['Other cells with expression'])"
   ]
  },
  {
   "cell_type": "code",
   "execution_count": null,
   "id": "3364d499-fe5f-41aa-b999-8889bce9d115",
   "metadata": {},
   "outputs": [],
   "source": [
    "high_pip_targets['max_effect'] = high_pip_targets.variant.apply(lambda x: np.abs(eqtl_avg[eqtl_avg.obs.variant==x].X).max())"
   ]
  },
  {
   "cell_type": "code",
   "execution_count": null,
   "id": "b0454c89-9f9d-477e-9646-8276176b1d25",
   "metadata": {},
   "outputs": [],
   "source": [
    "high_pip_targets_effect = high_pip_targets[high_pip_targets['max_effect'] > 0.01]"
   ]
  },
  {
   "cell_type": "code",
   "execution_count": null,
   "id": "2d0c9056-136e-4aa5-943f-2798615e9dea",
   "metadata": {},
   "outputs": [],
   "source": [
    "np.mean(high_pip_targets_effect['High PIP cells'] > high_pip_targets_effect['Other cells with expression'])"
   ]
  },
  {
   "cell_type": "code",
   "execution_count": null,
   "id": "d3029c1b-add5-449e-af63-7c7892af60b1",
   "metadata": {},
   "outputs": [],
   "source": []
  }
 ],
 "metadata": {
  "kernelspec": {
   "display_name": "Python 3 (ipykernel)",
   "language": "python",
   "name": "python3"
  },
  "language_info": {
   "codemirror_mode": {
    "name": "ipython",
    "version": 3
   },
   "file_extension": ".py",
   "mimetype": "text/x-python",
   "name": "python",
   "nbconvert_exporter": "python",
   "pygments_lexer": "ipython3",
   "version": "3.11.9"
  }
 },
 "nbformat": 4,
 "nbformat_minor": 5
}
