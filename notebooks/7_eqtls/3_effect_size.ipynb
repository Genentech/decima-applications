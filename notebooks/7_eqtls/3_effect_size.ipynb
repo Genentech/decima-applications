{
 "cells": [
  {
   "cell_type": "code",
   "execution_count": null,
   "metadata": {},
   "outputs": [],
   "source": [
    "import sys\n",
    "import numpy as np\n",
    "import pandas as pd\n",
    "import os\n",
    "import scipy\n",
    "from tqdm import tqdm\n",
    "from sklearn.metrics import accuracy_score\n",
    "\n",
    "import matplotlib.pyplot as plt\n",
    "from plotnine import *\n",
    "%matplotlib inline"
   ]
  },
  {
   "cell_type": "markdown",
   "metadata": {},
   "source": [
    "## Paths"
   ]
  },
  {
   "cell_type": "code",
   "execution_count": null,
   "metadata": {},
   "outputs": [],
   "source": [
    "eqtl_file = 'susie_backmerged_dedup.csv'"
   ]
  },
  {
   "cell_type": "markdown",
   "metadata": {},
   "source": [
    "## Load data"
   ]
  },
  {
   "cell_type": "code",
   "execution_count": null,
   "metadata": {},
   "outputs": [],
   "source": [
    "eqtl_df = pd.read_csv(eqtl_file)"
   ]
  },
  {
   "cell_type": "markdown",
   "metadata": {},
   "source": [
    "## Subset to high-confidence sc-eQTLs"
   ]
  },
  {
   "cell_type": "code",
   "execution_count": null,
   "metadata": {},
   "outputs": [],
   "source": [
    "pip_cut=0.9\n",
    "effect_cut = 0.01"
   ]
  },
  {
   "cell_type": "code",
   "execution_count": null,
   "metadata": {},
   "outputs": [],
   "source": [
    "eqtl_df = eqtl_df[eqtl_df.pip > pip_cut].copy()\n",
    "eqtl_df_pred = eqtl_df[eqtl_df.abs_matched_score > effect_cut].copy()\n",
    "\n",
    "len(eqtl_df), len(eqtl_df_pred)"
   ]
  },
  {
   "cell_type": "markdown",
   "metadata": {},
   "source": [
    "# Predicting the beta for positive variants"
   ]
  },
  {
   "cell_type": "code",
   "execution_count": null,
   "metadata": {},
   "outputs": [],
   "source": [
    "print(\"Decima\")\n",
    "print(scipy.stats.pearsonr(eqtl_df['beta'], eqtl_df['matched_score']))\n",
    "print(scipy.stats.pearsonr(eqtl_df_pred['beta'], eqtl_df_pred['matched_score']))\n",
    "\n",
    "print(\"Borzoi whole blood\")\n",
    "print(scipy.stats.pearsonr(eqtl_df['beta'], eqtl_df['borzoi_wholeblood_score']))\n",
    "print(scipy.stats.pearsonr(eqtl_df_pred['beta'], eqtl_df_pred['borzoi_wholeblood_score']))\n",
    "\n",
    "print(\"Borzoi matched\")\n",
    "print(scipy.stats.pearsonr(eqtl_df['beta'], eqtl_df['borzoi_matched_score']))\n",
    "print(scipy.stats.pearsonr(eqtl_df_pred['beta'], eqtl_df_pred['borzoi_matched_score']))"
   ]
  },
  {
   "cell_type": "code",
   "execution_count": null,
   "metadata": {},
   "outputs": [],
   "source": [
    "print(accuracy_score(eqtl_df['beta'] > 0, eqtl_df['matched_score'] > 0))\n",
    "print(accuracy_score(eqtl_df_pred['beta'] > 0, eqtl_df_pred['matched_score'] > 0))"
   ]
  },
  {
   "cell_type": "markdown",
   "metadata": {},
   "source": [
    "## Visualize"
   ]
  },
  {
   "cell_type": "code",
   "execution_count": null,
   "metadata": {},
   "outputs": [],
   "source": [
    "(\n",
    "    ggplot(eqtl_df, aes(x='beta', y = 'matched_score')) +\\\n",
    "    geom_pointdensity(size=.3) + theme_classic() + theme(figure_size=(2.9, 2.5)) \n",
    "    + xlab(\"Beta\") + ylab(\"   Predicted logFC\\n(cell-type matched)\")\n",
    "    + geom_vline(xintercept=0, color='grey', linetype='dashed') \n",
    "    + geom_hline(yintercept=0, color='grey', linetype='dashed') \n",
    ")"
   ]
  },
  {
   "cell_type": "code",
   "execution_count": null,
   "metadata": {},
   "outputs": [],
   "source": []
  }
 ],
 "metadata": {
  "kernelspec": {
   "display_name": "Python 3 (ipykernel)",
   "language": "python",
   "name": "python3"
  },
  "language_info": {
   "codemirror_mode": {
    "name": "ipython",
    "version": 3
   },
   "file_extension": ".py",
   "mimetype": "text/x-python",
   "name": "python",
   "nbconvert_exporter": "python",
   "pygments_lexer": "ipython3",
   "version": "3.11.9"
  }
 },
 "nbformat": 4,
 "nbformat_minor": 4
}
