{
 "cells": [
  {
   "cell_type": "code",
   "execution_count": null,
   "metadata": {},
   "outputs": [],
   "source": [
    "import numpy as np\n",
    "import pandas as pd\n",
    "import os\n",
    "import scipy\n",
    "import yaml\n",
    "from tqdm import tqdm\n",
    "from sklearn.metrics import average_precision_score\n",
    "\n",
    "import matplotlib.pyplot as plt\n",
    "from plotnine import *\n",
    "%matplotlib inline"
   ]
  },
  {
   "cell_type": "markdown",
   "metadata": {},
   "source": [
    "# Paths"
   ]
  },
  {
   "cell_type": "code",
   "execution_count": null,
   "metadata": {},
   "outputs": [],
   "source": [
    "eqtl_file = 'susie_backmerged_dedup.csv'"
   ]
  },
  {
   "cell_type": "markdown",
   "metadata": {},
   "source": [
    "## Load data"
   ]
  },
  {
   "cell_type": "code",
   "execution_count": null,
   "metadata": {},
   "outputs": [],
   "source": [
    "eqtl_df = pd.read_csv(eqtl_file)"
   ]
  },
  {
   "cell_type": "markdown",
   "metadata": {},
   "source": [
    "## Precision at differentiating high pip from negatives"
   ]
  },
  {
   "cell_type": "code",
   "execution_count": null,
   "metadata": {},
   "outputs": [],
   "source": [
    "pip_cut=0.9"
   ]
  },
  {
   "cell_type": "code",
   "execution_count": null,
   "metadata": {},
   "outputs": [],
   "source": [
    "rows = []\n",
    "\n",
    "for celltype in tqdm(set(eqtl_df.celltype)):\n",
    "    sub = eqtl_df[eqtl_df.celltype == celltype].copy()\n",
    "    positive_genes = sub[sub.pip > pip_cut].gene_id\n",
    "    negative_genes = sub[sub.cs_id == \"negative\"].gene_id\n",
    "    sub = sub[sub.gene_id.isin(set(positive_genes).intersection(negative_genes))]\n",
    "    sub = sub[(sub.pip > pip_cut) | (sub.cs_id == \"negative\")]\n",
    "    labels = sub.pip > pip_cut\n",
    "    positives = labels.sum()\n",
    "    negatives = len(sub[sub.cs_id == \"negative\"])\n",
    "    if positives == 0 or negatives == 0:\n",
    "        continue\n",
    "    decima_ap = average_precision_score(labels, sub['abs_matched_score'])\n",
    "    borzoi_blood_ap = average_precision_score(labels, sub['abs_borzoi_wholeblood_score'])\n",
    "    borzoi_ap = average_precision_score(labels, sub['abs_borzoi_matched_score'])\n",
    "    distance_ap = average_precision_score(labels, -sub['abspos_rel_TSS'])\n",
    "    rows.append({'celltype':celltype, 'decima_ap':decima_ap,\n",
    "                'borzoi_blood_ap':borzoi_blood_ap, 'borzoi_ap':borzoi_ap,\n",
    "                'distance_ap':distance_ap, 'positives':positives, 'negatives':negatives,\n",
    "                })\n",
    "\n",
    "metrics = pd.DataFrame(rows)"
   ]
  },
  {
   "cell_type": "markdown",
   "metadata": {},
   "source": [
    "## Plot Decima performance"
   ]
  },
  {
   "cell_type": "code",
   "execution_count": null,
   "metadata": {},
   "outputs": [],
   "source": [
    "metrics.celltype = metrics.celltype.apply(\n",
    "    lambda x: x[0].upper() + x[1:])"
   ]
  },
  {
   "cell_type": "code",
   "execution_count": null,
   "metadata": {},
   "outputs": [],
   "source": [
    "metrics.celltype = pd.Categorical(metrics.celltype, categories=metrics.sort_values('decima_ap', ascending=False).celltype.tolist())\n",
    "(\n",
    "    ggplot(metrics, aes(x='celltype', y='decima_ap')) + geom_col() + theme_classic()\n",
    "    + theme(figure_size=(3.5, 3)) \n",
    "    + theme(axis_text_x=element_text(rotation=90, hjust=.5))\n",
    "     + xlab(\"\") + ylab(\"AUPRC\")\n",
    ")"
   ]
  },
  {
   "cell_type": "markdown",
   "metadata": {},
   "source": [
    "## Compare to baseline"
   ]
  },
  {
   "cell_type": "code",
   "execution_count": null,
   "metadata": {},
   "outputs": [],
   "source": [
    "pval = scipy.stats.wilcoxon(metrics['decima_ap'],metrics['distance_ap'])[1]\n",
    "(\n",
    "    ggplot(metrics, aes(x='distance_ap', y = 'decima_ap')) +\\\n",
    "    geom_point(size=.5) + theme_classic() + theme(figure_size=(3,2.5)) + geom_abline(intercept=0, slope=1) \n",
    "    + xlab(\"AUPRC per cell type:\\n        Distance\") + ylab(\"AUPRC per cell type:\\n        Decima\")\n",
    "    + geom_text(x=0.5, y=0.125, label=f\"P-value = {np.round(pval, 4)}\") \n",
    ")"
   ]
  },
  {
   "cell_type": "markdown",
   "metadata": {},
   "source": [
    "## Compare to Borzoi"
   ]
  },
  {
   "cell_type": "code",
   "execution_count": null,
   "metadata": {},
   "outputs": [],
   "source": [
    "pval = scipy.stats.wilcoxon(metrics['decima_ap'], metrics['borzoi_blood_ap'])[1]\n",
    "(\n",
    "    ggplot(metrics, aes(x='borzoi_blood_ap', y = 'decima_ap')) + geom_point(size=.5) \n",
    "    + theme_classic() + theme(figure_size=(3, 2.5)) + geom_abline(intercept=0, slope=1) \n",
    "    + xlab(\"AUPRC per celltype:\\nBorzoi (Whole Blood)\") + ylab(\"AUPRC per celltype:\\n          Decima \")\n",
    "    + geom_text(x=0.5, y=0.125, label=f\"P-value = {np.round(pval, 4)}\") \n",
    ")"
   ]
  },
  {
   "cell_type": "code",
   "execution_count": null,
   "metadata": {},
   "outputs": [],
   "source": [
    "pval = scipy.stats.wilcoxon(metrics['decima_ap'], metrics['borzoi_ap'])[1]\n",
    "(\n",
    "    ggplot(metrics, aes(x='borzoi_ap', y = 'decima_ap')) + geom_point(size=.5) \n",
    "    + theme_classic() + theme(figure_size=(3, 2.5)) + geom_abline(intercept=0, slope=1) \n",
    "    + xlab(\"AUPRC per celltype:\\nBorzoi (Matched)\") + ylab(\"AUPRC per celltype:\\n          Decima \")\n",
    "    + geom_text(x=0.6, y=0.125, label=f\"P-value = {np.round(pval, 4)}\") \n",
    ")"
   ]
  }
 ],
 "metadata": {
  "kernelspec": {
   "display_name": "Python 3 (ipykernel)",
   "language": "python",
   "name": "python3"
  },
  "language_info": {
   "codemirror_mode": {
    "name": "ipython",
    "version": 3
   },
   "file_extension": ".py",
   "mimetype": "text/x-python",
   "name": "python",
   "nbconvert_exporter": "python",
   "pygments_lexer": "ipython3",
   "version": "3.11.9"
  }
 },
 "nbformat": 4,
 "nbformat_minor": 4
}
