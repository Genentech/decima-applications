{
 "cells": [
  {
   "cell_type": "markdown",
   "id": "38dbd8cb-19de-4694-8973-87fffdf55fe5",
   "metadata": {},
   "source": [
    "# Calculate attributions for all genes"
   ]
  },
  {
   "cell_type": "code",
   "execution_count": null,
   "id": "7ea3321d-2794-419a-9236-886eb45eba26",
   "metadata": {},
   "outputs": [],
   "source": [
    "import numpy as np\n",
    "import pandas as pd\n",
    "import anndata\n",
    "import wandb\n",
    "from tqdm import tqdm\n",
    "import h5py\n",
    "import torch\n",
    "import os, sys\n",
    "sys.path.append('/code/decima/src/decima')\n",
    "\n",
    "from lightning import LightningModel\n",
    "from interpret import extract_gene_data, attributions\n",
    "from plotnine import *\n",
    "from captum.attr import InputXGradient\n",
    "from grelu.transforms.prediction_transforms import Aggregate\n",
    "\n",
    "%matplotlib inline"
   ]
  },
  {
   "cell_type": "markdown",
   "id": "b1adc189-c488-4ddb-b2a9-4be82f863d53",
   "metadata": {},
   "source": [
    "## Paths"
   ]
  },
  {
   "cell_type": "code",
   "execution_count": null,
   "id": "f7d2506d-9c1d-4737-87f0-79c574f044bf",
   "metadata": {},
   "outputs": [],
   "source": [
    "save_dir=\"/gstore/data/resbioai/grelu/decima/20240823\"\n",
    "matrix_file = os.path.join(save_dir, \"data.h5ad\")\n",
    "h5_file = os.path.join(save_dir, \"data.h5\")\n",
    "ckpt_dir = os.path.join(save_dir, 'lightning_logs')"
   ]
  },
  {
   "cell_type": "markdown",
   "id": "a003fae3-8e72-4e6c-8497-90860e994380",
   "metadata": {},
   "source": [
    "## Load"
   ]
  },
  {
   "cell_type": "code",
   "execution_count": null,
   "id": "c48412db-78e6-4cca-be0e-ed8a3e3a03a9",
   "metadata": {},
   "outputs": [],
   "source": [
    "ad = anndata.read_h5ad(matrix_file)\n",
    "ad = ad[:, ad.var.dataset == \"test\"].copy()\n",
    "ad.shape"
   ]
  },
  {
   "cell_type": "code",
   "execution_count": null,
   "id": "6a65874c-875b-491e-b6ef-494a19f7160c",
   "metadata": {},
   "outputs": [],
   "source": [
    "wandb.login(host=\"https://genentech.wandb.io\")\n",
    "ckpts=[\n",
    "'/gstore/data/resbioai/grelu/decima/20240823/lightning_logs/kugrjb50/checkpoints/epoch=3-step=2920.ckpt',\n",
    "'/gstore/data/resbioai/grelu/decima/20240823/lightning_logs/i68hdsdk/checkpoints/epoch=2-step=2190.ckpt',\n",
    "'/gstore/data/resbioai/grelu/decima/20240823/lightning_logs/0as9e8of/checkpoints/epoch=7-step=5840.ckpt',\n",
    "'/gstore/data/resbioai/grelu/decima/20240823/lightning_logs/i9zsp4nm/checkpoints/epoch=8-step=6570.ckpt',\n",
    "]\n",
    "models = [LightningModel.load_from_checkpoint(ckpt).eval() for ckpt in ckpts]"
   ]
  },
  {
   "cell_type": "markdown",
   "id": "a4e2b845-c96f-443e-89de-411122ed0ece",
   "metadata": {},
   "source": [
    "## Identify expression cutoff"
   ]
  },
  {
   "cell_type": "code",
   "execution_count": null,
   "id": "e2dfcfe2-38e2-4fd9-a3dd-1794d311a5d7",
   "metadata": {},
   "outputs": [],
   "source": [
    "x = np.ravel(ad.X)\n",
    "(\n",
    "    ggplot(pd.DataFrame({'x':np.random.choice(x[x>0], 100000)}), aes(x='x'))\n",
    "    + geom_histogram() + theme_classic() + theme(figure_size=(6,2))\n",
    ")"
   ]
  },
  {
   "cell_type": "markdown",
   "id": "15275585-e4fd-4280-b65e-ba75de8ce4e0",
   "metadata": {},
   "source": [
    "## Compute and save attributions"
   ]
  },
  {
   "cell_type": "code",
   "execution_count": null,
   "id": "cc18ed10-3c45-4bbc-9c85-158d8bb01223",
   "metadata": {},
   "outputs": [],
   "source": [
    "device = torch.device(1)\n",
    "models = [model.to(device) for model in models]"
   ]
  },
  {
   "cell_type": "code",
   "execution_count": null,
   "id": "ae48e161-c7fa-4751-8d42-1fef524e3565",
   "metadata": {},
   "outputs": [],
   "source": [
    "tasks = []\n",
    "seqs = []\n",
    "for gene in tqdm(ad.var_names):\n",
    "    tasks.append(ad.obs_names[np.array(ad[:, gene].X).squeeze() > 1.5].tolist())\n",
    "    seqs.append(extract_gene_data(h5_file, gene, merge=True))"
   ]
  },
  {
   "cell_type": "code",
   "execution_count": null,
   "id": "6eabc35c-10a8-4bf2-8828-b192233d044e",
   "metadata": {},
   "outputs": [],
   "source": [
    "file=os.path.join(save_dir, 'attr.h5')\n",
    "with h5py.File(file, \"w\") as f:\n",
    "    for g, t, s in tqdm(zip(ad.var_names, tasks, seqs)):\n",
    "        s = s.to(device)\n",
    "        attr = []\n",
    "        \n",
    "        for model in models:\n",
    "            model.add_transform(Aggregate(tasks=t, task_aggfunc=\"mean\", model=model))\n",
    "            attributer = InputXGradient(model)\n",
    "            with torch.no_grad():\n",
    "                attr.append(attributer.attribute(s)[:4].cpu().numpy())\n",
    "\n",
    "        f.create_dataset(g, shape=(524288,), data=np.stack(attr).mean(0).sum(0)  )"
   ]
  },
  {
   "cell_type": "code",
   "execution_count": null,
   "id": "6c306ba5-f480-4c5f-a181-760b683c8a8b",
   "metadata": {},
   "outputs": [],
   "source": []
  }
 ],
 "metadata": {
  "kernelspec": {
   "display_name": "Python 3 (ipykernel)",
   "language": "python",
   "name": "python3"
  },
  "language_info": {
   "codemirror_mode": {
    "name": "ipython",
    "version": 3
   },
   "file_extension": ".py",
   "mimetype": "text/x-python",
   "name": "python",
   "nbconvert_exporter": "python",
   "pygments_lexer": "ipython3",
   "version": "3.11.9"
  }
 },
 "nbformat": 4,
 "nbformat_minor": 5
}
