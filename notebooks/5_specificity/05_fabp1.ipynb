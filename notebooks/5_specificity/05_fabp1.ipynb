{
 "cells": [
  {
   "cell_type": "code",
   "execution_count": null,
   "id": "09fbc69d-a7d6-48f8-870c-4ab5a9a0d73d",
   "metadata": {
    "scrolled": true
   },
   "outputs": [],
   "source": [
    "import numpy as np\n",
    "import pandas as pd\n",
    "import anndata\n",
    "import wandb\n",
    "import torch\n",
    "import os, sys\n",
    "sys.path.append('/code/decima/src/decima')\n",
    "\n",
    "from lightning import LightningModel\n",
    "from visualize import plot_marker_box\n",
    "from interpret import extract_gene_data, read_meme_file, scan\n",
    "\n",
    "from grelu.visualize import plot_attributions, add_highlights\n",
    "from grelu.transforms.prediction_transforms import Aggregate\n",
    "\n",
    "from captum.attr import InputXGradient\n",
    "from scipy.signal import find_peaks\n",
    "from scipy.ndimage import gaussian_filter1d\n",
    "\n",
    "from plotnine import *\n",
    "import matplotlib.pyplot as plt\n",
    "import seaborn as sns\n",
    "%matplotlib inline"
   ]
  },
  {
   "cell_type": "code",
   "execution_count": null,
   "id": "6ac53ac6-0e61-4ab1-a426-c29245f13b3d",
   "metadata": {},
   "outputs": [],
   "source": [
    "save_dir=\"/gstore/data/resbioai/grelu/decima/20240823\"\n",
    "matrix_file = os.path.join(save_dir, \"data.h5ad\")\n",
    "h5_file = os.path.join(save_dir, \"data.h5\")\n",
    "ckpt_dir = os.path.join(save_dir, 'lightning_logs')\n",
    "meme_file = '../H12CORE_meme_format.meme'"
   ]
  },
  {
   "cell_type": "markdown",
   "id": "86516d19-9321-4fea-9458-27e3daf367be",
   "metadata": {},
   "source": [
    "## Load data"
   ]
  },
  {
   "cell_type": "code",
   "execution_count": null,
   "id": "90140f78-6850-4525-8363-0b8d06847d8c",
   "metadata": {},
   "outputs": [],
   "source": [
    "ad = anndata.read_h5ad(matrix_file)"
   ]
  },
  {
   "cell_type": "code",
   "execution_count": null,
   "id": "22675ac5-d42d-4f2e-be63-4998779c121a",
   "metadata": {
    "scrolled": true
   },
   "outputs": [],
   "source": [
    "wandb.login(host=\"https://genentech.wandb.io\")\n",
    "ckpts=[\n",
    "'/gstore/data/resbioai/grelu/decima/20240823/lightning_logs/kugrjb50/checkpoints/epoch=3-step=2920.ckpt',\n",
    "'/gstore/data/resbioai/grelu/decima/20240823/lightning_logs/i68hdsdk/checkpoints/epoch=2-step=2190.ckpt',\n",
    "'/gstore/data/resbioai/grelu/decima/20240823/lightning_logs/0as9e8of/checkpoints/epoch=7-step=5840.ckpt',\n",
    "'/gstore/data/resbioai/grelu/decima/20240823/lightning_logs/i9zsp4nm/checkpoints/epoch=8-step=6570.ckpt',\n",
    "]\n",
    "models = [LightningModel.load_from_checkpoint(ckpt).eval() for ckpt in ckpts]"
   ]
  },
  {
   "cell_type": "code",
   "execution_count": null,
   "id": "702822a5-be8e-4ca2-8dac-d254f1babc63",
   "metadata": {},
   "outputs": [],
   "source": [
    "motifs, names = read_meme_file(meme_file)"
   ]
  },
  {
   "cell_type": "markdown",
   "id": "fb408c3b-61c2-43f0-bdd5-2e9dcddd24e6",
   "metadata": {},
   "source": [
    "## Gene"
   ]
  },
  {
   "cell_type": "code",
   "execution_count": null,
   "id": "2815ce30-bd62-4f2a-aeb3-93c4d083f478",
   "metadata": {},
   "outputs": [],
   "source": [
    "gene = \"FABP1\"\n",
    "interval_start = ad.var.loc[gene, 'start']\n",
    "interval_end = ad.var.loc[gene, 'end']\n",
    "ad.var.loc[[gene]]"
   ]
  },
  {
   "cell_type": "markdown",
   "id": "07438232-7dcf-49f7-8a0b-b7f27bfba7d1",
   "metadata": {},
   "source": [
    "## Define tasks"
   ]
  },
  {
   "cell_type": "code",
   "execution_count": null,
   "id": "fa6f6a30-fa2f-48a0-ab0f-7c10520d83c4",
   "metadata": {},
   "outputs": [],
   "source": [
    "e_tasks = ad.obs_names[(ad.obs.organ=='gut') & (ad.obs.cell_type=='enterocyte')].tolist()\n",
    "h_tasks = ad.obs_names[(ad.obs.organ=='liver') & (ad.obs.cell_type=='hepatocyte')].tolist()"
   ]
  },
  {
   "cell_type": "markdown",
   "id": "0121c5a7-2e4f-4314-8128-1b84f2f83fa7",
   "metadata": {},
   "source": [
    "## Get attributions"
   ]
  },
  {
   "cell_type": "code",
   "execution_count": null,
   "id": "d56123ea-2c3f-43c0-8aed-d50b4e72b805",
   "metadata": {},
   "outputs": [],
   "source": [
    "seq, mask = extract_gene_data(h5_file, gene, merge=False)\n",
    "inputs = torch.vstack([seq, mask])\n",
    "tss_pos = np.where(mask[0] == 1)[0][0] - 2\n",
    "device = torch.device(6)\n",
    "inputs = inputs.to(device)"
   ]
  },
  {
   "cell_type": "code",
   "execution_count": null,
   "id": "ce1201a4-9fcc-4e1e-8873-40f542876101",
   "metadata": {},
   "outputs": [],
   "source": [
    "%%time\n",
    "\n",
    "attr_e = []\n",
    "for model in models:\n",
    "    model.add_transform(Aggregate(tasks=e_tasks, task_aggfunc=\"mean\", model=model))\n",
    "    attributer = InputXGradient(model.to(device))\n",
    "    with torch.no_grad():\n",
    "        x = attributer.attribute(inputs).cpu().numpy()\n",
    "        attr_e.append(x)\n",
    "\n",
    "attr_e = np.stack(attr_e).mean(0)"
   ]
  },
  {
   "cell_type": "code",
   "execution_count": null,
   "id": "c386e3b4-914d-491c-9370-267f4a318bc0",
   "metadata": {},
   "outputs": [],
   "source": [
    "%%time\n",
    "\n",
    "attr_h = []\n",
    "for model in models:\n",
    "    model.add_transform(Aggregate(tasks=h_tasks, task_aggfunc=\"mean\", model=model))\n",
    "    attributer = InputXGradient(model.to(device))\n",
    "    with torch.no_grad():\n",
    "            x = attributer.attribute(inputs).cpu().numpy()\n",
    "            attr_h.append(x)\n",
    "\n",
    "attr_h = np.stack(attr_h).mean(0)"
   ]
  },
  {
   "cell_type": "markdown",
   "id": "ade79a3f-0085-4c90-b0cb-5e67d40bc4ce",
   "metadata": {},
   "source": [
    "## View large region"
   ]
  },
  {
   "cell_type": "code",
   "execution_count": null,
   "id": "ae61123a-c04b-4f3b-81d2-a7be9f3b2f88",
   "metadata": {},
   "outputs": [],
   "source": [
    "sc = 88116000\n",
    "ec = 88180000\n",
    "print(ec-sc)\n",
    "\n",
    "start_pos = sc - interval_start\n",
    "end_pos = ec - interval_start\n",
    "a_e = gaussian_filter1d(np.abs(attr_e[:, ::-1].mean(0)[start_pos:end_pos]), 5)\n",
    "a_h = gaussian_filter1d(np.abs(attr_h[:, ::-1].mean(0)[start_pos:end_pos]), 5)\n",
    "\n",
    "fig, axes = plt.subplots(2, 1, figsize=(12, 3), sharex=True, tight_layout=True)\n",
    "\n",
    "axes[0].fill_between(np.linspace(sc, ec, num=ec-sc), a_e, color=\"darkred\")\n",
    "sns.despine(top=True, right=True, bottom=True)\n",
    "p = find_peaks(a_e, height=.01)[0]\n",
    "add_highlights(\n",
    "    axes[0], starts=[x-50+sc for x in p], ends=[x+50+sc for x in p],\n",
    "    facecolor='darkred', ymin=-.1, ymax=-.04, alpha=1)\n",
    "\n",
    "axes[1].fill_between(np.linspace(sc, ec, num=ec-sc), a_h, color=\"darkblue\")\n",
    "sns.despine(top=True, right=True, bottom=True)\n",
    "p = find_peaks(a_h, height=.01)[0]\n",
    "add_highlights(\n",
    "    axes[1], starts=[x-50+sc for x in p], ends=[x+50+sc for x in p],\n",
    "    facecolor='darkblue', ymin=-.1, ymax=-.04, alpha=1)\n"
   ]
  },
  {
   "cell_type": "markdown",
   "id": "7bc47d6a-9056-42d0-b29c-bf1fa2d95c78",
   "metadata": {},
   "source": [
    "## View promoter"
   ]
  },
  {
   "cell_type": "code",
   "execution_count": null,
   "id": "dde4b489-75f0-41d7-825f-5f6e7540f835",
   "metadata": {},
   "outputs": [],
   "source": [
    "plot_attributions(attr_e[:, tss_pos-50:tss_pos], figsize=(10,1.5))"
   ]
  },
  {
   "cell_type": "code",
   "execution_count": null,
   "id": "4c9e6e95-350e-4639-8ec3-ba8a3d5a9871",
   "metadata": {
    "scrolled": true
   },
   "outputs": [],
   "source": [
    "plot_attributions(attr_h[:, tss_pos-50:tss_pos], figsize=(10,1.5))"
   ]
  },
  {
   "cell_type": "markdown",
   "id": "06652915-5dd7-4781-8cf6-239efc784933",
   "metadata": {},
   "source": [
    "## View a distal enhancer"
   ]
  },
  {
   "cell_type": "code",
   "execution_count": null,
   "id": "d12e58d2-344f-4c98-9f54-9c148256d9b1",
   "metadata": {},
   "outputs": [],
   "source": [
    "start_coord=88179510\n",
    "end_coord=88179590\n",
    "\n",
    "end_pos = ad.var.loc[gene, 'end']- start_coord\n",
    "start_pos = ad.var.loc[gene, 'end'] - end_coord\n",
    "start_pos, end_pos"
   ]
  },
  {
   "cell_type": "code",
   "execution_count": null,
   "id": "efff687c-e912-45b1-b633-85f0395bbc2c",
   "metadata": {},
   "outputs": [],
   "source": [
    "plot_attributions(attr_e[:, start_pos:end_pos], figsize=(10, 1.5))"
   ]
  },
  {
   "cell_type": "code",
   "execution_count": null,
   "id": "b59f3ee4-2c2b-4dd9-9006-52ae48906c72",
   "metadata": {},
   "outputs": [],
   "source": [
    "plot_attributions(attr_h[:, start_pos:end_pos], figsize=(10, 1.5))"
   ]
  },
  {
   "cell_type": "code",
   "execution_count": null,
   "id": "f0ab0132-b06d-4abf-8e60-e2ee49230cf9",
   "metadata": {
    "scrolled": true
   },
   "outputs": [],
   "source": [
    "s = scan('AGTGACACAATCA', motifs=motifs, names=motif_names, bg=bg, pthresh=1e-3)\n",
    "print(s)\n",
    "for m in s.motif.tolist():\n",
    "    if m.upper() in ad.var_names:\n",
    "        m_on=ad[e_tasks, m.upper()].X.mean() \n",
    "        m_off=ad[off_tasks, m.upper()].X.mean()\n",
    "        if m_on-m_off >= 1:\n",
    "            print(m, m_on-m_off)"
   ]
  },
  {
   "cell_type": "code",
   "execution_count": null,
   "id": "3b549e6a-c2ad-4122-8633-559fa7f2954f",
   "metadata": {
    "scrolled": true
   },
   "outputs": [],
   "source": [
    "s = scan('ATTTTATAGCTC', motifs=motifs, names=motif_names, bg=bg, pthresh=2.5e-3)\n",
    "print(s)\n",
    "for m in s.motif.tolist():\n",
    "    if m.upper() in ad.var_names:\n",
    "        m_on=ad[e_tasks, m.upper()].X.mean() \n",
    "        m_off=ad[off_tasks, m.upper()].X.mean()\n",
    "        if m_on-m_off >= 1:\n",
    "            print(m, m_on-m_off)"
   ]
  },
  {
   "cell_type": "code",
   "execution_count": null,
   "id": "b53a8154-47e6-4ec2-ab8d-1b7c5b7ac7bc",
   "metadata": {},
   "outputs": [],
   "source": [
    "s = scan('TAGCTCAAAGGTTGAG', motifs=motifs, names=motif_names, bg=bg, pthresh=1e-3)\n",
    "print(s)\n",
    "for m in s.motif.tolist():\n",
    "    if m.upper() in ad.var_names:\n",
    "        m_on=ad[e_tasks, m.upper()].X.mean() \n",
    "        m_off=ad[off_tasks, m.upper()].X.mean()\n",
    "        if m_on-m_off >= 1:\n",
    "            print(m, m_on-m_off)"
   ]
  },
  {
   "cell_type": "markdown",
   "id": "dfc4a1f3-f811-458b-a55c-d221e11dfc12",
   "metadata": {},
   "source": [
    "## View logos"
   ]
  },
  {
   "cell_type": "code",
   "execution_count": null,
   "id": "2267fa5c-8bd7-4b37-bd78-06ef2252c66c",
   "metadata": {},
   "outputs": [],
   "source": [
    "for m, n in zip(motifs, motif_names):\n",
    "    if 'CEBPG' in n:\n",
    "        break\n",
    "\n",
    "plot_logo(m, rc=True)"
   ]
  },
  {
   "cell_type": "code",
   "execution_count": null,
   "id": "c01b0157-e34a-4f2b-a7e7-740663466bef",
   "metadata": {},
   "outputs": [],
   "source": [
    "for m, n in zip(motifs, motif_names):\n",
    "    if 'CDX1' in n:\n",
    "        break\n",
    "\n",
    "plot_logo(m)"
   ]
  },
  {
   "cell_type": "code",
   "execution_count": null,
   "id": "6aac76ea-3bd7-4f6b-86bf-435942b4bb17",
   "metadata": {},
   "outputs": [],
   "source": [
    "for m, n in zip(motifs, motif_names):\n",
    "    if 'HNF4A' in n:\n",
    "        break\n",
    "\n",
    "plot_logo(m)"
   ]
  },
  {
   "cell_type": "markdown",
   "id": "e3e06096-3cbb-4b8a-958f-f3be45319325",
   "metadata": {},
   "source": [
    "## View TF abundance"
   ]
  },
  {
   "cell_type": "code",
   "execution_count": null,
   "id": "6e99c741-2cf5-416f-9702-00a1d9b849c8",
   "metadata": {},
   "outputs": [],
   "source": [
    "for gene in ['CEBPA', 'CDX1', 'HNF4A']:\n",
    "    p=plot_marker_box(\n",
    "        gene=gene, ad=ad[ad.obs.organ.isin(['liver', 'gut'])], \n",
    "        marker_features={'cell_type':['hepatocyte', 'enterocyte']},\n",
    "        split_col='organ', split_values=['gut', 'liver'], label_name='Cell type',\n",
    "        order=['enterocyte', 'Other gut', 'hepatocyte', 'Other liver'],\n",
    "        include_preds=False, fill=False) + theme(figure_size=(1.9,2.1))  +\\\n",
    "    theme(axis_title_y=element_blank())\n",
    "    display(p)"
   ]
  },
  {
   "cell_type": "code",
   "execution_count": null,
   "id": "05ed7386-f178-4c9e-8702-bb24fa3c8e3f",
   "metadata": {},
   "outputs": [],
   "source": []
  }
 ],
 "metadata": {
  "kernelspec": {
   "display_name": "Python 3 (ipykernel)",
   "language": "python",
   "name": "python3"
  },
  "language_info": {
   "codemirror_mode": {
    "name": "ipython",
    "version": 3
   },
   "file_extension": ".py",
   "mimetype": "text/x-python",
   "name": "python",
   "nbconvert_exporter": "python",
   "pygments_lexer": "ipython3",
   "version": "3.11.9"
  }
 },
 "nbformat": 4,
 "nbformat_minor": 5
}
