{
 "cells": [
  {
   "cell_type": "code",
   "execution_count": null,
   "id": "ea0d5010-f069-4e00-9427-0abbd8c07d78",
   "metadata": {},
   "outputs": [],
   "source": [
    "import numpy as np\n",
    "import pandas as pd\n",
    "import anndata\n",
    "import h5py\n",
    "from tqdm import tqdm\n",
    "import bioframe as bf\n",
    "import os, sys\n",
    "from scipy.stats import mannwhitneyu, kruskal, wilcoxon\n",
    "from plotnine import *\n",
    "from grelu.sequence.utils import resize\n",
    "\n",
    "sys.path.append('/code/decima/src/decima')\n",
    "from resources import load_gtf\n",
    "\n",
    "%matplotlib inline"
   ]
  },
  {
   "cell_type": "markdown",
   "id": "5495969b-25fa-4c54-bce8-e2bd89da6901",
   "metadata": {},
   "source": [
    "## Paths"
   ]
  },
  {
   "cell_type": "code",
   "execution_count": null,
   "id": "03c11699-6914-43de-b8d4-31688cad02a7",
   "metadata": {},
   "outputs": [],
   "source": [
    "save_dir=\"/gstore/data/resbioai/grelu/decima/20240823\"\n",
    "matrix_file = os.path.join(save_dir, \"data.h5ad\")\n",
    "h5_file = os.path.join(save_dir, \"attr.h5\")"
   ]
  },
  {
   "cell_type": "markdown",
   "id": "780a2839-20dd-4d6f-aa01-6906bd334b54",
   "metadata": {},
   "source": [
    "## Load test genes"
   ]
  },
  {
   "cell_type": "code",
   "execution_count": null,
   "id": "dd9b75f3-5fac-4012-873e-b1ba5b18e289",
   "metadata": {},
   "outputs": [],
   "source": [
    "ad = anndata.read_h5ad(matrix_file)\n",
    "ad = ad[:, ad.var.dataset == \"test\"].copy()"
   ]
  },
  {
   "cell_type": "code",
   "execution_count": null,
   "id": "0d9ce027-4df6-4518-88f1-564e437d47de",
   "metadata": {},
   "outputs": [],
   "source": [
    "genes = ad.var.reset_index()\n",
    "genes['gene'] = ad.var_names\n",
    "genes['st'] = genes.gene_start - genes.start\n",
    "genes['en'] = [min(524287, x) for x in genes.gene_end - genes.start]"
   ]
  },
  {
   "cell_type": "markdown",
   "id": "2428295f-80bc-4908-820b-d51ed6773dc8",
   "metadata": {},
   "source": [
    "## Load CREs"
   ]
  },
  {
   "cell_type": "code",
   "execution_count": null,
   "id": "c148240e-ca78-4e33-b91f-83091fb3e829",
   "metadata": {},
   "outputs": [],
   "source": [
    "# Encode CREs\n",
    "#!wget https://downloads.wenglab.org/V3/GRCh38-cCREs.bed"
   ]
  },
  {
   "cell_type": "code",
   "execution_count": null,
   "id": "02731df6-4ab0-4bc4-8333-2bcba0b00e79",
   "metadata": {},
   "outputs": [],
   "source": [
    "cre = pd.read_table('GRCh38-cCREs.bed', header=None, usecols=(0, 1, 2, 5))\n",
    "cre.columns=['chrom', 'start', 'end', 'class']"
   ]
  },
  {
   "cell_type": "markdown",
   "id": "b5bedb38-b719-4068-ad0a-d8c27d2c47be",
   "metadata": {},
   "source": [
    "## Load exon annotations"
   ]
  },
  {
   "cell_type": "code",
   "execution_count": null,
   "id": "fd4590a8-c8b5-464f-b371-4e701540561a",
   "metadata": {},
   "outputs": [],
   "source": [
    "gtf = load_gtf(\n",
    "    '/gstore/data/resbioai/grelu/decima/refdata-gex-GRCh38-2020-A/genes/genes.gtf',\n",
    "    feature='exon')\n",
    "gtf = gtf[gtf.gene_name.isin(ad.var_names)]"
   ]
  },
  {
   "cell_type": "markdown",
   "id": "393e5f95-fe0c-4b39-ad06-9c24eadf40b2",
   "metadata": {},
   "source": [
    "## Drop genes for which we have no exon annotations"
   ]
  },
  {
   "cell_type": "code",
   "execution_count": null,
   "id": "316b8a7f-80ab-46dc-8c58-49e7c1d087fa",
   "metadata": {},
   "outputs": [],
   "source": [
    "genes = genes[genes.gene.isin(gtf.gene_name)]"
   ]
  },
  {
   "cell_type": "markdown",
   "id": "507f942d-3d80-44be-8085-b4009753c53e",
   "metadata": {},
   "source": [
    "## Read attributions"
   ]
  },
  {
   "cell_type": "code",
   "execution_count": null,
   "id": "0063d79d-3cde-400d-985f-ab320457c181",
   "metadata": {},
   "outputs": [],
   "source": [
    "attrs = {}\n",
    "with h5py.File(h5_file, 'r') as f:\n",
    "    for gene in ad.var_names:\n",
    "        attr = np.array(f[gene])\n",
    "        if ad.var.strand[gene]=='-':\n",
    "            attr = attr[::-1]\n",
    "        attrs[gene] = np.abs(attr)"
   ]
  },
  {
   "cell_type": "markdown",
   "id": "8b103552-dd8d-4b4c-96b0-78df5bef3de2",
   "metadata": {},
   "source": [
    "## Overlap annotations with gene intervals"
   ]
  },
  {
   "cell_type": "code",
   "execution_count": null,
   "id": "488f3998-b195-4ccd-b6c8-97778787dec0",
   "metadata": {},
   "outputs": [],
   "source": [
    "cre_overlap = bf.overlap(genes, cre, how='inner')\n",
    "cre_overlap['st'] = cre_overlap.start_ - cre_overlap.start\n",
    "cre_overlap['en'] = cre_overlap.end_ - cre_overlap.start\n",
    "cre_overlap['dist'] = np.abs(np.vstack([cre_overlap.start - cre_overlap.gene_start, cre_overlap.start - cre_overlap.gene_end])).min(0)"
   ]
  },
  {
   "cell_type": "code",
   "execution_count": null,
   "id": "11ba560c-fa98-4d0c-98b6-e2a6868c863c",
   "metadata": {},
   "outputs": [],
   "source": [
    "cre_overlap.loc[cre_overlap.dist < 100, 'dist_class'] = '0-100'\n",
    "cre_overlap.loc[(cre_overlap.dist >= 100) & (cre_overlap.dist < 1000), 'dist_class'] = '100-1kb'\n",
    "cre_overlap.loc[(cre_overlap.dist >= 1000) & (cre_overlap.dist < 10000), 'dist_class'] ='1-10kb'\n",
    "cre_overlap.loc[(cre_overlap.dist >= 10000) & (cre_overlap.dist < 100000), 'dist_class'] ='10-100kb'\n",
    "cre_overlap.loc[cre_overlap.dist >= 100000, 'dist_class'] ='>100kb'"
   ]
  },
  {
   "cell_type": "code",
   "execution_count": null,
   "id": "5f7e1f82-8cd0-42a8-a9af-ffd83fbc7ba1",
   "metadata": {},
   "outputs": [],
   "source": [
    "annot = dict()\n",
    "for gene in tqdm(ad.var_names):\n",
    "    exons = gtf[(gtf.gene_name==gene) & (gtf.start >= ad.var.start[gene]) & (gtf.end <= ad.var.end[gene])].copy()\n",
    "    exons['st'] = exons['start'] - ad.var.start[gene]\n",
    "    exons['en'] = exons['end'] - ad.var.start[gene]\n",
    "    annot[gene] = {'exons':exons}\n",
    "    annot[gene]['cre'] = cre_overlap[cre_overlap.gene==gene]"
   ]
  },
  {
   "cell_type": "markdown",
   "id": "0db7b735-2124-4fa0-b48b-d6ae1788e0af",
   "metadata": {},
   "source": [
    "## Compare attributions in different classes"
   ]
  },
  {
   "cell_type": "code",
   "execution_count": null,
   "id": "3e86cd52-4366-4fef-942a-9d924f0b33a1",
   "metadata": {},
   "outputs": [],
   "source": [
    "genes = genes.iloc[:, :23]\n",
    "promoter_window = 100\n",
    "junction_window = 10\n",
    "\n",
    "for row in tqdm(genes.itertuples()):\n",
    "    \n",
    "    exons = annot[row.gene]['exons']\n",
    "    cres = annot[row.gene]['cre']\n",
    "    attr = attrs[row.gene]\n",
    "    \n",
    "    in_gene = np.array([False]*524288)\n",
    "    in_promoter = np.array([False]*524288)\n",
    "    in_exons = np.array([False]*524288)\n",
    "    in_introns = np.array([False]*524288)\n",
    "    in_junctions = np.array([False]*524288)\n",
    "    in_cre = np.array([False]*524288)\n",
    "    out_1k = np.array([False]*524288)\n",
    "    out_1k_10k = np.array([False]*524288)\n",
    "    out_10k_100k = np.array([False]*524288)\n",
    "    out_100k = np.array([False]*524288)\n",
    "\n",
    "    # select bases in gene/ promoter / exons / junctions / CREs\n",
    "    in_gene[row.st: row.en] = True\n",
    "    if row.strand=='+':\n",
    "        in_promoter[row.st-promoter_window: row.st+promoter_window] = True\n",
    "    else:\n",
    "        in_promoter[row.en-promoter_window: row.en+promoter_window] = True\n",
    "    \n",
    "    for exon in exons.itertuples():\n",
    "        in_exons[exon.st:exon.en] = True\n",
    "        in_junctions[exon.st - junction_window: exon.st+junction_window] = True\n",
    "        in_junctions[exon.en - junction_window: exon.en+junction_window] = True\n",
    "\n",
    "    if len(cres) > 0:\n",
    "        for cre in cres.itertuples():\n",
    "            in_cre[cre.st:cre.en] = True\n",
    "\n",
    "    # Select outer CREs by distance\n",
    "    out_1k[row.st-1000:row.st] = True\n",
    "    out_1k[row.en:row.en+1000] = True\n",
    "    out_1k_10k[row.st-10000:row.st-1000] = True\n",
    "    out_1k_10k[row.en+1000:row.en+10000] = True\n",
    "    out_10k_100k[row.st-100000:row.st-10000] = True\n",
    "    out_10k_100k[row.en+10000:row.en+100000] = True\n",
    "    out_100k[:row.st-100000] = True\n",
    "    out_100k[row.en+100000:] = True\n",
    "\n",
    "    genes.loc[genes.gene==row.gene, 'Promoter'] = attr[in_promoter].mean()\n",
    "    genes.loc[genes.gene==row.gene, 'Exons'] = attr[in_exons].mean()\n",
    "    genes.loc[genes.gene==row.gene, 'Introns'] = attr[in_gene & (~in_exons)].mean()\n",
    "    genes.loc[genes.gene==row.gene, 'Exon/Intron junctions'] = attr[in_junctions].mean()\n",
    "    genes.loc[genes.gene==row.gene, 'Intronic CREs'] = attr[in_gene & (~in_exons) & in_cre].mean()\n",
    "    genes.loc[genes.gene==row.gene, 'Outer CREs'] = attr[(~in_gene) & in_cre].mean()\n",
    "    genes.loc[genes.gene==row.gene, 'Outer non-CREs'] = attr[(~in_gene) & (~in_cre)].mean()\n",
    "    \n",
    "    genes.loc[genes.gene==row.gene, '1k (CREs)'] = attr[out_1k & in_cre].mean()\n",
    "    genes.loc[genes.gene==row.gene, '1k (Other)'] = attr[out_1k & (~in_cre)].mean()\n",
    "    genes.loc[genes.gene==row.gene, '1k-10k (CREs)'] = attr[out_1k_10k & in_cre].mean()\n",
    "    genes.loc[genes.gene==row.gene, '1k-10k (Other)'] = attr[out_1k_10k & (~in_cre)].mean()\n",
    "    genes.loc[genes.gene==row.gene, '10k-100k (CREs)'] = attr[out_10k_100k & in_cre].mean()\n",
    "    genes.loc[genes.gene==row.gene, '10k-100k (Other)'] = attr[out_10k_100k & (~in_cre)].mean()\n",
    "    genes.loc[genes.gene==row.gene, '>=100k (CREs)'] = attr[out_100k & in_cre].mean()\n",
    "    genes.loc[genes.gene==row.gene, '>=100k (Other)'] = attr[out_100k & (~in_cre)].mean()"
   ]
  },
  {
   "cell_type": "code",
   "execution_count": null,
   "id": "74e4b114-99c0-412d-8345-9b32979af199",
   "metadata": {},
   "outputs": [],
   "source": [
    "df = genes[['Promoter', 'Exon/Intron junctions', 'Exons', 'Introns', 'Intronic CREs']].dropna().copy()\n",
    "print(len(df))\n",
    "\n",
    "df = df.melt()\n",
    "df.variable = pd.Categorical(df.variable, categories=[\n",
    "    'Promoter', 'Exon/Intron junctions', 'Exons', 'Introns', 'Intronic CREs'\n",
    "])\n",
    "(\n",
    "    ggplot(df, aes(x='variable', y='value'))\n",
    "    +geom_boxplot(outlier_size=.1) + theme_classic() + theme(figure_size=(4, 2.5))\n",
    "    + scale_y_log10(limits = (5e-6, .5)) + ylab(\"    Mean Attribution\\n(Promoter/gene body)\") \n",
    "    + theme(axis_title_x=element_blank())\n",
    "    +theme(axis_text_x=element_text(rotation=30, hjust=1))\n",
    ")"
   ]
  },
  {
   "cell_type": "code",
   "execution_count": null,
   "id": "12005232-243b-4cdd-b90b-d33bd30828ae",
   "metadata": {},
   "outputs": [],
   "source": [
    "df = genes[['1k (Other)', '1k (CREs)', '1k-10k (Other)', '1k-10k (CREs)',\n",
    "    '10k-100k (Other)', '10k-100k (CREs)', '>=100k (Other)', '>=100k (CREs)']].dropna().copy()\n",
    "df = df.rename(columns = {\n",
    "    '1k (Other)':'<1kb (Other)', '1k (CREs)':'<1kb (CREs)',\n",
    "    '1k-10k (Other)':'1kb-10kb (Other)', '1k-10k (CREs)': '1kb-10kb (CREs)',\n",
    "    '10k-100k (Other)':'10kb-100kb (Other)', '10k-100k (CREs)': '10kb-100kb (CREs)',\n",
    "    '>=100k (Other)':'>=100kb (Other)', '>=100k (CREs)':'>=100kb (CREs)'\n",
    "})\n",
    "print(len(df))\n",
    "df = df.melt()\n",
    "df['Distance'] = [x.split(' ')[0] for x in df.variable]\n",
    "df.loc[df.variable.str.endswith('CREs)'), 'in CRE'] = True\n",
    "df.loc[~df.variable.str.endswith('CREs)'), 'in CRE'] = False\n",
    "df.Distance = pd.Categorical(df.Distance, categories=[\n",
    "    '<1kb', '1kb-10kb', '10kb-100kb', '>=100kb'])"
   ]
  },
  {
   "cell_type": "code",
   "execution_count": null,
   "id": "fc3da42d-ec69-4b04-b1b0-f2359a9f6320",
   "metadata": {},
   "outputs": [],
   "source": [
    "(\n",
    "    ggplot(df, aes(x='Distance', fill='in CRE', y='value'))\n",
    "    +geom_boxplot(outlier_size=.1) + theme_classic() + theme(figure_size=(4.7, 2.2))\n",
    "    + scale_y_log10(limits = (5e-6, .5))\n",
    "    + ylab(\"  Mean Attribution\\n(outside gene body)\") + xlab(\"Distance from gene\")\n",
    "    +theme(axis_text_x=element_text(rotation=30, hjust=.5))\n",
    ")"
   ]
  },
  {
   "cell_type": "code",
   "execution_count": null,
   "id": "c2824751-11ce-4f79-8a9a-975089931d82",
   "metadata": {},
   "outputs": [],
   "source": []
  }
 ],
 "metadata": {
  "kernelspec": {
   "display_name": "Python 3 (ipykernel)",
   "language": "python",
   "name": "python3"
  },
  "language_info": {
   "codemirror_mode": {
    "name": "ipython",
    "version": 3
   },
   "file_extension": ".py",
   "mimetype": "text/x-python",
   "name": "python",
   "nbconvert_exporter": "python",
   "pygments_lexer": "ipython3",
   "version": "3.11.9"
  }
 },
 "nbformat": 4,
 "nbformat_minor": 5
}
