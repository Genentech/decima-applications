{
 "cells": [
  {
   "cell_type": "code",
   "execution_count": null,
   "id": "09da817a-dd9d-4616-9f9a-70703d6f4fac",
   "metadata": {},
   "outputs": [],
   "source": [
    "import pandas as pd\n",
    "import numpy as np\n",
    "import anndata\n",
    "import scanpy as sc\n",
    "import os, sys\n",
    "\n",
    "sys.path.append('/code/decima/src/decima/')\n",
    "import preprocess\n",
    "\n",
    "from plotnine import *\n",
    "%matplotlib inline"
   ]
  },
  {
   "cell_type": "markdown",
   "id": "150dce00-dc83-4137-a2f4-6b8b53561c2b",
   "metadata": {},
   "source": [
    "## Paths"
   ]
  },
  {
   "cell_type": "code",
   "execution_count": null,
   "id": "ea9f7d95-ad0c-4cc9-8423-c93635f763a8",
   "metadata": {},
   "outputs": [],
   "source": [
    "save_dir=\"/gstore/data/resbioai/grelu/decima/20240823\"\n",
    "matrix_file = os.path.join(save_dir, \"processed_pseudobulks/combined_inner.h5ad\")"
   ]
  },
  {
   "cell_type": "markdown",
   "id": "b937f68d-c967-4884-8f2e-db2f70750116",
   "metadata": {},
   "source": [
    "## Load count matrix"
   ]
  },
  {
   "cell_type": "code",
   "execution_count": null,
   "id": "f0e176e9-9210-48e0-8739-670a33539414",
   "metadata": {},
   "outputs": [],
   "source": [
    "ad = anndata.read_h5ad(matrix_file)\n",
    "print(ad.shape)"
   ]
  },
  {
   "cell_type": "markdown",
   "id": "2cb25778-99ab-4bed-ace5-1da9eb21b55e",
   "metadata": {},
   "source": [
    "## Check NaNs"
   ]
  },
  {
   "cell_type": "code",
   "execution_count": null,
   "id": "7e06ec75-5e41-4cee-a084-de11a69aee1b",
   "metadata": {},
   "outputs": [],
   "source": [
    "ad.var['frac_nan'] = np.isnan(ad.X).mean(0)"
   ]
  },
  {
   "cell_type": "code",
   "execution_count": null,
   "id": "3bc1ab99-d0c7-43bc-9ae4-87264e7673a4",
   "metadata": {},
   "outputs": [],
   "source": [
    "print(ad.shape)\n",
    "ad = ad[:, ad.var.frac_nan < .33]\n",
    "print(ad.shape)"
   ]
  },
  {
   "cell_type": "code",
   "execution_count": null,
   "id": "3834195a-0d21-4d4a-821e-e1de42b46729",
   "metadata": {},
   "outputs": [],
   "source": [
    "ad.obs['frac_nan'] = np.isnan(ad.X).mean(1)"
   ]
  },
  {
   "cell_type": "code",
   "execution_count": null,
   "id": "ffc1fb41-b027-401f-9d34-9fc7ea2155b0",
   "metadata": {},
   "outputs": [],
   "source": [
    "print(ad.shape)\n",
    "ad = ad[ad.obs.frac_nan < .25]\n",
    "print(ad.shape)"
   ]
  },
  {
   "cell_type": "code",
   "execution_count": null,
   "id": "02518e18-0079-4057-bb16-ed3b3b92eca2",
   "metadata": {},
   "outputs": [],
   "source": [
    "ad.X = np.nan_to_num(ad.X)"
   ]
  },
  {
   "cell_type": "markdown",
   "id": "70e1a91d-27f3-4a19-a802-aa8290c2f2b3",
   "metadata": {},
   "source": [
    "## Aggregate"
   ]
  },
  {
   "cell_type": "code",
   "execution_count": null,
   "id": "017afd87-4ed9-46c7-91f5-3ccbc22e2b59",
   "metadata": {
    "scrolled": true
   },
   "outputs": [],
   "source": [
    "%%time\n",
    "ad = preprocess.aggregate_anndata(ad)\n",
    "print(ad.shape)"
   ]
  },
  {
   "cell_type": "code",
   "execution_count": null,
   "id": "6f2ccdfa-9e36-4d91-b21f-8cd4c9becb11",
   "metadata": {},
   "outputs": [],
   "source": [
    "ad.obs.loc[ad.obs.dataset!=\"skin_atlas\", 'celltype_coarse'] = None"
   ]
  },
  {
   "cell_type": "markdown",
   "id": "cb8761bc-b202-4aef-a21b-6031a1c17e39",
   "metadata": {},
   "source": [
    "## Calculate per-track statistics"
   ]
  },
  {
   "cell_type": "code",
   "execution_count": null,
   "id": "c64e9005-d28d-428a-a45d-9e1127a16181",
   "metadata": {},
   "outputs": [],
   "source": [
    "ad.obs['total_counts'] = ad.X.sum(1)\n",
    "ad.obs['n_genes'] = np.sum(ad.X > 0, axis=1)"
   ]
  },
  {
   "cell_type": "markdown",
   "id": "7e726799-ca2b-476f-950c-9b0cc7075d87",
   "metadata": {},
   "source": [
    "## Drop extremely low quality tracks"
   ]
  },
  {
   "cell_type": "code",
   "execution_count": null,
   "id": "26e92fa2-063f-48bf-9be7-209806218d82",
   "metadata": {},
   "outputs": [],
   "source": [
    "## Calculate low thresholds for genes, cells and total counts\n",
    "for col in [\"n_genes\", \"n_cells\", \"total_counts\"]:\n",
    "    print(col)\n",
    "    for quantile in [.1, .2]:\n",
    "        print(quantile, np.quantile(ad.obs[col], quantile))\n",
    "    print(\"\")"
   ]
  },
  {
   "cell_type": "code",
   "execution_count": null,
   "id": "76e78886-e75d-4f15-8340-15fb2093a9f7",
   "metadata": {},
   "outputs": [],
   "source": [
    "drop = (ad.obs.n_cells < 50) & (ad.obs.n_genes < 7670) & (ad.obs.total_counts < 76505)\n",
    "ad = ad[~drop]\n",
    "ad.shape"
   ]
  },
  {
   "cell_type": "markdown",
   "id": "85b4aaa4-ac95-4ff9-88bb-f37276614d17",
   "metadata": {},
   "source": [
    "## Normalize data"
   ]
  },
  {
   "cell_type": "code",
   "execution_count": null,
   "id": "0e02f5be-65a9-4605-8d7a-9289f4be94c5",
   "metadata": {},
   "outputs": [],
   "source": [
    "ad.layers['counts'] = ad.X.copy()"
   ]
  },
  {
   "cell_type": "code",
   "execution_count": null,
   "id": "8f536c93-5a8d-418b-80dc-d10958c1d53a",
   "metadata": {},
   "outputs": [],
   "source": [
    "sc.pp.normalize_total(ad, target_sum=1e6)"
   ]
  },
  {
   "cell_type": "code",
   "execution_count": null,
   "id": "953787c3-39a8-480f-9c7b-6be9e06120b8",
   "metadata": {},
   "outputs": [],
   "source": [
    "ad.layers['norm'] = ad.X.copy()"
   ]
  },
  {
   "cell_type": "code",
   "execution_count": null,
   "id": "56959d39-dc5a-4145-8e15-4ccfd37b73fb",
   "metadata": {},
   "outputs": [],
   "source": [
    "sc.pp.log1p(ad)"
   ]
  },
  {
   "cell_type": "markdown",
   "id": "5ff0defa-775d-4972-b293-2dcc5c0bcd7f",
   "metadata": {},
   "source": [
    "## Calculate reintroduced size factor"
   ]
  },
  {
   "cell_type": "code",
   "execution_count": null,
   "id": "7f554917-3266-4149-b5bc-28dfbcd93111",
   "metadata": {},
   "outputs": [],
   "source": [
    "ad.obs['size_factor'] = ad.X.sum(1)"
   ]
  },
  {
   "cell_type": "code",
   "execution_count": null,
   "id": "ebcd1603-d467-408a-88d5-c7ad66f99919",
   "metadata": {},
   "outputs": [],
   "source": [
    "(\n",
    "    ggplot(ad.obs, aes(x=\"size_factor\")) + geom_density() + theme(figure_size=(5, 2))\n",
    ")"
   ]
  },
  {
   "cell_type": "markdown",
   "id": "f537c6a4-0ff7-4b19-958e-901bcac7cbe8",
   "metadata": {},
   "source": [
    "## Add per-gene statistics"
   ]
  },
  {
   "cell_type": "code",
   "execution_count": null,
   "id": "11e40a34-b630-44b0-9f74-26515db3c313",
   "metadata": {},
   "outputs": [],
   "source": [
    "ad.var['mean_counts'] = ad.X.mean(0)\n",
    "ad.var['n_tracks'] = np.sum(ad.X > 0, axis=0)"
   ]
  },
  {
   "cell_type": "markdown",
   "id": "69bc6ea4-42d5-42f8-8007-7ab76e58ee11",
   "metadata": {},
   "source": [
    "## z-score"
   ]
  },
  {
   "cell_type": "code",
   "execution_count": null,
   "id": "7572cf64-c58f-4960-8f8b-5c779450f199",
   "metadata": {},
   "outputs": [],
   "source": [
    "ad_scaled = sc.pp.scale(ad, copy=True)\n",
    "ad.layers['scaled'] = ad_scaled.X.copy()\n",
    "del ad_scaled"
   ]
  },
  {
   "cell_type": "markdown",
   "id": "499ce862-f839-4714-8533-987319297c13",
   "metadata": {},
   "source": [
    "## Count number of tuples"
   ]
  },
  {
   "cell_type": "code",
   "execution_count": null,
   "id": "1714b260-868e-4092-9b3d-9ca552c1c9b8",
   "metadata": {},
   "outputs": [],
   "source": [
    "for col in ['dataset', 'study', 'cell_type', 'tissue', 'disease']:\n",
    "    print(col)\n",
    "    print(len(ad.obs[col].unique()))"
   ]
  },
  {
   "cell_type": "code",
   "execution_count": null,
   "id": "1eda46e9-75b0-4e1b-849b-03082cb39b40",
   "metadata": {},
   "outputs": [],
   "source": [
    "print(len(ad.obs[['cell_type', 'tissue', 'disease', 'study']].drop_duplicates()))\n",
    "print(len(ad.obs[['cell_type', 'tissue', 'disease']].drop_duplicates()))\n",
    "print(len(ad.obs[['cell_type', 'tissue']].drop_duplicates()))"
   ]
  },
  {
   "cell_type": "markdown",
   "id": "52da0fac-0f8c-4769-b5ee-e45fca66d470",
   "metadata": {},
   "source": [
    "## Save"
   ]
  },
  {
   "cell_type": "code",
   "execution_count": null,
   "id": "d489cda1-6439-4354-8525-adcf8630471d",
   "metadata": {},
   "outputs": [],
   "source": [
    "out_file = os.path.join(save_dir, \"aggregated.h5ad\")\n",
    "#ad.write_h5ad(out_file)\n",
    "#ad = sc.read_h5ad(out_file)"
   ]
  },
  {
   "cell_type": "code",
   "execution_count": null,
   "id": "30c9828a-5a4f-4350-8c49-0881b8e84820",
   "metadata": {},
   "outputs": [],
   "source": []
  }
 ],
 "metadata": {
  "kernelspec": {
   "display_name": "Python 3 (ipykernel)",
   "language": "python",
   "name": "python3"
  },
  "language_info": {
   "codemirror_mode": {
    "name": "ipython",
    "version": 3
   },
   "file_extension": ".py",
   "mimetype": "text/x-python",
   "name": "python",
   "nbconvert_exporter": "python",
   "pygments_lexer": "ipython3",
   "version": "3.11.9"
  }
 },
 "nbformat": 4,
 "nbformat_minor": 5
}
