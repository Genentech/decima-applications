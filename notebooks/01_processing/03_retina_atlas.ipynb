{
 "cells": [
  {
   "cell_type": "code",
   "execution_count": 1,
   "id": "d2c409c1-c839-4b6c-9fb8-ef4b17ea30cb",
   "metadata": {},
   "outputs": [],
   "source": [
    "import anndata\n",
    "import numpy as np\n",
    "import pandas as pd\n",
    "\n",
    "import os\n",
    "import sys\n",
    "sys.path.append('/code/decima/src/decima/')\n",
    "\n",
    "import preprocess\n",
    "import resources"
   ]
  },
  {
   "cell_type": "markdown",
   "id": "9accc304-8388-44d2-b8de-687713ac1105",
   "metadata": {},
   "source": [
    "## Paths"
   ]
  },
  {
   "cell_type": "code",
   "execution_count": 2,
   "id": "2a7a3bc0-1703-4562-acbf-fe73db1fae44",
   "metadata": {},
   "outputs": [],
   "source": [
    "matrix_file = '/gstore/data/resbioai/grelu/decima/pseudobulks/retina-snrna-seq-atlas.h5ad'\n",
    "save_dir=\"/gstore/data/resbioai/grelu/decima/20240823/processed_pseudobulks\""
   ]
  },
  {
   "cell_type": "markdown",
   "id": "b3c100f9-fedf-4e00-983d-4b145b0eefbb",
   "metadata": {},
   "source": [
    "## Load"
   ]
  },
  {
   "cell_type": "code",
   "execution_count": 3,
   "id": "785f8e0b-1d25-475c-ad28-65baacae4b39",
   "metadata": {},
   "outputs": [],
   "source": [
    "ad = anndata.read_h5ad(matrix_file)"
   ]
  },
  {
   "cell_type": "markdown",
   "id": "66d1378c-7f6f-4096-8a36-402d005cc079",
   "metadata": {},
   "source": [
    "## Process .obs"
   ]
  },
  {
   "cell_type": "code",
   "execution_count": 8,
   "id": "95da7ed4-b3a7-4615-a5e1-5a595d25b156",
   "metadata": {},
   "outputs": [],
   "source": [
    "ad.obs = ad.obs.rename(columns={\n",
    "    'sample_uuid':'sample',\n",
    "    'study_name':'study'\n",
    "})"
   ]
  },
  {
   "cell_type": "code",
   "execution_count": 9,
   "id": "71c36db9-1191-4b63-82eb-bfbf6edf8956",
   "metadata": {},
   "outputs": [],
   "source": [
    "ad.obs = preprocess.change_values(\n",
    "    ad.obs, col='cell_type', value_dict={\n",
    "        'astrocyte':'Astrocyte', 'microglial cell':'Microglia',\n",
    "    })"
   ]
  },
  {
   "cell_type": "code",
   "execution_count": 10,
   "id": "3fb0a895-59fd-44fa-afbd-d350b4ad2d56",
   "metadata": {},
   "outputs": [],
   "source": [
    "ad.obs['disease'] = \"healthy\"\n",
    "ad.obs['organ'] = \"retina\""
   ]
  },
  {
   "cell_type": "markdown",
   "id": "675d4888-8df2-459f-8e3d-ceef09042992",
   "metadata": {},
   "source": [
    "## Save"
   ]
  },
  {
   "cell_type": "code",
   "execution_count": 12,
   "id": "1443677b-254e-45c3-a90c-34bf8545f68d",
   "metadata": {},
   "outputs": [
    {
     "name": "stderr",
     "output_type": "stream",
     "text": [
      "... storing 'cell_type' as categorical\n",
      "... storing 'disease' as categorical\n",
      "... storing 'organ' as categorical\n"
     ]
    }
   ],
   "source": [
    "ad.write_h5ad(os.path.join(save_dir, \"retina_processed.h5ad\"))"
   ]
  },
  {
   "cell_type": "code",
   "execution_count": null,
   "id": "28938a6b-c309-44c3-a189-d31c6195f849",
   "metadata": {},
   "outputs": [],
   "source": []
  }
 ],
 "metadata": {
  "kernelspec": {
   "display_name": "Python 3 (ipykernel)",
   "language": "python",
   "name": "python3"
  },
  "language_info": {
   "codemirror_mode": {
    "name": "ipython",
    "version": 3
   },
   "file_extension": ".py",
   "mimetype": "text/x-python",
   "name": "python",
   "nbconvert_exporter": "python",
   "pygments_lexer": "ipython3",
   "version": "3.11.9"
  }
 },
 "nbformat": 4,
 "nbformat_minor": 5
}
