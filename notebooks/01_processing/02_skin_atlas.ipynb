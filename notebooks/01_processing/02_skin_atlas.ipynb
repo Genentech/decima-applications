{
 "cells": [
  {
   "cell_type": "code",
   "execution_count": null,
   "id": "9db68b31-4ff3-495b-8e1d-4de44459b663",
   "metadata": {},
   "outputs": [],
   "source": [
    "import anndata\n",
    "import numpy as np\n",
    "import pandas as pd\n",
    "from tqdm import tqdm\n",
    "\n",
    "import os\n",
    "import sys\n",
    "sys.path.append('/code/decima/src/decima/')\n",
    "\n",
    "import preprocess\n",
    "import resources"
   ]
  },
  {
   "cell_type": "markdown",
   "id": "6c0dbe4e-594a-4c50-aec3-ca430b4c090a",
   "metadata": {},
   "source": [
    "## Paths"
   ]
  },
  {
   "cell_type": "code",
   "execution_count": null,
   "id": "b567650b-ba43-4779-95a0-9788df032c63",
   "metadata": {},
   "outputs": [],
   "source": [
    "matrix_file = \"/gstore/data/resbioai/grelu/decima/pseudobulks/skin-pseudobulk.h5ad\"\n",
    "save_dir=\"/gstore/data/resbioai/grelu/decima/20240823/processed_pseudobulks\""
   ]
  },
  {
   "cell_type": "markdown",
   "id": "8eab3072-1cde-4a9f-90f4-803a580c5aaf",
   "metadata": {},
   "source": [
    "## Load"
   ]
  },
  {
   "cell_type": "code",
   "execution_count": null,
   "id": "82730157-819f-419c-adeb-df947d0f3c52",
   "metadata": {},
   "outputs": [],
   "source": [
    "ad = anndata.read_h5ad(matrix_file)\n",
    "ad.obs.index = ad.obs.index.astype(str)\n",
    "ad.obs_names_make_unique()\n",
    "\n",
    "print(ad.shape)\n",
    "display(ad.obs.head(1))\n",
    "display(ad.var.head(1))"
   ]
  },
  {
   "cell_type": "markdown",
   "id": "dbee0988-9262-4ed8-9c05-a7a93434bb71",
   "metadata": {},
   "source": [
    "## Process .obs"
   ]
  },
  {
   "cell_type": "code",
   "execution_count": null,
   "id": "4121490c-c691-4b32-956a-37abf57fffd5",
   "metadata": {},
   "outputs": [],
   "source": [
    "ad.obs = ad.obs.drop(columns='study_ID')\n",
    "ad.obs = ad.obs.rename(columns = {'sample_ID':'sample', 'disease_status':'disease', 'study_accession':'study',\n",
    "       'celltype_granular': 'cell_type'})"
   ]
  },
  {
   "cell_type": "code",
   "execution_count": null,
   "id": "0fc12f8b-04b5-4b57-9c42-32c9ab0666eb",
   "metadata": {},
   "outputs": [],
   "source": [
    "ad.obs['tissue'] = 'skin'\n",
    "ad.obs['organ'] = 'skin'"
   ]
  },
  {
   "cell_type": "code",
   "execution_count": null,
   "id": "83d29743-cb82-470e-bde9-b148a5842f17",
   "metadata": {},
   "outputs": [],
   "source": [
    "# Match cell type terms to scimilarity\n",
    "disease_dict = {'Healthy':'healthy'}\n",
    "ad.obs = preprocess.change_values(ad.obs, col='disease', value_dict=disease_dict)"
   ]
  },
  {
   "cell_type": "markdown",
   "id": "52958fa8-479b-4f8a-be01-a6c7c34c4ad0",
   "metadata": {},
   "source": [
    "## Save"
   ]
  },
  {
   "cell_type": "code",
   "execution_count": null,
   "id": "fa9fa67e-693a-4aa9-a3e4-9fd2c0723fd5",
   "metadata": {},
   "outputs": [],
   "source": [
    "ad.write_h5ad(os.path.join(save_dir, \"skin_processed.h5ad\"))"
   ]
  },
  {
   "cell_type": "code",
   "execution_count": null,
   "id": "0448f625-64e9-40d7-943c-8c014e9d7291",
   "metadata": {},
   "outputs": [],
   "source": []
  }
 ],
 "metadata": {
  "kernelspec": {
   "display_name": "Python 3 (ipykernel)",
   "language": "python",
   "name": "python3"
  },
  "language_info": {
   "codemirror_mode": {
    "name": "ipython",
    "version": 3
   },
   "file_extension": ".py",
   "mimetype": "text/x-python",
   "name": "python",
   "nbconvert_exporter": "python",
   "pygments_lexer": "ipython3",
   "version": "3.11.9"
  }
 },
 "nbformat": 4,
 "nbformat_minor": 5
}
