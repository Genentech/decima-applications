{
 "cells": [
  {
   "cell_type": "markdown",
   "id": "ba09b0e1-6ae1-4f72-ba44-0fd8b1aa5514",
   "metadata": {},
   "source": [
    "# Process scimilarity dataset"
   ]
  },
  {
   "cell_type": "code",
   "execution_count": null,
   "id": "5351a021-f8e8-496d-815c-1edf6482a1b3",
   "metadata": {},
   "outputs": [],
   "source": [
    "import anndata\n",
    "import numpy as np\n",
    "import pandas as pd\n",
    "from tqdm import tqdm\n",
    "\n",
    "import os\n",
    "import sys\n",
    "sys.path.append('/code/decima/src/decima/')\n",
    "sys.path.append('.')\n",
    "\n",
    "import preprocess\n",
    "import scimilarity"
   ]
  },
  {
   "cell_type": "markdown",
   "id": "77db66e0-d8f1-4fd1-9cf7-c93244d3c757",
   "metadata": {},
   "source": [
    "## Paths"
   ]
  },
  {
   "cell_type": "code",
   "execution_count": null,
   "id": "aff056af-bd27-4ae0-bfa8-52c3d03546e4",
   "metadata": {},
   "outputs": [],
   "source": [
    "scimilarity_file = \"/gstore/data/omni/scdb/models/human/model_2023_04_rep0/genesearch/pseudobulk.h5ad\"\n",
    "save_dir=\"/gstore/data/resbioai/grelu/decima/20240823/processed_pseudobulks\""
   ]
  },
  {
   "cell_type": "markdown",
   "id": "3a2ced58-dc83-402c-a73d-8daefe67e8c4",
   "metadata": {},
   "source": [
    "## Load count matrix"
   ]
  },
  {
   "cell_type": "code",
   "execution_count": null,
   "id": "1d74bc6d-fd40-4234-9331-bc17e49e771e",
   "metadata": {},
   "outputs": [],
   "source": [
    "ad = anndata.read_h5ad(scimilarity_file)\n",
    "ad.X = ad.layers['counts']\n",
    "ad.obs.index = ad.obs.index.astype(str)\n",
    "ad.obs_names_make_unique()\n",
    "\n",
    "print(ad.shape)\n",
    "display(ad.obs.head(1))\n",
    "display(ad.var.head(1))"
   ]
  },
  {
   "cell_type": "markdown",
   "id": "63d5bdb0-cc7a-45ae-b2d2-7c57f84403dd",
   "metadata": {},
   "source": [
    "## Process .obs"
   ]
  },
  {
   "cell_type": "markdown",
   "id": "0b4ed6c7-868c-48f8-9097-71791b7ff1cf",
   "metadata": {},
   "source": [
    "### Column names"
   ]
  },
  {
   "cell_type": "code",
   "execution_count": null,
   "id": "7d5db1bf-ab88-41a2-83cb-52f4f092cfa9",
   "metadata": {},
   "outputs": [],
   "source": [
    "ad.obs = ad.obs.rename(columns={'prediction':'cell_type', 'cells': 'n_cells'})\n",
    "ad.obs = ad.obs.drop(columns='data_type')\n",
    "ad.obs = ad.obs.astype({'study':'str', 'sample':'str', 'cell_type':'str', 'tissue':'str', 'disease':'str',\n",
    "       'in_vitro':'str', 'in_vivo':'str', 'ex_vivo':'str', 'organoid':'str', 'cell_line':'str', 'n_cells':'int'})"
   ]
  },
  {
   "cell_type": "markdown",
   "id": "ee58180a-5f8a-42bc-a75c-47390f1e2a78",
   "metadata": {},
   "source": [
    "### Drop cancers"
   ]
  },
  {
   "cell_type": "code",
   "execution_count": null,
   "id": "2ac80503-7e26-40ae-8e2d-ec1728d01bd3",
   "metadata": {},
   "outputs": [],
   "source": [
    "print(ad.shape)\n",
    "cancers = [x for x in ad.obs.disease.unique() if(('oma' in x) or ('tumor' in x) or ('cancer' in x) or ('leukemia' in x))]\n",
    "ad = ad[~ad.obs.disease.isin(cancers), :].copy()\n",
    "print(ad.shape)"
   ]
  },
  {
   "cell_type": "markdown",
   "id": "ee9949f0-8927-4fd6-9f89-d1801c47c8e8",
   "metadata": {},
   "source": [
    "### Drop cell lines, organoids and unannotated"
   ]
  },
  {
   "cell_type": "code",
   "execution_count": null,
   "id": "93f61652-d793-4ca9-b36a-2ffa0a5a43d9",
   "metadata": {},
   "outputs": [],
   "source": [
    "print(ad.shape)\n",
    "ad = ad[ad.obs.cell_line!='True']\n",
    "print(ad.shape)\n",
    "\n",
    "ad = ad[ad.obs.organoid!=\"True\"]\n",
    "print(ad.shape)\n",
    "\n",
    "ad = ad[ad.obs.tissue!=\"NA\"]\n",
    "print(ad.shape)"
   ]
  },
  {
   "cell_type": "code",
   "execution_count": null,
   "id": "3a8dec85-4f9a-4049-8291-e219e43e4394",
   "metadata": {},
   "outputs": [],
   "source": [
    "ad.obs = ad.obs.drop(columns=['cell_line', 'organoid'])"
   ]
  },
  {
   "cell_type": "markdown",
   "id": "ed55652a-49c3-4fe9-a8b0-fe344263b377",
   "metadata": {},
   "source": [
    "### Drop fetal cells"
   ]
  },
  {
   "cell_type": "code",
   "execution_count": null,
   "id": "aec702d3-0aa1-41f3-89d1-e9a5b35f6daa",
   "metadata": {},
   "outputs": [],
   "source": [
    "fetal_terms = ['blastocyst', 'embryo', 'amniotic fluid', 'yolk sac', 'placenta', 'umbilical cord blood']\n",
    "\n",
    "print(ad.shape)\n",
    "ad = ad[~ad.obs.tissue.isin(fetal_terms)]\n",
    "print(ad.shape)"
   ]
  },
  {
   "cell_type": "markdown",
   "id": "354ce02c-4f0f-4f2c-a846-bdb1e02ad198",
   "metadata": {},
   "source": [
    "### Drop brain related terms"
   ]
  },
  {
   "cell_type": "code",
   "execution_count": null,
   "id": "67ad236e-d698-41be-82dd-69f1d6fe874a",
   "metadata": {},
   "outputs": [],
   "source": [
    "print(ad.shape)\n",
    "\n",
    "ad = ad[~ad.obs.tissue.isin(scimilarity.scimilarity_brain_tissues)]\n",
    "print(ad.shape)\n",
    "\n",
    "ad = ad[~(ad.obs.cell_type.isin(scimilarity.scimilarity_brain_cts))]\n",
    "print(ad.shape)"
   ]
  },
  {
   "cell_type": "markdown",
   "id": "624fa1ba-f8c0-4c08-9589-06d42dd90a12",
   "metadata": {},
   "source": [
    "### Drop skin related terms"
   ]
  },
  {
   "cell_type": "code",
   "execution_count": null,
   "id": "f829879e-8f71-419f-8cb4-989f2543b4fc",
   "metadata": {},
   "outputs": [],
   "source": [
    "print(ad.shape)\n",
    "ad = ad[~ad.obs.tissue.isin(['skin epidermis', 'skin of body', 'skin of leg', 'skin of prepuce of penis', 'zone of skin', 'scrotum skin'])]\n",
    "\n",
    "print(ad.shape)\n",
    "ad = ad[~ad.obs.cell_type.isin(['keratinocyte', 'melanocyte'])]\n",
    "print(ad.shape)"
   ]
  },
  {
   "cell_type": "markdown",
   "id": "301b4ade-1e5c-4179-87a1-ffba257c8323",
   "metadata": {},
   "source": [
    "### Drop retinal terms"
   ]
  },
  {
   "cell_type": "code",
   "execution_count": null,
   "id": "cf42a546-31b8-416f-8d77-88d09aadd851",
   "metadata": {},
   "outputs": [],
   "source": [
    "print(ad.shape)\n",
    "ad = ad[~ad.obs.tissue.isin([\n",
    "    'eye', 'corneal epithelium', 'fovea centralis', 'sclera', 'lacrimal gland', 'pigment epithelium of eye', 'retina', 'macula lutea proper', 'peripheral region of retina'\n",
    "])]\n",
    "print(ad.shape)"
   ]
  },
  {
   "cell_type": "markdown",
   "id": "ea08cd33-f577-4a82-bd9a-4808a426bc19",
   "metadata": {},
   "source": [
    "### Fix disease annotations"
   ]
  },
  {
   "cell_type": "code",
   "execution_count": null,
   "id": "2b07524b-e7ec-4de7-90da-2fab438d5b36",
   "metadata": {},
   "outputs": [],
   "source": [
    "disease_dict = {\n",
    "    'COVID-19;healthy':'COVID-19',\n",
    "    'type 2 diabetes mellitus':'type II diabetes mellitus',\n",
    "}\n",
    "ad.obs = preprocess.change_values(ad.obs, col='disease', value_dict=disease_dict)"
   ]
  },
  {
   "cell_type": "markdown",
   "id": "60054fcb-9e28-4a45-9ea8-c0f7c0aaed14",
   "metadata": {},
   "source": [
    "### Fix tissue annotations"
   ]
  },
  {
   "cell_type": "code",
   "execution_count": null,
   "id": "3949e6be-0f6c-4c67-b59f-5938908eb263",
   "metadata": {},
   "outputs": [],
   "source": [
    "tissue_dict = {\n",
    "    'adult mammalian kidney':'kidney', \n",
    "    'upper outer quadrant of breast':'breast',\n",
    "    'venous blood':'blood',\n",
    "    'bone tissue':'bone',\n",
    "    'left colon':'descending colon',\n",
    "    'right colon':'ascending colon',\n",
    "}\n",
    "\n",
    "ad.obs = preprocess.change_values(ad.obs, col=\"tissue\", value_dict=tissue_dict)"
   ]
  },
  {
   "cell_type": "markdown",
   "id": "c2b34956-f0b8-4b91-b942-f9c714991543",
   "metadata": {},
   "source": [
    "### Remove cells that don't make sense"
   ]
  },
  {
   "cell_type": "code",
   "execution_count": null,
   "id": "ed3c0218-b46b-4e58-a31c-8e5853fac9ec",
   "metadata": {},
   "outputs": [],
   "source": [
    "print(ad.shape)\n",
    "ad = ad[~ad.obs.cell_type.isin(['erythrocyte', 'neutrophil']), :]\n",
    "print(ad.shape)"
   ]
  },
  {
   "cell_type": "markdown",
   "id": "03842250-c136-4035-b8c3-1dfe07100024",
   "metadata": {},
   "source": [
    "### Drop mislabeled cells"
   ]
  },
  {
   "cell_type": "code",
   "execution_count": null,
   "id": "bb7aed7a-ff22-4307-81eb-ecf046c16e67",
   "metadata": {},
   "outputs": [],
   "source": [
    "drop = {\n",
    "\n",
    "'alveolar macrophage': [\n",
    "    'kidney', 'aorta', 'transverse colon', 'vasculature', 'trachea', 'islet of Langerhans', 'psoas muscle', 'synovial membrane of synovial joint', 'peritoneum', \n",
    "    'thoracic lymph node', 'mucosa of descending colon', 'blood', 'left cardiac atrium', 'adrenal gland', 'cardiac muscle of left ventricle', 'liver', 'descending colon', \n",
    "    'nasopharynx', 'heart left ventricle', 'ovary', 'thymus', 'bronchus', 'interventricular septum', 'tertiary ovarian follicle', 'ureter', 'prostate gland'\n",
    "],\n",
    "\n",
    "'ciliated cell': [\n",
    "    'adrenal gland', 'muscle tissue', 'urothelium', 'lingula of left lung', 'vasculature',    \n",
    "],\n",
    "    \n",
    "'club cell': [\n",
    "    'transition zone of prostate;urethra', 'vasculature', 'fallopian tube', 'islet of Langerhans', 'colonic mucosa', 'epididymis epithelium', 'urinary bladder', 'mucosa of descending colon', \n",
    "    'muscle tissue', 'descending colon', 'ovary', 'colon', 'ureter', 'inferior nasal concha', 'prostate gland'\n",
    "],\n",
    "    \n",
    "'common lymphoid progenitor': [\n",
    "    'nasopharynx', 'adrenal gland', 'intestine', 'kidney', 'ileum', 'digestive tract'\n",
    "],\n",
    "    \n",
    "'endothelial cell of hepatic sinusoid':\t[\n",
    "    'vasculature', 'trachea', 'renal medulla', 'renal papilla', 'spleen', 'mucosa of gallbladder', 'adrenal gland', 'heart left ventricle', 'ovary', 'pancreas'\n",
    "],\n",
    "    \n",
    "'enterocyte': [\n",
    "    'prostate gland', 'transition zone of prostate;urethra', 'vasculature', 'olfactory epithelium', 'urothelium', 'breast', 'islet of Langerhans', 'renal pelvis', 'renal medulla', \n",
    "    'renal papilla', 'respiratory airway', 'epididymis epithelium', 'aorta', 'bile duct', 'exocrine pancreas', 'urinary bladder', 'transition zone of prostate', \n",
    "    'adrenal gland', 'cortex of kidney', 'uterus', 'skin of prepuce of penis', 'kidney', 'nasopharynx', 'ovary', 'thymus', 'kidney blood vessel', 'tertiary ovarian follicle', \n",
    "    'ureter', 'pancreas', 'peripheral zone of prostate', 'inner medulla of kidney', 'testis', 'outer cortex of kidney', 'lung'\n",
    "],\n",
    "    \n",
    "'enteroendocrine cell':\t[\n",
    "    'vasculature', 'epididymis epithelium', 'uterus', 'muscle tissue', 'thymus', 'lung'\n",
    "],\n",
    "    \n",
    "'erythroid lineage cell': [\n",
    "    'transverse colon', 'intestine', 'islet of Langerhans', 'renal medulla', 'renal papilla', 'spleen', 'thoracic lymph node', 'adrenal gland', 'heart', 'cardiac muscle of left ventricle', \n",
    "    'liver', 'cortex of kidney', 'kidney', 'ovary', 'thymus', 'testis', 'ileum', 'lung'\n",
    "],\n",
    "    \n",
    "'goblet cell':\t[\n",
    "    'inferior nasal concha', 'islet of Langerhans', 'pancreas', 'exocrine pancreas', 'fallopian tube', 'uterus', 'vasculature', 'urothelium', 'breast', 'aorta', 'spleen', \n",
    "    'bile duct', 'liver', 'muscle tissue', 'caudate lobe of liver'\n",
    "],\n",
    "    \n",
    "'hematopoietic stem cell':\t[\n",
    "    'thymus', 'respiratory airway', 'vasculature', 'subcutaneous adipose tissue', 'thoracic lymph node'\n",
    "],\n",
    "    \n",
    "'hepatocyte': [\n",
    "    'cardiac ventricle', 'vasculature', 'trachea', 'right cardiac atrium', 'urothelium', 'breast', 'islet of Langerhans', 'colonic mucosa', 'urine', 'respiratory airway', \n",
    "    'apex of heart', 'psoas muscle', 'esophagus muscularis mucosa', 'mucosa of gallbladder', 'upper lobe of right lung', 'bone', 'exocrine pancreas', 'peritoneum', \n",
    "    'mucosa of descending colon', 'blood', 'left cardiac atrium', 'lingula of left lung', 'adrenal gland', 'heart', 'cardiac muscle of left ventricle', 'cortex of kidney', 'gastrocnemius', \n",
    "    'kidney', 'heart left ventricle', 'descending colon', 'ovary', 'respiratory tract epithelium', 'colon', 'thymus', 'interventricular septum', \n",
    "    'tertiary ovarian follicle', 'pancreas', 'heart right ventricle', 'inner medulla of kidney', 'testis', 'prostate gland', 'outer cortex of kidney', 'lung'\n",
    "],\n",
    "\n",
    "'intestinal tuft cell':\t['olfactory epithelium'],\n",
    "'ionocyte':\t['colon', 'vasculature', 'urothelium'],\n",
    "'keratinocyte':\t['kidney', 'vasculature'],\n",
    "    \n",
    "'kidney proximal convoluted tubule epithelial cell': [\n",
    "    'mucosa of descending colon', 'colon', 'adrenal gland', 'vasculature', 'pancreas', 'mucosa of gallbladder', 'testis', 'bile duct', 'descending colon', 'islet of Langerhans', 'ovary'\n",
    "],\n",
    "    \n",
    "'luminal cell of prostate epithelium': [\n",
    "    'adrenal gland', 'kidney', 'right lobe of liver', 'fallopian tube', 'islet of Langerhans', 'colonic mucosa', 'mucosa', 'aorta', 'mucosa of gallbladder', 'bile duct', 'exocrine pancreas', \n",
    "    'mucosa of descending colon', 'liver', 'muscle tissue', 'descending colon', 'ovary', 'colon', 'caudate lobe of liver', 'pancreas'\n",
    "],\n",
    "    \n",
    "'luminal epithelial cell of mammary gland':\t[\n",
    "    'aorta', 'bronchus', 'subcutaneous adipose tissue', 'urothelium', 'islet of Langerhans', 'peritoneum', 'mucosa', 'respiratory airway', 'bone', \n",
    "    'exocrine pancreas', 'urinary bladder', 'adrenal gland', 'uterus', 'respiratory tract epithelium', 'colon', 'pancreas', 'lung'\n",
    "],\n",
    "    \n",
    "'lung secretory cell':\t['nasal turbinal'],\n",
    "'melanocyte':\t[\n",
    "    'thymus', 'heart', 'psoas muscle', 'portion of cartilage tissue in tibia', 'subcutaneous adipose tissue', 'vasculature', 'nasal cavity', 'gastrocnemius'\n",
    "],\n",
    "    \n",
    "'paneth cell':\t['vasculature', 'stomach', 'urinary bladder'],\n",
    "    \n",
    "'parietal epithelial cell':\t['colon', 'adrenal gland', 'testis', 'bone', 'ovary'],\n",
    "\n",
    "'pulmonary ionocyte':\t[\n",
    "    'vasculature', 'fallopian tube', 'colonic mucosa', 'renal medulla', 'renal papilla', 'epididymis epithelium', 'mucosa of descending colon', 'cortex of kidney', 'alveolar system', \n",
    "    'descending colon', 'kidney', 'thymus', 'ureter'\n",
    "],\n",
    "    \n",
    "'respiratory basal cell':\t[\n",
    "    'periodontium', 'vasculature', 'fallopian tube', 'colonic mucosa', 'peritoneum', 'descending colon', 'kidney', \n",
    "    'colon', 'thymus', 'ureter', 'inner medulla of kidney', 'testis', 'prostate gland', 'outer cortex of kidney', 'urinary bladder'\n",
    "],\n",
    "    \n",
    "'type I pneumocyte':\t['left cardiac atrium', 'colon', 'vasculature', 'muscle tissue'],\n",
    "'type II pneumocyte':\t['vasculature', 'inferior nasal concha', 'muscle tissue'],\n",
    "\n",
    "}"
   ]
  },
  {
   "cell_type": "code",
   "execution_count": null,
   "id": "72e2b3c1-e4de-4f38-85ee-12482644ded6",
   "metadata": {},
   "outputs": [],
   "source": [
    "print(ad.shape)\n",
    "for ct, tissues in drop.items():\n",
    "    ad = ad[~((ad.obs.cell_type==ct) & (ad.obs.tissue.isin(tissues)))]\n",
    "print(ad.shape)"
   ]
  },
  {
   "cell_type": "code",
   "execution_count": null,
   "id": "79feb02a-6e04-40d7-94e0-64dc75d81585",
   "metadata": {},
   "outputs": [],
   "source": [
    "ad.obs.groupby('cell_type').tissue.apply(lambda x: set(x)).to_csv('ct_tissue_map.txt', sep='\\t', header=False)"
   ]
  },
  {
   "cell_type": "markdown",
   "id": "3c5da327-77a5-413c-9f57-3c7ba79b617c",
   "metadata": {},
   "source": [
    "### Annotate organ"
   ]
  },
  {
   "cell_type": "code",
   "execution_count": null,
   "id": "9548e7b2-1239-4e5f-93ba-89bf75e4da02",
   "metadata": {},
   "outputs": [],
   "source": [
    "ad.obs['organ'] = ad.obs['tissue'].map(scimilarity.tissue_to_organ)"
   ]
  },
  {
   "cell_type": "markdown",
   "id": "cf89146a-2144-44f7-b9fc-a028ce501ada",
   "metadata": {},
   "source": [
    "## Save"
   ]
  },
  {
   "cell_type": "code",
   "execution_count": null,
   "id": "c180d18d-8bd4-4353-8f52-f1bbd6b3fa57",
   "metadata": {},
   "outputs": [],
   "source": [
    "ad.write_h5ad(os.path.join(save_dir, \"scimilarity_processed.h5ad\"))"
   ]
  }
 ],
 "metadata": {
  "kernelspec": {
   "display_name": "Python 3 (ipykernel)",
   "language": "python",
   "name": "python3"
  },
  "language_info": {
   "codemirror_mode": {
    "name": "ipython",
    "version": 3
   },
   "file_extension": ".py",
   "mimetype": "text/x-python",
   "name": "python",
   "nbconvert_exporter": "python",
   "pygments_lexer": "ipython3",
   "version": "3.11.9"
  }
 },
 "nbformat": 4,
 "nbformat_minor": 5
}
