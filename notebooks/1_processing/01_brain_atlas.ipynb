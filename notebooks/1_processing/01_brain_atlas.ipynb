{
 "cells": [
  {
   "cell_type": "code",
   "execution_count": null,
   "id": "65a46f6e-a03a-48dc-8951-d2ca241310ed",
   "metadata": {},
   "outputs": [],
   "source": [
    "import anndata\n",
    "import numpy as np\n",
    "import pandas as pd\n",
    "from tqdm import tqdm\n",
    "\n",
    "import os\n",
    "import sys\n",
    "sys.path.append('/code/decima/src/decima/')\n",
    "\n",
    "import preprocess\n",
    "import resources"
   ]
  },
  {
   "cell_type": "markdown",
   "id": "4438a9b3-4d27-4f63-9255-792f3e6b1fc1",
   "metadata": {},
   "source": [
    "## Paths"
   ]
  },
  {
   "cell_type": "code",
   "execution_count": null,
   "id": "f6624cca-b2f4-4243-a74c-7683992a87e5",
   "metadata": {},
   "outputs": [],
   "source": [
    "matrix_file='/gstore/data/resbioai/grelu/decima/pseudobulks/bca_pseudobulk.h5ad'\n",
    "save_dir=\"/gstore/data/resbioai/grelu/decima/20240823/processed_pseudobulks\""
   ]
  },
  {
   "cell_type": "markdown",
   "id": "641c3c81-4d76-49b2-a8ea-9dee7b8f3bd8",
   "metadata": {},
   "source": [
    "## Load"
   ]
  },
  {
   "cell_type": "code",
   "execution_count": null,
   "id": "8068e31b-84d4-4def-a28d-e93d857e27d8",
   "metadata": {},
   "outputs": [],
   "source": [
    "ad = anndata.read_h5ad(matrix_file)"
   ]
  },
  {
   "cell_type": "code",
   "execution_count": null,
   "id": "75c39654-2cd3-4627-b814-9d22baaf6ec0",
   "metadata": {},
   "outputs": [],
   "source": [
    "ad.obs.index = ad.obs.index.astype(str)\n",
    "ad.obs_names_make_unique()\n",
    "\n",
    "print(ad.shape)\n",
    "display(ad.obs.head(1))\n",
    "display(ad.var.head(1))"
   ]
  },
  {
   "cell_type": "markdown",
   "id": "7042fb59-fc2b-40fb-bbcb-531da67cdf3b",
   "metadata": {},
   "source": [
    "## Process .obs"
   ]
  },
  {
   "cell_type": "code",
   "execution_count": null,
   "id": "84fcbbb7-6b38-4409-8826-e7f65c989126",
   "metadata": {},
   "outputs": [],
   "source": [
    "ad.obs = ad.obs[['project_code', 'sample_ID', 'cell_type', 'sample_status', 'treatment', 'n_cells', 'region', 'subregion']]"
   ]
  },
  {
   "cell_type": "code",
   "execution_count": null,
   "id": "dad334c1-d8ea-4b58-9fcc-7818d7266cce",
   "metadata": {},
   "outputs": [],
   "source": [
    "ad.obs = ad.obs.rename(columns={'project_code':'study', 'sample_ID':'sample', 'sample_status':'disease'})"
   ]
  },
  {
   "cell_type": "code",
   "execution_count": null,
   "id": "6f5f90f5-9d67-4f9c-b4ac-7e0838119615",
   "metadata": {},
   "outputs": [],
   "source": [
    "ad.obs['tissue'] = ad.obs['region'].astype(str) + '_' + ad.obs['subregion'].astype(str)"
   ]
  },
  {
   "cell_type": "code",
   "execution_count": null,
   "id": "3937eee2-2765-45e4-9d1c-5ac4416a245c",
   "metadata": {},
   "outputs": [],
   "source": [
    "# Remove unannotated cells and artifacts\n",
    "\n",
    "print(ad.shape)\n",
    "ad = ad[~ad.obs.cell_type.isin(['unannoted'])]\n",
    "print(ad.shape)"
   ]
  },
  {
   "cell_type": "code",
   "execution_count": null,
   "id": "f94b77ad-5879-4ec8-acf6-449b472c8f62",
   "metadata": {},
   "outputs": [],
   "source": [
    "# Drop cancers\n",
    "print(ad.shape)\n",
    "ad = ad[ad.obs.region!=\"Tumour\", :]\n",
    "print(ad.shape)"
   ]
  },
  {
   "cell_type": "code",
   "execution_count": null,
   "id": "5e43aae1-971b-4550-bfa8-a42382b99c3b",
   "metadata": {},
   "outputs": [],
   "source": [
    "# Match cell type terms to scimilarity\n",
    "br_sc_cell_type_dict = {\n",
    "    'Fibroblast':'fibroblast'\n",
    "}\n",
    "\n",
    "ad.obs = preprocess.change_values(ad.obs, col='cell_type', value_dict=br_sc_cell_type_dict)"
   ]
  },
  {
   "cell_type": "code",
   "execution_count": null,
   "id": "3a924f43-eb7b-42b2-9f21-ce63c5fb36e6",
   "metadata": {},
   "outputs": [],
   "source": [
    "# Match cell type terms to scimilarity\n",
    "br_disease_dict = {\n",
    "    \"Alzheimer disease\":\"Alzheimer's disease\",\n",
    "    \"Alzheimer’s disease\":\"Alzheimer's disease\",\n",
    "    'Multiple sclerosis':'multiple sclerosis',\n",
    "    'Healthy':'healthy',\n",
    "}\n",
    "\n",
    "ad.obs = preprocess.change_values(ad.obs, col='disease', value_dict=br_disease_dict)"
   ]
  },
  {
   "cell_type": "code",
   "execution_count": null,
   "id": "f0752ec3-09cf-4413-84f7-95e47236c457",
   "metadata": {},
   "outputs": [],
   "source": [
    "ad.obs['organ'] = 'CNS'"
   ]
  },
  {
   "cell_type": "code",
   "execution_count": null,
   "id": "63728238-23e0-42f5-8c0c-81fde4c0c9c9",
   "metadata": {},
   "outputs": [],
   "source": [
    "ad.obs.disease = ad.obs.disease.astype(str)\n",
    "ad.obs.treatment = ad.obs.treatment.astype(str)"
   ]
  },
  {
   "cell_type": "code",
   "execution_count": null,
   "id": "fef4afd1-9d0f-4138-8fac-c0e07a66fa98",
   "metadata": {},
   "outputs": [],
   "source": [
    "ad.obs.loc[(ad.obs.disease == \"Temporal lobe epilepsy\"), 'disease'] = ad.obs.loc[(ad.obs.disease == \"Temporal lobe epilepsy\")].disease + '_' + ad.obs.loc[(ad.obs.disease == \"Temporal lobe epilepsy\")].treatment\n",
    "ad.obs = ad.obs.drop(columns='treatment')"
   ]
  },
  {
   "cell_type": "markdown",
   "id": "85f8203f-cdc9-4c3a-aecf-f459ce01a16e",
   "metadata": {},
   "source": [
    "## Save"
   ]
  },
  {
   "cell_type": "code",
   "execution_count": null,
   "id": "5d3de6e6-0dbf-4b2a-8591-5c9a0beae2a4",
   "metadata": {},
   "outputs": [],
   "source": [
    "ad.write_h5ad(os.path.join(save_dir, \"brain_processed.h5ad\"))"
   ]
  }
 ],
 "metadata": {
  "kernelspec": {
   "display_name": "Python 3 (ipykernel)",
   "language": "python",
   "name": "python3"
  },
  "language_info": {
   "codemirror_mode": {
    "name": "ipython",
    "version": 3
   },
   "file_extension": ".py",
   "mimetype": "text/x-python",
   "name": "python",
   "nbconvert_exporter": "python",
   "pygments_lexer": "ipython3",
   "version": "3.11.9"
  }
 },
 "nbformat": 4,
 "nbformat_minor": 5
}
