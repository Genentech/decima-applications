{
 "cells": [
  {
   "cell_type": "code",
   "execution_count": null,
   "id": "820ba4c8-7bbd-4d94-a9e7-05053b5f2656",
   "metadata": {},
   "outputs": [],
   "source": [
    "import anndata\n",
    "import numpy as np\n",
    "import pandas as pd\n",
    "import os\n",
    "import sys\n",
    "from tqdm import tqdm\n",
    "import json\n",
    "\n",
    "sys.path.append('/code/decima/src/decima/')\n",
    "import preprocess"
   ]
  },
  {
   "cell_type": "markdown",
   "id": "05ffbedb-c834-4b85-95b9-9802d5073d28",
   "metadata": {},
   "source": [
    "## paths"
   ]
  },
  {
   "cell_type": "code",
   "execution_count": null,
   "id": "27100332-0d4a-4241-b916-c286d043d5e5",
   "metadata": {},
   "outputs": [],
   "source": [
    "save_dir = '/gstore/data/resbioai/grelu/decima/20240823/processed_pseudobulks/'"
   ]
  },
  {
   "cell_type": "code",
   "execution_count": null,
   "id": "42911b4c-6220-4814-8422-e2086fd2359a",
   "metadata": {},
   "outputs": [],
   "source": [
    "sc_file = os.path.join(save_dir, 'scimilarity_processed.h5ad')\n",
    "br_file = os.path.join(save_dir, 'brain_processed.h5ad')\n",
    "sk_file = os.path.join(save_dir, 'skin_processed.h5ad')\n",
    "ret_file = os.path.join(save_dir, 'retina_processed.h5ad')"
   ]
  },
  {
   "cell_type": "markdown",
   "id": "5ace4511-4fe0-4df7-8b8d-f8a766e2ce44",
   "metadata": {},
   "source": [
    "## Load"
   ]
  },
  {
   "cell_type": "code",
   "execution_count": null,
   "id": "280bed30-262b-456e-910f-89d5f9c55d91",
   "metadata": {},
   "outputs": [],
   "source": [
    "%%time\n",
    "sc = anndata.read_h5ad(sc_file)\n",
    "br = anndata.read_h5ad(br_file)\n",
    "sk = anndata.read_h5ad(sk_file)\n",
    "ret = anndata.read_h5ad(ret_file)"
   ]
  },
  {
   "cell_type": "code",
   "execution_count": null,
   "id": "a50501be-0159-4984-b0bd-b38f8c530398",
   "metadata": {},
   "outputs": [],
   "source": [
    "%%time\n",
    "gtf = resources.load_gtf(\n",
    "    file='/gstore/data/resbioai/grelu/decima/refdata-gex-GRCh38-2020-A/genes/genes.gtf',\n",
    "    feature=\"transcript\")\n",
    "\n",
    "genes20 = preprocess.merge_transcripts(gtf)\n",
    "\n",
    "gtf = resources.load_gtf(\n",
    "    file='/gstore/data/resbioai/grelu/decima/refdata-gex-GRCh38-2024-A/genes/genes.gtf',\n",
    "    feature=\"transcript\")\n",
    "\n",
    "genes24 = preprocess.merge_transcripts(gtf)"
   ]
  },
  {
   "cell_type": "code",
   "execution_count": null,
   "id": "bfc9091c-91e6-4ad5-9319-23e14206c89c",
   "metadata": {},
   "outputs": [],
   "source": [
    "genes24 = genes24[~(genes24.index.isin(genes20.index))]\n",
    "print(len(genes20), len(genes24))"
   ]
  },
  {
   "cell_type": "markdown",
   "id": "1dd0d1df-8e75-4067-8fdf-f69701882d14",
   "metadata": {},
   "source": [
    "## Process scimilarity data"
   ]
  },
  {
   "cell_type": "markdown",
   "id": "a77090c8-5de1-4dcb-ad87-37dc109ff189",
   "metadata": {},
   "source": [
    "### Match gene names to cellranger"
   ]
  },
  {
   "cell_type": "code",
   "execution_count": null,
   "id": "88acd7a0-fbb5-4ef4-b005-05a0236d54ee",
   "metadata": {},
   "outputs": [],
   "source": [
    "sc.var = sc.var.merge(genes20, left_index=True, right_index=True, how=\"left\")\n",
    "sc.var.head(2)"
   ]
  },
  {
   "cell_type": "code",
   "execution_count": null,
   "id": "0ed7123a-c208-4fb3-a8d5-081af9d7628c",
   "metadata": {},
   "outputs": [],
   "source": [
    "preprocess.match_cellranger_2024(sc, genes24=genes24)"
   ]
  },
  {
   "cell_type": "markdown",
   "id": "566e8407-0cff-447b-b72c-32f6d2e07ed3",
   "metadata": {},
   "source": [
    "### Match remaining gene names to NCBI"
   ]
  },
  {
   "cell_type": "code",
   "execution_count": null,
   "id": "af8f57bc-f8eb-4c08-a787-abcf6b45e282",
   "metadata": {},
   "outputs": [],
   "source": [
    "sc.var['symbol'] = None"
   ]
  },
  {
   "cell_type": "code",
   "execution_count": null,
   "id": "6705aea7-1aa2-44d8-accd-f43a5a047848",
   "metadata": {},
   "outputs": [],
   "source": [
    "unm = sc.var.index[sc.var.chrom.isna()].tolist()\n",
    "len(unm)"
   ]
  },
  {
   "cell_type": "code",
   "execution_count": null,
   "id": "10119d04-c9c3-4cb0-abd2-5da565f78c9f",
   "metadata": {},
   "outputs": [],
   "source": [
    "%%time\n",
    "ncbi = !datasets summary gene symbol {\" \".join(unm)} --report gene"
   ]
  },
  {
   "cell_type": "code",
   "execution_count": null,
   "id": "00b9dee3-bb61-4943-9b35-710f20b4be78",
   "metadata": {},
   "outputs": [],
   "source": [
    "ncbi = preprocess.load_ncbi_string(ncbi)\n",
    "ncbi = ncbi[(ncbi.gene_id is None) or (~ncbi.gene_id.isin(sc.var.gene_id))]\n",
    "print(len(ncbi), ncbi['gene_id'].value_counts().max(), ncbi.symbol.value_counts().max())"
   ]
  },
  {
   "cell_type": "code",
   "execution_count": null,
   "id": "3a52526d-71d8-407e-b235-21ab7404b64a",
   "metadata": {},
   "outputs": [],
   "source": [
    "preprocess.match_ncbi(sc, ncbi)"
   ]
  },
  {
   "cell_type": "code",
   "execution_count": null,
   "id": "51eb2ef4-57f9-4baa-abe7-1c6016f31d1f",
   "metadata": {},
   "outputs": [],
   "source": [
    "sc.var.chrom.isna().sum(), sc.var.gene_id.value_counts().max()"
   ]
  },
  {
   "cell_type": "markdown",
   "id": "b2a4268f-6b2a-45ee-878c-d0d27ec78d2f",
   "metadata": {},
   "source": [
    "## Process skin atlas data"
   ]
  },
  {
   "cell_type": "markdown",
   "id": "5625e110-a189-431d-a08d-5c4628e0904e",
   "metadata": {},
   "source": [
    "### match gene names to cellranger"
   ]
  },
  {
   "cell_type": "code",
   "execution_count": null,
   "id": "3f8cab0a-4aa7-4cb6-a2d9-bc4275d3d011",
   "metadata": {},
   "outputs": [],
   "source": [
    "sk.var = sk.var.merge(genes20, left_index=True, right_index=True, how=\"left\")\n",
    "display(sk.var.head(2))\n",
    "print(sk.var.chrom.isna().sum())"
   ]
  },
  {
   "cell_type": "code",
   "execution_count": null,
   "id": "b9a398c9-255e-4387-b075-24c2783a24f1",
   "metadata": {},
   "outputs": [],
   "source": [
    "preprocess.match_cellranger_2024(sk, genes24=genes24)"
   ]
  },
  {
   "cell_type": "code",
   "execution_count": null,
   "id": "9e7218b2-ce54-4646-9090-a4f3c26e665b",
   "metadata": {},
   "outputs": [],
   "source": [
    "sk.var['symbol'] = None"
   ]
  },
  {
   "cell_type": "code",
   "execution_count": null,
   "id": "6a244a51-6dfc-43bc-b660-43538902f7a0",
   "metadata": {},
   "outputs": [],
   "source": [
    "preprocess.match_ref_ad(sk, sc)"
   ]
  },
  {
   "cell_type": "code",
   "execution_count": null,
   "id": "2e480afa-f542-4aea-ac50-d7938b4edf93",
   "metadata": {},
   "outputs": [],
   "source": [
    "print(sk.var.chrom.isna().sum()), sk.var.gene_id.value_counts().max()"
   ]
  },
  {
   "cell_type": "markdown",
   "id": "7f6aa3f8-f7df-43c9-98a8-01a4d1fa774a",
   "metadata": {},
   "source": [
    "### match remaining gene names to NCBI"
   ]
  },
  {
   "cell_type": "code",
   "execution_count": null,
   "id": "62998477-4b67-4b92-8407-ca51ebd69f54",
   "metadata": {},
   "outputs": [],
   "source": [
    "unm = sk.var.index[sk.var.chrom.isna()].tolist()\n",
    "len(unm)"
   ]
  },
  {
   "cell_type": "code",
   "execution_count": null,
   "id": "06cba0a4-2050-4f89-85f0-205d95eebddc",
   "metadata": {
    "scrolled": true
   },
   "outputs": [],
   "source": [
    "unm_arrs = np.array_split(unm, 50)\n",
    "df = []\n",
    "\n",
    "for unm in tqdm(unm_arrs):\n",
    "    ncbi = !datasets summary gene symbol {\" \".join(list(unm))} --report gene\n",
    "    try:\n",
    "        curr_df = preprocess.load_ncbi_string(ncbi)\n",
    "        df.append(curr_df)\n",
    "    except:\n",
    "        print(ncbi)\n",
    "\n",
    "ncbi = pd.concat(df)"
   ]
  },
  {
   "cell_type": "code",
   "execution_count": null,
   "id": "4fa0f52e-cfaa-40f3-9fab-833df21323a5",
   "metadata": {},
   "outputs": [],
   "source": [
    "ncbi = ncbi[(ncbi.gene_id is None) or (~ncbi.gene_id.isin(sk.var.gene_id))]\n",
    "print(len(ncbi), ncbi['gene_id'].value_counts().max(), ncbi.symbol.value_counts().max())"
   ]
  },
  {
   "cell_type": "code",
   "execution_count": null,
   "id": "2f54c365-3d7c-4862-a7f1-d29255921c4d",
   "metadata": {},
   "outputs": [],
   "source": [
    "ncbi = ncbi[ncbi.gene_id.isin(\n",
    "    ncbi.gene_id.value_counts()[ncbi.gene_id.value_counts()==1].index\n",
    ")]"
   ]
  },
  {
   "cell_type": "code",
   "execution_count": null,
   "id": "2b2b3282-e495-4af5-a31c-303f04fdce34",
   "metadata": {},
   "outputs": [],
   "source": [
    "print(len(ncbi), ncbi['gene_id'].value_counts().max(), ncbi.symbol.value_counts().max())"
   ]
  },
  {
   "cell_type": "code",
   "execution_count": null,
   "id": "af27906f-abdf-4bb4-81b0-ded1ed1ee9b0",
   "metadata": {},
   "outputs": [],
   "source": [
    "preprocess.match_ncbi(sk, ncbi)\n",
    "sk.var.chrom.isna().sum(), sk.var.gene_id.value_counts().max()"
   ]
  },
  {
   "cell_type": "markdown",
   "id": "67dba7d7-6891-443a-a7ad-3e4a5fe88867",
   "metadata": {},
   "source": [
    "## Process retina data"
   ]
  },
  {
   "cell_type": "markdown",
   "id": "9a02b6dc-f94e-4c60-a09b-e8f8ec14ed3b",
   "metadata": {},
   "source": [
    "### Match gene names to cellranger"
   ]
  },
  {
   "cell_type": "code",
   "execution_count": null,
   "id": "1ba4a046-706a-4b64-ba49-9e1d8df8c0de",
   "metadata": {},
   "outputs": [],
   "source": [
    "ret.var = ret.var.merge(genes20, left_index=True, right_index=True, how=\"left\")\n",
    "display(ret.var.head(2))\n",
    "print(ret.var.chrom.isna().sum())"
   ]
  },
  {
   "cell_type": "code",
   "execution_count": null,
   "id": "a19f3028-9efb-4777-9ed7-7dcac8d6d0b5",
   "metadata": {},
   "outputs": [],
   "source": [
    "preprocess.match_cellranger_2024(ret, genes24=genes24)"
   ]
  },
  {
   "cell_type": "code",
   "execution_count": null,
   "id": "a60493d0-0f17-4012-9f5a-b4964034e187",
   "metadata": {},
   "outputs": [],
   "source": [
    "ret.var['symbol'] = None"
   ]
  },
  {
   "cell_type": "code",
   "execution_count": null,
   "id": "26e7b583-3160-4e14-8c6d-542ed7a56099",
   "metadata": {},
   "outputs": [],
   "source": [
    "preprocess.match_ref_ad(ret, sc)"
   ]
  },
  {
   "cell_type": "code",
   "execution_count": null,
   "id": "8e88dcaf-a769-4712-8030-7c87bca0300d",
   "metadata": {},
   "outputs": [],
   "source": [
    "preprocess.match_ref_ad(ret, sk)"
   ]
  },
  {
   "cell_type": "markdown",
   "id": "1ad05b7f-3181-4669-a592-ba5cb7ecefc5",
   "metadata": {},
   "source": [
    "### Match remaining gene names to NCBI"
   ]
  },
  {
   "cell_type": "code",
   "execution_count": null,
   "id": "006bb068-02ab-4674-99c0-61791df27614",
   "metadata": {},
   "outputs": [],
   "source": [
    "unm = ret.var.index[ret.var.chrom.isna()].tolist()\n",
    "len(unm)"
   ]
  },
  {
   "cell_type": "code",
   "execution_count": null,
   "id": "104e729f-a1a9-4832-90ec-1f351830f61b",
   "metadata": {
    "scrolled": true
   },
   "outputs": [],
   "source": [
    "unm_arrs = np.array_split(unm, 100)\n",
    "df = []\n",
    "\n",
    "for unm in tqdm(unm_arrs):\n",
    "    ncbi = !datasets summary gene symbol {\" \".join(list(unm))} --report gene\n",
    "    try:\n",
    "        curr_df = preprocess.load_ncbi_string(ncbi)\n",
    "        df.append(curr_df)\n",
    "    except:\n",
    "        print(ncbi)\n",
    "\n",
    "ncbi = pd.concat(df)"
   ]
  },
  {
   "cell_type": "code",
   "execution_count": null,
   "id": "3bee45fd-1175-4309-9fc7-b04c4d0934e1",
   "metadata": {},
   "outputs": [],
   "source": [
    "ncbi = ncbi[(ncbi.gene_id is None) or (~ncbi.gene_id.isin(ret.var.gene_id))]\n",
    "print(len(ncbi), ncbi['gene_id'].value_counts().max(), ncbi.symbol.value_counts().max())"
   ]
  },
  {
   "cell_type": "code",
   "execution_count": null,
   "id": "9057f19d-7af6-4911-96f8-f234947d8294",
   "metadata": {},
   "outputs": [],
   "source": [
    "ncbi = ncbi[ncbi.symbol!='EFCAB3P1']"
   ]
  },
  {
   "cell_type": "code",
   "execution_count": null,
   "id": "fb774db8-1f5b-4cdb-a7cf-101ba84e44d5",
   "metadata": {},
   "outputs": [],
   "source": [
    "print(len(ncbi), ncbi['gene_id'].value_counts().max(), ncbi.symbol.value_counts().max())"
   ]
  },
  {
   "cell_type": "code",
   "execution_count": null,
   "id": "827d21be-400b-43e4-a735-faa778962728",
   "metadata": {},
   "outputs": [],
   "source": [
    "preprocess.match_ncbi(ret, ncbi)\n",
    "ret.var.chrom.isna().sum(), ret.var.gene_id.value_counts().max()"
   ]
  },
  {
   "cell_type": "markdown",
   "id": "ff4906aa-779e-477e-9db5-d67ad8e364b3",
   "metadata": {},
   "source": [
    "## Process Brain data"
   ]
  },
  {
   "cell_type": "markdown",
   "id": "bf110271-6020-45c3-8a31-6371cfccf96c",
   "metadata": {},
   "source": [
    "### match gene names to cellranger"
   ]
  },
  {
   "cell_type": "code",
   "execution_count": null,
   "id": "8d3f0747-5f8c-45ce-ba76-3f92bf9cf34b",
   "metadata": {},
   "outputs": [],
   "source": [
    "br.var = br.var.merge(genes20, left_index=True, right_index=True, how=\"left\")\n",
    "print(br.var.chrom.isna().sum())"
   ]
  },
  {
   "cell_type": "code",
   "execution_count": null,
   "id": "62987fa6-c4f8-4fc1-ae82-8bb7c57f5717",
   "metadata": {},
   "outputs": [],
   "source": [
    "preprocess.match_cellranger_2024(br, genes24=genes24)"
   ]
  },
  {
   "cell_type": "code",
   "execution_count": null,
   "id": "e2d08dcc-4fac-419d-817d-a5443feefe2f",
   "metadata": {},
   "outputs": [],
   "source": [
    "br.var['symbol'] = None"
   ]
  },
  {
   "cell_type": "code",
   "execution_count": null,
   "id": "d39bebcc-bd13-4478-9eda-db43d66375e0",
   "metadata": {
    "scrolled": true
   },
   "outputs": [],
   "source": [
    "preprocess.match_ref_ad(br, sc)"
   ]
  },
  {
   "cell_type": "code",
   "execution_count": null,
   "id": "df237c92-2e41-47bc-950c-31d730f9ca82",
   "metadata": {},
   "outputs": [],
   "source": [
    "preprocess.match_ref_ad(br, sk)"
   ]
  },
  {
   "cell_type": "code",
   "execution_count": null,
   "id": "0d912efc-37e1-4076-85a8-30f9ad91fc49",
   "metadata": {},
   "outputs": [],
   "source": [
    "preprocess.match_ref_ad(br, ret)"
   ]
  },
  {
   "cell_type": "code",
   "execution_count": null,
   "id": "029f6653-c803-498f-ba71-63927fa1ccfb",
   "metadata": {},
   "outputs": [],
   "source": [
    "print(len(br), br.var['gene_id'].value_counts().max(), br.var.symbol.value_counts().max())"
   ]
  },
  {
   "cell_type": "markdown",
   "id": "5c04f825-e0ba-443e-9a15-2d97537ccc82",
   "metadata": {},
   "source": [
    "## Drop unannotated genes from all datasets"
   ]
  },
  {
   "cell_type": "code",
   "execution_count": null,
   "id": "e015b7c2-53f0-4048-ae27-4c9f81240afa",
   "metadata": {},
   "outputs": [],
   "source": [
    "print(sc.shape)\n",
    "sc = sc[:, ~sc.var.chrom.isna()]\n",
    "print(sc.shape)"
   ]
  },
  {
   "cell_type": "code",
   "execution_count": null,
   "id": "d1b8063d-96c8-4bfe-a03f-8a5d8dcbc517",
   "metadata": {},
   "outputs": [],
   "source": [
    "print(sk.shape)\n",
    "sk = sk[:, ~sk.var.chrom.isna()]\n",
    "print(sk.shape)"
   ]
  },
  {
   "cell_type": "code",
   "execution_count": null,
   "id": "0646651c-6213-48a2-a59e-bf703109ffe7",
   "metadata": {},
   "outputs": [],
   "source": [
    "print(ret.shape)\n",
    "ret = ret[:, ~ret.var.chrom.isna()]\n",
    "print(ret.shape)"
   ]
  },
  {
   "cell_type": "code",
   "execution_count": null,
   "id": "14e2a246-246a-4a15-ad39-f2ff2144f324",
   "metadata": {},
   "outputs": [],
   "source": [
    "print(br.shape)\n",
    "br = br[:, ~br.var.chrom.isna()]\n",
    "print(br.shape)"
   ]
  },
  {
   "cell_type": "markdown",
   "id": "9e4e306f-86d7-41dd-a971-c17d99bf79f3",
   "metadata": {},
   "source": [
    "## Combine all datasets"
   ]
  },
  {
   "cell_type": "code",
   "execution_count": null,
   "id": "d753b779-0a11-44d2-be5c-96ea922d1dd1",
   "metadata": {},
   "outputs": [],
   "source": [
    "sc.var = sc.var.reset_index(names='gene_name').set_index('gene_id')\n",
    "sk.var = sk.var.reset_index(names='gene_name').set_index('gene_id')\n",
    "ret.var = ret.var.reset_index(names='gene_name').set_index('gene_id')\n",
    "br.var = br.var.reset_index(names='gene_name').set_index('gene_id')"
   ]
  },
  {
   "cell_type": "code",
   "execution_count": null,
   "id": "5eea54ea-fa19-4fe1-b7c6-b7922feecdc6",
   "metadata": {},
   "outputs": [],
   "source": [
    "sc.var.index = sc.var.index.astype(str)\n",
    "sc.var_names = sc.var.index.astype(str)\n",
    "\n",
    "sk.var.index = sk.var.index.astype(str)\n",
    "sk.var_names = sk.var.index.astype(str)\n",
    "\n",
    "ret.var.index = ret.var.index.astype(str)\n",
    "ret.var_names = ret.var.index.astype(str)\n",
    "\n",
    "br.var.index = br.var.index.astype(str)\n",
    "br.var_names = br.var.index.astype(str)"
   ]
  },
  {
   "cell_type": "code",
   "execution_count": null,
   "id": "691fe442-abba-4b1d-bec1-b2ceafe97132",
   "metadata": {},
   "outputs": [],
   "source": [
    "common_genes = list(set(\n",
    "    sc.var_names).intersection(\n",
    "    sk.var_names).intersection(\n",
    "    ret.var_names).intersection(\n",
    "    br.var_names)\n",
    ")\n",
    "\n",
    "len(common_genes)"
   ]
  },
  {
   "cell_type": "code",
   "execution_count": null,
   "id": "c5f8fbf2-3048-48a0-b259-0a3d2763d7ae",
   "metadata": {},
   "outputs": [],
   "source": [
    "%%time\n",
    "sc_common = sc[:, common_genes].copy()\n",
    "sk_common = sk[:, common_genes].copy()\n",
    "ret_common = ret[:, common_genes].copy()\n",
    "br_common = br[:, common_genes].copy()"
   ]
  },
  {
   "cell_type": "code",
   "execution_count": null,
   "id": "0d778ecf-6c33-4efa-b32a-3344b27f8729",
   "metadata": {},
   "outputs": [],
   "source": [
    "sc_common.var.start = sc_common.var.start.astype(int)\n",
    "sc_common.var.end = sc_common.var.end.astype(int)"
   ]
  },
  {
   "cell_type": "code",
   "execution_count": null,
   "id": "2ff44909-93e9-4fb0-ae93-8200d5a680c4",
   "metadata": {},
   "outputs": [],
   "source": [
    "ad_inner = anndata.concat(\n",
    "    [sc_common, sk_common, ret_common, br_common], join='inner', label='dataset',\n",
    "    keys=['scimilarity', 'skin_atlas', 'retina_atlas', 'brain_atlas'],\n",
    "    merge='same'\n",
    ")"
   ]
  },
  {
   "cell_type": "markdown",
   "id": "76005fc5-3c73-4bf6-baff-e931c6c82d93",
   "metadata": {},
   "source": [
    "## Format the combined pseudobulk matrix"
   ]
  },
  {
   "cell_type": "markdown",
   "id": "c7ede0d0-574d-4e6d-9d8a-1d8c59c870d3",
   "metadata": {},
   "source": [
    "### Combine .var"
   ]
  },
  {
   "cell_type": "code",
   "execution_count": null,
   "id": "b9b6b623-21cb-4153-b093-1a59095cc465",
   "metadata": {},
   "outputs": [],
   "source": [
    "np.all(ad_inner.var.index == sc_common.var.index)"
   ]
  },
  {
   "cell_type": "code",
   "execution_count": null,
   "id": "7f287169-7edf-48ec-b234-7f48cd8343eb",
   "metadata": {},
   "outputs": [],
   "source": [
    "ad_inner.var = sc_common.var.copy().drop(columns='symbol')"
   ]
  },
  {
   "cell_type": "code",
   "execution_count": null,
   "id": "a82a2d12-51da-47e4-ae2b-31d73679881b",
   "metadata": {},
   "outputs": [],
   "source": [
    "for gene_id in tqdm(ad_inner.var.index):\n",
    "    names = []\n",
    "    gene_name = ad_inner.var.loc[gene_id, 'gene_name']\n",
    "    sk_name = sk.var.loc[gene_id, 'gene_name']      \n",
    "    ret_name = ret.var.loc[gene_id, 'gene_name']\n",
    "    br_name = br.var.loc[gene_id, 'gene_name']\n",
    "    for name in [sk_name, ret_name, br_name]:\n",
    "        if (name != gene_name) and (name not in names):\n",
    "            names.append(name)\n",
    "    if len(names) > 0:\n",
    "        ad_inner.var.loc[gene_id, 'other_names'] = \",\".join(names)\n",
    "    else:\n",
    "        ad_inner.var.loc[gene_id, 'other_names'] = None"
   ]
  },
  {
   "cell_type": "code",
   "execution_count": null,
   "id": "66ff8c15-254d-45ac-bb5f-f40e54fc5c77",
   "metadata": {},
   "outputs": [],
   "source": [
    "ad_inner.var = preprocess.change_values(ad_inner.var, col=\"gene_type\", value_dict={\n",
    "    'PROTEIN_CODING':'protein_coding',\n",
    "    'ncRNA':'lncRNA',\n",
    "    'PSEUDO':'pseudogene'\n",
    "})"
   ]
  },
  {
   "cell_type": "markdown",
   "id": "4ef8bc22-b2dd-4880-b8fa-f77b500b6b7a",
   "metadata": {},
   "source": [
    "### Combine .obs"
   ]
  },
  {
   "cell_type": "code",
   "execution_count": null,
   "id": "e6c1a484-b20e-4f81-8d1f-8a80b43179ba",
   "metadata": {},
   "outputs": [],
   "source": [
    "ad_inner.obs[['study', 'dataset']].drop_duplicates().value_counts().max()"
   ]
  },
  {
   "cell_type": "code",
   "execution_count": null,
   "id": "72b25ed5-959a-4a25-8153-ad1d834c30c5",
   "metadata": {},
   "outputs": [],
   "source": [
    "all_obs = pd.concat([\n",
    "    sc_common.obs,\n",
    "    sk_common.obs,\n",
    "    ret_common.obs,\n",
    "    br_common.obs\n",
    "])"
   ]
  },
  {
   "cell_type": "code",
   "execution_count": null,
   "id": "1112a1a9-e8cf-4ad2-b2ec-39806d65ed5f",
   "metadata": {
    "scrolled": true
   },
   "outputs": [],
   "source": [
    "np.all(all_obs.index == ad_inner.obs.index)"
   ]
  },
  {
   "cell_type": "code",
   "execution_count": null,
   "id": "794a8388-a49e-4a08-9d09-e1ac4ce3d646",
   "metadata": {},
   "outputs": [],
   "source": [
    "all_obs.loc[all_obs.tissue==\"head of femur\", \"organ\"] = \"bone\""
   ]
  },
  {
   "cell_type": "code",
   "execution_count": null,
   "id": "a33ba7e2-1950-4d07-adbb-208021765d22",
   "metadata": {},
   "outputs": [],
   "source": [
    "all_obs['dataset'] = ad_inner.obs.dataset.tolist()"
   ]
  },
  {
   "cell_type": "code",
   "execution_count": null,
   "id": "b954d78c-1ad6-465a-867c-2ff845d5184a",
   "metadata": {},
   "outputs": [],
   "source": [
    "ad_inner.obs = all_obs"
   ]
  },
  {
   "cell_type": "markdown",
   "id": "53f454c4-0e18-4507-a61f-efb1636b9f1b",
   "metadata": {},
   "source": [
    "## Save"
   ]
  },
  {
   "cell_type": "code",
   "execution_count": null,
   "id": "8c100fdf-8806-4a07-a355-6b452dac8512",
   "metadata": {},
   "outputs": [],
   "source": [
    "out_file = os.path.join(save_dir, \"combined_inner.h5ad\")\n",
    "ad_inner.write_h5ad(out_file)"
   ]
  },
  {
   "cell_type": "code",
   "execution_count": null,
   "id": "09c80e12-1343-437a-913e-9281cdae26a4",
   "metadata": {},
   "outputs": [],
   "source": []
  }
 ],
 "metadata": {
  "kernelspec": {
   "display_name": "Python 3 (ipykernel)",
   "language": "python",
   "name": "python3"
  },
  "language_info": {
   "codemirror_mode": {
    "name": "ipython",
    "version": 3
   },
   "file_extension": ".py",
   "mimetype": "text/x-python",
   "name": "python",
   "nbconvert_exporter": "python",
   "pygments_lexer": "ipython3",
   "version": "3.11.9"
  }
 },
 "nbformat": 4,
 "nbformat_minor": 5
}
