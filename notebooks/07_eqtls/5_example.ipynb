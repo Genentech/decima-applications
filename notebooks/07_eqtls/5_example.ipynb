{
 "cells": [
  {
   "cell_type": "code",
   "execution_count": null,
   "id": "d182ea56-86b4-480f-8d53-8b4a1cfd6dd6",
   "metadata": {},
   "outputs": [],
   "source": [
    "import sys\n",
    "import numpy as np\n",
    "import pandas as pd\n",
    "import os\n",
    "import anndata\n",
    "import wandb\n",
    "import torch\n",
    "from tqdm import tqdm\n",
    "\n",
    "from scipy.ndimage import gaussian_filter1d\n",
    "from grelu.visualize import plot_attributions, plot_tracks, add_highlights\n",
    "from captum.attr import InputXGradient\n",
    "from grelu.transforms.prediction_transforms import Aggregate\n",
    "\n",
    "import seaborn as sns\n",
    "import matplotlib.pyplot as plt\n",
    "from plotnine import *\n",
    "%matplotlib inline\n",
    "\n",
    "sys.path.append('/code/decima/src/decima/')\n",
    "from interpret import extract_gene_data\n",
    "from lightning import LightningModel"
   ]
  },
  {
   "cell_type": "markdown",
   "id": "ad5fc9d5-c26d-4fb6-8f92-2f418417758c",
   "metadata": {},
   "source": [
    "## Paths"
   ]
  },
  {
   "cell_type": "code",
   "execution_count": null,
   "id": "7a844d35-96cd-43b6-b75a-c1f42406396a",
   "metadata": {},
   "outputs": [],
   "source": [
    "save_dir=\"/gstore/data/resbioai/grelu/decima/20240823\"\n",
    "matrix_file = os.path.join(save_dir, \"data.h5ad\")\n",
    "h5_file = os.path.join(save_dir, \"data.h5\")\n",
    "eqtl_ad_file = 'eqtl.h5ad'"
   ]
  },
  {
   "cell_type": "markdown",
   "id": "48994bea-8d94-4441-815a-2b6f37357a6f",
   "metadata": {},
   "source": [
    "## Load"
   ]
  },
  {
   "cell_type": "code",
   "execution_count": null,
   "id": "1f981fcd-0961-44c5-bd92-5e015d46d12c",
   "metadata": {},
   "outputs": [],
   "source": [
    "ad = anndata.read_h5ad(matrix_file)\n",
    "eqtl_ad = anndata.read_h5ad(eqtl_ad_file)"
   ]
  },
  {
   "cell_type": "code",
   "execution_count": null,
   "id": "9af528c7-0529-43e4-8adc-c7fbe19b8a4d",
   "metadata": {},
   "outputs": [],
   "source": [
    "wandb.login(host=\"https://genentech.wandb.io\")\n",
    "ckpts=[\n",
    "'/gstore/data/resbioai/grelu/decima/20240823/lightning_logs/kugrjb50/checkpoints/epoch=3-step=2920.ckpt',\n",
    "'/gstore/data/resbioai/grelu/decima/20240823/lightning_logs/i68hdsdk/checkpoints/epoch=2-step=2190.ckpt',\n",
    "'/gstore/data/resbioai/grelu/decima/20240823/lightning_logs/0as9e8of/checkpoints/epoch=7-step=5840.ckpt',\n",
    "'/gstore/data/resbioai/grelu/decima/20240823/lightning_logs/i9zsp4nm/checkpoints/epoch=8-step=6570.ckpt',\n",
    "]\n",
    "models = [LightningModel.load_from_checkpoint(ckpt).eval() for ckpt in ckpts]"
   ]
  },
  {
   "cell_type": "code",
   "execution_count": null,
   "id": "04e0cb5a-b50b-461d-a183-b7625c2a7fdc",
   "metadata": {},
   "outputs": [],
   "source": [
    "from eqtl_meta import cell_type_mapping\n",
    "cell_type_mapping = pd.read_table(StringIO(cell_type_mapping))\n",
    "all_modelcelltypes = set(cell_type_mapping['model_celltype'])"
   ]
  },
  {
   "cell_type": "markdown",
   "id": "dacd7030-1ca1-461f-873a-70236a43ac9e",
   "metadata": {},
   "source": [
    "## Subset to matched cell types"
   ]
  },
  {
   "cell_type": "code",
   "execution_count": null,
   "id": "0b576fd4-a993-4010-9e09-1b9c7e5d4bf9",
   "metadata": {},
   "outputs": [],
   "source": [
    "gene = 'JAZF1'\n",
    "rsid = 'rs2158799'\n",
    "for gene in ['CEBPA', 'JAZF1']:\n",
    "    eqtl_ad.var[gene] = np.array(ad[:, gene].X).squeeze()"
   ]
  },
  {
   "cell_type": "code",
   "execution_count": null,
   "id": "52c16c82-0cb7-41a6-aa1f-7bd4c8662b9a",
   "metadata": {},
   "outputs": [],
   "source": [
    "ad = ad[(ad.obs.organ=='blood') & (ad.obs.cell_type.isin(all_modelcelltypes))]\n",
    "eqtl_ad = eqtl_ad[(eqtl_ad.obs.gene_symbol==gene) & (eqtl_ad.obs.rsid==rsid), \n",
    "                (eqtl_ad.var.organ=='blood') & (eqtl_ad.var.cell_type.isin(all_modelcelltypes))]\n",
    "\n",
    "print(ad.shape, eqtl_ad.shape)"
   ]
  },
  {
   "cell_type": "code",
   "execution_count": null,
   "id": "02837387-ded8-411c-ac05-0cdb5176c4b5",
   "metadata": {},
   "outputs": [],
   "source": [
    "eqtl_ad.obs"
   ]
  },
  {
   "cell_type": "code",
   "execution_count": null,
   "id": "2bfb7d92-1e86-4cfb-9eef-d9d220d9eb53",
   "metadata": {},
   "outputs": [],
   "source": [
    "eqtl_ad.var['effect'] = np.array(eqtl_ad.X).squeeze()\n",
    "eqtl_ad.var['is_mono'] = eqtl_ad.var.cell_type.str.contains('monocyte')"
   ]
  },
  {
   "cell_type": "markdown",
   "id": "dd826152-0a3a-44b1-9c5d-d48429807632",
   "metadata": {},
   "source": [
    "## Visualize predictions"
   ]
  },
  {
   "cell_type": "code",
   "execution_count": null,
   "id": "cea6a747-314b-4d8b-8c07-162156936c1c",
   "metadata": {},
   "outputs": [],
   "source": [
    "eqtl_ad.var.cell_type = eqtl_ad.var.cell_type.astype(str)\n",
    "eqtl_ad.var.loc[eqtl_ad.var.cell_type == 'CD4-positive, alpha-beta T cell', 'cell_type'] = 'CD4+ alpha-beta T cell'\n",
    "eqtl_ad.var.loc[eqtl_ad.var.cell_type == 'CD8-positive, alpha-beta T cell', 'cell_type'] = 'CD8+ alpha-beta T cell'\n",
    "eqtl_ad.var.cell_type = eqtl_ad.var.cell_type.apply(lambda x:x[0].upper() + x[1:])\n",
    "eqtl_ad.var.cell_type = pd.Categorical(eqtl_ad.var.cell_type,\n",
    "        categories = eqtl_ad.var.groupby('cell_type').effect.mean().sort_values().index.tolist())"
   ]
  },
  {
   "cell_type": "code",
   "execution_count": null,
   "id": "b9d66dd6-a313-47ed-a63e-6ea13fd6a784",
   "metadata": {},
   "outputs": [],
   "source": [
    "(\n",
    "    ggplot(eqtl_ad.var, aes(x='cell_type', y='effect', color='is_mono')) + geom_boxplot(outlier_size=0.1, size=.3)\n",
    "    + theme_classic() + theme(figure_size=(2.8, 3.5)) + scale_color_manual(values=['black', 'blue'])\n",
    "    + theme(axis_text_x=element_text(rotation=90, hjust=.5)) + ylab(\"\") + xlab(\"\")\n",
    "    + geom_hline(yintercept=0, linetype='--')\n",
    ")"
   ]
  },
  {
   "cell_type": "code",
   "execution_count": null,
   "id": "15e0220d-79fc-4749-85b6-0643c7c6cd5b",
   "metadata": {},
   "outputs": [],
   "source": [
    "(\n",
    "    ggplot(eqtl_ad.var, aes(x='cell_type', y='CEBPA', color='is_mono')) + geom_boxplot(outlier_size=0.1, size=.3)\n",
    "    + theme_classic() + theme(figure_size=(2.8,3.5)) + scale_color_manual(values=['black', 'blue'])\n",
    "    + theme(axis_text_x=element_text(rotation=90, hjust=.5)) + ylab(\"\") + xlab(\"\")\n",
    ")"
   ]
  },
  {
   "cell_type": "code",
   "execution_count": null,
   "id": "2b459304-2edb-4e10-b5ce-0d690b689ffc",
   "metadata": {},
   "outputs": [],
   "source": [
    "(\n",
    "    ggplot(eqtl_ad.var, aes(x='cell_type', y='JAZF1', color='is_mono')) + geom_boxplot(outlier_size=0.1, size=.3)\n",
    "    + theme_classic() + theme(figure_size=(2.8,3.5)) + scale_color_manual(values=['black', 'blue'])\n",
    "    + theme(axis_text_x=element_text(rotation=90, hjust=.5)) + ylab(\"Measured Expression\") + xlab(\"\")\n",
    "    + ggtitle('JAZF1') + theme(plot_title = element_text(face = \"italic\")) + theme(legend_position='none')\n",
    ")"
   ]
  },
  {
   "cell_type": "markdown",
   "id": "5d5aca9c-b4e0-4cb4-866b-e5ede9ac6fe3",
   "metadata": {},
   "source": [
    "## Extract inputs"
   ]
  },
  {
   "cell_type": "code",
   "execution_count": null,
   "id": "379aad1f-c799-43b7-826a-b5695af8579e",
   "metadata": {},
   "outputs": [],
   "source": [
    "seq, mask = extract_gene_data(h5_file, gene, merge=False)\n",
    "tss_pos = np.where(mask[0] == 1)[0][0] - 2\n",
    "device = torch.device(0)"
   ]
  },
  {
   "cell_type": "code",
   "execution_count": null,
   "id": "07a93e65-4604-446d-abe8-29d2df3c33b3",
   "metadata": {},
   "outputs": [],
   "source": [
    "print(seq[:, 107147])\n",
    "\n",
    "ref_seq = seq.clone()\n",
    "alt_seq = seq.clone()\n",
    "alt_seq[2, 107147] = 0\n",
    "alt_seq[1, 107147] = 1\n",
    "print(ref_seq[:, 107147])\n",
    "print(alt_seq[:, 107147])\n",
    "\n",
    "ref_inputs = torch.vstack([ref_seq, mask]).to(device)\n",
    "alt_inputs = torch.vstack([alt_seq, mask]).to(device)"
   ]
  },
  {
   "cell_type": "markdown",
   "id": "c011c5cf-3fe7-4e8d-8e91-1490283df9b3",
   "metadata": {},
   "source": [
    "## Attributions in monocytes"
   ]
  },
  {
   "cell_type": "code",
   "execution_count": null,
   "id": "a1a5e3e5-32ba-489c-87cb-3b8e2cab2d3b",
   "metadata": {},
   "outputs": [],
   "source": [
    "%%time\n",
    "on_tasks = ad.obs_names[ad.obs.cell_type.str.contains('monocyte')].tolist()\n",
    "\n",
    "attr_ref_on = []\n",
    "attr_alt_on = []\n",
    "\n",
    "for model in models:\n",
    "    model.add_transform(Aggregate(tasks=on_tasks, task_aggfunc=\"mean\", model=model))\n",
    "    attributer = InputXGradient(model.to(device))\n",
    "    with torch.no_grad():\n",
    "        attr_ref_on.append(attributer.attribute(ref_inputs).cpu().numpy())\n",
    "        attr_alt_on.append(attributer.attribute(alt_inputs).cpu().numpy())\n",
    "\n",
    "attr_ref_on = np.stack(attr_ref_on).mean(0)\n",
    "attr_alt_on = np.stack(attr_alt_on).mean(0)"
   ]
  },
  {
   "cell_type": "code",
   "execution_count": null,
   "id": "eaeff109-0e0a-4194-9367-5fe8d4f07b86",
   "metadata": {},
   "outputs": [],
   "source": [
    "st = -58000\n",
    "en = 4000\n",
    "a_r_on = gaussian_filter1d(np.abs(attr_ref_on.mean(0)[tss_pos+st:tss_pos+en]), 5)\n",
    "a_a_on = gaussian_filter1d(np.abs(attr_alt_on.mean(0)[tss_pos+st:tss_pos+en]), 5)\n",
    "fig, axes = plt.subplots(2, 1, figsize=(6, 2), sharex=True, tight_layout=True)\n",
    "axes[0].fill_between(np.linspace(st, en, num=en-st), a_r_on, color=\"black\")\n",
    "sns.despine(top=True, right=True, bottom=True)\n",
    "axes[0].set_ylim(0, 0.021)\n",
    "axes[1].fill_between(np.linspace(st, en, num=en-st), a_a_on, color=\"black\")\n",
    "sns.despine(top=True, right=True, bottom=True)\n",
    "axes[1].set_ylim(0, 0.021)"
   ]
  },
  {
   "cell_type": "code",
   "execution_count": null,
   "id": "4bef97b1-edf5-487d-8bc8-716c25a8bd3a",
   "metadata": {},
   "outputs": [],
   "source": [
    "display(plot_attributions(attr_ref_on[:-1, tss_pos-56720:tss_pos-56640], ylim=(-.1, .2), figsize=(5,1)))\n",
    "display(plot_attributions(attr_alt_on[:-1, tss_pos-56720:tss_pos-56640], ylim=(-.1, .2), figsize=(5,1)))"
   ]
  },
  {
   "cell_type": "markdown",
   "id": "82e985ee-1f3c-417b-98bb-a533e094f094",
   "metadata": {},
   "source": [
    "## Attributions in off-target cell types"
   ]
  },
  {
   "cell_type": "code",
   "execution_count": null,
   "id": "613dd36e-4cf3-4aca-9f2c-c3d0f27c9806",
   "metadata": {},
   "outputs": [],
   "source": [
    "%%time\n",
    "off_tasks = ad.obs_names[ad.obs.cell_type == 'natural killer cell'].tolist()\n",
    "\n",
    "attr_ref_off = []\n",
    "attr_alt_off = []\n",
    "\n",
    "for model in models:\n",
    "    model.add_transform(Aggregate(tasks=off_tasks, task_aggfunc=\"mean\", model=model))\n",
    "    attributer = InputXGradient(model.to(device))\n",
    "    with torch.no_grad():\n",
    "        attr_ref_off.append(attributer.attribute(ref_inputs).cpu().numpy())\n",
    "        attr_alt_off.append(attributer.attribute(alt_inputs).cpu().numpy())\n",
    "\n",
    "attr_ref_off = np.stack(attr_ref_off).mean(0)\n",
    "attr_alt_off = np.stack(attr_alt_off).mean(0)"
   ]
  },
  {
   "cell_type": "code",
   "execution_count": null,
   "id": "25937a91-1629-4c6d-a16e-f808afcd86cc",
   "metadata": {},
   "outputs": [],
   "source": [
    "st = -58000\n",
    "en = 4000\n",
    "a_r_off = gaussian_filter1d(np.abs(attr_ref_off.mean(0)[tss_pos+st:tss_pos+en]), 5)\n",
    "a_a_off = gaussian_filter1d(np.abs(attr_alt_off.mean(0)[tss_pos+st:tss_pos+en]), 5)\n",
    "fig, axes = plt.subplots(2, 1, figsize=(6, 2), sharex=True, tight_layout=True)\n",
    "axes[0].fill_between(np.linspace(st, en, num=en-st), a_r_off, color=\"black\")\n",
    "sns.despine(top=True, right=True, bottom=True)\n",
    "axes[0].set_ylim(0, 0.021)\n",
    "axes[0].set_title('Attributions of JAZF1 expression in Natural Killer cells', fontsize=12)\n",
    "axes[0].text(-56000, 0.015, 'Reference', fontsize=9)\n",
    "add_highlights(axes[0], starts=-56600, ends=-56300, ymin=0, ymax=0.02, facecolor='skyblue', alpha=.3)\n",
    "axes[1].fill_between(np.linspace(st, en, num=en-st), a_a_off, color=\"black\")\n",
    "sns.despine(top=True, right=True, bottom=True)\n",
    "axes[1].set_ylim(0, 0.021)\n",
    "axes[1].text(-56000, 0.015, 'Alternate', fontsize=9)\n",
    "axes[1].set_xlabel('Distance from TSS')\n",
    "add_highlights(axes[1], starts=-56600, ends=-56300, ymin=0, ymax=0.02, facecolor='skyblue', alpha=.3)"
   ]
  },
  {
   "cell_type": "code",
   "execution_count": null,
   "id": "33955ed8-6bfd-469e-b113-da71da62388d",
   "metadata": {},
   "outputs": [],
   "source": []
  }
 ],
 "metadata": {
  "kernelspec": {
   "display_name": "Python 3 (ipykernel)",
   "language": "python",
   "name": "python3"
  },
  "language_info": {
   "codemirror_mode": {
    "name": "ipython",
    "version": 3
   },
   "file_extension": ".py",
   "mimetype": "text/x-python",
   "name": "python",
   "nbconvert_exporter": "python",
   "pygments_lexer": "ipython3",
   "version": "3.11.9"
  }
 },
 "nbformat": 4,
 "nbformat_minor": 5
}
