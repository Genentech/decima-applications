{
 "cells": [
  {
   "cell_type": "code",
   "execution_count": 1,
   "metadata": {},
   "outputs": [],
   "source": [
    "import numpy as np\n",
    "import pandas as pd\n",
    "import anndata\n",
    "import os\n",
    "import glob\n",
    "from tqdm import tqdm\n",
    "from io import StringIO\n",
    "\n",
    "import matplotlib.pyplot as plt\n",
    "from plotnine import *\n",
    "%matplotlib inline"
   ]
  },
  {
   "cell_type": "markdown",
   "metadata": {},
   "source": [
    "# Paths"
   ]
  },
  {
   "cell_type": "code",
   "execution_count": 2,
   "metadata": {},
   "outputs": [],
   "source": [
    "matrix_file = \"/gstore/data/resbioai/grelu/decima/20240823/data.h5ad\"\n",
    "ensembl_out_dir = \"/gstore/data/resbioai/karollua/Decima/scborzoi/decima/results/ensemble\"\n",
    "borzoi_out_dir = \"/gstore/data/resbioai/karollua/Decima/scborzoi/decima/results/brozoi\"\n",
    "borzoi_tracks_path = '/gstore/data/resbioai/karollua/Decima/scborzoi/decima/data/borzoi_targets/targets_human.txt'\n",
    "\n",
    "save_dir = \"/gstore/data/resbioai/karollua/Decima/scborzoi/decima/\"\n",
    "brozima_ensembl_out_dir = os.path.join(save_dir, \"results\", 'brozoi', 'brozima_unsquash_ensembl')\n",
    "susie_df_file = os.path.join(save_dir,'data/eQTL_processed/susie_df.csv')\n",
    "variant_df_file = os.path.join(save_dir,'data/eQTL_processed/vars.csv')"
   ]
  },
  {
   "cell_type": "markdown",
   "metadata": {},
   "source": [
    "## Load data"
   ]
  },
  {
   "cell_type": "code",
   "execution_count": 3,
   "metadata": {},
   "outputs": [],
   "source": [
    "ad = anndata.read_h5ad(matrix_file)\n",
    "susie_df = pd.read_csv(susie_df_file)\n",
    "variant_df = pd.read_csv(variant_df_file)\n",
    "borzoi_tracks = pd.read_csv(borzoi_tracks_path,sep='\\t')"
   ]
  },
  {
   "cell_type": "markdown",
   "metadata": {},
   "source": [
    "## Load Decima scores"
   ]
  },
  {
   "cell_type": "code",
   "execution_count": 4,
   "metadata": {},
   "outputs": [
    {
     "name": "stderr",
     "output_type": "stream",
     "text": [
      "100%|█████████████████████████████████████████████| 8/8 [00:01<00:00,  4.13it/s]\n"
     ]
    },
    {
     "data": {
      "text/plain": [
       "(247640, 8856)"
      ]
     },
     "execution_count": 4,
     "metadata": {},
     "output_type": "execute_result"
    }
   ],
   "source": [
    "pred_paths = sorted(glob.glob(os.path.join(ensembl_out_dir,'eqtl',\"eqtl_scores_*\")), key=lambda x: int(x.split('/')[-1].split(\"_\")[2]))\n",
    "scores = np.concatenate([np.load(pred) for pred in tqdm(pred_paths)])"
   ]
  },
  {
   "cell_type": "code",
   "execution_count": 5,
   "metadata": {},
   "outputs": [
    {
     "name": "stdout",
     "output_type": "stream",
     "text": [
      "(247640, 8856)\n"
     ]
    },
    {
     "name": "stderr",
     "output_type": "stream",
     "text": [
      "/usr/local/lib/python3.11/dist-packages/anndata/_core/aligned_df.py:67: ImplicitModificationWarning: Transforming to str index.\n"
     ]
    }
   ],
   "source": [
    "eqtl_ad = anndata.AnnData(scores, obs=variant_df.copy().reset_index(drop=True), var=ad.obs)\n",
    "print(eqtl_ad.shape)\n",
    "del scores"
   ]
  },
  {
   "cell_type": "code",
   "execution_count": 6,
   "metadata": {},
   "outputs": [
    {
     "name": "stdout",
     "output_type": "stream",
     "text": [
      "(247640, 8856)\n",
      "CPU times: user 25.6 s, sys: 1.56 s, total: 27.1 s\n",
      "Wall time: 27.1 s\n"
     ]
    }
   ],
   "source": [
    "%%time\n",
    "gene_expr = {g: np.array(ad[:, ad.var.gene_id==g].X).squeeze() for g in variant_df.gene_id.unique()}\n",
    "ref_expr = np.stack(variant_df.gene_id.map(gene_expr))\n",
    "print(ref_expr.shape)\n",
    "eqtl_ad.layers['ref_expr'] = ref_expr"
   ]
  },
  {
   "cell_type": "code",
   "execution_count": 7,
   "metadata": {},
   "outputs": [],
   "source": [
    "eqtl_ad.write_h5ad('eqtl.h5ad')"
   ]
  },
  {
   "cell_type": "code",
   "execution_count": 8,
   "metadata": {},
   "outputs": [],
   "source": [
    "# reduce to blood cells\n",
    "eqtl_ad = eqtl_ad[:,(eqtl_ad.var.tissue == 'blood')].copy()\n",
    "eqtl_ad.var = eqtl_ad.var.reset_index(drop=True)"
   ]
  },
  {
   "cell_type": "markdown",
   "metadata": {},
   "source": [
    "## Load borzoi predictions"
   ]
  },
  {
   "cell_type": "code",
   "execution_count": 9,
   "metadata": {},
   "outputs": [
    {
     "name": "stderr",
     "output_type": "stream",
     "text": [
      "100%|█████████████████████████████████████████████| 8/8 [00:33<00:00,  4.18s/it]\n",
      "100%|█████████████████████████████████████████████| 8/8 [00:16<00:00,  2.08s/it]\n"
     ]
    },
    {
     "name": "stdout",
     "output_type": "stream",
     "text": [
      "(247640, 7611) (247640, 7611)\n"
     ]
    }
   ],
   "source": [
    "scores_borzoi = []\n",
    "scores_borzoi_tss = []\n",
    "for result_list,score_type in zip([scores_borzoi, scores_borzoi_tss],['gene','tss']):\n",
    "    pred_paths = sorted(glob.glob(os.path.join(borzoi_out_dir,f'brozima_eqtl_unsquash_ensembl',f\"{score_type}_scores_*\")), key=lambda x: int(x.split('/')[-1].split(\"_\")[2]))\n",
    "    for pred in tqdm(pred_paths):\n",
    "        # load scores\n",
    "        preds = np.load(pred)\n",
    "        # convert to log1p\n",
    "        preds = np.log(preds + 1)\n",
    "        # get log fold change\n",
    "        ref_preds = preds[:len(preds)//2]\n",
    "        alt_preds = preds[len(preds)//2:]\n",
    "        result_list.append(alt_preds - ref_preds)\n",
    "\n",
    "scores_borzoi = np.concatenate(scores_borzoi)\n",
    "scores_borzoi_tss = np.concatenate(scores_borzoi_tss)\n",
    "print(scores_borzoi.shape, scores_borzoi_tss.shape)"
   ]
  },
  {
   "cell_type": "code",
   "execution_count": 10,
   "metadata": {},
   "outputs": [
    {
     "name": "stderr",
     "output_type": "stream",
     "text": [
      "/usr/local/lib/python3.11/dist-packages/anndata/_core/aligned_df.py:67: ImplicitModificationWarning: Transforming to str index.\n",
      "/usr/local/lib/python3.11/dist-packages/anndata/_core/aligned_df.py:67: ImplicitModificationWarning: Transforming to str index.\n"
     ]
    }
   ],
   "source": [
    "# get relevant borzoi tracks\n",
    "rna_tracks = borzoi_tracks.loc[borzoi_tracks.description.str.startswith('RNA:')]\n",
    "rna_idx = np.array(rna_tracks.index)\n",
    "rna_tracks = rna_tracks.reset_index(drop=True)\n",
    "cage_tracks = borzoi_tracks.loc[borzoi_tracks.description.str.startswith('CAGE:')]\n",
    "cage_idx = np.array(cage_tracks.index)\n",
    "cage_tracks = cage_tracks.reset_index(drop=True)\n",
    "\n",
    "# subset gene to RNA and TSS to CAGE\n",
    "scores_borzoi = scores_borzoi[:,rna_idx]\n",
    "scores_borzoi_tss = scores_borzoi_tss[:,cage_idx]\n",
    "\n",
    "# Make anndata\n",
    "eqtl_ad_borzoi = anndata.AnnData(np.concatenate([scores_borzoi, scores_borzoi_tss],axis=1), \n",
    "    obs=variant_df.copy().reset_index(drop=True), var=pd.concat([rna_tracks, cage_tracks]).reset_index(drop=True))"
   ]
  },
  {
   "cell_type": "markdown",
   "metadata": {},
   "source": [
    "## Matching the cell type - Decima"
   ]
  },
  {
   "cell_type": "code",
   "execution_count": 11,
   "metadata": {},
   "outputs": [],
   "source": [
    "from eqtl_meta import cell_type_mapping\n",
    "cell_type_mapping = pd.read_table(StringIO(cell_type_mapping))"
   ]
  },
  {
   "cell_type": "code",
   "execution_count": 12,
   "metadata": {},
   "outputs": [],
   "source": [
    "# for each variant in susie_df, extract the predictions for matching cell type\n",
    "# generate masking tensor with the celltype matching converted to a dict: eqtl_celltype --> mask\n",
    "\n",
    "celltype_to_mask_dict = {}\n",
    "for _,row in cell_type_mapping.groupby('eqtl_celltype')['model_celltype'].agg(list).reset_index().iterrows():\n",
    "    eqtl_celltype = row['eqtl_celltype']\n",
    "    model_celltypes = row['model_celltype']\n",
    "    mask = np.zeros(len(eqtl_ad.var))\n",
    "    for ix in eqtl_ad.var.query('cell_type in @model_celltypes').index:\n",
    "        mask[int(ix)] = 1\n",
    "    celltype_to_mask_dict[eqtl_celltype] = mask\n",
    "\n",
    "# take global average for unknown cells\n",
    "for ct in set(susie_df.celltype).difference(cell_type_mapping.eqtl_celltype): \n",
    "    celltype_to_mask_dict[ct] = np.ones(len(eqtl_ad.var))"
   ]
  },
  {
   "cell_type": "code",
   "execution_count": 13,
   "metadata": {},
   "outputs": [
    {
     "name": "stderr",
     "output_type": "stream",
     "text": [
      "450042it [00:31, 14070.94it/s]\n"
     ]
    }
   ],
   "source": [
    "# merge variants back to susie df to get mapping\n",
    "susielen = len(susie_df)\n",
    "susie_backmerged = susie_df.merge(eqtl_ad.obs.reset_index()[['index','gene_id','variant','rsid']],on=['gene_id','variant','rsid'])\n",
    "susie_backmerged['index'] = susie_backmerged['index'].astype(int)\n",
    "\n",
    "# extract masked predictions\n",
    "scores = np.zeros(len(susie_backmerged))\n",
    "ref_obs = np.zeros(len(susie_backmerged))\n",
    "i = 0\n",
    "for _, row in tqdm(susie_backmerged.iterrows()):\n",
    "    mask = celltype_to_mask_dict[row.celltype]\n",
    "    score = (eqtl_ad.X[row['index']]*mask).sum()/mask.sum()\n",
    "    ref_expression = (eqtl_ad.layers['ref_expr'][row['index']]*mask).sum()/mask.sum()\n",
    "    scores[i] = score\n",
    "    ref_obs[i] = ref_expression\n",
    "    i += 1\n",
    "\n",
    "susie_backmerged['matched_score'] = scores\n",
    "susie_backmerged['abs_matched_score'] = np.abs(scores)\n",
    "susie_backmerged['ref_expr'] = ref_obs"
   ]
  },
  {
   "cell_type": "markdown",
   "metadata": {},
   "source": [
    "## Matching the cell type - Borzoi"
   ]
  },
  {
   "cell_type": "code",
   "execution_count": 14,
   "metadata": {},
   "outputs": [],
   "source": [
    "borzoi_mapping = {\n",
    "    \"B cell\":eqtl_ad_borzoi.var.loc[eqtl_ad_borzoi.var.description.str.contains('RNA') \n",
    "                        & eqtl_ad_borzoi.var.description.str.contains('B cell') \n",
    "                        & ~(eqtl_ad_borzoi.var.description.str.contains('memory'))\n",
    "                        & ~(eqtl_ad_borzoi.var.identifier.str.endswith('-'))],\n",
    "    \"memory B cell\":eqtl_ad_borzoi.var.loc[eqtl_ad_borzoi.var.description.str.contains('RNA') \n",
    "                        & eqtl_ad_borzoi.var.description.str.contains('B cell') \n",
    "                        & (eqtl_ad_borzoi.var.description.str.contains('memory'))\n",
    "                        & ~(eqtl_ad_borzoi.var.identifier.str.endswith('-'))],\n",
    "    \"CD4+ T cell\":eqtl_ad_borzoi.var.loc[eqtl_ad_borzoi.var.description.str.contains('RNA') \n",
    "                        & eqtl_ad_borzoi.var.description.str.contains('CD4')\n",
    "                        & ~eqtl_ad_borzoi.var.description.str.contains('CD25')\n",
    "                        & ~(eqtl_ad_borzoi.var.identifier.str.endswith('-'))],\n",
    "    \"CD4+ CTL cell\":eqtl_ad_borzoi.var.loc[eqtl_ad_borzoi.var.description.str.contains('RNA') \n",
    "                        & eqtl_ad_borzoi.var.description.str.contains('CD4')\n",
    "                        & ~eqtl_ad_borzoi.var.description.str.contains('CD25')\n",
    "                        & ~eqtl_ad_borzoi.var.description.str.contains('memory')\n",
    "                        & eqtl_ad_borzoi.var.description.str.contains('activated|stimulated')\n",
    "                        & ~(eqtl_ad_borzoi.var.identifier.str.endswith('-'))],\n",
    "    \"CD4+ TCM cell\":eqtl_ad_borzoi.var.loc[eqtl_ad_borzoi.var.description.str.contains('RNA') \n",
    "                        & eqtl_ad_borzoi.var.description.str.contains('CD4')\n",
    "                        & ~eqtl_ad_borzoi.var.description.str.contains('CD25')\n",
    "                        & eqtl_ad_borzoi.var.description.str.contains('memory')\n",
    "                        & ~(eqtl_ad_borzoi.var.identifier.str.endswith('-'))],    \n",
    "    \"CD4+ TEM cell\":eqtl_ad_borzoi.var.loc[eqtl_ad_borzoi.var.description.str.contains('RNA') \n",
    "                        & eqtl_ad_borzoi.var.description.str.contains('CD4')\n",
    "                        & ~eqtl_ad_borzoi.var.description.str.contains('CD25')\n",
    "                        & eqtl_ad_borzoi.var.description.str.contains('memory')\n",
    "                        & ~(eqtl_ad_borzoi.var.identifier.str.endswith('-'))],\n",
    "    \"CD8+ T cell\":eqtl_ad_borzoi.var.loc[eqtl_ad_borzoi.var.description.str.contains('RNA') \n",
    "                        & eqtl_ad_borzoi.var.description.str.contains('CD8')\n",
    "                        & ~(eqtl_ad_borzoi.var.identifier.str.endswith('-'))],\n",
    "    \"CD8+ TCM cell\":eqtl_ad_borzoi.var.loc[eqtl_ad_borzoi.var.description.str.contains('RNA') \n",
    "                        & eqtl_ad_borzoi.var.description.str.contains('CD8')\n",
    "                        & eqtl_ad_borzoi.var.description.str.contains('memory')\n",
    "                        & ~(eqtl_ad_borzoi.var.identifier.str.endswith('-'))],    \n",
    "    \"CD8+ TEM cell\":eqtl_ad_borzoi.var.loc[eqtl_ad_borzoi.var.description.str.contains('RNA') \n",
    "                        & eqtl_ad_borzoi.var.description.str.contains('CD8')\n",
    "                        & eqtl_ad_borzoi.var.description.str.contains('memory')\n",
    "                        & ~(eqtl_ad_borzoi.var.identifier.str.endswith('-'))],\n",
    "    \"Treg memory\":eqtl_ad_borzoi.var.loc[eqtl_ad_borzoi.var.description.str.contains('RNA') \n",
    "                        & eqtl_ad_borzoi.var.description.str.contains('CD25')\n",
    "                        & ~(eqtl_ad_borzoi.var.identifier.str.endswith('-'))],\n",
    "    \"MAIT cell\":eqtl_ad_borzoi.var.loc[eqtl_ad_borzoi.var.description.str.contains('RNA') \n",
    "                        & eqtl_ad_borzoi.var.description.str.contains('CD4|CD8')\n",
    "                        & ~(eqtl_ad_borzoi.var.identifier.str.endswith('-'))], # ???, T-cells as group seem closest\n",
    "    \"dendritic cell\":eqtl_ad_borzoi.var.loc[eqtl_ad_borzoi.var.description.str.contains('CAGE') \n",
    "                        & eqtl_ad_borzoi.var.description.str.contains('dendri',case=False)\n",
    "                        & ~eqtl_ad_borzoi.var.description.str.contains('plasma',case=False)\n",
    "                        & ~(eqtl_ad_borzoi.var.identifier.str.endswith('-'))],\n",
    "    \"plasmacytoid dendritic cell\":eqtl_ad_borzoi.var.loc[eqtl_ad_borzoi.var.description.str.contains('CAGE') \n",
    "                        & eqtl_ad_borzoi.var.description.str.contains('dendri',case=False)\n",
    "                        & eqtl_ad_borzoi.var.description.str.contains('plasma',case=False)\n",
    "                        & ~(eqtl_ad_borzoi.var.identifier.str.endswith('-'))],\n",
    "    \"hematopoietic precursor cell\":eqtl_ad_borzoi.var.loc[eqtl_ad_borzoi.var.description.str.contains('RNA') \n",
    "                        & eqtl_ad_borzoi.var.description.str.contains('hemato',case=False)\n",
    "                        & ~(eqtl_ad_borzoi.var.identifier.str.endswith('-'))],\n",
    "    \"monocyte\":eqtl_ad_borzoi.var.loc[eqtl_ad_borzoi.var.description.str.contains('RNA') \n",
    "                        & eqtl_ad_borzoi.var.description.str.contains('CD14',case=False)\n",
    "                        & ~(eqtl_ad_borzoi.var.identifier.str.endswith('-'))],\n",
    "    \"CD16+ monocyte\":eqtl_ad_borzoi.var.loc[eqtl_ad_borzoi.var.description.str.contains('CAGE') \n",
    "                        & eqtl_ad_borzoi.var.description.str.contains('CD14-CD16',case=False)\n",
    "                        & ~(eqtl_ad_borzoi.var.identifier.str.endswith('-'))],\n",
    "    \"NK cell\":eqtl_ad_borzoi.var.loc[eqtl_ad_borzoi.var.description.str.contains('RNA') \n",
    "                        & eqtl_ad_borzoi.var.description.str.contains('killer',case=False)\n",
    "                        & ~(eqtl_ad_borzoi.var.identifier.str.endswith('-'))],\n",
    "    \"CD56+ NK cell\":eqtl_ad_borzoi.var.loc[eqtl_ad_borzoi.var.description.str.contains('RNA') \n",
    "                        & eqtl_ad_borzoi.var.description.str.contains('killer',case=False)\n",
    "                        & ~(eqtl_ad_borzoi.var.identifier.str.endswith('-'))], \n",
    "    \"plasmablast\":eqtl_ad_borzoi.var.loc[eqtl_ad_borzoi.var.description.str.contains('RNA') \n",
    "                        & eqtl_ad_borzoi.var.description.str.contains('B cell',case=False)\n",
    "                        & ~(eqtl_ad_borzoi.var.identifier.str.endswith('-'))], # B cell seems closest\n",
    "    \"platelet\":eqtl_ad_borzoi.var.loc[eqtl_ad_borzoi.var.description.str.contains('CAGE') \n",
    "                        & eqtl_ad_borzoi.var.description.str.contains('megakaryo',case=False)\n",
    "                        & ~(eqtl_ad_borzoi.var.identifier.str.endswith('-'))],  # Megakaryocyte seems closest??\n",
    "    'dnT cell':eqtl_ad_borzoi.var.loc[eqtl_ad_borzoi.var.description.str.contains('RNA') \n",
    "                        & eqtl_ad_borzoi.var.description.str.contains('CD4|CD8')\n",
    "                        & ~(eqtl_ad_borzoi.var.identifier.str.endswith('-'))], # ???, T-cells as group seem closest, \n",
    "    'gdT cell':eqtl_ad_borzoi.var.loc[eqtl_ad_borzoi.var.description.str.contains('RNA') \n",
    "                        & eqtl_ad_borzoi.var.description.str.contains('CD4|CD8')\n",
    "                        & ~(eqtl_ad_borzoi.var.identifier.str.endswith('-'))], # ???, T-cells as group seem closest,\n",
    "\n",
    "}"
   ]
  },
  {
   "cell_type": "code",
   "execution_count": 15,
   "metadata": {},
   "outputs": [
    {
     "name": "stderr",
     "output_type": "stream",
     "text": [
      "450042it [00:37, 11856.27it/s]\n"
     ]
    }
   ],
   "source": [
    "blood_idx = np.array(eqtl_ad_borzoi.var.loc[eqtl_ad_borzoi.var.description == \"RNA:blood\"].index).astype('int')\n",
    "\n",
    "# make cell mapping mask\n",
    "celltype_to_mask_dict = {}\n",
    "for eqtl_celltype, borzoi_celltype_df in borzoi_mapping.items():\n",
    "    indices = list(borzoi_celltype_df.index)\n",
    "    mask = np.zeros(len(eqtl_ad_borzoi.var))\n",
    "    for ix in indices:\n",
    "        mask[int(ix)] = 1\n",
    "    celltype_to_mask_dict[eqtl_celltype] = mask\n",
    "\n",
    "# extract masked predictions\n",
    "scores = np.zeros(len(susie_backmerged))\n",
    "scores_wholeblood = np.zeros(len(susie_backmerged))\n",
    "i = 0\n",
    "for _,row in tqdm(susie_backmerged.iterrows()):\n",
    "    mask = celltype_to_mask_dict[row['celltype']]\n",
    "    score = (eqtl_ad_borzoi.X[row['index']]*mask).sum()/mask.sum()\n",
    "    scores[i] = score\n",
    "    scores_wholeblood[i] = eqtl_ad_borzoi.X[row['index'],blood_idx].mean()\n",
    "    i += 1\n",
    "susie_backmerged['borzoi_matched_score'] = scores\n",
    "susie_backmerged['abs_borzoi_matched_score'] = np.abs(scores)\n",
    "\n",
    "# also extract RNA whole-blood results\n",
    "susie_backmerged['borzoi_wholeblood_score'] = scores_wholeblood\n",
    "susie_backmerged['abs_borzoi_wholeblood_score'] = np.abs(scores_wholeblood)"
   ]
  },
  {
   "cell_type": "markdown",
   "metadata": {},
   "source": [
    "## Remove duplicates"
   ]
  },
  {
   "cell_type": "code",
   "execution_count": 16,
   "metadata": {},
   "outputs": [
    {
     "data": {
      "text/plain": [
       "443091"
      ]
     },
     "execution_count": 16,
     "metadata": {},
     "output_type": "execute_result"
    }
   ],
   "source": [
    "# for some celltypes, we have duplicate cell-type IDs. There are also some duplicate rsids\n",
    "# We keep the best pip variant\n",
    "susie_backmerged_dedup = susie_backmerged.sort_values(['variant','gene_id','celltype','pip']).drop_duplicates(\n",
    "    subset=['gene_id','variant','celltype'], keep='last')\n",
    "len(susie_backmerged_dedup)"
   ]
  },
  {
   "cell_type": "markdown",
   "metadata": {},
   "source": [
    "## Save model predictions"
   ]
  },
  {
   "cell_type": "code",
   "execution_count": 17,
   "metadata": {},
   "outputs": [],
   "source": [
    "susie_backmerged_dedup.to_csv('susie_backmerged_dedup.csv', index=None)"
   ]
  },
  {
   "cell_type": "code",
   "execution_count": null,
   "metadata": {},
   "outputs": [],
   "source": []
  }
 ],
 "metadata": {
  "kernelspec": {
   "display_name": "Python 3 (ipykernel)",
   "language": "python",
   "name": "python3"
  },
  "language_info": {
   "codemirror_mode": {
    "name": "ipython",
    "version": 3
   },
   "file_extension": ".py",
   "mimetype": "text/x-python",
   "name": "python",
   "nbconvert_exporter": "python",
   "pygments_lexer": "ipython3",
   "version": "3.11.9"
  }
 },
 "nbformat": 4,
 "nbformat_minor": 4
}
