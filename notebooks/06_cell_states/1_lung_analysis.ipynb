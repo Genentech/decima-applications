{
 "cells": [
  {
   "cell_type": "code",
   "execution_count": null,
   "id": "9f988127-53d0-46ec-9991-113943a7b064",
   "metadata": {
    "scrolled": true
   },
   "outputs": [],
   "source": [
    "import numpy as np\n",
    "import pandas as pd\n",
    "import anndata\n",
    "import h5py\n",
    "import os\n",
    "import scipy\n",
    "import tqdm\n",
    "import sys\n",
    "\n",
    "from grelu.interpret.motifs import trim_pwm\n",
    "from grelu.visualize import plot_attributions\n",
    "from grelu.sequence.format import indices_to_strings\n",
    "\n",
    "import torch\n",
    "import seaborn as sns\n",
    "import wandb\n",
    "from plotnine import *\n",
    "\n",
    "sys.path.append('/code/decima/src/decima')\n",
    "sys.path.append('.')\n",
    "\n",
    "from lightning import LightningModel\n",
    "from interpret import read_meme_file\n",
    "from visualize import plot_logo\n",
    "from motif_meta import clustername_mapping, bad_motifs\n",
    "\n",
    "%matplotlib inline"
   ]
  },
  {
   "cell_type": "markdown",
   "id": "5f7246b4-f91c-486d-8326-6f237ccde963",
   "metadata": {},
   "source": [
    "## Paths"
   ]
  },
  {
   "cell_type": "code",
   "execution_count": null,
   "id": "46d6e472-150b-4453-9b40-e21d6b88dfab",
   "metadata": {},
   "outputs": [],
   "source": [
    "save_dir=\"/gstore/data/resbioai/grelu/decima/20240823\"\n",
    "matrix_file = os.path.join(save_dir, \"data.h5ad\")\n",
    "meme_file = \"/gstore/data/resbioai/karollua/Decima/scborzoi/decima/data/jaspar/H12CORE_meme_format.meme\"\n",
    "motif_json = '/gstore/data/resbioai/karollua/Decima/scborzoi/decima/data/jaspar/H12CORE_annotation.jsonl'\n",
    "motifcluster_path = \"/gstore/data/resbioai/karollua/Decima/scborzoi/decima/data/jaspar/cluster/cluster_key.txt\""
   ]
  },
  {
   "cell_type": "markdown",
   "id": "4258111a-56d3-4804-b0e9-7eeb542900f6",
   "metadata": {},
   "source": [
    "## Load data"
   ]
  },
  {
   "cell_type": "code",
   "execution_count": null,
   "id": "b5d43b90-2948-4d32-b530-0e399975709b",
   "metadata": {},
   "outputs": [],
   "source": [
    "ad = anndata.read_h5ad(matrix_file)\n",
    "ad = ad[ad.obs.organ.isin(['lung', 'airway'])]\n",
    "hmotifs, hnames = read_meme_file('../H12CORE_meme_format.meme')"
   ]
  },
  {
   "cell_type": "markdown",
   "id": "b1045ced-07d6-4f42-90dc-cee08dd39e2f",
   "metadata": {},
   "source": [
    "## Subset to epithelial cell types"
   ]
  },
  {
   "cell_type": "code",
   "execution_count": null,
   "id": "530c183f-a78b-458b-92e0-5a0619d332a9",
   "metadata": {},
   "outputs": [],
   "source": [
    "cts = ['respiratory basal cell','type II pneumocyte','type I pneumocyte','lung secretory cell',\n",
    "      'club cell','ciliated cell','goblet cell']"
   ]
  },
  {
   "cell_type": "code",
   "execution_count": null,
   "id": "7385772b-5021-4f68-a875-3d760d8b7a2c",
   "metadata": {},
   "outputs": [],
   "source": [
    "ad = ad[ad.obs.cell_type.isin(cts)]"
   ]
  },
  {
   "cell_type": "markdown",
   "id": "bf0364e4-3b59-4ac0-af4e-4251f6e6276d",
   "metadata": {},
   "source": [
    "## Load motif metadata"
   ]
  },
  {
   "cell_type": "code",
   "execution_count": null,
   "id": "0e3e5ab0-a82b-4fcb-a206-0400e3a3a45c",
   "metadata": {},
   "outputs": [],
   "source": [
    "jsonObj = pd.read_json(motif_json, lines=True)\n",
    "tf_to_family_dict = jsonObj[['name','masterlist_info']].set_index('name').to_dict()['masterlist_info']"
   ]
  },
  {
   "cell_type": "code",
   "execution_count": null,
   "id": "b90f92d8-7963-4430-8a77-204351a77641",
   "metadata": {},
   "outputs": [],
   "source": [
    "motif_clusters = pd.read_csv(motifcluster_path, sep=\"\\t\",names=['cluster_name','hits'])\n",
    "motif_clusters['hits'] = motif_clusters['hits'].apply(lambda x: x.split(','))\n",
    "tf_to_motifcluster_dict = {}\n",
    "for _,row in motif_clusters.iterrows():\n",
    "    for hit in row['hits']:\n",
    "        tf_to_motifcluster_dict[hit] = row['cluster_name']"
   ]
  },
  {
   "cell_type": "markdown",
   "id": "1398a1a0-97aa-47fa-996f-1f46bc06047e",
   "metadata": {},
   "source": [
    "## Match TOMTOM results to HOCOMOCO clusters"
   ]
  },
  {
   "cell_type": "code",
   "execution_count": null,
   "id": "da42a265-0218-4b0a-8313-b23f2f1672e3",
   "metadata": {},
   "outputs": [],
   "source": [
    "rows = []\n",
    "for ct in cts:\n",
    "    print(ct)\n",
    "    ct_ = ct.replace(' ', '_')\n",
    "    modisco_dir = f'lung_modisco/{ct_}'\n",
    "    modisco_h5 = os.path.join(modisco_dir, f'{ct_}.h5')\n",
    "    f = h5py.File(modisco_h5, 'r')\n",
    "    for i in range(len(f['pos_patterns'])):\n",
    "        num_seqlets = f['pos_patterns'][f'pattern_{i}']['seqlets']['n_seqlets'][0]\n",
    "        row = {'cell_type':ct,'pattern':i,'count':num_seqlets}\n",
    "        tomtom = pd.read_csv(os.path.join(modisco_dir,'tomtom',f\"pos_patterns.pattern_{i}.tomtom.tsv\"),sep=\"\\t\").dropna()\n",
    "        tomtom = tomtom[tomtom['q-value'] < 0.05]\n",
    "        if len(tomtom) > 0:\n",
    "            target = tomtom.sort_values('q-value')['Target_ID'].iloc[0]\n",
    "            top_target = tf_to_family_dict[target]['tf']\n",
    "            top_cluster = tf_to_motifcluster_dict[target]\n",
    "            if top_target is not None:\n",
    "                row['target'] = top_target\n",
    "                row['cluster'] = top_cluster\n",
    "                rows.append(row)\n",
    "        \n",
    "ct_motif_df = pd.DataFrame(rows)"
   ]
  },
  {
   "cell_type": "markdown",
   "id": "c68af008-cd53-4748-b9e8-48bce9b14279",
   "metadata": {},
   "source": [
    "## Drop uninformative motif clusters"
   ]
  },
  {
   "cell_type": "code",
   "execution_count": null,
   "id": "c606a1ef-ec9a-4158-8da7-f07134e7491e",
   "metadata": {},
   "outputs": [],
   "source": [
    "low_count_clusters = set(ct_motif_df.groupby('cluster')['count'].sum()[ct_motif_df.groupby('cluster')['count'].sum() < 250].index)"
   ]
  },
  {
   "cell_type": "code",
   "execution_count": null,
   "id": "1225d41a-c644-4dfd-a2c7-05cc1b763720",
   "metadata": {},
   "outputs": [],
   "source": [
    "ct_motif_df = ct_motif_df[~ct_motif_df.cluster.isin(low_count_clusters|bad_motifs)]"
   ]
  },
  {
   "cell_type": "markdown",
   "id": "d5d794f3-5c7c-49c4-8f69-3ba08e5ff4c2",
   "metadata": {},
   "source": [
    "## Compute motif cluster enrichment per cell type"
   ]
  },
  {
   "cell_type": "code",
   "execution_count": null,
   "id": "a134a668-9738-414d-9999-bcad160a9bb5",
   "metadata": {},
   "outputs": [],
   "source": [
    "ct_cluster_df = ct_motif_df.groupby(['cell_type', 'cluster'])['count'].sum().reset_index()\n",
    "seqlet_counts = ct_cluster_df.groupby('cell_type')['count'].sum().reset_index().set_index('cell_type').to_dict()['count']\n",
    "ct_cluster_df = ct_cluster_df.sort_values(['cell_type','count'], ascending=False)\n",
    "ct_cluster_df['total_count'] = ct_cluster_df['cell_type'].apply(lambda x: seqlet_counts[x])\n",
    "ct_cluster_df['weight'] = ct_cluster_df['count']/ct_cluster_df['total_count']\n",
    "ct_cluster_df['weight_sum'] = ct_cluster_df.groupby(['cluster'])['weight'].transform('sum')\n",
    "ct_cluster_df['enrichment'] = ct_cluster_df['weight']/(ct_cluster_df['weight_sum']/len(seqlet_counts))\n",
    "ct_cluster_df['cluster_name'] = ct_cluster_df['cluster'].apply(lambda x: clustername_mapping[x] if x in clustername_mapping else x)"
   ]
  },
  {
   "cell_type": "code",
   "execution_count": null,
   "id": "749bdcea-b719-4c8e-9b1d-80137f3048c6",
   "metadata": {},
   "outputs": [],
   "source": [
    "ct_cluster_pivot = ct_cluster_df[['cell_type','cluster_name','weight']].pivot(\n",
    "    index='cell_type', columns='cluster_name').fillna(0.001)\n",
    "ct_cluster_pivot.columns = [x[1] for x in ct_cluster_pivot.columns]\n",
    "cbar_min, cbar_max = np.array(ct_cluster_pivot).min(),np.array(ct_cluster_pivot).max()\n",
    "ct_cluster_melt = ct_cluster_pivot.reset_index().melt(\n",
    "    id_vars='cell_type', var_name=\"cluster_name\", value_name='Motif\\nweight').fillna(cbar_min)"
   ]
  },
  {
   "cell_type": "code",
   "execution_count": null,
   "id": "0ac8373a-5215-41fc-9cdd-fe75fb910f00",
   "metadata": {},
   "outputs": [],
   "source": [
    "((ct_cluster_pivot - ct_cluster_pivot.mean(0))/ct_cluster_pivot.mean(0)).max(0).sort_values(ascending=False)"
   ]
  },
  {
   "cell_type": "markdown",
   "id": "980c1905-76e2-4382-b983-74847faf2551",
   "metadata": {},
   "source": [
    "## Plot TF expression for top hits"
   ]
  },
  {
   "cell_type": "code",
   "execution_count": null,
   "id": "08006d12-d29a-4f63-8ed3-e0aa5e43a33e",
   "metadata": {},
   "outputs": [],
   "source": [
    "cluster_name = \"TEAD-like\"\n",
    "tf_genes = ['TEAD1','TEAD2','TEAD3','TEAD4']\n",
    "ad_sub = ad[:,ad.var.reset_index()['index'].isin(tf_genes)].copy()\n",
    "ad_sub.obs['expr'] = ad_sub.X.mean(1)\n",
    "plot_df = ad_sub.obs.merge(ct_cluster_melt.query('cluster_name == @cluster_name'), on=\"cell_type\")\n",
    "(\n",
    "    ggplot(plot_df, aes(x=\"cell_type\", y=\"expr\", fill='Motif\\nweight')) \n",
    "    + geom_boxplot(outlier_size=.1, size=.3, width=.5) \n",
    "    + scale_fill_cmap('coolwarm', limits=(cbar_min, .14))\n",
    "    + theme_classic() + theme(figure_size=(6, 1.5))\n",
    "    + xlab(\"\") + ylab(\"\")\n",
    ")"
   ]
  },
  {
   "cell_type": "code",
   "execution_count": null,
   "id": "5c8cb134-7538-4cbf-9a40-68ebd7a57635",
   "metadata": {},
   "outputs": [],
   "source": [
    "cluster_name = \"P53-like\"\n",
    "tf_genes = ['TP63']\n",
    "ad_sub = ad[:,ad.var.index.isin(tf_genes)].copy()\n",
    "ad_sub.obs['expr'] = ad_sub.X.mean(1)\n",
    "plot_df = ad_sub.obs.merge(ct_cluster_melt.query('cluster_name == @cluster_name'), on=\"cell_type\")\n",
    "(\n",
    "    ggplot(plot_df, aes(x=\"cell_type\", y=\"expr\", fill='Motif\\nweight')) \n",
    "    + geom_boxplot(outlier_size=.1, size=.3, width=.5) \n",
    "    + scale_fill_cmap('coolwarm', limits=(cbar_min, .14))\n",
    "    + theme_classic() + theme(figure_size=(6, 1.5)) + xlab(\"\") + ylab(\"\")\n",
    ")"
   ]
  },
  {
   "cell_type": "code",
   "execution_count": null,
   "id": "e20bd6fe-a4cf-4178-8360-cdb1d9f47912",
   "metadata": {},
   "outputs": [],
   "source": [
    "cluster_name = \"RFX\"\n",
    "tf_genes = ['RFX2','RFX3']\n",
    "ad_sub = ad[:,ad.var.index.isin(tf_genes)].copy()\n",
    "ad_sub.obs['expr'] = ad_sub.X.mean(1)\n",
    "plot_df = ad_sub.obs.merge(ct_cluster_melt.query('cluster_name == @cluster_name'), on=\"cell_type\")\n",
    "(\n",
    "    ggplot(plot_df, aes(x=\"cell_type\", y=\"expr\", fill='Motif\\nweight'))\n",
    "    + geom_boxplot(outlier_size=.1, size=.3, width=.5)\n",
    "    + scale_fill_cmap('coolwarm', limits=(cbar_min, .14))\n",
    "    + theme_classic() + theme(figure_size=(6, 1.5)) +xlab(\"\") + ylab(\"\")\n",
    ")"
   ]
  },
  {
   "cell_type": "code",
   "execution_count": null,
   "id": "74b5dbd7-e2c8-48e0-a547-1be2d24279cf",
   "metadata": {},
   "outputs": [],
   "source": [
    "cluster_name = \"SOX-like\"\n",
    "tf_genes = ['SOX2']\n",
    "ad_sub = ad[:,ad.var.index.isin(tf_genes)].copy()\n",
    "ad_sub.obs['expr'] = ad_sub.X.mean(1)\n",
    "plot_df = ad_sub.obs.merge(ct_cluster_melt.query('cluster_name == @cluster_name'), on=\"cell_type\")\n",
    "(\n",
    "    ggplot(plot_df, aes(x=\"cell_type\", y=\"expr\", fill='Motif\\nweight')) \n",
    "    + geom_boxplot(outlier_size=.1, size=.3, width=.5) \n",
    "    + scale_fill_cmap('coolwarm', limits=(cbar_min, .14))\n",
    "    + theme_classic() + theme(figure_size=(6, 1.5)) + xlab(\"\") + ylab(\"\")\n",
    ")"
   ]
  },
  {
   "cell_type": "markdown",
   "id": "1700561f-c6b1-4502-8ec0-b37ba380b849",
   "metadata": {},
   "source": [
    "## Plot motif logos from tf-modisco"
   ]
  },
  {
   "cell_type": "code",
   "execution_count": null,
   "id": "5b3852a3-b803-4dfb-902a-227cd73731b2",
   "metadata": {},
   "outputs": [],
   "source": [
    "ct='type_I_pneumocyte'\n",
    "i=1\n",
    "modisco_h5 = f'lung_modisco/{ct}/{ct}.h5'\n",
    "f = h5py.File(modisco_h5, 'r')\n",
    "m = trim_pwm(np.array(f['pos_patterns'][f'pattern_{i}']['contrib_scores']), 0.1)\n",
    "display(plot_attributions(m.T, figsize=(2,.8)))"
   ]
  },
  {
   "cell_type": "code",
   "execution_count": null,
   "id": "2f11690b-c9a9-4ab3-a920-6a5d7ad54468",
   "metadata": {},
   "outputs": [],
   "source": [
    "ct='ciliated_cell'\n",
    "i=6\n",
    "modisco_h5 = f'lung_modisco/{ct}/{ct}.h5'\n",
    "f = h5py.File(modisco_h5, 'r')\n",
    "m = trim_pwm(np.array(f['pos_patterns'][f'pattern_{i}']['contrib_scores']), 0.1)\n",
    "s = indices_to_strings(m.argmax(1))\n",
    "display(plot_attributions(m.T, figsize=(2,.8)))"
   ]
  },
  {
   "cell_type": "code",
   "execution_count": null,
   "id": "2c088d05-5049-43fa-85ad-abf3f8b5e553",
   "metadata": {},
   "outputs": [],
   "source": [
    "ct='respiratory_basal_cell'\n",
    "i=2\n",
    "modisco_h5 = f'lung_modisco/{ct}/{ct}.h5'\n",
    "f = h5py.File(modisco_h5, 'r')\n",
    "m = trim_pwm(np.array(f['pos_patterns'][f'pattern_{i}']['contrib_scores']), 0.1)\n",
    "s = indices_to_strings(m.argmax(1))\n",
    "display(plot_attributions(m.T, figsize=(2,.8)))"
   ]
  },
  {
   "cell_type": "code",
   "execution_count": null,
   "id": "5a57c19b-9b09-4db4-ba71-12c10b11ef68",
   "metadata": {},
   "outputs": [],
   "source": [
    "ct='ciliated_cell'\n",
    "i=5\n",
    "modisco_h5 = f'lung_modisco/{ct}/{ct}.h5'\n",
    "f = h5py.File(modisco_h5, 'r')\n",
    "m = trim_pwm(np.array(f['pos_patterns'][f'pattern_{i}']['contrib_scores']), 0.1)\n",
    "display(plot_attributions(m.T, figsize=(2,.8)))"
   ]
  },
  {
   "cell_type": "markdown",
   "id": "921f0c40-a051-4336-92d5-72a020d78862",
   "metadata": {},
   "source": [
    "## Plot logos from HOCOMOCO"
   ]
  },
  {
   "cell_type": "code",
   "execution_count": null,
   "id": "1563dd24-b1af-48a5-9458-c44de0c85816",
   "metadata": {},
   "outputs": [],
   "source": [
    "for i in np.where(['P63' in x for x in hnames])[0]:\n",
    "    print(hnames[i])\n",
    "    plot_logo(hmotifs[i])"
   ]
  },
  {
   "cell_type": "code",
   "execution_count": null,
   "id": "21876956-e4e9-4cb6-8dd6-ac41ed134172",
   "metadata": {},
   "outputs": [],
   "source": []
  }
 ],
 "metadata": {
  "kernelspec": {
   "display_name": "Python 3 (ipykernel)",
   "language": "python",
   "name": "python3"
  },
  "language_info": {
   "codemirror_mode": {
    "name": "ipython",
    "version": 3
   },
   "file_extension": ".py",
   "mimetype": "text/x-python",
   "name": "python",
   "nbconvert_exporter": "python",
   "pygments_lexer": "ipython3",
   "version": "3.11.9"
  }
 },
 "nbformat": 4,
 "nbformat_minor": 5
}
