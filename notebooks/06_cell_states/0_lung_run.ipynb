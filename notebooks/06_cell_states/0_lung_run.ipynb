{
 "cells": [
  {
   "cell_type": "code",
   "execution_count": null,
   "id": "22b1ef2f-d8f9-4c2a-98b6-d12a79b89df2",
   "metadata": {},
   "outputs": [],
   "source": [
    "import numpy as np\n",
    "import pandas as pd\n",
    "import anndata\n",
    "import os\n",
    "import tqdm"
   ]
  },
  {
   "cell_type": "markdown",
   "id": "220e9c2d-3cd8-4ea8-8403-c37c37b9be20",
   "metadata": {},
   "source": [
    "## Paths"
   ]
  },
  {
   "cell_type": "code",
   "execution_count": null,
   "id": "41627985-b9c4-4182-aabb-9c9eaa42b780",
   "metadata": {},
   "outputs": [],
   "source": [
    "ckpts={\n",
    "'kugrjb50': '/gstore/data/resbioai/grelu/decima/20240823/lightning_logs/kugrjb50/checkpoints/epoch=3-step=2920.ckpt',\n",
    "'i68hdsdk': '/gstore/data/resbioai/grelu/decima/20240823/lightning_logs/i68hdsdk/checkpoints/epoch=2-step=2190.ckpt',\n",
    "'0as9e8of': '/gstore/data/resbioai/grelu/decima/20240823/lightning_logs/0as9e8of/checkpoints/epoch=7-step=5840.ckpt',\n",
    "'i9zsp4nm': '/gstore/data/resbioai/grelu/decima/20240823/lightning_logs/i9zsp4nm/checkpoints/epoch=8-step=6570.ckpt',\n",
    "}\n",
    "\n",
    "matrix_file = \"/gstore/data/resbioai/grelu/decima/20240823/data.h5ad\"\n",
    "h5_file = \"/gstore/data/resbioai/grelu/decima/20240823/data.h5\"\n",
    "meme_file_modisco = \"/gstore/data/resbioai/karollua/Decima/scborzoi/decima/data/jaspar/H12CORE_meme_format.meme\"\n",
    "\n",
    "# where to save results\n",
    "save_dir = \"/gstore/data/resbioai/karollua/Decima/scborzoi/decima/\"\n",
    "ensembl_out_dir = \"/gstore/data/resbioai/karollua/Decima/scborzoi/decima/results/ensemble\""
   ]
  },
  {
   "cell_type": "markdown",
   "id": "75385b96-6f5d-4b85-b3d9-db1d014435c1",
   "metadata": {},
   "source": [
    "## Load data"
   ]
  },
  {
   "cell_type": "code",
   "execution_count": null,
   "id": "732d5837-55f2-4654-b72f-bdd31f310ed1",
   "metadata": {},
   "outputs": [],
   "source": [
    "ad = anndata.read_h5ad(matrix_file)\n",
    "ad_full = ad.copy()\n",
    "ad = ad[:,ad.var.dataset == \"test\"]"
   ]
  },
  {
   "cell_type": "markdown",
   "id": "680e0977-defb-4d5d-b4bf-0733694cc3e7",
   "metadata": {},
   "source": [
    "## Compute attributions for each cell type and model replicate"
   ]
  },
  {
   "cell_type": "code",
   "execution_count": null,
   "id": "70427645-30fb-4e2a-8313-3ff431facd98",
   "metadata": {},
   "outputs": [],
   "source": [
    "all_cts = set(['respiratory basal cell','type II pneumocyte','type I pneumocyte','lung secretory cell','club cell','ciliated cell','goblet cell'])\n",
    "tissues = set(ad.obs.query('cell_type in [\"type II pneumocyte\", \"type I pneumocyte\"]')['tissue']\n",
    "marker_df = make_marker_df(ad_full[ad_full.obs.tissue.isin(set(ad.obs.query('cell_type in [\"type II pneumocyte\", \"type I pneumocyte\"]')['tissue']))])\n",
    "top_n_cut=250\n",
    "\n",
    "for ct in all_cts:\n",
    "    ct_name = ct.replace(\" \",\"_\")\n",
    "    background_cts = list(all_cts - set([ct]))\n",
    "    devices = [3,4,6,7]\n",
    "    i = 0\n",
    "    for run_id, ckpt_file in ckpts.items():\n",
    "        device = devices[i]        \n",
    "        out_dir = os.path.join(save_dir, \"results\", run_id, f\"{ct_name}__vs__lung\")\n",
    "        gene_df_file = os.path.join(out_dir,'gene_df.csv')\n",
    "        targets_file = os.path.join(out_dir,'targets.csv')\n",
    "        \n",
    "        # make a data frame with top n genes according to cell-type z-score\n",
    "        df = (marker_df.query('cell_type == @ct').sort_values('spring_score_pred', ascending=False).iloc[:top_n_cut])\n",
    "    \n",
    "        # make task df\n",
    "        dfc = ad.obs[['cell_type','tissue','disease','study']].query('cell_type == @ct and tissue in @tissues').reset_index()\n",
    "        task_df_on = pd.DataFrame([{\"task_type\":\"on\",'task':x} for x in list(set(dfc['index'].tolist()))])\n",
    "        dfc =  ad.obs[['cell_type','tissue','disease','study']].query('cell_type in @background_cts').reset_index()\n",
    "        dfc = dfc.loc[dfc.tissue.isin(tissues)]\n",
    "        task_df_off = pd.DataFrame([{\"task_type\":\"off\",'task':x} for x in list(set(dfc['index'].tolist()))])\n",
    "        task_df = pd.concat([task_df_on,task_df_off])\n",
    "        \n",
    "        # write gene and task df\n",
    "        df.to_csv(gene_df_file, index=None)\n",
    "        task_df.to_csv(targets_file, index=None)\n",
    "        \n",
    "        # make and execute command\n",
    "        cmd = f\"python Interpret.py -device {device} -ckpt_file {ckpt_file} -h5_file {h5_file} -gene_df_file {gene_df_file} \\\n",
    "            -targets_file {targets_file} -out_dir {out_dir}\"\n",
    "        cmd = \" \".join(cmd.split())\n",
    "        print(cmd)\n",
    "\n",
    "        i += 1"
   ]
  },
  {
   "cell_type": "markdown",
   "id": "f48fc1ba-85b4-4215-92ae-1030e7571a74",
   "metadata": {},
   "source": [
    "## Average attributions and run modisco for each cell type"
   ]
  },
  {
   "cell_type": "code",
   "execution_count": null,
   "id": "49aef59d-6348-488b-9316-407c219c49f0",
   "metadata": {},
   "outputs": [],
   "source": [
    "for ct in tqdm.tqdm(all_cts):\n",
    "    ct_name = ct.replace(\" \",\"_\")\n",
    "    attrs = []\n",
    "    results_path_ensemble = os.path.join(ensembl_out_dir, f\"{ct_name}__vs__lung\")\n",
    "    \n",
    "    for run_id, ckpt_file in ckpts.items():\n",
    "        \n",
    "        # collect attributons for all replicates\n",
    "        results_path_model = os.path.join(save_dir, \"results\", run_id)\n",
    "        attr = np.load(os.path.join(results_path_model, f\"{ct_name}__vs__lung\", \"attributions.npy\"))\n",
    "        attrs.append(attr)\n",
    "        \n",
    "    # average the attributions\n",
    "    attrs = np.stack(attrs).mean(0)\n",
    "    attr_file = os.path.join(results_path_ensemble, \"attributions.npy\")\n",
    "    np.save(attr_file, attrs)\n",
    "    \n",
    "    # save one sequence tensor csv\n",
    "    seq = np.load(os.path.join(results_path_model, f\"{ct_name}__vs__lung\", \"sequences.npy\"))\n",
    "    seq_file = os.path.join(results_path_ensemble, \"sequences.npy\")\n",
    "    np.save(seq_file, seq)\n",
    "\n",
    "    # Modisco\n",
    "    modisco_dir = os.path.join(ensembl_out_dir, f\"{ct_name}__vs__lung\")\n",
    "    cmd = f\"python InterpretModisco.py -seq_file {seq_file} -attr_file {attr_file}  -meme_file {meme_file} -out_dir {modisco_dir}\"\n",
    "    print(cmd)"
   ]
  }
 ],
 "metadata": {
  "kernelspec": {
   "display_name": "Python 3 (ipykernel)",
   "language": "python",
   "name": "python3"
  },
  "language_info": {
   "codemirror_mode": {
    "name": "ipython",
    "version": 3
   },
   "file_extension": ".py",
   "mimetype": "text/x-python",
   "name": "python",
   "nbconvert_exporter": "python",
   "pygments_lexer": "ipython3",
   "version": "3.11.9"
  }
 },
 "nbformat": 4,
 "nbformat_minor": 5
}
