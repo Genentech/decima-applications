{
 "cells": [
  {
   "cell_type": "code",
   "execution_count": null,
   "id": "176026a1-64b3-4103-a87f-ca3ccb7542a5",
   "metadata": {},
   "outputs": [],
   "source": [
    "import numpy as np\n",
    "import pandas as pd\n",
    "import anndata\n",
    "import os, sys\n",
    "import h5py\n",
    "\n",
    "from grelu.visualize import plot_attributions\n",
    "from grelu.interpret.motifs import trim_pwm\n",
    "\n",
    "sys.path.append('/code/decima/src/decima')\n",
    "\n",
    "from interpret import read_meme_file\n",
    "from visualize import plot_logo\n",
    "\n",
    "from plotnine import *\n",
    "import matplotlib.pyplot as plt\n",
    "import seaborn as sns\n",
    "%matplotlib inline"
   ]
  },
  {
   "cell_type": "markdown",
   "id": "577543a6-a6dc-4378-8b5f-75f4e73e0262",
   "metadata": {},
   "source": [
    "## Paths"
   ]
  },
  {
   "cell_type": "code",
   "execution_count": null,
   "id": "bafebc21-6e9e-45bf-943d-ed289792ebde",
   "metadata": {},
   "outputs": [],
   "source": [
    "save_dir=\"/gstore/data/resbioai/grelu/decima/20240823\"\n",
    "matrix_file = os.path.join(save_dir, \"data.h5ad\")\n",
    "h5_file = os.path.join(save_dir, \"data.h5\")\n",
    "ckpt_dir = os.path.join(save_dir, 'lightning_logs')"
   ]
  },
  {
   "cell_type": "markdown",
   "id": "06dee489-541f-4bb7-8d9c-d7e3cb26d2ce",
   "metadata": {},
   "source": [
    "## Read data"
   ]
  },
  {
   "cell_type": "code",
   "execution_count": null,
   "id": "1306bca0-df6e-4acf-8741-9f6cc07273c0",
   "metadata": {},
   "outputs": [],
   "source": [
    "ad = anndata.read_h5ad(matrix_file)\n",
    "ad = ad[ad.obs.organ=='CNS']"
   ]
  },
  {
   "cell_type": "code",
   "execution_count": null,
   "id": "b4a5c4f8-2af0-40e2-bf35-789ce6043950",
   "metadata": {},
   "outputs": [],
   "source": [
    "motifs, names = read_meme_file('../H12CORE_meme_format.meme')"
   ]
  },
  {
   "cell_type": "markdown",
   "id": "0dc496cf-63a2-4586-8491-4862d1fa0a3b",
   "metadata": {},
   "source": [
    "## Group brain cells"
   ]
  },
  {
   "cell_type": "code",
   "execution_count": null,
   "id": "5b79309a-0f77-4a24-aac7-91d55cbb8d2f",
   "metadata": {},
   "outputs": [],
   "source": [
    "ad.obs['Group'] = None\n",
    "ad.obs.loc[ad.obs.cell_type.isin([\n",
    "    'Amygdala excitatory', 'CGE interneuron', 'Cerebellar inhibitory', 'Deep-layer corticothalamic and 6b',\n",
    "    'Deep-layer intratelencephalic', 'Deep-layer near-projecting', 'Eccentric medium spiny neuron', 'Hippocampal CA1-3',\n",
    " 'Hippocampal CA4', 'Hippocampal dentate gyrus', 'LAMP5-LHX6 and Chandelier', 'Lower rhombic lip', 'MGE interneuron',\n",
    "    'Mammillary body', 'Medium spiny neuron','Midbrain-derived inhibitory','Splatter', 'Thalamic excitatory',\n",
    " 'Upper rhombic lip','Upper-layer intratelencephalic',\n",
    "]), 'Group'] = 'Neuron'\n",
    "\n",
    "ad.obs.loc[ad.obs.cell_type.isin([\n",
    "'Astrocyte', 'Bergmann glia','Microglia', 'Oligodendrocyte', 'Oligodendrocyte precursor','Committed oligodendrocyte precursor',\n",
    "]), 'Group'] = 'Glia'\n",
    "\n",
    "ad.obs.loc[ad.obs.cell_type.isin(['Choroid plexus', 'Ependymal']), 'Group'] = 'BBB'\n",
    "ad.obs.loc[ad.obs.cell_type.isin(['Vascular', 'fibroblast']), 'Group'] = 'Other'"
   ]
  },
  {
   "cell_type": "markdown",
   "id": "9690a4a0-7388-40d6-8785-955a017c59d8",
   "metadata": {},
   "source": [
    "## Predict differential expression (neurons vs. others)"
   ]
  },
  {
   "cell_type": "code",
   "execution_count": null,
   "id": "3ef8a83c-ae28-4828-bd0b-490551364045",
   "metadata": {},
   "outputs": [],
   "source": [
    "ad.var['diff_true'] = ad[ad.obs.Group == 'Neuron'].X.mean(0) - ad[ad.obs.Group != 'Neuron'].X.mean(0)\n",
    "ad.var['diff_pred'] =  ad[ad.obs.Group == 'Neuron'].layers['preds'].mean(0) - ad[ad.obs.Group != 'Neuron'].layers['preds'].mean(0)\n",
    "print(scipy.stats.pearsonr(ad.var.loc[ad.var.dataset=='test', 'diff_true'], ad.var.loc[ad.var.dataset=='test', 'diff_pred']))\n",
    "(\n",
    "    ggplot(ad.var[ad.var.dataset=='test'], aes(x='diff_true', y='diff_pred')) \n",
    "    + geom_pointdensity(size=.1) + theme_classic() + theme(figure_size=(2.5, 2.7))\n",
    "    + xlab('Measured log FC') + ylab('Predicted logFC')\n",
    "    + ggtitle('      Neurons vs.\\n  non-neurons (brain)')\n",
    "    + geom_abline(slope=1, intercept=0)\n",
    "    + geom_vline(xintercept = 0, linetype='--')\n",
    "    + geom_hline(yintercept = 0, linetype='--')\n",
    ")"
   ]
  },
  {
   "cell_type": "markdown",
   "id": "00857869-6db0-4306-a221-660e57dbc723",
   "metadata": {},
   "source": [
    "## Plot tf expression"
   ]
  },
  {
   "cell_type": "code",
   "execution_count": null,
   "id": "849889c0-1acd-48c8-98d3-0f8426e9d0a6",
   "metadata": {},
   "outputs": [],
   "source": [
    "gene = 'MYT1L'\n",
    "ad.obs.cell_type = pd.Categorical(ad.obs.cell_type,\n",
    "        categories=ad.obs.groupby('cell_type')[gene].median().sort_values(\n",
    "            ascending=False).index.tolist())\n",
    "(\n",
    "    ggplot(ad.obs, aes(x='cell_type', y=gene, fill='Group'))\n",
    "    + geom_boxplot(outlier_size=.1, size=.3) + theme_classic() + theme(figure_size=(3.6, 1.8))\n",
    "    +theme(axis_text_x=element_blank()) + ylab('Measured Expression') + xlab('Cell type')\n",
    ")"
   ]
  },
  {
   "cell_type": "code",
   "execution_count": null,
   "id": "dec1ca21-db69-4149-9ce7-3da8a1f1ff6a",
   "metadata": {},
   "outputs": [],
   "source": [
    "gene = 'REST'\n",
    "ad.obs.cell_type = pd.Categorical(ad.obs.cell_type,\n",
    "        categories=ad.obs.groupby('cell_type')[gene].median().sort_values().index.tolist())\n",
    "(\n",
    "    ggplot(ad.obs, aes(x='cell_type', y=gene, fill='Group'))\n",
    "    + geom_boxplot(outlier_size=.1, size=.3) + theme_classic() + theme(figure_size=(4, 1.8))\n",
    "    +theme(axis_text_x=element_blank()) + ylab('Measured\\nExpression') + xlab('Cell type')\n",
    ")"
   ]
  },
  {
   "cell_type": "markdown",
   "id": "e3ca3655-109a-4eca-945d-de59ea33a067",
   "metadata": {},
   "source": [
    "## Plot modisco logos"
   ]
  },
  {
   "cell_type": "code",
   "execution_count": null,
   "id": "985483ef-8cb5-41aa-8a5c-fce39b26d3d2",
   "metadata": {},
   "outputs": [],
   "source": [
    "i=0\n",
    "modisco_h5 = f'brain_modisco/neuron_vs_glia_modisco/modisco_report.h5'\n",
    "f = h5py.File(modisco_h5, 'r')\n",
    "m = trim_pwm(np.array(f['neg_patterns'][f'pattern_{i}']['contrib_scores']), 0.1)\n",
    "display(plot_attributions(m.T, figsize=(2,.8)))"
   ]
  },
  {
   "cell_type": "code",
   "execution_count": null,
   "id": "bbcacb9d-794f-4e65-8762-19bac1aeaac7",
   "metadata": {},
   "outputs": [],
   "source": [
    "i=12\n",
    "modisco_h5 = f'brain_modisco/neuron_vs_glia_modisco/modisco_report.h5'\n",
    "f = h5py.File(modisco_h5, 'r')\n",
    "m = trim_pwm(np.array(f['pos_patterns'][f'pattern_{i}']['contrib_scores']), 0.1)\n",
    "display(plot_attributions(np.flip(m.T, (0, 1)), figsize=(4, 1)))"
   ]
  },
  {
   "cell_type": "markdown",
   "id": "37c27e9e-bff1-41e5-ab27-1a08a02c18bd",
   "metadata": {},
   "source": [
    "## Plot hocomoco logos"
   ]
  },
  {
   "cell_type": "code",
   "execution_count": null,
   "id": "6c970b88-e87d-46a0-9c0e-015ea79ff56b",
   "metadata": {},
   "outputs": [],
   "source": [
    "plot_logo(motifs[np.where(np.array(names)=='MYT1L')[0][0]])"
   ]
  },
  {
   "cell_type": "code",
   "execution_count": null,
   "id": "b6efecaa-cf84-4daa-91a9-76faef0c8c21",
   "metadata": {
    "scrolled": true
   },
   "outputs": [],
   "source": [
    "plot_logo(motifs[np.where(np.array(names)=='REST')[0][0]], figsize=(4,1))"
   ]
  },
  {
   "cell_type": "code",
   "execution_count": null,
   "id": "93a6d9c2-7ee9-4403-bd8e-2d7d22b6a5bd",
   "metadata": {},
   "outputs": [],
   "source": []
  }
 ],
 "metadata": {
  "kernelspec": {
   "display_name": "Python 3 (ipykernel)",
   "language": "python",
   "name": "python3"
  },
  "language_info": {
   "codemirror_mode": {
    "name": "ipython",
    "version": 3
   },
   "file_extension": ".py",
   "mimetype": "text/x-python",
   "name": "python",
   "nbconvert_exporter": "python",
   "pygments_lexer": "ipython3",
   "version": "3.11.9"
  }
 },
 "nbformat": 4,
 "nbformat_minor": 5
}
