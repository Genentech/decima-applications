{
 "cells": [
  {
   "cell_type": "code",
   "execution_count": null,
   "id": "c38689b1-0487-401d-bbf8-c4a05d2f55be",
   "metadata": {},
   "outputs": [],
   "source": [
    "import numpy as np\n",
    "import pandas as pd\n",
    "import anndata\n",
    "import os\n",
    "import tqdm\n",
    "import sys\n",
    "import torch\n",
    "import wandb\n",
    "\n",
    "from grelu.transforms.prediction_transforms import Aggregate, Specificity\n",
    "\n",
    "sys.path.append('/code/decima/src/decima')\n",
    "from lightning import LightningModel\n",
    "from evaluate import marker_zscores\n",
    "\n",
    "%matplotlib inline"
   ]
  },
  {
   "cell_type": "markdown",
   "id": "f0bc9062-db17-4ad3-9049-aa5dd79dde44",
   "metadata": {},
   "source": [
    "## Paths"
   ]
  },
  {
   "cell_type": "code",
   "execution_count": null,
   "id": "c321ee09-ebe7-4020-a435-5e29fbdb979b",
   "metadata": {},
   "outputs": [],
   "source": [
    "save_dir=\"/gstore/data/resbioai/grelu/decima/20240823\"\n",
    "matrix_file = os.path.join(save_dir, \"data.h5ad\")\n",
    "h5_file = os.path.join(save_dir, \"data.h5\")\n",
    "ckpt_dir = os.path.join(save_dir, 'lightning_logs')\n",
    "meme_file = \"/gstore/data/resbioai/karollua/Decima/scborzoi/decima/data/jaspar/H12CORE_meme_format.meme\""
   ]
  },
  {
   "cell_type": "markdown",
   "id": "373f5fc4-d91e-4563-b03e-9a5e708d9f45",
   "metadata": {},
   "source": [
    "## Load data and models"
   ]
  },
  {
   "cell_type": "code",
   "execution_count": null,
   "id": "00667e0f-1ece-46b9-9e54-38fb03217063",
   "metadata": {},
   "outputs": [],
   "source": [
    "ad = anndata.read_h5ad(matrix_file)\n",
    "ad = ad[ad.obs.dataset=='brain_atlas']"
   ]
  },
  {
   "cell_type": "code",
   "execution_count": null,
   "id": "cc63b1b3-469f-43d9-a4b9-f193acd0d6e9",
   "metadata": {
    "scrolled": true
   },
   "outputs": [],
   "source": [
    "wandb.login(host=\"https://genentech.wandb.io\")\n",
    "ckpts=[\n",
    "'/gstore/data/resbioai/grelu/decima/20240823/lightning_logs/kugrjb50/checkpoints/epoch=3-step=2920.ckpt',\n",
    "'/gstore/data/resbioai/grelu/decima/20240823/lightning_logs/i68hdsdk/checkpoints/epoch=2-step=2190.ckpt',\n",
    "'/gstore/data/resbioai/grelu/decima/20240823/lightning_logs/0as9e8of/checkpoints/epoch=7-step=5840.ckpt',\n",
    "'/gstore/data/resbioai/grelu/decima/20240823/lightning_logs/i9zsp4nm/checkpoints/epoch=8-step=6570.ckpt',\n",
    "]\n",
    "models = [LightningModel.load_from_checkpoint(ckpt).eval() for ckpt in ckpts]"
   ]
  },
  {
   "cell_type": "markdown",
   "id": "9162ca04-4f1e-4011-bbbd-78636d373a3d",
   "metadata": {},
   "source": [
    "## combine all neuronal subtypes into a single group"
   ]
  },
  {
   "cell_type": "code",
   "execution_count": null,
   "id": "a64cec3b-e627-490d-84e4-49078923b010",
   "metadata": {},
   "outputs": [],
   "source": [
    "ad.obs['Group'] = ad.obs.cell_type.tolist()\n",
    "ad.obs.loc[ad.obs.cell_type.isin([\n",
    "    'Amygdala excitatory', 'CGE interneuron', 'Cerebellar inhibitory', 'Deep-layer corticothalamic and 6b',\n",
    "    'Deep-layer intratelencephalic', 'Deep-layer near-projecting', 'Eccentric medium spiny neuron', 'Hippocampal CA1-3',\n",
    " 'Hippocampal CA4', 'Hippocampal dentate gyrus', 'LAMP5-LHX6 and Chandelier', 'Lower rhombic lip', 'MGE interneuron',\n",
    "    'Mammillary body', 'Medium spiny neuron','Midbrain-derived inhibitory','Splatter', 'Thalamic excitatory',\n",
    " 'Upper rhombic lip','Upper-layer intratelencephalic']), 'Group'] = 'Neuron'"
   ]
  },
  {
   "cell_type": "code",
   "execution_count": null,
   "id": "6407996a-a836-4dc4-aeb4-4a27150c13b1",
   "metadata": {},
   "outputs": [],
   "source": [
    "neg_groups = ['Astrocyte', 'Bergmann glia','Choroid plexus','Ependymal','Microglia','Oligodendrocyte']\n",
    "pos_groups = ['Neuron']"
   ]
  },
  {
   "cell_type": "markdown",
   "id": "dde673d3-d574-4c78-929b-bb349c9e7c71",
   "metadata": {},
   "source": [
    "## Select top neuron-specific genes"
   ]
  },
  {
   "cell_type": "code",
   "execution_count": null,
   "id": "47ce3fd5-e7bc-4059-b9b0-1d5e60ef8e95",
   "metadata": {},
   "outputs": [],
   "source": [
    "gene_df = marker_zscores(ad[ad.obs.Group.isin(pos_groups + neg_groups)], key='Group', layer='preds')\n",
    "genes = gene_df[gene_df.Group=='Neuron'].sort_values('score', ascending=False).head(250)\n",
    "genes = genes.gene.tolist()"
   ]
  },
  {
   "cell_type": "markdown",
   "id": "badc61a9-300f-46b5-905b-e545a46e9ba7",
   "metadata": {},
   "source": [
    "## Calculate differential attributions for these genes and run modisco"
   ]
  },
  {
   "cell_type": "code",
   "execution_count": null,
   "id": "351f2854-29e8-4e88-b171-0d53bcef5e1a",
   "metadata": {},
   "outputs": [],
   "source": [
    "on_tasks = ad.obs_names[ad.obs.Group.isin(pos_cts)].tolist()\n",
    "off_tasks = ad.obs_names[ad.obs.Group.isin(neg_cts)].tolist()"
   ]
  },
  {
   "cell_type": "code",
   "execution_count": null,
   "id": "b81204ee-1c42-443f-a84f-1adde9f9ad4c",
   "metadata": {},
   "outputs": [],
   "source": [
    "sequences = []\n",
    "attributions = []\n",
    "with torch.no_grad():\n",
    "    for gene in tqdm.tqdm(genes):\n",
    "        gene_attrs = []\n",
    "        for model in models:\n",
    "            model = model.eval()\n",
    "            seq, tss_pos, attr = get_attr(gene=gene, h5_file=h5_file, model=model, device=0, \n",
    "                tasks=on_tasks, off_tasks=off_tasks, transform='specificity', method=Saliency, abs=False)\n",
    "            gene_attrs.append(attr)\n",
    "\n",
    "        gene_attrs = np.stack(gene_attrs).mean(0)\n",
    "        attributions.append(gene_attrs[:4, tss_pos-10000:tss_pos+10000])\n",
    "        sequences.append(seq[:4, tss_pos-10000:tss_pos+10000])\n",
    "\n",
    "sequences = np.stack(sequences)\n",
    "attributions = np.stack(attributions)"
   ]
  },
  {
   "cell_type": "code",
   "execution_count": null,
   "id": "5ec008a3-af8a-486f-9a87-159f02e1d50e",
   "metadata": {},
   "outputs": [],
   "source": [
    "attributions = attributions - attributions.mean(1, keepdims=True)\n",
    "out_dir = 'neuron_vs_glia_modisco'\n",
    "seq_path = os.path.join(out_dir, 'sequences.npy')\n",
    "attr_path = os.path.join(out_dir, 'attributions.npy')\n",
    "np.save(attr_path, attributions)\n",
    "np.save(seq_path, sequences)"
   ]
  },
  {
   "cell_type": "code",
   "execution_count": null,
   "id": "5b03dc50-324b-4859-8454-0e2e66c272af",
   "metadata": {},
   "outputs": [],
   "source": [
    "print(f'python modisco_simple.py -seq_file {seq_path} -attr_file {attr_path} -meme_file {meme_file} -out_dir {out_dir}')"
   ]
  },
  {
   "cell_type": "markdown",
   "id": "cf370553-9810-47a5-b270-568e05385469",
   "metadata": {},
   "source": [
    "## Modisco on neurons only"
   ]
  },
  {
   "cell_type": "code",
   "execution_count": null,
   "id": "029000cc-95c0-4aa7-a805-b62cdb614940",
   "metadata": {},
   "outputs": [],
   "source": [
    "sequences = []\n",
    "attributions = []\n",
    "with torch.no_grad():\n",
    "    for gene in tqdm.tqdm(genes):\n",
    "        gene_attrs = []\n",
    "        for model in models:\n",
    "            model = model.eval()\n",
    "            seq, tss_pos, attr = get_attr(gene=gene, h5_file=h5_file, model=model, device=0, \n",
    "                tasks=on_tasks, transform='aggregate', method=Saliency, abs=False)\n",
    "            gene_attrs.append(attr)\n",
    "\n",
    "        gene_attrs = np.stack(gene_attrs).mean(0)\n",
    "        attributions.append(gene_attrs[:4, tss_pos-10000:tss_pos+10000])\n",
    "        sequences.append(seq[:4, tss_pos-10000:tss_pos+10000])\n",
    "\n",
    "sequences = np.stack(sequences)\n",
    "attributions = np.stack(attributions)"
   ]
  },
  {
   "cell_type": "code",
   "execution_count": null,
   "id": "7a6b93ff-52d9-4519-9cb6-342a80b6d372",
   "metadata": {},
   "outputs": [],
   "source": [
    "attributions = attributions - attributions.mean(1, keepdims=True)\n",
    "out_dir = 'neuron_modisco'\n",
    "seq_path = os.path.join(out_dir, 'sequences.npy')\n",
    "attr_path = os.path.join(out_dir, 'attributions.npy')\n",
    "np.save(attr_path, attributions)\n",
    "np.save(seq_path, sequences)"
   ]
  },
  {
   "cell_type": "code",
   "execution_count": null,
   "id": "78516087-ab9f-4380-952d-8f51df649c60",
   "metadata": {},
   "outputs": [],
   "source": [
    "print(f'python modisco_simple.py -seq_file {seq_path} -attr_file {attr_path} -meme_file {meme_file} -out_dir {out_dir}')"
   ]
  },
  {
   "cell_type": "markdown",
   "id": "c2f67d64-6dbd-4b99-9e42-dceace8ede58",
   "metadata": {},
   "source": [
    "## Modisco on non-neurons only"
   ]
  },
  {
   "cell_type": "code",
   "execution_count": null,
   "id": "4604e4a4-f49a-4b33-9c9c-b28709c30805",
   "metadata": {},
   "outputs": [],
   "source": [
    "sequences = []\n",
    "attributions = []\n",
    "with torch.no_grad():\n",
    "    for gene in tqdm.tqdm(genes):\n",
    "        gene_attrs = []\n",
    "        for model in models:\n",
    "            model = model.eval()\n",
    "            seq, tss_pos, attr = get_attr(gene=gene, h5_file=h5_file, model=model, device=0, \n",
    "                tasks=off_tasks, transform='aggregate', method=Saliency, abs=False)\n",
    "            gene_attrs.append(attr)\n",
    "\n",
    "        gene_attrs = np.stack(gene_attrs).mean(0)\n",
    "        attributions.append(gene_attrs[:4, tss_pos-10000:tss_pos+10000])\n",
    "        sequences.append(seq[:4, tss_pos-10000:tss_pos+10000])\n",
    "\n",
    "sequences = np.stack(sequences)\n",
    "attributions = np.stack(attributions)"
   ]
  },
  {
   "cell_type": "code",
   "execution_count": null,
   "id": "049aa2eb-6a56-41cd-8bfa-de6ee3d368c1",
   "metadata": {},
   "outputs": [],
   "source": [
    "attributions = attributions - attributions.mean(1, keepdims=True)\n",
    "out_dir = 'glia_modisco'\n",
    "seq_path = os.path.join(out_dir, 'sequences.npy')\n",
    "attr_path = os.path.join(out_dir, 'attributions.npy')\n",
    "np.save(attr_path, attributions)\n",
    "np.save(seq_path, sequences)"
   ]
  },
  {
   "cell_type": "code",
   "execution_count": null,
   "id": "1b749426-efeb-4f9d-be95-4eedc2f9732a",
   "metadata": {},
   "outputs": [],
   "source": [
    "print(f'python modisco_simple.py -seq_file {seq_path} -attr_file {attr_path} -meme_file {meme_file} -out_dir {out_dir}')"
   ]
  },
  {
   "cell_type": "code",
   "execution_count": null,
   "id": "be93434a-8efa-4a59-a93e-3f0af0cd0e1d",
   "metadata": {},
   "outputs": [],
   "source": []
  }
 ],
 "metadata": {
  "kernelspec": {
   "display_name": "Python 3 (ipykernel)",
   "language": "python",
   "name": "python3"
  },
  "language_info": {
   "codemirror_mode": {
    "name": "ipython",
    "version": 3
   },
   "file_extension": ".py",
   "mimetype": "text/x-python",
   "name": "python",
   "nbconvert_exporter": "python",
   "pygments_lexer": "ipython3",
   "version": "3.11.9"
  }
 },
 "nbformat": 4,
 "nbformat_minor": 5
}
