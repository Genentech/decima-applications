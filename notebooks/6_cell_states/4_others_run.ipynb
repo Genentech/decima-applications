{
 "cells": [
  {
   "cell_type": "code",
   "execution_count": null,
   "id": "d9c56342-09ae-456f-bfe2-96f45020855f",
   "metadata": {},
   "outputs": [],
   "source": [
    "import numpy as np\n",
    "import pandas as pd\n",
    "import anndata\n",
    "import os\n",
    "import tqdm"
   ]
  },
  {
   "cell_type": "code",
   "execution_count": null,
   "id": "a8ad15f2-8157-42f8-baf0-d9761e7e01de",
   "metadata": {},
   "outputs": [],
   "source": [
    "ckpts={\n",
    "'kugrjb50': '/gstore/data/resbioai/grelu/decima/20240823/lightning_logs/kugrjb50/checkpoints/epoch=3-step=2920.ckpt',\n",
    "'i68hdsdk': '/gstore/data/resbioai/grelu/decima/20240823/lightning_logs/i68hdsdk/checkpoints/epoch=2-step=2190.ckpt',\n",
    "'0as9e8of': '/gstore/data/resbioai/grelu/decima/20240823/lightning_logs/0as9e8of/checkpoints/epoch=7-step=5840.ckpt',\n",
    "'i9zsp4nm': '/gstore/data/resbioai/grelu/decima/20240823/lightning_logs/i9zsp4nm/checkpoints/epoch=8-step=6570.ckpt',\n",
    "}\n",
    "\n",
    "matrix_file = \"/gstore/data/resbioai/grelu/decima/20240823/data.h5ad\"\n",
    "h5_file = \"/gstore/data/resbioai/grelu/decima/20240823/data.h5\"\n",
    "meme_file = \"/gstore/data/resbioai/karollua/Decima/scborzoi/decima/data/jaspar/JASPAR2024_CORE_vertebrates_non-redundant_pfms_meme.txt\"\n",
    "meme_file_modisco = \"/gstore/data/resbioai/karollua/Decima/scborzoi/decima/data/jaspar/H12CORE_meme_format.meme\"\n",
    "\n",
    "# where to save results\n",
    "save_dir = \"/gstore/data/resbioai/karollua/Decima/scborzoi/decima/\"\n",
    "ensembl_out_dir = \"/gstore/data/resbioai/karollua/Decima/scborzoi/decima/results/ensemble\""
   ]
  },
  {
   "cell_type": "code",
   "execution_count": null,
   "id": "42570c12-c33c-4a83-885b-cd5538a7c64d",
   "metadata": {},
   "outputs": [],
   "source": [
    "ad = anndata.read_h5ad(matrix_file)\n",
    "ad_full = ad.copy()\n",
    "ad = ad[:,ad.var.dataset == \"test\"]"
   ]
  },
  {
   "cell_type": "code",
   "execution_count": null,
   "id": "075f7145-0bda-46ff-8bb5-aadf53e16d72",
   "metadata": {},
   "outputs": [],
   "source": [
    "devices = [3,4,6,7]"
   ]
  },
  {
   "cell_type": "markdown",
   "id": "cee2394d-c2ce-4297-9d75-13776934ea68",
   "metadata": {},
   "source": [
    "# Tregs"
   ]
  },
  {
   "cell_type": "code",
   "execution_count": null,
   "id": "2f73410f-b8fc-403f-b09b-8e5b05e91b88",
   "metadata": {},
   "outputs": [],
   "source": [
    "key = \"Treg_cycling__vs__tregnoncycling\""
   ]
  },
  {
   "cell_type": "code",
   "execution_count": null,
   "id": "ccc1f4af-0b25-4c42-92eb-f0ddd9b2d006",
   "metadata": {},
   "outputs": [],
   "source": [
    "on_tasks = ad[(ad.obs.cell_type=='Treg cycling') & (ad.obs.tissue=='skin')].obs.index.tolist()\n",
    "off_tasks = ad[(ad.obs.cell_type=='Treg') & (ad.obs.tissue=='skin')].obs.index.tolist()"
   ]
  },
  {
   "cell_type": "code",
   "execution_count": null,
   "id": "8bd27354-4758-447d-ba52-81078fa95e5d",
   "metadata": {},
   "outputs": [],
   "source": [
    "diff_df = pd.DataFrame({'gene':list(ad.var.index),\n",
    "                        'pred_diff':ad[on_tasks].layers['preds'].mean(0) - ad[off_tasks].layers['preds'].mean(0),\n",
    "                        })\n",
    "diff_df = diff_df[diff_df.pred_diff > 0.75]"
   ]
  },
  {
   "cell_type": "code",
   "execution_count": null,
   "id": "c9effd53-238e-40e5-b71e-aa293acafa9c",
   "metadata": {},
   "outputs": [],
   "source": [
    "# make task df\n",
    "task_df_on = pd.DataFrame([{\"task_type\":\"on\", 'task':x} for x in on_tasks])\n",
    "task_df_off = pd.DataFrame([{\"task_type\":\"off\",'task':x} for x in off_tasks])\n",
    "task_df = pd.concat([task_df_on,task_df_off])"
   ]
  },
  {
   "cell_type": "code",
   "execution_count": null,
   "id": "c33ccaf4-64a4-454b-8f35-c8ef8e2f5b5f",
   "metadata": {},
   "outputs": [],
   "source": [
    "i = 0\n",
    "for run_id, ckpt_file in ckpts.items():\n",
    "    device = devices[i]        \n",
    "    out_dir = os.path.join(save_dir, \"results\", run_id, key)\n",
    "    gene_df_file = os.path.join(out_dir,'gene_df.csv')\n",
    "    targets_file = os.path.join(out_dir,'targets.csv')\n",
    "\n",
    "    # write gene and task df\n",
    "    diff_df.to_csv(gene_df_file, index=None)\n",
    "    task_df.to_csv(targets_file, index=None)\n",
    "    \n",
    "    # make command\n",
    "    cmd = f\"python Interpret.py -device {device} -ckpt_file {ckpt_file} -h5_file {h5_file} -gene_df_file {gene_df_file} \\\n",
    "        -targets_file {targets_file} -out_dir {out_dir}\"\n",
    "    cmd = \" \".join(cmd.split())\n",
    "    print(cmd)\n",
    "\n",
    "    i += 1"
   ]
  },
  {
   "cell_type": "code",
   "execution_count": null,
   "id": "ce2d1ec7-991b-4b17-8849-7c52b7f74369",
   "metadata": {},
   "outputs": [],
   "source": [
    "results_path_ensemble = os.path.join(ensembl_out_dir, key)\n",
    "for run_id, ckpt_file in ckpts.items():\n",
    "    \n",
    "    # collect attributons for all replicates\n",
    "    results_path_model = os.path.join(save_dir, \"results\", run_id)\n",
    "    attr = np.load(os.path.join(results_path_model, key, \"attributions.npy\"))\n",
    "    attrs.append(attr)\n",
    "    \n",
    "# average the attributions\n",
    "attrs = np.stack(attrs).mean(0)\n",
    "attr_file = os.path.join(results_path_ensemble, \"attributions.npy\")\n",
    "np.save(attr_file, attrs)\n",
    "\n",
    "# save one sequence tensor and gene df csv\n",
    "seq = np.load(os.path.join(results_path_model, key, \"sequences.npy\"))\n",
    "seq_file = os.path.join(results_path_ensemble, \"sequences.npy\")\n",
    "np.save(seq_file, seq)\n",
    "\n",
    "gene_df_file = os.path.join(results_path_ensemble, \"gene_df.csv\")\n",
    "diff_df.to_csv(gene_df_file, index=None)\n",
    "\n",
    "# Modisco\n",
    "modisco_dir = os.path.join(ensembl_out_dir, key)\n",
    "cmd = f\"python InterpretModisco.py -seq_file {seq_file} -attr_file {attr_file} -meme_file {meme_file} -out_dir {modisco_dir}\"\n",
    "cmd = \" \".join(cmd.split())\n",
    "print(cmd)"
   ]
  },
  {
   "cell_type": "markdown",
   "id": "a787032f-bbeb-47c2-a0d1-5cb50e1c3426",
   "metadata": {},
   "source": [
    "## Fibroblasts"
   ]
  },
  {
   "cell_type": "code",
   "execution_count": null,
   "id": "504dee77-6bd6-4ab2-9b53-9dda8210621b",
   "metadata": {},
   "outputs": [],
   "source": [
    "key = \"fibroblast__vs__noncardiac\""
   ]
  },
  {
   "cell_type": "code",
   "execution_count": null,
   "id": "97cd3c41-6f6c-4080-a074-797e217a15c5",
   "metadata": {},
   "outputs": [],
   "source": [
    "on_tasks = ad[(ad.obs.cell_type == \"fibroblast\") & (ad.obs.organ == 'heart')].obs.index.tolist()\n",
    "off_tasks = ad[((ad.obs.cell_type == \"fibroblast\") | (ad.obs.celltype_coarse == \"Fibroblasts\")) & (ad.obs.organ != 'heart')].obs.index.tolist()"
   ]
  },
  {
   "cell_type": "code",
   "execution_count": null,
   "id": "4b3ed13d-2cf6-4155-9e62-708e0108572c",
   "metadata": {},
   "outputs": [],
   "source": [
    "diff_df = pd.DataFrame({'gene':list(ad.var.index),\n",
    "                        'pred_diff':ad[on_tasks].layers['preds'].mean(0) - ad[off_tasks].layers['preds'].mean(0),\n",
    "                        })\n",
    "diff_df = diff_df[diff_df.pred_diff > 1.25]"
   ]
  },
  {
   "cell_type": "code",
   "execution_count": null,
   "id": "541e9b47-2b02-436c-b5dd-bec10718f32d",
   "metadata": {},
   "outputs": [],
   "source": [
    "# make task df\n",
    "task_df_on = pd.DataFrame([{\"task_type\":\"on\", 'task':x} for x in on_tasks])\n",
    "task_df_off = pd.DataFrame([{\"task_type\":\"off\",'task':x} for x in off_tasks])\n",
    "task_df = pd.concat([task_df_on,task_df_off])"
   ]
  },
  {
   "cell_type": "code",
   "execution_count": null,
   "id": "b20e33d2-7738-4524-b293-2cd7187c0bbf",
   "metadata": {},
   "outputs": [],
   "source": [
    "i = 0\n",
    "for run_id, ckpt_file in ckpts.items():\n",
    "    device = devices[i]        \n",
    "    out_dir = os.path.join(save_dir, \"results\", run_id, key)\n",
    "    gene_df_file = os.path.join(out_dir,'gene_df.csv')\n",
    "    targets_file = os.path.join(out_dir,'targets.csv')\n",
    "\n",
    "    # write gene and task df\n",
    "    diff_df.to_csv(gene_df_file, index=None)\n",
    "    task_df.to_csv(targets_file, index=None)\n",
    "    \n",
    "    # make command\n",
    "    cmd = f\"python Interpret.py -device {device} -ckpt_file {ckpt_file} -h5_file {h5_file} -gene_df_file {gene_df_file} \\\n",
    "        -targets_file {targets_file} -out_dir {out_dir}\"\n",
    "    cmd = \" \".join(cmd.split())\n",
    "    print(cmd)\n",
    "\n",
    "    i += 1"
   ]
  },
  {
   "cell_type": "code",
   "execution_count": null,
   "id": "c7fe55d1-3851-489a-be63-0cdc798d6f4e",
   "metadata": {},
   "outputs": [],
   "source": [
    "results_path_ensemble = os.path.join(ensembl_out_dir, key)\n",
    "for run_id, ckpt_file in ckpts.items():\n",
    "    \n",
    "    # collect attributons for all replicates\n",
    "    results_path_model = os.path.join(save_dir, \"results\", run_id)\n",
    "    attr = np.load(os.path.join(results_path_model, key, \"attributions.npy\"))\n",
    "    attrs.append(attr)\n",
    "    \n",
    "# average the attributions\n",
    "attrs = np.stack(attrs).mean(0)\n",
    "attr_file = os.path.join(results_path_ensemble, \"attributions.npy\")\n",
    "np.save(attr_file, attrs)\n",
    "\n",
    "# save one sequence tensor and gene df csv\n",
    "seq = np.load(os.path.join(results_path_model, key, \"sequences.npy\"))\n",
    "seq_file = os.path.join(results_path_ensemble, \"sequences.npy\")\n",
    "np.save(seq_file, seq)\n",
    "\n",
    "gene_df_file = os.path.join(results_path_ensemble, \"gene_df.csv\")\n",
    "diff_df.to_csv(gene_df_file, index=None)\n",
    "\n",
    "# Modisco\n",
    "modisco_dir = os.path.join(ensembl_out_dir, key)\n",
    "cmd = f\"python InterpretModisco.py -seq_file {seq_file} -attr_file {attr_file} -meme_file {meme_file} -out_dir {modisco_dir}\"\n",
    "cmd = \" \".join(cmd.split())\n",
    "print(cmd)"
   ]
  }
 ],
 "metadata": {
  "kernelspec": {
   "display_name": "Python 3 (ipykernel)",
   "language": "python",
   "name": "python3"
  },
  "language_info": {
   "codemirror_mode": {
    "name": "ipython",
    "version": 3
   },
   "file_extension": ".py",
   "mimetype": "text/x-python",
   "name": "python",
   "nbconvert_exporter": "python",
   "pygments_lexer": "ipython3",
   "version": "3.11.9"
  }
 },
 "nbformat": 4,
 "nbformat_minor": 5
}
