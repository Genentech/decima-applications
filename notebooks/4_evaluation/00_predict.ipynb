{
 "cells": [
  {
   "cell_type": "code",
   "execution_count": 1,
   "id": "c69defa7-32a2-40c8-b00b-7536d9c99cda",
   "metadata": {},
   "outputs": [
    {
     "name": "stderr",
     "output_type": "stream",
     "text": [
      "/usr/local/lib/python3.11/dist-packages/tqdm/auto.py:21: TqdmWarning: IProgress not found. Please update jupyter and ipywidgets. See https://ipywidgets.readthedocs.io/en/stable/user_install.html\n",
      "  from .autonotebook import tqdm as notebook_tqdm\n"
     ]
    }
   ],
   "source": [
    "import numpy as np\n",
    "import pandas as pd\n",
    "import anndata\n",
    "import os, sys\n",
    "sys.path.append('/code/decima/src/decima')\n",
    "\n",
    "import read_hdf5\n",
    "from lightning import LightningModel\n",
    "\n",
    "from grelu.visualize import plot_distribution\n",
    "from plotnine import *\n",
    "%matplotlib inline"
   ]
  },
  {
   "cell_type": "markdown",
   "id": "9917d8da-5702-4856-86a5-b2ea24c6bac9",
   "metadata": {},
   "source": [
    "## Paths"
   ]
  },
  {
   "cell_type": "code",
   "execution_count": 2,
   "id": "a997857f-03fa-4267-b67a-23162d92b732",
   "metadata": {},
   "outputs": [],
   "source": [
    "save_dir=\"/gstore/data/resbioai/grelu/decima/20240823\"\n",
    "matrix_file = os.path.join(save_dir, \"aggregated.h5ad\")\n",
    "h5_file = os.path.join(save_dir, \"data.h5\")\n",
    "ckpt_dir = os.path.join(save_dir, 'lightning_logs')"
   ]
  },
  {
   "cell_type": "code",
   "execution_count": 3,
   "id": "e299414c-71de-49ef-ac6a-4c4471f79f5d",
   "metadata": {},
   "outputs": [
    {
     "data": {
      "text/plain": [
       "['/gstore/data/resbioai/grelu/decima/20240823/lightning_logs/i68hdsdk/checkpoints/epoch=2-step=2190.ckpt',\n",
       " '/gstore/data/resbioai/grelu/decima/20240823/lightning_logs/0as9e8of/checkpoints/epoch=7-step=5840.ckpt',\n",
       " '/gstore/data/resbioai/grelu/decima/20240823/lightning_logs/kugrjb50/checkpoints/epoch=3-step=2920.ckpt',\n",
       " '/gstore/data/resbioai/grelu/decima/20240823/lightning_logs/i9zsp4nm/checkpoints/epoch=8-step=6570.ckpt']"
      ]
     },
     "execution_count": 3,
     "metadata": {},
     "output_type": "execute_result"
    }
   ],
   "source": [
    "ckpts = !find {ckpt_dir} -name e*.ckpt\n",
    "ckpts"
   ]
  },
  {
   "cell_type": "markdown",
   "id": "205de2e1-8bd0-4161-ae2f-d590b295e1f4",
   "metadata": {},
   "source": [
    "## Get predictions"
   ]
  },
  {
   "cell_type": "code",
   "execution_count": null,
   "id": "82ed08ca-73b1-4150-a097-86216494c2e0",
   "metadata": {},
   "outputs": [],
   "source": [
    "out_file = os.path.join(save_dir, \"data.h5ad\")"
   ]
  },
  {
   "cell_type": "code",
   "execution_count": 4,
   "id": "ab3d3345-8fb7-4fcd-a65b-bf0e07fc8af9",
   "metadata": {},
   "outputs": [
    {
     "name": "stdout",
     "output_type": "stream",
     "text": [
      "python /code/decima/scripts/predict_genes.py --device 1 --ckpts /gstore/data/resbioai/grelu/decima/20240823/lightning_logs/i68hdsdk/checkpoints/epoch=2-step=2190.ckpt /gstore/data/resbioai/grelu/decima/20240823/lightning_logs/0as9e8of/checkpoints/epoch=7-step=5840.ckpt /gstore/data/resbioai/grelu/decima/20240823/lightning_logs/kugrjb50/checkpoints/epoch=3-step=2920.ckpt /gstore/data/resbioai/grelu/decima/20240823/lightning_logs/i9zsp4nm/checkpoints/epoch=8-step=6570.ckpt --h5_file /gstore/data/resbioai/grelu/decima/20240823/data.h5  --matrix_file /gstore/data/resbioai/grelu/decima/20240823/aggregated.h5ad --out_file /gstore/data/resbioai/grelu/decima/20240823/data.h5ad --max_seq_shift 3\n"
     ]
    }
   ],
   "source": [
    "CMD = f\"python /code/decima/scripts/predict_genes.py --device 1 --ckpts {' '.join(ckpts)} --h5_file {h5_file}  --matrix_file {matrix_file} --out_file {out_file} --max_seq_shift 3\"\n",
    "print(CMD)"
   ]
  },
  {
   "cell_type": "code",
   "execution_count": null,
   "id": "517c6251-90a8-46a4-9264-1003810bca78",
   "metadata": {},
   "outputs": [],
   "source": []
  }
 ],
 "metadata": {
  "kernelspec": {
   "display_name": "Python 3 (ipykernel)",
   "language": "python",
   "name": "python3"
  },
  "language_info": {
   "codemirror_mode": {
    "name": "ipython",
    "version": 3
   },
   "file_extension": ".py",
   "mimetype": "text/x-python",
   "name": "python",
   "nbconvert_exporter": "python",
   "pygments_lexer": "ipython3",
   "version": "3.11.9"
  }
 },
 "nbformat": 4,
 "nbformat_minor": 5
}
