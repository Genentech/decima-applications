{
 "cells": [
  {
   "cell_type": "markdown",
   "id": "d30881e7-b738-4c91-82eb-b4fa885a05e1",
   "metadata": {},
   "source": [
    "# Evaluate Decima's performance on held-out genes"
   ]
  },
  {
   "cell_type": "code",
   "execution_count": null,
   "id": "d46e7ba0-fb21-4815-918e-10d37d610df4",
   "metadata": {},
   "outputs": [],
   "source": [
    "import numpy as np\n",
    "import pandas as pd\n",
    "import anndata\n",
    "import os\n",
    "from grelu.visualize import plot_distribution\n",
    "from plotnine import *\n",
    "%matplotlib inline"
   ]
  },
  {
   "cell_type": "markdown",
   "id": "5b57c623-73ec-474b-bbf5-224fb3ea442b",
   "metadata": {},
   "source": [
    "## Paths"
   ]
  },
  {
   "cell_type": "code",
   "execution_count": null,
   "id": "5baa97d0-8940-4241-9e3b-dd9b6454d9d5",
   "metadata": {},
   "outputs": [],
   "source": [
    "save_dir=\"/gstore/data/resbioai/grelu/decima/20240823\"\n",
    "matrix_file = os.path.join(save_dir, \"data.h5ad\")\n",
    "h5_file = os.path.join(save_dir, \"data.h5\")"
   ]
  },
  {
   "cell_type": "markdown",
   "id": "5b848c40-3663-42ff-99b3-5a350a2beff3",
   "metadata": {},
   "source": [
    "## Load data"
   ]
  },
  {
   "cell_type": "code",
   "execution_count": null,
   "id": "822141b7-27cb-452b-a686-bc9e04ada0a5",
   "metadata": {},
   "outputs": [],
   "source": [
    "ad = anndata.read_h5ad(matrix_file)"
   ]
  },
  {
   "cell_type": "code",
   "execution_count": null,
   "id": "f724abf9-ea45-4aad-8525-4907d3719ba1",
   "metadata": {},
   "outputs": [],
   "source": [
    "for dataset in ad.var.dataset.unique():\n",
    "    print(dataset)\n",
    "    print(ad.var.loc[ad.var.dataset==dataset, 'pearson'].mean().round(2))\n",
    "    print(ad.var.loc[ad.var.dataset==dataset, 'size_factor_pearson'].mean().round(2))\n",
    "    print(ad.obs[f\"{dataset}_pearson\"].mean().round(2))"
   ]
  },
  {
   "cell_type": "markdown",
   "id": "69780fea-f9e1-47e8-92ba-684aaf1b2ebe",
   "metadata": {},
   "source": [
    "## Plot correlations on test genes"
   ]
  },
  {
   "cell_type": "code",
   "execution_count": null,
   "id": "6edaeb85-5040-4630-b7a3-812b41ff096a",
   "metadata": {},
   "outputs": [],
   "source": [
    "(\n",
    "    ggplot(ad.obs, aes(x=\"test_pearson\"))\n",
    "    + geom_histogram(fill=\"white\", color=\"forestgreen\", bins=50)\n",
    "    + theme_classic() + theme(figure_size=(5,1.5))\n",
    "    + xlab(\"Pearson correlation per pseudobulk\")\n",
    "    + ylab(\"Count\")\n",
    ")"
   ]
  },
  {
   "cell_type": "code",
   "execution_count": null,
   "id": "43fcd93b-7d90-48eb-8685-e2b8c6940cbe",
   "metadata": {},
   "outputs": [],
   "source": [
    "(\n",
    "    ggplot(ad.var[ad.var.dataset==\"test\"], aes(x=\"pearson\"))\n",
    "    + geom_histogram(fill=\"white\", color=\"mediumslateblue\", bins=50)\n",
    "    + theme_classic() + theme(figure_size=(5,1.5))\n",
    "    + xlab(\"Pearson correlation per gene\")\n",
    "    + ylab(\"Count\")\n",
    ")"
   ]
  },
  {
   "cell_type": "code",
   "execution_count": null,
   "id": "800de3a8-6ab2-40ad-aeee-3e93e970b4f7",
   "metadata": {},
   "outputs": [],
   "source": []
  }
 ],
 "metadata": {
  "kernelspec": {
   "display_name": "Python 3 (ipykernel)",
   "language": "python",
   "name": "python3"
  },
  "language_info": {
   "codemirror_mode": {
    "name": "ipython",
    "version": 3
   },
   "file_extension": ".py",
   "mimetype": "text/x-python",
   "name": "python",
   "nbconvert_exporter": "python",
   "pygments_lexer": "ipython3",
   "version": "3.11.9"
  }
 },
 "nbformat": 4,
 "nbformat_minor": 5
}
