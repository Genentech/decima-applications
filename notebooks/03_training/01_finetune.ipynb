{
 "cells": [
  {
   "cell_type": "code",
   "execution_count": 2,
   "id": "b79c389e-b281-4c01-8303-cc93fd9eb26e",
   "metadata": {},
   "outputs": [],
   "source": [
    "scripts_dir = '/code/decima/scripts'\n",
    "save_dir=\"/gstore/data/resbioai/grelu/decima/20240823/\""
   ]
  },
  {
   "cell_type": "code",
   "execution_count": 3,
   "id": "a395ead7-b648-4c6b-94f9-fdb048016601",
   "metadata": {},
   "outputs": [],
   "source": [
    "lr = 3e-5\n",
    "weight = 1e-4\n",
    "grad = 5\n",
    "bs = 4"
   ]
  },
  {
   "cell_type": "code",
   "execution_count": 1,
   "id": "3b0a508e-eb74-46e6-9b4e-a3781620df3e",
   "metadata": {},
   "outputs": [],
   "source": [
    "gpus = [0,2,3,4]"
   ]
  },
  {
   "cell_type": "code",
   "execution_count": 4,
   "id": "3018deef-6850-4723-9e66-5d1b4e9223b8",
   "metadata": {},
   "outputs": [
    {
     "name": "stdout",
     "output_type": "stream",
     "text": [
      "CUDA_VISIBLE_DEVICES=0 python /code/decima/scripts/finetune.py --name decima_v20240823_rep0     --dir /gstore/data/resbioai/grelu/decima/20240823/ --lr 3e-05 --weight 0.0001 --grad 5 --replicate 0     --bs 4\n",
      "CUDA_VISIBLE_DEVICES=2 python /code/decima/scripts/finetune.py --name decima_v20240823_rep1     --dir /gstore/data/resbioai/grelu/decima/20240823/ --lr 3e-05 --weight 0.0001 --grad 5 --replicate 1     --bs 4\n",
      "CUDA_VISIBLE_DEVICES=3 python /code/decima/scripts/finetune.py --name decima_v20240823_rep2     --dir /gstore/data/resbioai/grelu/decima/20240823/ --lr 3e-05 --weight 0.0001 --grad 5 --replicate 2     --bs 4\n",
      "CUDA_VISIBLE_DEVICES=4 python /code/decima/scripts/finetune.py --name decima_v20240823_rep3     --dir /gstore/data/resbioai/grelu/decima/20240823/ --lr 3e-05 --weight 0.0001 --grad 5 --replicate 3     --bs 4\n"
     ]
    }
   ],
   "source": [
    "for rep, gpu in enumerate(gpus):\n",
    "    name=f'decima_v20240823_rep{rep}'\n",
    "    \n",
    "    cmd = f'CUDA_VISIBLE_DEVICES={gpu} python {scripts_dir}/finetune.py --name {name} \\\n",
    "    --dir {save_dir} --lr {lr} --weight {weight} --grad {grad} --replicate {rep} \\\n",
    "    --bs {bs}'\n",
    "    print(cmd)"
   ]
  },
  {
   "cell_type": "code",
   "execution_count": null,
   "id": "53ff5bf1-a335-4b8a-9ef7-0c2492d79d8b",
   "metadata": {},
   "outputs": [],
   "source": []
  }
 ],
 "metadata": {
  "kernelspec": {
   "display_name": "Python 3 (ipykernel)",
   "language": "python",
   "name": "python3"
  },
  "language_info": {
   "codemirror_mode": {
    "name": "ipython",
    "version": 3
   },
   "file_extension": ".py",
   "mimetype": "text/x-python",
   "name": "python",
   "nbconvert_exporter": "python",
   "pygments_lexer": "ipython3",
   "version": "3.11.9"
  }
 },
 "nbformat": 4,
 "nbformat_minor": 5
}
