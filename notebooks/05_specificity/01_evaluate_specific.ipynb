{
 "cells": [
  {
   "cell_type": "code",
   "execution_count": null,
   "id": "61218604-cfa9-46d5-8b6d-e7a8c4ebf259",
   "metadata": {},
   "outputs": [],
   "source": [
    "import numpy as np\n",
    "import pandas as pd\n",
    "import anndata\n",
    "import os, sys\n",
    "\n",
    "sys.path.append('/code/decima/src/decima')\n",
    "\n",
    "from evaluate import compare_marker_zscores, compute_marker_metrics\n",
    "from grelu.visualize import plot_distribution\n",
    "from plotnine import *\n",
    "\n",
    "%matplotlib inline"
   ]
  },
  {
   "cell_type": "markdown",
   "id": "71429aa0-eed9-4a3c-b83a-1fa811433b27",
   "metadata": {},
   "source": [
    "## Paths"
   ]
  },
  {
   "cell_type": "code",
   "execution_count": null,
   "id": "7ca647da-2e28-4dc9-aeb2-4f455e2a7c55",
   "metadata": {},
   "outputs": [],
   "source": [
    "save_dir=\"/gstore/data/resbioai/grelu/decima/20240823\"\n",
    "matrix_file = os.path.join(save_dir, \"data.h5ad\")"
   ]
  },
  {
   "cell_type": "markdown",
   "id": "93d547f0-1524-4915-b61f-42428b609ec8",
   "metadata": {},
   "source": [
    "## Load data"
   ]
  },
  {
   "cell_type": "code",
   "execution_count": null,
   "id": "5eea5481-da94-4f3a-8013-bde2dae61b1f",
   "metadata": {},
   "outputs": [],
   "source": [
    "ad = anndata.read_h5ad(matrix_file)\n",
    "ad = ad[:, ad.var.dataset == \"test\"].copy()\n",
    "ad.shape"
   ]
  },
  {
   "cell_type": "markdown",
   "id": "a9c52a23-bf23-4a6d-a75a-be4963312e5a",
   "metadata": {},
   "source": [
    "## Compute z-scores per cell type"
   ]
  },
  {
   "cell_type": "code",
   "execution_count": null,
   "id": "f6abedda-9c37-406d-9197-a1f2cd6a2407",
   "metadata": {},
   "outputs": [],
   "source": [
    "marker_zscores = compare_marker_zscores(ad, key='cell_type')"
   ]
  },
  {
   "cell_type": "markdown",
   "id": "97c4f199-1fd9-4620-ba83-dac460f7a464",
   "metadata": {},
   "source": [
    "## Compute metrics for marker prediction"
   ]
  },
  {
   "cell_type": "code",
   "execution_count": null,
   "id": "cb2fbc92-2491-4953-9de2-9e9d36e46e2a",
   "metadata": {},
   "outputs": [],
   "source": [
    "marker_metrics = compute_marker_metrics(marker_zscores, key='cell_type')\n",
    "print(len(marker_metrics))"
   ]
  },
  {
   "cell_type": "code",
   "execution_count": null,
   "id": "ed4273e7-989c-40f6-aef8-2f365c4b3ba9",
   "metadata": {},
   "outputs": [],
   "source": [
    "marker_metrics[['pearson', 'auprc', 'auroc']].aggregate(['mean', 'median']) "
   ]
  },
  {
   "cell_type": "code",
   "execution_count": null,
   "id": "6c7ea31a-2c63-49a7-8d8f-8c1243b21593",
   "metadata": {},
   "outputs": [],
   "source": [
    "(\n",
    "    plot_distribution(marker_metrics['auroc'], method=\"histogram\", \n",
    "                      binwidth=0.01, fill='white', color='black', bins=50) \n",
    "    +theme(figure_size=(2.8,2)) \n",
    "    + xlab(\"         AUROC per cell-type\\n(specific vs. nonspecific genes)\")\n",
    "    + ylab(\"Count\")\n",
    ")"
   ]
  }
 ],
 "metadata": {
  "kernelspec": {
   "display_name": "Python 3 (ipykernel)",
   "language": "python",
   "name": "python3"
  },
  "language_info": {
   "codemirror_mode": {
    "name": "ipython",
    "version": 3
   },
   "file_extension": ".py",
   "mimetype": "text/x-python",
   "name": "python",
   "nbconvert_exporter": "python",
   "pygments_lexer": "ipython3",
   "version": "3.11.9"
  }
 },
 "nbformat": 4,
 "nbformat_minor": 5
}
