{
 "cells": [
  {
   "cell_type": "code",
   "execution_count": null,
   "id": "61218604-cfa9-46d5-8b6d-e7a8c4ebf259",
   "metadata": {},
   "outputs": [],
   "source": [
    "import numpy as np\n",
    "import pandas as pd\n",
    "import anndata\n",
    "import os, sys\n",
    "from scipy.stats import pearsonr, mannwhitneyu\n",
    "sys.path.append('/code/decima/src/decima')\n",
    "\n",
    "from visualize import plot_marker_box, plot_gene_scatter\n",
    "from plotnine import *\n",
    "\n",
    "%matplotlib inline"
   ]
  },
  {
   "cell_type": "markdown",
   "id": "71429aa0-eed9-4a3c-b83a-1fa811433b27",
   "metadata": {},
   "source": [
    "## Paths"
   ]
  },
  {
   "cell_type": "code",
   "execution_count": null,
   "id": "7ca647da-2e28-4dc9-aeb2-4f455e2a7c55",
   "metadata": {},
   "outputs": [],
   "source": [
    "save_dir=\"/gstore/data/resbioai/grelu/decima/20240823\"\n",
    "matrix_file = os.path.join(save_dir, \"data.h5ad\")\n",
    "h5_file = os.path.join(save_dir, \"data.h5\")"
   ]
  },
  {
   "cell_type": "markdown",
   "id": "93d547f0-1524-4915-b61f-42428b609ec8",
   "metadata": {},
   "source": [
    "## Load data"
   ]
  },
  {
   "cell_type": "code",
   "execution_count": null,
   "id": "5eea5481-da94-4f3a-8013-bde2dae61b1f",
   "metadata": {},
   "outputs": [],
   "source": [
    "ad = anndata.read_h5ad(matrix_file)\n",
    "ad = ad[:, ad.var.dataset == \"test\"].copy()\n",
    "ad.shape"
   ]
  },
  {
   "cell_type": "markdown",
   "id": "24eb4862-9c82-46e6-ae63-88d4f6962c1a",
   "metadata": {},
   "source": [
    "### DNAH6"
   ]
  },
  {
   "cell_type": "code",
   "execution_count": null,
   "id": "5014dd49-e253-4dca-9640-5847b0acd4ae",
   "metadata": {},
   "outputs": [],
   "source": [
    "gene = 'DNAH6'\n",
    "pearsonr(np.array(ad[:, gene].X).squeeze(),\n",
    "         np.array(ad[:, gene].layers['preds']).squeeze())"
   ]
  },
  {
   "cell_type": "code",
   "execution_count": null,
   "id": "6ee6da44-7e8a-40e0-9b42-0aad41264e62",
   "metadata": {},
   "outputs": [],
   "source": [
    "plot_gene_scatter(ad, gene, show_corr=False) + theme(\n",
    "    figure_size=(2.6,2))+ xlab('Measured Expression')"
   ]
  },
  {
   "cell_type": "code",
   "execution_count": null,
   "id": "0a1d63c9-b567-41a6-8459-7cfbd4f4ff83",
   "metadata": {},
   "outputs": [],
   "source": [
    "gene = 'DNAH6'\n",
    "filter_df = {'cell_type':['Ependymal', 'Choroid plexus', 'ciliated cell']}\n",
    "display(plot_marker_box(\n",
    "    gene, ad_, filter_df, split_col='organ', split_values=['CNS', 'lung'],\n",
    "    label_name='Cell type') \n",
    "        + theme(figure_size=(4, 2))\n",
    "       )"
   ]
  },
  {
   "cell_type": "code",
   "execution_count": null,
   "id": "7bdcef82-2c28-4922-a76d-7002c81020d7",
   "metadata": {},
   "outputs": [],
   "source": [
    "gene = 'DNAH6'\n",
    "cts = ['Ependymal', 'Choroid plexus', 'ciliated cell']\n",
    "print(mannwhitneyu(\n",
    "    np.array(ad[ad.obs.cell_type.isin(cts), gene].X).squeeze(),\n",
    "    np.array(ad[~ad.obs.cell_type.isin(cts), gene].X).squeeze(),\n",
    "    alternative='greater'\n",
    "))\n",
    "print(mannwhitneyu(\n",
    "    np.array(ad[ad.obs.cell_type.isin(cts), gene].layers['preds']).squeeze(),\n",
    "    np.array(ad[~ad.obs.cell_type.isin(cts), gene].layers['preds']).squeeze(),\n",
    "    alternative='greater'\n",
    "))"
   ]
  },
  {
   "cell_type": "code",
   "execution_count": null,
   "id": "ecf7c0d9-e754-4bfd-ab18-5d573fa36335",
   "metadata": {
    "jupyter": {
     "source_hidden": true
    }
   },
   "outputs": [],
   "source": [
    "ad_ = ad.copy()\n",
    "ad_.obs.cell_type = ad_.obs.cell_type.astype(str)\n",
    "ad_.obs.loc[(ad_.obs.organ=='airway') &\\\n",
    "(~ad_.obs.cell_type.str.contains('pneumo')), 'cell_type'] = 'other lung'\n",
    "\n",
    "for gene in ['EVA1A']:\n",
    "    filter_df = {'cell_type':['type I pneumocyte', 'type II pneumocyte', 'other lung']}\n",
    "    inp = extract_gene_data(h5_file, gene)\n",
    "    display(plot_marker_box(gene, ad_, filter_df) + theme(figure_size=(4,2)))\n",
    "    display(plot_gene_scatter(ad, gene, corrx=2))"
   ]
  },
  {
   "cell_type": "markdown",
   "id": "521b80f8-b4f8-466b-be61-f4550731f651",
   "metadata": {},
   "source": [
    "### FABP1"
   ]
  },
  {
   "cell_type": "code",
   "execution_count": null,
   "id": "a9cacf51-8c70-4fa8-9369-52c498d9847e",
   "metadata": {},
   "outputs": [],
   "source": [
    "gene = 'FABP1'\n",
    "pearsonr(np.array(ad[:, gene].X).squeeze(),\n",
    "         np.array(ad[:, gene].layers['preds']).squeeze())"
   ]
  },
  {
   "cell_type": "code",
   "execution_count": null,
   "id": "93f508a6-96f9-47da-b348-83cbfe0073cc",
   "metadata": {},
   "outputs": [],
   "source": [
    "plot_gene_scatter(ad, gene, show_corr=False) + theme(\n",
    "    figure_size=(2.6,2))+ xlab('Measured Expression')"
   ]
  },
  {
   "cell_type": "code",
   "execution_count": null,
   "id": "2e363f5d-053e-495f-9e60-c7b260f66af5",
   "metadata": {},
   "outputs": [],
   "source": [
    "gene = 'FABP1'\n",
    "cts = ['enterocyte', 'hepatocyte']\n",
    "print(mannwhitneyu(\n",
    "    np.array(ad[ad.obs.cell_type.isin(cts), gene].X).squeeze(),\n",
    "    np.array(ad[~ad.obs.cell_type.isin(cts), gene].X).squeeze(),\n",
    "    alternative='greater'\n",
    "))\n",
    "print(mannwhitneyu(\n",
    "    np.array(ad[ad.obs.cell_type.isin(cts), gene].layers['preds']).squeeze(),\n",
    "    np.array(ad[~ad.obs.cell_type.isin(cts), gene].layers['preds']).squeeze(),\n",
    "    alternative='greater'\n",
    "))"
   ]
  },
  {
   "cell_type": "code",
   "execution_count": null,
   "id": "c12e54f2-d920-4afe-8019-8a5d1cf4268c",
   "metadata": {},
   "outputs": [],
   "source": [
    "gene = 'FABP1'\n",
    "filter_df = {'cell_type':['enterocyte', 'hepatocyte']}\n",
    "plot_marker_box(gene, ad, filter_df, split_col='organ', \n",
    "     split_values=['gut', 'liver'],\n",
    "    order=['enterocyte', 'hepatocyte', 'Other gut', 'Other liver', 'Other'], \n",
    "    label_name='Cell type') + theme(figure_size=(4,2))"
   ]
  },
  {
   "cell_type": "code",
   "execution_count": null,
   "id": "ed08199b-47e6-4566-975a-17c80793c04a",
   "metadata": {},
   "outputs": [],
   "source": [
    "ad_.obs.loc[(ad_.obs.organ=='CNS') & (ad_.obs.cell_type.isin(['Oligodendrocyte',\n",
    " 'Oligodendrocyte precursor', 'Astrocyte', 'Bergmann glia', 'Committed oligodendrocyte precursor'\n",
    "                           ])), 'cell_type'] = 'other glia'\n",
    "\n",
    "for gene in ['TAB2', 'PRAM1', 'QSER1']:\n",
    "    filter_df = {'cell_type':['Microglia', 'macrophage', 'other glia']}\n",
    "    inp = extract_gene_data(h5_file, gene)\n",
    "    display(plot_marker_box(gene, ad_, filter_df) + theme(figure_size=(4,2)))\n",
    "    #display(plot_gene_scatter(ad, gene, corrx=2))"
   ]
  },
  {
   "cell_type": "markdown",
   "id": "51435740-2594-4368-bb97-f9d7ec3d19a3",
   "metadata": {},
   "source": [
    "## SPI1"
   ]
  },
  {
   "cell_type": "code",
   "execution_count": null,
   "id": "80b69c1a-cf5c-4848-9e37-b8c3e2367487",
   "metadata": {},
   "outputs": [],
   "source": [
    "gene = 'SPI1'\n",
    "pearsonr(np.array(ad[:, gene].X).squeeze(),\n",
    "         np.array(ad[:, gene].layers['preds']).squeeze())"
   ]
  },
  {
   "cell_type": "code",
   "execution_count": null,
   "id": "b79ba98d-87e5-4a4c-b269-ffc182960213",
   "metadata": {},
   "outputs": [],
   "source": [
    "plot_gene_scatter(ad, gene, show_corr=False) + theme(\n",
    "    figure_size=(2.6,2))+ xlab('Measured Expression')"
   ]
  },
  {
   "cell_type": "code",
   "execution_count": null,
   "id": "a5ac8404-06f5-4b36-a5d7-4c6ded771694",
   "metadata": {},
   "outputs": [],
   "source": [
    "gene = 'SPI1'\n",
    "cts = ['non-classical monocyte', 'classical monocyte', \n",
    "            'intermediate monocyte', 'macrophage', 'Microglia']\n",
    "print(mannwhitneyu(\n",
    "    np.array(ad[ad.obs.cell_type.isin(cts), gene].X).squeeze(),\n",
    "    np.array(ad[~ad.obs.cell_type.isin(cts), gene].X).squeeze(),\n",
    "    alternative='greater'\n",
    "))\n",
    "print(mannwhitneyu(\n",
    "    np.array(ad[ad.obs.cell_type.isin(cts), gene].layers['preds']).squeeze(),\n",
    "    np.array(ad[~ad.obs.cell_type.isin(cts), gene].layers['preds']).squeeze(),\n",
    "    alternative='greater'\n",
    "))"
   ]
  },
  {
   "cell_type": "code",
   "execution_count": null,
   "id": "874a96f3-19e0-4d67-9c30-03712a2e4520",
   "metadata": {},
   "outputs": [],
   "source": [
    "gene = 'SPI1'\n",
    "filter_df = {'cell_type':['non-classical monocyte', 'classical monocyte', \n",
    "                          'intermediate monocyte', 'macrophage', 'Microglia']}\n",
    "display(plot_marker_box(\n",
    "    gene, ad_, filter_df, split_col='organ', split_values=['blood', 'CNS'],\n",
    "    label_name='Cell type') \n",
    "        + theme(figure_size=(6, 2)) + guides(fill=guide_legend(ncol=2))\n",
    "       )"
   ]
  },
  {
   "cell_type": "code",
   "execution_count": null,
   "id": "1929c95e-1535-4318-8e30-8815da0664e1",
   "metadata": {},
   "outputs": [],
   "source": []
  }
 ],
 "metadata": {
  "kernelspec": {
   "display_name": "Python 3 (ipykernel)",
   "language": "python",
   "name": "python3"
  },
  "language_info": {
   "codemirror_mode": {
    "name": "ipython",
    "version": 3
   },
   "file_extension": ".py",
   "mimetype": "text/x-python",
   "name": "python",
   "nbconvert_exporter": "python",
   "pygments_lexer": "ipython3",
   "version": "3.11.9"
  }
 },
 "nbformat": 4,
 "nbformat_minor": 5
}
