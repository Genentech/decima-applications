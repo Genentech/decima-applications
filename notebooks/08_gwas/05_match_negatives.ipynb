{
 "cells": [
  {
   "cell_type": "code",
   "execution_count": null,
   "id": "f7fbb8cd-4250-4556-aa26-44c2f752eb02",
   "metadata": {},
   "outputs": [],
   "source": [
    "import numpy as np\n",
    "import pandas as pd\n",
    "import os\n",
    "from tqdm import tqdm\n",
    "import sys\n",
    "import bioframe as bf\n",
    "import anndata\n",
    "\n",
    "sys.path.append('/code/decima/src/decima/')\n",
    "from variant import process_variants"
   ]
  },
  {
   "cell_type": "markdown",
   "id": "f470b760-912c-4f46-8c83-716ac32959ab",
   "metadata": {},
   "source": [
    "## Paths"
   ]
  },
  {
   "cell_type": "code",
   "execution_count": null,
   "id": "6d386836-fef8-4fce-ba90-3a877b13f7b9",
   "metadata": {},
   "outputs": [],
   "source": [
    "matrix_file='/gstore/data/resbioai/grelu/decima/20240823/data.h5ad'\n",
    "h5_file='/gstore/data/resbioai/grelu/decima/20240823/data.h5'\n",
    "\n",
    "gwas_dir='/gstore/data/resbioai/grelu/decima/20240823/gwas_44traits'\n",
    "decima_preds_file = os.path.join(gwas_dir, 'positive_variants/decima_preds_agg.h5ad')\n",
    "borzoi_gene_preds_file = os.path.join(gwas_dir, 'positive_variants/gene_preds_agg.h5ad')\n",
    "borzoi_tss_preds_file = os.path.join(gwas_dir, 'positive_variants/tss_preds_agg.h5ad')\n",
    "\n",
    "out_dir = os.path.join(gwas_dir, 'negative_variants')\n",
    "neg_file = os.path.join(out_dir, 'negative_variants.csv')"
   ]
  },
  {
   "cell_type": "markdown",
   "id": "2c16a625-fbf5-4727-9b09-f4f0010ea39a",
   "metadata": {},
   "source": [
    "## Load gene intervals"
   ]
  },
  {
   "cell_type": "code",
   "execution_count": null,
   "id": "27f6463f-332d-4ebf-b69c-a9deb4fda564",
   "metadata": {},
   "outputs": [],
   "source": [
    "ad = anndata.read_h5ad(matrix_file)"
   ]
  },
  {
   "cell_type": "markdown",
   "id": "ddd73455-1195-4005-8982-f03848f5e8c3",
   "metadata": {},
   "source": [
    "## Load predictions on positive variants"
   ]
  },
  {
   "cell_type": "code",
   "execution_count": null,
   "id": "66f6613c-f4f6-4cee-8ad2-6894d84c4200",
   "metadata": {},
   "outputs": [],
   "source": [
    "decima_pos = anndata.read_h5ad(decima_preds_file).obs\n",
    "borzoi_gene_pos = anndata.read_h5ad(borzoi_gene_preds_file).obs\n",
    "borzoi_tss_pos = anndata.read_h5ad(borzoi_tss_preds_file).obs\n",
    "\n",
    "decima_pos.shape, borzoi_gene_pos.shape, borzoi_tss_pos.shape"
   ]
  },
  {
   "cell_type": "markdown",
   "id": "475b7788-34a7-4833-81d3-50ad604dbb62",
   "metadata": {},
   "source": [
    "## Combine all positive variant-gene pairs"
   ]
  },
  {
   "cell_type": "code",
   "execution_count": null,
   "id": "93077214-afba-4888-8b83-bbcbd73bc225",
   "metadata": {},
   "outputs": [],
   "source": [
    "positives = pd.concat([\n",
    "    decima_pos[['variant', 'rsid', 'pos', 'gene', 'gene_start_', 'gene_end_', 'strand']],\n",
    "    borzoi_gene_pos[['variant', 'rsid', 'pos', 'gene', 'gene_start_', 'gene_end_', 'strand']],\n",
    "    borzoi_tss_pos[['variant', 'rsid', 'pos', 'gene', 'gene_start_', 'gene_end_', 'strand']],\n",
    "]).drop_duplicates()"
   ]
  },
  {
   "cell_type": "markdown",
   "id": "c7142121-cabb-4bdf-8139-39894f2db4f9",
   "metadata": {},
   "source": [
    "## Load negative variants"
   ]
  },
  {
   "cell_type": "code",
   "execution_count": null,
   "id": "b1ef0aec-1aee-4ab9-9071-5207c50b3943",
   "metadata": {},
   "outputs": [],
   "source": [
    "neg = pd.read_csv(neg_file)\n",
    "len(neg)"
   ]
  },
  {
   "cell_type": "markdown",
   "id": "6915fa5f-a8e3-4b3a-a908-c1145dded6d9",
   "metadata": {},
   "source": [
    "## Filter negatives that overlap with the gene intervals"
   ]
  },
  {
   "cell_type": "code",
   "execution_count": null,
   "id": "6c9b4068-9cca-4b34-8084-f70b412867d4",
   "metadata": {},
   "outputs": [],
   "source": [
    "print(len(neg))\n",
    "neg = bf.overlap(neg, ad.var.reset_index(names='gene'), how='inner', \n",
    "    cols1=['chrom', 'pos', 'pos']).rename(columns={'gene_':'gene'})\n",
    "print(len(neg))"
   ]
  },
  {
   "cell_type": "markdown",
   "id": "1a678418-dc30-4514-888e-25ed3b5d2e6e",
   "metadata": {},
   "source": [
    "## Match negatives and positives by distance"
   ]
  },
  {
   "cell_type": "code",
   "execution_count": null,
   "id": "01ba7826-38cd-479f-8fb3-c5c1f043f6d0",
   "metadata": {},
   "outputs": [],
   "source": [
    "positives['tss'] = positives.apply(lambda row:row.gene_start_ if row.strand=='+' else row.gene_end_, axis=1)"
   ]
  },
  {
   "cell_type": "code",
   "execution_count": null,
   "id": "9a8cef65-3fa8-4332-b627-4e6f1aa20160",
   "metadata": {},
   "outputs": [],
   "source": [
    "positives['abs_tss_dist'] = np.abs(positives.pos-positives.tss)"
   ]
  },
  {
   "cell_type": "code",
   "execution_count": null,
   "id": "0436d89e-fe63-471c-ba37-26818bd5b877",
   "metadata": {},
   "outputs": [],
   "source": [
    "def match_pos_variant(row, neg, n, min_dist=10, max_abs_tss_dist=150000):\n",
    "    \n",
    "    variant = row.variant\n",
    "    gene = row.gene\n",
    "    pos = row.pos\n",
    "    tss = row.tss\n",
    "    tss_dist = row.abs_tss_dist\n",
    "\n",
    "    # Get matched negatives\n",
    "    curr_neg = neg[neg.gene==gene].reset_index(drop=True).copy()\n",
    "    curr_neg['pos_variant'] = variant\n",
    "\n",
    "    # > min_dist to the pos variant\n",
    "    curr_neg['dist_to_pos'] = abs(curr_neg.pos-pos)\n",
    "    curr_neg = curr_neg[curr_neg.dist_to_pos > min_dist]\n",
    "\n",
    "    # Calculate distance to the TSS\n",
    "    curr_neg['tss_dist'] = curr_neg.pos-tss\n",
    "    curr_neg['abs_tss_dist'] = np.abs(curr_neg['tss_dist'])\n",
    "    curr_neg = curr_neg[curr_neg.abs_tss_dist > min_dist]\n",
    "    curr_neg = curr_neg[curr_neg.abs_tss_dist < max_abs_tss_dist]\n",
    "\n",
    "    # Match for distance to the TSS\n",
    "    match_dist = np.abs(curr_neg['abs_tss_dist'] - tss_dist)\n",
    "    \n",
    "    # Sort\n",
    "    sel = match_dist.sort_values().head(n).index.tolist()\n",
    "    \n",
    "    # Select\n",
    "    curr_neg = curr_neg.loc[sel, :]\n",
    "    return curr_neg"
   ]
  },
  {
   "cell_type": "code",
   "execution_count": null,
   "id": "feb08d86-b112-421f-8b5b-72198ec446b8",
   "metadata": {
    "scrolled": true
   },
   "outputs": [],
   "source": [
    "matched_neg = []\n",
    "for row in tqdm(positives.itertuples()):\n",
    "    matched_neg.append(match_pos_variant(row, neg, n=10))\n",
    "\n",
    "matched_neg = pd.concat(matched_neg)"
   ]
  },
  {
   "cell_type": "code",
   "execution_count": null,
   "id": "9f4f1a46-98f8-45d0-955f-10811747870a",
   "metadata": {},
   "outputs": [],
   "source": [
    "len(positives), len(positives.variant.unique()), len(matched_neg), len(matched_neg.variant.unique())"
   ]
  },
  {
   "cell_type": "code",
   "execution_count": null,
   "id": "462a6c70-c44c-483e-9660-778dffd8f73e",
   "metadata": {},
   "outputs": [],
   "source": [
    "matched_neg[['pos_variant', 'gene']].value_counts().min(), matched_neg[['pos_variant', 'gene']].value_counts().max()"
   ]
  },
  {
   "cell_type": "code",
   "execution_count": null,
   "id": "1bfa87f6-645c-4f0b-96e1-5a173bd53d5e",
   "metadata": {},
   "outputs": [],
   "source": [
    "np.abs(positives.abs_tss_dist).describe()"
   ]
  },
  {
   "cell_type": "code",
   "execution_count": null,
   "id": "930e16e6-22c1-483c-afad-76900d63ae18",
   "metadata": {},
   "outputs": [],
   "source": [
    "np.abs(matched_neg.abs_tss_dist).describe()"
   ]
  },
  {
   "cell_type": "markdown",
   "id": "c61598b1-a1fd-4f05-990c-ef1b4ebfe7d8",
   "metadata": {},
   "source": [
    "## Process variants for prediction"
   ]
  },
  {
   "cell_type": "code",
   "execution_count": null,
   "id": "f0c4de42-e6ce-4a84-8dca-69bfdcc87f45",
   "metadata": {},
   "outputs": [],
   "source": [
    "matched_neg = process_variants(matched_neg, ad)"
   ]
  },
  {
   "cell_type": "code",
   "execution_count": null,
   "id": "c5983279-20f8-414e-9e35-e9fd9ef75d9f",
   "metadata": {},
   "outputs": [],
   "source": [
    "matched_neg.head()"
   ]
  },
  {
   "cell_type": "markdown",
   "id": "3bcbc3b1-20e4-43bf-a16c-1d8287b6c6f9",
   "metadata": {},
   "source": [
    "## Get unique variants"
   ]
  },
  {
   "cell_type": "code",
   "execution_count": null,
   "id": "b3c3266e-a8d7-4e61-91b3-6e80174230ee",
   "metadata": {},
   "outputs": [],
   "source": [
    "variant_gene_pairs = matched_neg[['chrom', 'pos', 'rsid', 'ref', 'alt', 'vep', 'maf', 'variant', \n",
    "        'gene', 'chrom_', 'gene_type_', 'mean_counts_', 'n_tracks_', 'gene_start_', 'gene_end_', \n",
    "       'gene_mask_start_', 'gene_mask_end_', 'dataset_', 'gene_id_', 'pearson_', 'size_factor_pearson_',\n",
    "       'ensembl_canonical_tss_', 'tss_dist', 'start', 'end', 'strand', 'gene_mask_start', \n",
    "        'rel_pos', 'ref_tx', 'alt_tx']].drop_duplicates()\n",
    "len(variant_gene_pairs)"
   ]
  },
  {
   "cell_type": "markdown",
   "id": "37527532-f28f-4bdd-b681-a35f27a5f897",
   "metadata": {},
   "source": [
    "## Save"
   ]
  },
  {
   "cell_type": "code",
   "execution_count": null,
   "id": "354be9ab-3a79-403f-8add-f16c9ed03938",
   "metadata": {},
   "outputs": [],
   "source": [
    "matched_neg.to_csv(os.path.join(out_dir, 'negatives_matched.csv'), index=None)"
   ]
  },
  {
   "cell_type": "code",
   "execution_count": null,
   "id": "d0633a9d-40db-4aae-9e59-149315b57f00",
   "metadata": {},
   "outputs": [],
   "source": [
    "var_out_file = os.path.join(out_dir, 'negative_variants_processed.csv')\n",
    "variant_gene_pairs.to_csv(var_out_file, index=False)"
   ]
  },
  {
   "cell_type": "markdown",
   "id": "a1e154f5-5bee-47d2-b426-64ff56e070ff",
   "metadata": {},
   "source": [
    "## Run"
   ]
  },
  {
   "cell_type": "code",
   "execution_count": null,
   "id": "3d9152c4-ec2c-4dcf-acba-606a718eb948",
   "metadata": {},
   "outputs": [],
   "source": [
    "devices = [0,1,3,4]\n",
    "ckpts = ['/gstore/data/resbioai/grelu/decima/20240823/lightning_logs/kugrjb50/checkpoints/epoch=3-step=2920.ckpt',\n",
    "        '/gstore/data/resbioai/grelu/decima/20240823/lightning_logs/0as9e8of/checkpoints/epoch=7-step=5840.ckpt',\n",
    "        '/gstore/data/resbioai/grelu/decima/20240823/lightning_logs/i68hdsdk/checkpoints/epoch=2-step=2190.ckpt',\n",
    "        '/gstore/data/resbioai/grelu/decima/20240823/lightning_logs/i9zsp4nm/checkpoints/epoch=8-step=6570.ckpt'\n",
    "        ]\n",
    "for d, c in zip(devices, ckpts):\n",
    "    out_file = os.path.join(out_dir, f'decima_preds_{d}.npy')\n",
    "    cmd = f\"CUDA_VISIBLE_DEVICES={d} python /code/decima/scripts/vep.py \\\n",
    "-device {d} -ckpts {c} -h5_file {h5_file} -variant_df_file {var_out_file} \\\n",
    "-out_file {out_file}\"\n",
    "    print(cmd)"
   ]
  },
  {
   "cell_type": "code",
   "execution_count": null,
   "id": "f6f1e4e3-2b46-4655-b2ce-746dc96a6c6a",
   "metadata": {},
   "outputs": [],
   "source": [
    "files = [os.path.join(out_dir, f'decima_preds_{d}.npy') for d in devices]\n",
    "preds = np.stack([np.load(f) for f in files]).mean(0)\n",
    "preds.shape"
   ]
  },
  {
   "cell_type": "code",
   "execution_count": null,
   "id": "40395d9e-7df5-4766-ba36-80c5aa95b2d9",
   "metadata": {},
   "outputs": [],
   "source": [
    "out_file = os.path.join(out_dir, 'decima_preds.npy')\n",
    "np.save(out_file, preds)"
   ]
  },
  {
   "cell_type": "code",
   "execution_count": null,
   "id": "ccae8531-9e7a-472d-abd0-d97962d997a6",
   "metadata": {},
   "outputs": [],
   "source": [
    "device = 0\n",
    "out_file = os.path.join(out_dir, 'decima_preds.npy')\n",
    "ckpts = ['/gstore/data/resbioai/grelu/decima/20240823/lightning_logs/kugrjb50/checkpoints/epoch=3-step=2920.ckpt',\n",
    "        '/gstore/data/resbioai/grelu/decima/20240823/lightning_logs/0as9e8of/checkpoints/epoch=7-step=5840.ckpt',\n",
    "        '/gstore/data/resbioai/grelu/decima/20240823/lightning_logs/i68hdsdk/checkpoints/epoch=2-step=2190.ckpt',\n",
    "        '/gstore/data/resbioai/grelu/decima/20240823/lightning_logs/i9zsp4nm/checkpoints/epoch=8-step=6570.ckpt'\n",
    "        ]\n",
    "\n",
    "cmd = f\"CUDA_VISIBLE_DEVICES={device} python /code/decima/scripts/vep.py \\\n",
    "-device {device} -ckpts {' '.join(ckpts)} \\\n",
    "-h5_file {h5_file} -variant_df_file {var_out_file} \\\n",
    "-out_file {out_file}\"\n",
    "print(cmd)"
   ]
  },
  {
   "cell_type": "markdown",
   "id": "358a7a91-27f4-43ba-90cd-1b4782e1ee81",
   "metadata": {},
   "source": [
    "## Run Borzoi"
   ]
  },
  {
   "cell_type": "code",
   "execution_count": null,
   "id": "6e9e7b8b-277a-4080-bc88-8f5c9194f2e6",
   "metadata": {},
   "outputs": [],
   "source": [
    "device = 1\n",
    "cmd = f\"CUDA_VISIBLE_DEVICES={device} python /code/decima/scripts/vep_borzoi.py \\\n",
    "-device {device} -h5_file {h5_file} -variant_df_file {var_out_file} \\\n",
    "-out_dir {out_dir}\"\n",
    "print(cmd)"
   ]
  },
  {
   "cell_type": "code",
   "execution_count": null,
   "id": "b090aa7e-cb83-4130-a430-b5af37307553",
   "metadata": {},
   "outputs": [],
   "source": []
  }
 ],
 "metadata": {
  "kernelspec": {
   "display_name": "Python 3 (ipykernel)",
   "language": "python",
   "name": "python3"
  },
  "language_info": {
   "codemirror_mode": {
    "name": "ipython",
    "version": 3
   },
   "file_extension": ".py",
   "mimetype": "text/x-python",
   "name": "python",
   "nbconvert_exporter": "python",
   "pygments_lexer": "ipython3",
   "version": "3.11.9"
  }
 },
 "nbformat": 4,
 "nbformat_minor": 5
}
