{
 "cells": [
  {
   "cell_type": "code",
   "execution_count": null,
   "id": "dfd2bec6-d82e-4f7d-ba9e-ac9f894c7acd",
   "metadata": {},
   "outputs": [],
   "source": [
    "import anndata\n",
    "import pandas as pd\n",
    "import numpy as np\n",
    "import os\n",
    "import sys"
   ]
  },
  {
   "cell_type": "markdown",
   "id": "08549230-cd59-43f3-8737-3bb580a230f7",
   "metadata": {},
   "source": [
    "## Paths"
   ]
  },
  {
   "cell_type": "code",
   "execution_count": null,
   "id": "6ea1410a-6bd6-4415-8869-57d3f05a071a",
   "metadata": {},
   "outputs": [],
   "source": [
    "matrix_file='/gstore/data/resbioai/grelu/decima/20240823/data.h5ad'\n",
    "\n",
    "gwas_dir='/gstore/data/resbioai/grelu/decima/20240823/gwas_44traits'\n",
    "pos_dir = os.path.join(gwas_dir, 'positive_variants')\n",
    "neg_dir = os.path.join(gwas_dir, 'negative_variants')\n",
    "\n",
    "matching_file = os.path.join(neg_dir, 'negatives_matched.csv')\n",
    "neg_file = os.path.join(neg_dir, 'negative_variants_processed.csv')\n",
    "\n",
    "decima_preds_file = os.path.join(neg_dir, 'decima_preds.npy')\n",
    "gene_preds_file = os.path.join(neg_dir, 'gene_scores.npy')\n",
    "tss_preds_file = os.path.join(neg_dir, 'tss_scores.npy')\n",
    "\n",
    "decima_pos_file = os.path.join(pos_dir, 'decima_preds_agg.h5ad')\n",
    "gene_pos_file = os.path.join(pos_dir, 'gene_preds_agg.h5ad')\n",
    "tss_pos_file = os.path.join(pos_dir, 'tss_preds_agg.h5ad')"
   ]
  },
  {
   "cell_type": "markdown",
   "id": "6ea34f96-1826-4ec3-9018-365a20aec3be",
   "metadata": {},
   "source": [
    "## Load data"
   ]
  },
  {
   "cell_type": "code",
   "execution_count": null,
   "id": "6acd7b9f-cf71-42b1-bfed-9771ceaddeac",
   "metadata": {},
   "outputs": [],
   "source": [
    "ad = anndata.read_h5ad(matrix_file)"
   ]
  },
  {
   "cell_type": "markdown",
   "id": "dbdfeb90-4b35-4e4c-9ae8-2d9e4ef2763d",
   "metadata": {},
   "source": [
    "## Load variant-gene pairs"
   ]
  },
  {
   "cell_type": "code",
   "execution_count": null,
   "id": "acc7168d-48d5-4e95-b1ff-5f118a88beb2",
   "metadata": {},
   "outputs": [],
   "source": [
    "neg = pd.read_csv(neg_file)"
   ]
  },
  {
   "cell_type": "markdown",
   "id": "3a68db0b-bf29-470c-b6b4-765d2c5f02a4",
   "metadata": {},
   "source": [
    "## Load positive-to-negative mapping"
   ]
  },
  {
   "cell_type": "code",
   "execution_count": null,
   "id": "8797d250-7157-4ee5-bf17-3e555510b490",
   "metadata": {},
   "outputs": [],
   "source": [
    "match = pd.read_csv(matching_file)"
   ]
  },
  {
   "cell_type": "markdown",
   "id": "4699bed6-bfc3-4e35-98cd-83498c601601",
   "metadata": {},
   "source": [
    "## Load negative predictions"
   ]
  },
  {
   "cell_type": "code",
   "execution_count": null,
   "id": "eb236e45-0440-4a96-b0b5-41668ce15606",
   "metadata": {},
   "outputs": [],
   "source": [
    "decima_preds = np.load(decima_preds_file)\n",
    "gene_preds = np.load(gene_preds_file)\n",
    "tss_preds = np.load(tss_preds_file)\n",
    "\n",
    "decima_preds.shape, gene_preds.shape, tss_preds.shape"
   ]
  },
  {
   "cell_type": "markdown",
   "id": "a951653a-d1f1-4e57-a0d6-2db011073523",
   "metadata": {},
   "source": [
    "## Load positive predictions"
   ]
  },
  {
   "cell_type": "code",
   "execution_count": null,
   "id": "50d31353-b749-46b7-b35a-3a29121655c9",
   "metadata": {},
   "outputs": [],
   "source": [
    "decima_pos_preds = anndata.read_h5ad(decima_pos_file)\n",
    "gene_pos_preds = anndata.read_h5ad(gene_pos_file)\n",
    "tss_pos_preds = anndata.read_h5ad(tss_pos_file)\n",
    "\n",
    "print(decima_pos_preds.shape, gene_pos_preds.shape, tss_pos_preds.shape)"
   ]
  },
  {
   "cell_type": "markdown",
   "id": "6b29b32e-df2e-4563-9103-d571cca36e08",
   "metadata": {},
   "source": [
    "## Load Borzoi targets"
   ]
  },
  {
   "cell_type": "code",
   "execution_count": null,
   "id": "51a1695d-7060-4bf3-8822-2f8170863dee",
   "metadata": {},
   "outputs": [],
   "source": [
    "from grelu.resources import load_model\n",
    "model = load_model(project=\"borzoi\", model_name=f\"human_fold0\")\n",
    "tasks = pd.DataFrame(model.data_params['tasks'])\n",
    "del model"
   ]
  },
  {
   "cell_type": "markdown",
   "id": "045c9584-8ca3-43ed-bf66-896717c58025",
   "metadata": {},
   "source": [
    "## For Decima: average over all tracks of the same cell type"
   ]
  },
  {
   "cell_type": "code",
   "execution_count": null,
   "id": "7c90ba07-efd1-4379-987a-6bd2fd90d73c",
   "metadata": {},
   "outputs": [],
   "source": [
    "idx_map = ad.obs.reset_index().groupby(['cell_type']).agg({'index': tuple}).reset_index().dropna()\n",
    "idx_map.head()"
   ]
  },
  {
   "cell_type": "code",
   "execution_count": null,
   "id": "73b9fe55-35d2-46a3-8181-9a79234cf752",
   "metadata": {},
   "outputs": [],
   "source": [
    "decima_preds = idx_map['index'].apply(lambda idxs:decima_preds[:, ad.obs_names.isin(idxs)].mean(1))\n",
    "decima_preds = np.stack(decima_preds).T\n",
    "decima_preds.shape"
   ]
  },
  {
   "cell_type": "code",
   "execution_count": null,
   "id": "f4d09c09-05ed-442c-bf4f-1d799b048bd3",
   "metadata": {},
   "outputs": [],
   "source": [
    "var = pd.DataFrame(index=idx_map.cell_type.astype(str))"
   ]
  },
  {
   "cell_type": "markdown",
   "id": "6799d71e-b793-491e-987c-54c7ada5edb7",
   "metadata": {},
   "source": [
    "## For Borzoi: subset to relevant tasks"
   ]
  },
  {
   "cell_type": "code",
   "execution_count": null,
   "id": "44809637-1618-404e-b48b-1fdd2bf9bc97",
   "metadata": {},
   "outputs": [],
   "source": [
    "gene_preds = gene_preds[:, tasks.assay=='RNA']\n",
    "tss_preds = tss_preds[:, tasks.assay=='CAGE']\n",
    "gene_preds.shape, tss_preds.shape"
   ]
  },
  {
   "cell_type": "code",
   "execution_count": null,
   "id": "33b67b16-22fb-40c6-8405-be8d5118b649",
   "metadata": {},
   "outputs": [],
   "source": [
    "gene_var = tasks[tasks.assay=='RNA'].copy()\n",
    "tss_var = tasks[tasks.assay=='CAGE'].copy()"
   ]
  },
  {
   "cell_type": "markdown",
   "id": "36a4707d-aa73-4f4b-b7eb-aa79a8afa6e6",
   "metadata": {},
   "source": [
    "## Subset the variant-gene pairs that are matched to the respective positive pairs"
   ]
  },
  {
   "cell_type": "code",
   "execution_count": null,
   "id": "28080461-1734-45a0-bb83-937cd93ba293",
   "metadata": {},
   "outputs": [],
   "source": [
    "decima_neg_pairs = match[['variant', 'pos_variant', 'gene']].merge(\n",
    "    decima_pos_preds.obs[['variant', 'gene']], left_on=['pos_variant', 'gene'], right_on=['variant', 'gene']).drop(\n",
    "    columns='variant_y').rename(columns={'variant_x':'variant'})"
   ]
  },
  {
   "cell_type": "code",
   "execution_count": null,
   "id": "13b5e121-a7bf-44ff-a2c9-93fa189b9aa0",
   "metadata": {},
   "outputs": [],
   "source": [
    "len(decima_neg_pairs)"
   ]
  },
  {
   "cell_type": "code",
   "execution_count": null,
   "id": "24e214c0-cbaf-4467-b9a9-48c2e54ffd4a",
   "metadata": {},
   "outputs": [],
   "source": [
    "gene_neg_pairs = match[['variant', 'pos_variant', 'gene']].merge(\n",
    "    gene_pos_preds.obs[['variant', 'gene']], left_on=['pos_variant', 'gene'], right_on=['variant', 'gene']).drop(\n",
    "    columns='variant_y').rename(columns={'variant_x':'variant'})\n",
    "\n",
    "tss_neg_pairs = match[['variant', 'pos_variant', 'gene']].merge(\n",
    "    tss_pos_preds.obs[['variant', 'gene']], left_on=['pos_variant', 'gene'], right_on=['variant', 'gene']).drop(\n",
    "    columns='variant_y').rename(columns={'variant_x':'variant'})\n",
    "\n",
    "len(decima_neg_pairs), len(gene_neg_pairs), len(tss_neg_pairs)"
   ]
  },
  {
   "cell_type": "code",
   "execution_count": null,
   "id": "77ed03b1-f288-43c1-abaf-b85696fcb7c4",
   "metadata": {},
   "outputs": [],
   "source": [
    "sel_decima = neg.reset_index().merge(\n",
    "    decima_neg_pairs[['variant', 'gene']])['index'].tolist()"
   ]
  },
  {
   "cell_type": "code",
   "execution_count": null,
   "id": "40b36e15-3ffb-47f1-8798-89c04e46e4c8",
   "metadata": {},
   "outputs": [],
   "source": [
    "len(sel_decima)"
   ]
  },
  {
   "cell_type": "code",
   "execution_count": null,
   "id": "53c55942-6222-4db9-8897-f0879aa6d077",
   "metadata": {},
   "outputs": [],
   "source": [
    "sel_gene = neg.reset_index().merge(\n",
    "    gene_neg_pairs[['variant', 'gene']])['index'].tolist()\n",
    "\n",
    "sel_tss = neg.reset_index().merge(\n",
    "    tss_neg_pairs[['variant', 'gene']])['index'].tolist()"
   ]
  },
  {
   "cell_type": "markdown",
   "id": "6e107656-f408-4a00-8d08-8a842c9868b1",
   "metadata": {},
   "source": [
    "## Make anndata"
   ]
  },
  {
   "cell_type": "code",
   "execution_count": null,
   "id": "a16b6d44-7fb9-433b-82a0-e717b94979ff",
   "metadata": {},
   "outputs": [],
   "source": [
    "decima_preds = anndata.AnnData(\n",
    "    X=decima_preds[sel_decima],\n",
    "    var=var,\n",
    "    obs=neg.iloc[sel_decima].copy().reset_index(drop=True))\n",
    "decima_preds.shape"
   ]
  },
  {
   "cell_type": "code",
   "execution_count": null,
   "id": "2eba247d-a949-4065-b525-fcc5223cb410",
   "metadata": {},
   "outputs": [],
   "source": [
    "gene_preds = anndata.AnnData(\n",
    "    X=gene_preds[sel_gene],\n",
    "    var=gene_var,\n",
    "    obs=neg.iloc[sel_gene].copy().reset_index(drop=True))\n",
    "\n",
    "tss_preds = anndata.AnnData(\n",
    "    X=tss_preds[sel_tss],\n",
    "    var=tss_var,\n",
    "    obs=neg.iloc[sel_tss].copy().reset_index(drop=True))\n",
    "\n",
    ", gene_preds.shape, tss_preds.shape"
   ]
  },
  {
   "cell_type": "markdown",
   "id": "147b8bca-dc89-497f-8aa9-53d35dd44c15",
   "metadata": {},
   "source": [
    "## Saved"
   ]
  },
  {
   "cell_type": "code",
   "execution_count": null,
   "id": "34b314db-13f3-4f8e-9b3b-a237d3e0413d",
   "metadata": {},
   "outputs": [],
   "source": [
    "decima_out_file = os.path.join(neg_dir, 'decima_preds_agg.h5ad')\n",
    "gene_out_file = os.path.join(neg_dir, 'gene_preds_agg.h5ad')\n",
    "tss_out_file = os.path.join(neg_dir, 'tss_preds_agg.h5ad')"
   ]
  },
  {
   "cell_type": "code",
   "execution_count": null,
   "id": "0131a222-b707-4eee-89c1-02f0cd45f9d1",
   "metadata": {},
   "outputs": [],
   "source": [
    "decima_preds.write_h5ad(decima_out_file)\n",
    "gene_preds.write_h5ad(gene_out_file)\n",
    "tss_preds.write_h5ad(tss_out_file)"
   ]
  },
  {
   "cell_type": "code",
   "execution_count": null,
   "id": "d30256d3-a340-4e2d-9b0c-efdd84e1063e",
   "metadata": {},
   "outputs": [],
   "source": []
  }
 ],
 "metadata": {
  "kernelspec": {
   "display_name": "Python 3 (ipykernel)",
   "language": "python",
   "name": "python3"
  },
  "language_info": {
   "codemirror_mode": {
    "name": "ipython",
    "version": 3
   },
   "file_extension": ".py",
   "mimetype": "text/x-python",
   "name": "python",
   "nbconvert_exporter": "python",
   "pygments_lexer": "ipython3",
   "version": "3.11.9"
  }
 },
 "nbformat": 4,
 "nbformat_minor": 5
}
