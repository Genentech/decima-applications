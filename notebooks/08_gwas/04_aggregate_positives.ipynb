{
 "cells": [
  {
   "cell_type": "code",
   "execution_count": null,
   "id": "326460a4-ac79-4570-a81a-95e474e88017",
   "metadata": {},
   "outputs": [],
   "source": [
    "import anndata\n",
    "import pandas as pd\n",
    "import numpy as np\n",
    "import os\n",
    "import sys\n",
    "\n",
    "from grelu.resources import load_model"
   ]
  },
  {
   "cell_type": "markdown",
   "id": "1da04ae9-d292-4db7-b523-dd27773c2189",
   "metadata": {},
   "source": [
    "## Paths"
   ]
  },
  {
   "cell_type": "code",
   "execution_count": null,
   "id": "b9cce828-0c47-4e06-8491-05a490142bd4",
   "metadata": {},
   "outputs": [],
   "source": [
    "matrix_file='/gstore/data/resbioai/grelu/decima/20240823/data.h5ad'\n",
    "\n",
    "out_dir='/gstore/data/resbioai/grelu/decima/20240823/gwas_44traits/positive_variants'\n",
    "\n",
    "pos_file = os.path.join(out_dir, 'positive_variants_processed.csv')\n",
    "decima_preds_file = os.path.join(out_dir, 'decima_preds.npy')\n",
    "gene_preds_file = os.path.join(out_dir, 'gene_scores.npy')\n",
    "tss_preds_file = os.path.join(out_dir, 'tss_scores.npy')"
   ]
  },
  {
   "cell_type": "markdown",
   "id": "10aec15e-81f1-4c7d-8d97-616a7c12cd37",
   "metadata": {},
   "source": [
    "## Load data"
   ]
  },
  {
   "cell_type": "code",
   "execution_count": null,
   "id": "09d58ddc-3b20-4ca2-9eb6-f57caefddc00",
   "metadata": {},
   "outputs": [],
   "source": [
    "ad = anndata.read_h5ad(matrix_file)"
   ]
  },
  {
   "cell_type": "markdown",
   "id": "409427ca-effa-400d-bb38-8be88b790ab4",
   "metadata": {},
   "source": [
    "## Load variants"
   ]
  },
  {
   "cell_type": "code",
   "execution_count": null,
   "id": "5b4ceb43-9c0f-4bd4-979a-d9860ae0bc03",
   "metadata": {},
   "outputs": [],
   "source": [
    "pos = pd.read_csv(pos_file)"
   ]
  },
  {
   "cell_type": "markdown",
   "id": "d014b7b1-4fff-499c-b89d-35aa2cf10a34",
   "metadata": {},
   "source": [
    "## Load predictions"
   ]
  },
  {
   "cell_type": "code",
   "execution_count": null,
   "id": "e12cd0dc-cb17-446e-ac2f-8f794be2a21e",
   "metadata": {},
   "outputs": [],
   "source": [
    "decima_preds = np.load(decima_preds_file)\n",
    "borzoi_gene_preds = np.load(gene_preds_file)\n",
    "borzoi_tss_preds = np.load(tss_preds_file)\n",
    "decima_preds.shape, borzoi_gene_preds.shape, borzoi_tss_preds.shape"
   ]
  },
  {
   "cell_type": "markdown",
   "id": "3d3891f7-c197-4502-aafa-57aa2f3144da",
   "metadata": {},
   "source": [
    "## Load Borzoi targets"
   ]
  },
  {
   "cell_type": "code",
   "execution_count": null,
   "id": "dd32e7cf-87cb-46a0-9d2d-59b5d56a028e",
   "metadata": {},
   "outputs": [],
   "source": [
    "model = load_model(project=\"borzoi\", model_name=f\"human_fold0\")\n",
    "tasks = pd.DataFrame(model.data_params['tasks'])\n",
    "del model"
   ]
  },
  {
   "cell_type": "markdown",
   "id": "57d24d12-0b83-4af1-90ef-89dad44927d9",
   "metadata": {},
   "source": [
    "## For Decima: average VEP per cell type"
   ]
  },
  {
   "cell_type": "code",
   "execution_count": null,
   "id": "cef2dfd2-a1f8-45d7-8c60-fefcba3474da",
   "metadata": {},
   "outputs": [],
   "source": [
    "idx_map = ad.obs.reset_index().groupby(['cell_type']).agg({'index': tuple}).reset_index().dropna()\n",
    "idx_map.head()"
   ]
  },
  {
   "cell_type": "code",
   "execution_count": null,
   "id": "3e4e8105-cb8f-4aaa-a419-245a070b4386",
   "metadata": {},
   "outputs": [],
   "source": [
    "decima_preds = idx_map['index'].apply(lambda idxs:decima_preds[:, ad.obs_names.isin(idxs)].mean(1))\n",
    "decima_preds = np.stack(decima_preds).T\n",
    "decima_preds.shape"
   ]
  },
  {
   "cell_type": "code",
   "execution_count": null,
   "id": "aba34121-a1c7-4d00-9c12-014513e3a2cd",
   "metadata": {},
   "outputs": [],
   "source": [
    "gene_exp = idx_map['index'].apply(lambda idxs:ad.X[ad.obs_names.isin(idxs), :].mean(0))\n",
    "gene_exp = np.stack(gene_exp).T\n",
    "gene_exp.shape"
   ]
  },
  {
   "cell_type": "code",
   "execution_count": null,
   "id": "5ad80e48-adfd-48b6-b338-9e08ff26c83a",
   "metadata": {},
   "outputs": [],
   "source": [
    "var = pd.DataFrame(index=idx_map.cell_type.astype(str))"
   ]
  },
  {
   "cell_type": "markdown",
   "id": "a1f6e042-42b7-43b2-bceb-a74725bfec89",
   "metadata": {},
   "source": [
    "## For Borzoi: subset to relevant tasks"
   ]
  },
  {
   "cell_type": "code",
   "execution_count": null,
   "id": "7c36f687-7563-4de6-aa30-4dcff6350ed3",
   "metadata": {},
   "outputs": [],
   "source": [
    "borzoi_gene_preds = borzoi_gene_preds[:, tasks.assay=='RNA']\n",
    "borzoi_tss_preds = borzoi_tss_preds[:, tasks.assay=='CAGE']\n",
    "borzoi_gene_preds.shape, borzoi_tss_preds.shape"
   ]
  },
  {
   "cell_type": "markdown",
   "id": "660244d4-4179-46c5-8928-0e6983984836",
   "metadata": {},
   "source": [
    "## For all methods: choose the best gene (highest absmax VEP) per variant"
   ]
  },
  {
   "cell_type": "code",
   "execution_count": null,
   "id": "8386a982-b688-4e47-a1a7-6f2a578c25ae",
   "metadata": {},
   "outputs": [],
   "source": [
    "idx_map = pos.reset_index().groupby(['variant'])['index'].apply(list).reset_index()\n",
    "idx_map.head()"
   ]
  },
  {
   "cell_type": "code",
   "execution_count": null,
   "id": "f5722edf-96d9-479a-b0fd-454d0fc0d71d",
   "metadata": {},
   "outputs": [],
   "source": [
    "idx_map['best_decima'] = idx_map['index'].apply(\n",
    "    lambda x: x[np.abs(decima_preds[x]).mean(1).argmax()])"
   ]
  },
  {
   "cell_type": "code",
   "execution_count": null,
   "id": "2d97de10-91c5-49d0-8730-0d3a2c6963d9",
   "metadata": {},
   "outputs": [],
   "source": [
    "idx_map['best_borzoi_gene'] = idx_map['index'].apply(\n",
    "    lambda x: x[np.abs(borzoi_gene_preds[x]).mean(1).argmax()])\n",
    "idx_map['best_borzoi_tss'] = idx_map['index'].apply(\n",
    "    lambda x: x[np.abs(borzoi_tss_preds[x]).mean(1).argmax()])"
   ]
  },
  {
   "cell_type": "markdown",
   "id": "72e0ffce-cdf2-4fd2-853a-dcfa4de851b7",
   "metadata": {},
   "source": [
    "## Subset predictions to the matched genes"
   ]
  },
  {
   "cell_type": "code",
   "execution_count": null,
   "id": "fd45aa8a-2214-4c3a-b812-8ac1c1ef7b8f",
   "metadata": {},
   "outputs": [],
   "source": [
    "decima_preds = anndata.AnnData(\n",
    "    X=decima_preds[idx_map.best_decima], var=var, obs=pos.iloc[idx_map.best_decima].reset_index(drop=True))\n",
    "decima_preds.shape"
   ]
  },
  {
   "cell_type": "code",
   "execution_count": null,
   "id": "5e222d61-9eef-424e-b52d-7cf789495ade",
   "metadata": {},
   "outputs": [],
   "source": [
    "gene_exp = gene_exp[decima_preds.obs.gene.apply(lambda x: np.where(ad.var_names==x)[0][0])]\n",
    "gene_exp.shape"
   ]
  },
  {
   "cell_type": "code",
   "execution_count": null,
   "id": "9e3a3c8c-a277-495d-827e-83be065a1ec9",
   "metadata": {},
   "outputs": [],
   "source": [
    "decima_preds.layers['gene_exp'] = gene_exp"
   ]
  },
  {
   "cell_type": "code",
   "execution_count": null,
   "id": "5f6a96b1-6351-4901-a415-365c9a188dcf",
   "metadata": {},
   "outputs": [],
   "source": [
    "borzoi_gene_preds = anndata.AnnData(\n",
    "    X=borzoi_gene_preds[idx_map.best_borzoi_gene], var=tasks[tasks.assay=='RNA'],\n",
    "    obs=pos.iloc[idx_map.best_borzoi_gene].reset_index(drop=True))\n",
    "borzoi_gene_preds.shape"
   ]
  },
  {
   "cell_type": "code",
   "execution_count": null,
   "id": "303c35ad-5df2-4b8f-8d79-521a61af919f",
   "metadata": {},
   "outputs": [],
   "source": [
    "borzoi_tss_preds = anndata.AnnData(\n",
    "    X=borzoi_tss_preds[idx_map.best_borzoi_tss], var=tasks[tasks.assay=='CAGE'],\n",
    "    obs=pos.iloc[idx_map.best_borzoi_tss].reset_index(drop=True))\n",
    "borzoi_tss_preds.shape"
   ]
  },
  {
   "cell_type": "markdown",
   "id": "3a8d63d1-2c5e-4993-9d3b-667dc4a564d3",
   "metadata": {},
   "source": [
    "## Save"
   ]
  },
  {
   "cell_type": "code",
   "execution_count": null,
   "id": "0d9069ee-c91b-4c7d-b92f-6c8f74a1453e",
   "metadata": {},
   "outputs": [],
   "source": [
    "decima_out_file = os.path.join(out_dir, 'decima_preds_agg.h5ad')\n",
    "gene_out_file = os.path.join(out_dir, 'gene_preds_agg.h5ad')\n",
    "tss_out_file = os.path.join(out_dir, 'tss_preds_agg.h5ad')"
   ]
  },
  {
   "cell_type": "code",
   "execution_count": null,
   "id": "973a8022-d617-46df-8427-80b03d8366e0",
   "metadata": {},
   "outputs": [],
   "source": [
    "decima_preds.write_h5ad(decima_out_file)\n",
    "borzoi_gene_preds.write_h5ad(gene_out_file)\n",
    "borzoi_tss_preds.write_h5ad(tss_out_file)"
   ]
  },
  {
   "cell_type": "code",
   "execution_count": null,
   "id": "f344e197-141d-41fe-a45b-7c683c6733d0",
   "metadata": {},
   "outputs": [],
   "source": []
  }
 ],
 "metadata": {
  "kernelspec": {
   "display_name": "Python 3 (ipykernel)",
   "language": "python",
   "name": "python3"
  },
  "language_info": {
   "codemirror_mode": {
    "name": "ipython",
    "version": 3
   },
   "file_extension": ".py",
   "mimetype": "text/x-python",
   "name": "python",
   "nbconvert_exporter": "python",
   "pygments_lexer": "ipython3",
   "version": "3.11.9"
  }
 },
 "nbformat": 4,
 "nbformat_minor": 5
}
