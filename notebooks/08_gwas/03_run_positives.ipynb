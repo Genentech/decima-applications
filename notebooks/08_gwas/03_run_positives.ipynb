{
 "cells": [
  {
   "cell_type": "code",
   "execution_count": 2,
   "id": "902660d0-4e84-4c5b-b5ce-85c771d20a2e",
   "metadata": {},
   "outputs": [
    {
     "name": "stderr",
     "output_type": "stream",
     "text": [
      "/opt/conda/lib/python3.11/site-packages/tqdm/auto.py:21: TqdmWarning: IProgress not found. Please update jupyter and ipywidgets. See https://ipywidgets.readthedocs.io/en/stable/user_install.html\n",
      "  from .autonotebook import tqdm as notebook_tqdm\n"
     ]
    }
   ],
   "source": [
    "import bioframe as bf\n",
    "import anndata\n",
    "import pandas as pd\n",
    "import os\n",
    "import sys\n",
    "\n",
    "sys.path.append('/code/decima/src/decima')\n",
    "from variant import process_variants"
   ]
  },
  {
   "cell_type": "markdown",
   "id": "e31b7b62-920f-4fc8-92bd-d14e69b93674",
   "metadata": {},
   "source": [
    "## Paths"
   ]
  },
  {
   "cell_type": "code",
   "execution_count": 3,
   "id": "a843d01e-6437-46fb-a18c-b4f9b881a74f",
   "metadata": {},
   "outputs": [],
   "source": [
    "matrix_file='/gstore/data/resbioai/grelu/decima/20240823/data.h5ad'\n",
    "h5_file='/gstore/data/resbioai/grelu/decima/20240823/data.h5'\n",
    "\n",
    "out_dir='/gstore/data/resbioai/grelu/decima/20240823/gwas_44traits/positive_variants'\n",
    "variant_file = os.path.join(out_dir, 'positive_variants.csv')"
   ]
  },
  {
   "cell_type": "markdown",
   "id": "9d7b61a2-bac9-4fdb-9da8-dd7b407f82e9",
   "metadata": {},
   "source": [
    "## Load data"
   ]
  },
  {
   "cell_type": "code",
   "execution_count": 9,
   "id": "7ec04e22-5461-43a2-8d24-8e23554f7794",
   "metadata": {},
   "outputs": [],
   "source": [
    "ad = anndata.read_h5ad(matrix_file)\n",
    "variants = pd.read_csv(variant_file)"
   ]
  },
  {
   "cell_type": "markdown",
   "id": "f23e2ed0-1135-4807-906c-af496d970b46",
   "metadata": {},
   "source": [
    "## Process variants"
   ]
  },
  {
   "cell_type": "code",
   "execution_count": null,
   "id": "bf93f6f7-6c70-4527-993a-07c7fe4e4138",
   "metadata": {},
   "outputs": [],
   "source": [
    "variants = process_variants(variants, ad)"
   ]
  },
  {
   "cell_type": "markdown",
   "id": "369e67dd-3d6a-459e-8b98-fee5d670998b",
   "metadata": {},
   "source": [
    "## Save"
   ]
  },
  {
   "cell_type": "code",
   "execution_count": null,
   "id": "0903c2c5-94a7-4ff0-a896-bbc3dd60ada4",
   "metadata": {},
   "outputs": [],
   "source": [
    "var_out_file = os.path.join(out_dir, 'positive_variants_processed.csv')\n",
    "variants.to_csv(var_out_file, index=None)"
   ]
  },
  {
   "cell_type": "markdown",
   "id": "a67663b8-2525-4011-9ba0-5af1a7443503",
   "metadata": {},
   "source": [
    "## Run Decima"
   ]
  },
  {
   "cell_type": "code",
   "execution_count": 11,
   "id": "d8523a62-189e-4f54-9cbe-9801a7e14984",
   "metadata": {},
   "outputs": [
    {
     "name": "stdout",
     "output_type": "stream",
     "text": [
      "CUDA_VISIBLE_DEVICES=0 python /code/decima/scripts/vep.py -device 0 -ckpts /gstore/data/resbioai/grelu/decima/20240823/lightning_logs/kugrjb50/checkpoints/epoch=3-step=2920.ckpt /gstore/data/resbioai/grelu/decima/20240823/lightning_logs/0as9e8of/checkpoints/epoch=7-step=5840.ckpt /gstore/data/resbioai/grelu/decima/20240823/lightning_logs/i68hdsdk/checkpoints/epoch=2-step=2190.ckpt /gstore/data/resbioai/grelu/decima/20240823/lightning_logs/i9zsp4nm/checkpoints/epoch=8-step=6570.ckpt -h5_file /gstore/data/resbioai/grelu/decima/20240823/data.h5 -variant_df_file /gstore/data/resbioai/grelu/decima/20240823/gwas_44traits/positive_variants/positive_variants_processed.csv -out_file /gstore/data/resbioai/grelu/decima/20240823/gwas_44traits/positive_variants/decima_preds.npy\n"
     ]
    }
   ],
   "source": [
    "device = 0\n",
    "out_file = os.path.join(out_dir, 'decima_preds.npy')\n",
    "ckpts = ['/gstore/data/resbioai/grelu/decima/20240823/lightning_logs/kugrjb50/checkpoints/epoch=3-step=2920.ckpt',\n",
    "        '/gstore/data/resbioai/grelu/decima/20240823/lightning_logs/0as9e8of/checkpoints/epoch=7-step=5840.ckpt',\n",
    "        '/gstore/data/resbioai/grelu/decima/20240823/lightning_logs/i68hdsdk/checkpoints/epoch=2-step=2190.ckpt',\n",
    "        '/gstore/data/resbioai/grelu/decima/20240823/lightning_logs/i9zsp4nm/checkpoints/epoch=8-step=6570.ckpt'\n",
    "        ]\n",
    "\n",
    "cmd = f\"CUDA_VISIBLE_DEVICES={device} python /code/decima/scripts/vep.py \\\n",
    "-device {device} -ckpts {' '.join(ckpts)} \\\n",
    "-h5_file {h5_file} -variant_df_file {var_out_file} \\\n",
    "-out_file {out_file}\"\n",
    "print(cmd)"
   ]
  },
  {
   "cell_type": "markdown",
   "id": "893d3365-f488-4cdc-a31e-c2f4423c4ac5",
   "metadata": {},
   "source": [
    "## Run Borzoi"
   ]
  },
  {
   "cell_type": "code",
   "execution_count": 14,
   "id": "dd42ed44-f413-4dec-a46d-383e368652eb",
   "metadata": {},
   "outputs": [
    {
     "name": "stdout",
     "output_type": "stream",
     "text": [
      "CUDA_VISIBLE_DEVICES=1 python /code/decima/scripts/vep_borzoi.py -device 1 -h5_file /gstore/data/resbioai/grelu/decima/20240823/data.h5 -variant_df_file /gstore/data/resbioai/grelu/decima/20240823/gwas_44traits/positive_variants/positive_variants_processed.csv -out_dir /gstore/data/resbioai/grelu/decima/20240823/gwas_44traits/positive_variants\n"
     ]
    }
   ],
   "source": [
    "device = 1\n",
    "cmd = f\"CUDA_VISIBLE_DEVICES={device} python /code/decima/scripts/vep_borzoi.py \\\n",
    "-device {device} -h5_file {h5_file} -variant_df_file {var_out_file} \\\n",
    "-out_dir {out_dir}\"\n",
    "print(cmd)"
   ]
  },
  {
   "cell_type": "code",
   "execution_count": null,
   "id": "c1079114-c735-4d01-b306-5202de233624",
   "metadata": {},
   "outputs": [],
   "source": []
  }
 ],
 "metadata": {
  "kernelspec": {
   "display_name": "Python 3 (ipykernel)",
   "language": "python",
   "name": "python3"
  },
  "language_info": {
   "codemirror_mode": {
    "name": "ipython",
    "version": 3
   },
   "file_extension": ".py",
   "mimetype": "text/x-python",
   "name": "python",
   "nbconvert_exporter": "python",
   "pygments_lexer": "ipython3",
   "version": "3.11.9"
  }
 },
 "nbformat": 4,
 "nbformat_minor": 5
}
