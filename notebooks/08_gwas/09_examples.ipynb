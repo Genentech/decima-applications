{
 "cells": [
  {
   "cell_type": "code",
   "execution_count": null,
   "id": "5f23a131-f36e-49e6-bcb6-a0cd4d564abf",
   "metadata": {},
   "outputs": [],
   "source": [
    "import numpy as np\n",
    "import pandas as pd\n",
    "import os, sys\n",
    "import anndata\n",
    "from plotnine import *\n",
    "import wandb \n",
    "import torch\n",
    "\n",
    "sys.path.append('/code/decima/src/decima/')\n",
    "from visualize import plot_gene_scatter\n",
    "from read_hdf5 import extract_gene_data\n",
    "from lightning import LightningModel\n",
    "\n",
    "from grelu.transforms.prediction_transforms import Aggregate\n",
    "from grelu.visualize import plot_attributions\n",
    "from grelu.interpret.motifs import scan_sequences, compare_motifs\n",
    "from grelu.sequence.format import strings_to_one_hot\n",
    "from captum.attr import InputXGradient\n",
    "import scanpy as sc\n",
    "\n",
    "from matplotlib import pyplot as plt\n",
    "import seaborn as sns\n",
    "%matplotlib inline\n",
    "\n",
    "from grelu.io.motifs import read_meme_file\n",
    "from tangermeme.plot import plot_pwm\n",
    "hocomoco = read_meme_file('../H12CORE_meme_format.meme')"
   ]
  },
  {
   "cell_type": "markdown",
   "id": "9b2212a0-cd0f-4b25-abfa-ba92a289ed64",
   "metadata": {},
   "source": [
    "## Paths"
   ]
  },
  {
   "cell_type": "code",
   "execution_count": null,
   "id": "418a010f-84ee-4612-8ac3-f0c5d9821889",
   "metadata": {},
   "outputs": [],
   "source": [
    "save_dir='/gstore/data/resbioai/grelu/decima/20240823'\n",
    "matrix_file = os.path.join(save_dir, 'data.h5ad')\n",
    "h5_file = os.path.join(save_dir, 'data.h5')\n",
    "\n",
    "out_dir = os.path.join(save_dir, 'gwas_44traits')\n",
    "pred_file = os.path.join(out_dir, 'gwas_variant_predictions_matched.h5ad')\n",
    "\n",
    "pos_dir = os.path.join(out_dir, 'positive_variants')\n",
    "neg_dir = os.path.join(out_dir, 'negative_variants')\n",
    "\n",
    "trait_file = os.path.join(pos_dir, 'positive_variants_and_traits.csv')\n",
    "matched_neg_file = os.path.join(neg_dir, 'negatives_matched.csv')"
   ]
  },
  {
   "cell_type": "markdown",
   "id": "620a9327-9451-42c7-9f68-6fa10563d0e2",
   "metadata": {},
   "source": [
    "## Load Decima predictions"
   ]
  },
  {
   "cell_type": "code",
   "execution_count": null,
   "id": "76f883ad-9c20-4998-a34c-acd9e21d07d2",
   "metadata": {},
   "outputs": [],
   "source": [
    "ad = anndata.read_h5ad(matrix_file)"
   ]
  },
  {
   "cell_type": "code",
   "execution_count": null,
   "id": "486849ff-bc0a-494f-8606-5f74339c70a4",
   "metadata": {},
   "outputs": [],
   "source": [
    "ad.var['tss'] = ad.var.apply(lambda row: row.gene_start if row.strand=='+' else row.gene_end, axis=1)\n",
    "ad.var.loc[ad.var.ensembl_canonical_tss.isna(), 'ensembl_canonical_tss'] = ad.var.loc[ad.var.ensembl_canonical_tss.isna(), 'tss']"
   ]
  },
  {
   "cell_type": "code",
   "execution_count": null,
   "id": "48c4aeb1-ff08-4590-ad55-367e2c223ba8",
   "metadata": {},
   "outputs": [],
   "source": [
    "ad.obs['celltype_coarse'] = [row.celltype_coarse if row.dataset=='skin_atlas' else row.cell_type for row in ad.obs.itertuples()]"
   ]
  },
  {
   "cell_type": "markdown",
   "id": "949e64b2-ba72-4fc4-bcdc-7cea26bcd9e1",
   "metadata": {},
   "source": [
    "## Load variant predictions"
   ]
  },
  {
   "cell_type": "code",
   "execution_count": null,
   "id": "b13f95ee-a487-4ff8-bb6f-844e8b7718a1",
   "metadata": {},
   "outputs": [],
   "source": [
    "gwas_ = anndata.read_h5ad(pred_file)"
   ]
  },
  {
   "cell_type": "code",
   "execution_count": null,
   "id": "0ef0a867-49d5-4370-9026-643e19c131d4",
   "metadata": {},
   "outputs": [],
   "source": [
    "gwas_.var = gwas_.var.merge(ad.obs[['cell_type', 'celltype_coarse']].drop_duplicates(), left_index=True, right_on='cell_type').set_index('cell_type')"
   ]
  },
  {
   "cell_type": "code",
   "execution_count": null,
   "id": "82d7562d-b33a-459a-8fd5-4c48dbabe9d8",
   "metadata": {},
   "outputs": [],
   "source": [
    "gwas_.X = np.abs(gwas_.X)"
   ]
  },
  {
   "cell_type": "code",
   "execution_count": null,
   "id": "8a9332be-4e3a-4523-bc78-c1053a8d3757",
   "metadata": {},
   "outputs": [],
   "source": [
    "gwas_.obs.index = gwas_.obs_names = range(len(gwas_.obs))"
   ]
  },
  {
   "cell_type": "code",
   "execution_count": null,
   "id": "3bfadc73-0d8e-4995-b9fd-80d70713c449",
   "metadata": {},
   "outputs": [],
   "source": [
    "gwas = sc.get.aggregate(gwas_, by='celltype_coarse', func='mean', axis=1)\n",
    "gwas.X = gwas.layers['mean']"
   ]
  },
  {
   "cell_type": "code",
   "execution_count": null,
   "id": "cbd24932-1722-4dac-8596-9605fbfba7a1",
   "metadata": {},
   "outputs": [],
   "source": [
    "gwas_.X = gwas_.layers['gene_exp']"
   ]
  },
  {
   "cell_type": "code",
   "execution_count": null,
   "id": "467db1e7-a129-46ad-a759-2e3fd3b77ab2",
   "metadata": {},
   "outputs": [],
   "source": [
    "exp = sc.get.aggregate(gwas_, by='celltype_coarse', func='mean', axis=1)"
   ]
  },
  {
   "cell_type": "code",
   "execution_count": null,
   "id": "ae13e7e5-eef5-4de6-8229-5ab191931eab",
   "metadata": {},
   "outputs": [],
   "source": [
    "gwas.layers['gene_exp'] = exp.layers['mean']"
   ]
  },
  {
   "cell_type": "markdown",
   "id": "bc5789b9-a90f-4b0c-97c5-75006d2cd9f9",
   "metadata": {},
   "source": [
    "## Annotate Decima predictions"
   ]
  },
  {
   "cell_type": "code",
   "execution_count": null,
   "id": "a00a9d12-f665-4cd9-b5f5-aa643c0dedce",
   "metadata": {},
   "outputs": [],
   "source": [
    "gwas.obs['nearest_gene'] = gwas.obs.apply(lambda row: np.abs(row.pos - ad.var.loc[ad.var.chrom==row.chrom, 'tss']).sort_values().index[0], axis=1)\n",
    "gwas.obs['nearest_canonical_gene'] = gwas.obs.apply(lambda row: np.abs(row.pos - ad.var.loc[ad.var.chrom==row.chrom, 'ensembl_canonical_tss']).sort_values().index[0], axis=1)"
   ]
  },
  {
   "cell_type": "code",
   "execution_count": null,
   "id": "6316f117-e443-4fa9-9345-8e02836b8e39",
   "metadata": {},
   "outputs": [],
   "source": [
    "gwas.obs['tss_dist'] = gwas.obs.apply(lambda row: row.pos - ad.var.loc[row.gene, 'tss'], axis=1)\n",
    "gwas.obs['canonical_tss_dist'] = gwas.obs.apply(lambda row: row.pos - ad.var.loc[row.gene, 'ensembl_canonical_tss'], axis=1)"
   ]
  },
  {
   "cell_type": "code",
   "execution_count": null,
   "id": "5a24c112-9f27-4c9b-8b69-9ced41cd7309",
   "metadata": {},
   "outputs": [],
   "source": [
    "gwas.obs['same'] = gwas.obs.gene.astype(str)==gwas.obs.nearest_gene.astype(str)\n",
    "gwas.obs['same_canonical'] = gwas.obs.gene.astype(str)==gwas.obs.nearest_canonical_gene.astype(str)"
   ]
  },
  {
   "cell_type": "code",
   "execution_count": null,
   "id": "014edb6d-fcc3-4ef2-9fd3-a32064431f7e",
   "metadata": {},
   "outputs": [],
   "source": [
    "gwas.obs['gene_pearson'] = gwas.obs.gene.apply(lambda x: ad.var.loc[x, 'pearson']).astype(float)\n",
    "gwas.obs['gene_sf_pearson'] = gwas.obs.gene.apply(lambda x: ad.var.loc[x, 'size_factor_pearson']).astype(float)"
   ]
  },
  {
   "cell_type": "markdown",
   "id": "e2d17dd4-2eb7-41a9-b04c-31ac33543a03",
   "metadata": {},
   "source": [
    "## Annotate positive variants"
   ]
  },
  {
   "cell_type": "code",
   "execution_count": null,
   "id": "35a50e9b-a497-4541-954f-343678862856",
   "metadata": {},
   "outputs": [],
   "source": [
    "match = pd.read_csv(matched_neg_file)\n",
    "match = match.groupby(['pos_variant', 'gene']).variant.apply(list).reset_index()\n",
    "\n",
    "traits = pd.read_csv(trait_file)"
   ]
  },
  {
   "cell_type": "code",
   "execution_count": null,
   "id": "f7d927f9-ce08-4491-8744-d31708c13ca6",
   "metadata": {},
   "outputs": [],
   "source": [
    "traits = traits[['variant', 'trait_name', 'vep']].merge(match[['pos_variant', 'gene', 'variant']], left_on='variant', right_on='pos_variant').drop(columns='variant_x')\n",
    "traits = traits.merge(gwas.obs[['variant', 'rsid', 'gene', 'pval', 'score', 'has_eqtl', 'is_best', 'same', 'same_canonical', 'gene_pearson', 'gene_sf_pearson', 'tss_dist', 'canonical_tss_dist']].rename(\n",
    "    columns={'variant':'pos_variant'})).copy()\n",
    "traits.head(2)"
   ]
  },
  {
   "cell_type": "code",
   "execution_count": null,
   "id": "43123c18-f173-417b-99a6-a1134db07ab3",
   "metadata": {},
   "outputs": [],
   "source": [
    "traits['neg_score'] = traits.apply(lambda row:\n",
    "    gwas.obs.loc[(gwas.obs.variant.isin(row.variant_y)) & (gwas.obs.gene==row.gene), 'score'].mean(), axis=1)\n",
    "traits['delta'] = traits.apply(lambda row: (row.score - row.neg_score), axis=1)\n",
    "traits.head(2)"
   ]
  },
  {
   "cell_type": "markdown",
   "id": "5eae484c-0568-4180-b98c-2f8f879b06d9",
   "metadata": {},
   "source": [
    "## Load models"
   ]
  },
  {
   "cell_type": "code",
   "execution_count": null,
   "id": "5d0dc758-d934-4ce6-b202-70b279b81724",
   "metadata": {},
   "outputs": [],
   "source": [
    "wandb.login(host=\"https://genentech.wandb.io\")\n",
    "ckpts=[\n",
    "'/gstore/data/resbioai/grelu/decima/20240823/lightning_logs/kugrjb50/checkpoints/epoch=3-step=2920.ckpt',\n",
    "'/gstore/data/resbioai/grelu/decima/20240823/lightning_logs/i68hdsdk/checkpoints/epoch=2-step=2190.ckpt',\n",
    "'/gstore/data/resbioai/grelu/decima/20240823/lightning_logs/0as9e8of/checkpoints/epoch=7-step=5840.ckpt',\n",
    "'/gstore/data/resbioai/grelu/decima/20240823/lightning_logs/i9zsp4nm/checkpoints/epoch=8-step=6570.ckpt',\n",
    "]\n",
    "models = [LightningModel.load_from_checkpoint(ckpt).eval() for ckpt in ckpts]"
   ]
  },
  {
   "cell_type": "markdown",
   "id": "7b8054be-db6d-47f4-89c3-d334dc9c2b84",
   "metadata": {},
   "source": [
    "## Add per-cell type deltas"
   ]
  },
  {
   "cell_type": "code",
   "execution_count": null,
   "id": "f3cbae02-f6d5-4b49-9006-d46dfcc265d2",
   "metadata": {},
   "outputs": [],
   "source": [
    "traits['deltas'] = traits.apply(\n",
    "    lambda row: (gwas[gwas.obs.variant==row.pos_variant].X - gwas[(gwas.obs.variant.isin(row.variant_y)) & (gwas.obs.gene==row.gene)].X).mean(0),\n",
    "    axis=1)\n",
    "traits['delta_z'] = traits.deltas.apply(lambda x: (x - x.mean())/x.std())\n",
    "traits['top5'] = traits.delta_z.apply(lambda x: gwas.var_names[np.argsort(x)[-5:]].tolist())\n",
    "traits['ct_z2'] = traits.delta_z.apply(lambda x: gwas.var_names[x>2].tolist())"
   ]
  },
  {
   "cell_type": "markdown",
   "id": "7ddf185a-a12f-4f32-b262-3fcd10f776be",
   "metadata": {},
   "source": [
    "## Select top positive variants"
   ]
  },
  {
   "cell_type": "code",
   "execution_count": null,
   "id": "9e49169f-7262-4dc3-adf1-0b65fdff9d5f",
   "metadata": {},
   "outputs": [],
   "source": [
    "top = traits[(traits.pval < .01)].sort_values('delta', ascending=False)"
   ]
  },
  {
   "cell_type": "markdown",
   "id": "2c40144f-fffc-4bcd-8c53-679c4bcd5ff0",
   "metadata": {},
   "source": [
    "## Examples"
   ]
  },
  {
   "cell_type": "code",
   "execution_count": null,
   "id": "6f4cdf52-794a-491c-870c-ed3e880f727c",
   "metadata": {},
   "outputs": [],
   "source": [
    "def get_attrs(gene, ref_allele, alt_allele, rel_pos, top_cts, h5_file=h5_file, models=models):\n",
    "    seq, mask = extract_gene_data(h5_file, gene, merge=False)\n",
    "    tss_pos = np.where(mask[0] == 1)[0][0] - 2\n",
    "    device = torch.device(0)\n",
    "    ref_seq = seq.clone()\n",
    "    alt_seq = seq.clone()\n",
    "\n",
    "    ref_seq[:, rel_pos] = strings_to_one_hot(ref_allele).squeeze()\n",
    "    alt_seq[:, rel_pos] = strings_to_one_hot(alt_allele).squeeze()\n",
    "\n",
    "    tasks = ad.obs_names[ad.obs.cell_type.isin(top_cts)].tolist()\n",
    "    ref_inputs = torch.vstack([ref_seq, mask]).to(device)\n",
    "    alt_inputs = torch.vstack([alt_seq, mask]).to(device)\n",
    "\n",
    "    attr_ref = []\n",
    "    attr_alt = []\n",
    "    \n",
    "    for model in models:\n",
    "        model.add_transform(Aggregate(tasks=tasks, task_aggfunc=\"mean\", model=model))\n",
    "        attributer = InputXGradient(model.to(device))\n",
    "        with torch.no_grad():\n",
    "            attr_ref.append(attributer.attribute(ref_inputs).cpu().numpy())\n",
    "            attr_alt.append(attributer.attribute(alt_inputs).cpu().numpy())\n",
    "    \n",
    "    attr_ref = np.stack(attr_ref).mean(0)[:-1]\n",
    "    attr_alt = np.stack(attr_alt).mean(0)[:-1]\n",
    "    return attr_ref, attr_alt"
   ]
  },
  {
   "cell_type": "markdown",
   "id": "06948b9f-ce44-42e5-a1ca-81fd39e4f4be",
   "metadata": {},
   "source": [
    "## Individual examples"
   ]
  },
  {
   "cell_type": "markdown",
   "id": "aad77b39-f175-4e61-8db7-b1791fc858cc",
   "metadata": {},
   "source": [
    "## rs138682554"
   ]
  },
  {
   "cell_type": "markdown",
   "id": "7d5d9511-aad3-4680-ac97-0982be9280d9",
   "metadata": {},
   "source": [
    "https://www.genetics.opentargets.org/Variant/15_90884462_G_A/associations\n",
    "eQTL: Artery tibial, Blood, Pancreas, Skin, Fibroblast, Macrophage, Monocyte"
   ]
  },
  {
   "cell_type": "code",
   "execution_count": null,
   "id": "46818e40-79fa-4322-8f36-895dfb09fea6",
   "metadata": {},
   "outputs": [],
   "source": [
    "rs='rs138682554'\n",
    "gene = top[top.rsid==rs].gene.tolist()[0]\n",
    "traits = top[top.rsid==rs].trait_name.tolist()[0]\n",
    "top_cts = top[top.rsid==rs].ct_z2.tolist()[0]\n",
    "rel_pos = gwas.obs[gwas.obs.rsid==rs].rel_pos.tolist()[0]\n",
    "ref_allele = gwas.obs.loc[gwas.obs.rsid==rs, 'ref_tx'].tolist()[0]\n",
    "alt_allele = gwas.obs.loc[gwas.obs.rsid==rs, 'alt_tx'].tolist()[0]\n",
    "\n",
    "df = pd.DataFrame({\n",
    "    'ct': gwas.var_names,\n",
    "    'vep': top[top.rsid==rs].deltas.tolist()[0],\n",
    "    'exp':np.array(gwas[gwas.obs.rsid==rs].layers['gene_exp']).squeeze()\n",
    "})\n",
    "df['z>2'] = df.ct.isin(top_cts)\n",
    "\n",
    "print(gene)\n",
    "print(traits)\n",
    "print(top_cts)\n",
    "print(gwas.obs.loc[gwas.obs.rsid==rs, 'tss_dist'].tolist()[0])\n",
    "display(gwas.obs.loc[gwas.obs.rsid==rs])"
   ]
  },
  {
   "cell_type": "code",
   "execution_count": null,
   "id": "dcfd03c7-b006-42c3-b149-b35097452987",
   "metadata": {},
   "outputs": [],
   "source": [
    "df['Cell Type'] = 'Other'\n",
    "df.loc[df.ct.isin(['DC', 'Langerhans cell','conventional dendritic cell']), 'Cell Type'] = 'DC'\n",
    "df.loc[df.ct.isin(['Macrophages', 'alveolar macrophage','macrophage']), 'Cell Type'] = 'Macrophages'\n",
    "df.loc[df.ct.isin(['classical monocyte', 'intermediate monocyte','non-classical monocyte']), 'Cell Type'] = 'Monocytes'"
   ]
  },
  {
   "cell_type": "code",
   "execution_count": null,
   "id": "30f90908-99d7-48d6-8d29-f8e3e3ea78de",
   "metadata": {},
   "outputs": [],
   "source": [
    "(\n",
    " ggplot(df, aes(x='exp', y='vep', color='Cell Type')) + geom_point() + theme_classic() \n",
    "    + theme(figure_size=(3.2,2.2)) \n",
    "    + ylab('Predicted absolute logFC\\n(Background subtracted)') + xlab('Measured gene\\n    expression')\n",
    "    + scale_color_manual(values=['red', 'blue', 'orange', 'gray'])\n",
    ")"
   ]
  },
  {
   "cell_type": "code",
   "execution_count": null,
   "id": "23fd2216-46e7-4526-8bf2-9a5843b9012a",
   "metadata": {},
   "outputs": [],
   "source": [
    "attr_ref, attr_alt = get_attrs(gene,ref_allele,alt_allele, rel_pos, top_cts)"
   ]
  },
  {
   "cell_type": "code",
   "execution_count": null,
   "id": "d388687a-8005-4299-9f54-5308709f78ba",
   "metadata": {
    "scrolled": true
   },
   "outputs": [],
   "source": [
    "plot_attributions(attr_ref[:, rel_pos-10:rel_pos+10], figsize=(6,2), ylim=(-.55, 1.1),\n",
    "                  highlight_positions=[10], alpha=.25)"
   ]
  },
  {
   "cell_type": "code",
   "execution_count": null,
   "id": "218814f2-f097-4c52-9ff2-627c121140ea",
   "metadata": {},
   "outputs": [],
   "source": [
    "plot_attributions(attr_alt[:, rel_pos-10:rel_pos+10], figsize=(6,2), ylim=(-.55, 1.1), highlight_positions=[10],\n",
    "                 alpha=.25)"
   ]
  },
  {
   "cell_type": "code",
   "execution_count": null,
   "id": "88660386-9a11-4695-9a33-7943b3a2d262",
   "metadata": {},
   "outputs": [],
   "source": [
    "plot_pwm(hocomoco['SPI1.H12CORE.1.S.B'])"
   ]
  },
  {
   "cell_type": "markdown",
   "id": "d933d04e-ffdb-477e-b964-96f98d27eaec",
   "metadata": {},
   "source": [
    "## rs8105903"
   ]
  },
  {
   "cell_type": "markdown",
   "id": "6cb0eb64-6b38-47d8-a843-3f5d70d993df",
   "metadata": {},
   "source": [
    "https://www.genetics.opentargets.org/Variant/19_46784893_C_A/associations\n",
    "\n",
    "eQTL: adipose, blood, thyyroid, tibial nerve, monocyte, fibroblast"
   ]
  },
  {
   "cell_type": "code",
   "execution_count": null,
   "id": "91e826e9-4591-4387-8870-fca3916c6c23",
   "metadata": {},
   "outputs": [],
   "source": [
    "rs='rs8105903'\n",
    "gene = top[top.rsid==rs].gene.tolist()[0]\n",
    "traits = top[top.rsid==rs].trait_name.tolist()[0]\n",
    "top_cts = top[top.rsid==rs].ct_z2.tolist()[0]\n",
    "rel_pos = gwas.obs[gwas.obs.rsid==rs].rel_pos.tolist()[0]\n",
    "ref_allele = gwas.obs.loc[gwas.obs.rsid==rs, 'ref_tx'].tolist()[0]\n",
    "alt_allele = gwas.obs.loc[gwas.obs.rsid==rs, 'alt_tx'].tolist()[0]\n",
    "\n",
    "df = pd.DataFrame({\n",
    "    'ct': gwas.var_names,\n",
    "    'vep': top[top.rsid==rs].deltas.tolist()[0],\n",
    "    'exp':np.array(gwas[gwas.obs.rsid==rs].layers['gene_exp']).squeeze()\n",
    "})\n",
    "df['z>2'] = df.ct.isin(top_cts)\n",
    "\n",
    "print(gene)\n",
    "print(traits)\n",
    "print(top_cts)\n",
    "print(gwas.obs.loc[gwas.obs.rsid==rs, 'tss_dist'].tolist()[0], ref_allele, alt_allele)"
   ]
  },
  {
   "cell_type": "code",
   "execution_count": null,
   "id": "f9e1c5c2-489e-4219-96e6-0f8f062bce0e",
   "metadata": {},
   "outputs": [],
   "source": [
    "df=df.drop(index=40)"
   ]
  },
  {
   "cell_type": "code",
   "execution_count": null,
   "id": "5cbcb613-39bc-4b8c-a6a1-bb24070c1aa9",
   "metadata": {},
   "outputs": [],
   "source": [
    "df['Cell Type'] = 'Other'\n",
    "df.loc[df.ct.isin(['Fibroblasts']), 'Cell Type'] = 'Fibroblasts'\n",
    "df.loc[df.ct.isin(['Macrophages', 'alveolar macrophage','macrophage']), 'Cell Type'] = 'Macrophages'\n",
    "df.loc[df.ct.isin(['classical monocyte', 'intermediate monocyte','non-classical monocyte']), 'Cell Type'] = 'Monocytes'"
   ]
  },
  {
   "cell_type": "code",
   "execution_count": null,
   "id": "7b48d93a-8cc6-444b-a099-90120fbfb89e",
   "metadata": {},
   "outputs": [],
   "source": [
    "(\n",
    " ggplot(df, aes(x='exp', y='vep', color='Cell Type')) + geom_point() + theme_classic() \n",
    "    + theme(figure_size=(3.2,2.2)) \n",
    "    + ylab('Predicted absolute logFC\\n(Background subtracted)') \n",
    "    + xlab('Measured gene\\n   expression')\n",
    "    + scale_color_manual(['Red', 'Blue', 'Orange', 'Gray'])\n",
    ")"
   ]
  },
  {
   "cell_type": "code",
   "execution_count": null,
   "id": "20b539b8-57c0-4966-b330-569190792415",
   "metadata": {},
   "outputs": [],
   "source": [
    "attr_ref, attr_alt = get_attrs(gene,ref_allele,alt_allele, rel_pos, ['Fibroblasts', 'fibroblast'])"
   ]
  },
  {
   "cell_type": "code",
   "execution_count": null,
   "id": "c1b3b860-3e06-400f-989d-7c36f57be577",
   "metadata": {},
   "outputs": [],
   "source": [
    "plot_attributions(attr_ref[:, rel_pos-10:rel_pos+10], figsize=(5.5,2), ylim=(-.17, .07),\n",
    "                 highlight_positions=[10], alpha=.25)"
   ]
  },
  {
   "cell_type": "code",
   "execution_count": null,
   "id": "1e8ad8e1-45da-4719-95bb-d85e76b8ad50",
   "metadata": {},
   "outputs": [],
   "source": [
    "plot_attributions(attr_alt[:, rel_pos-10:rel_pos+10], figsize=(5.5,2), ylim=(-.17, .07),\n",
    "                 highlight_positions=[10], alpha=.25)"
   ]
  },
  {
   "cell_type": "code",
   "execution_count": null,
   "id": "3e8b8732-1556-48de-b235-01bfe9ebbdbc",
   "metadata": {},
   "outputs": [],
   "source": [
    "plot_pwm(hocomoco['ZEB2.H12CORE.0.P.B'])"
   ]
  },
  {
   "cell_type": "code",
   "execution_count": null,
   "id": "712e03bd-f610-4cc0-bc59-36accf06cfd8",
   "metadata": {},
   "outputs": [],
   "source": [
    "cmp = compare_motifs(ref_seq='TGTCCAGGGTATT', alt_seq='TGTCCAGGTATT', motifs='hocomoco_v12')\n",
    "cmp"
   ]
  },
  {
   "cell_type": "code",
   "execution_count": null,
   "id": "2f57f5d3-5ce1-4e3e-b684-00041e19c44a",
   "metadata": {},
   "outputs": [],
   "source": [
    "pos_cts = ['Fibroblasts', 'fibroblast']\n",
    "\n",
    "for tf in [x.split('.')[0] for x in cmp[cmp.alt > cmp.ref].motif]:\n",
    "    if tf.startswith('ZN'):\n",
    "        tf = tf.replace('ZN', 'ZNF')\n",
    "    if tf.startswith('ZBT'):\n",
    "        tf = tf.replace('ZBT', 'ZBTB')\n",
    "    if tf in ad.var_names:\n",
    "        tf_delta = ad[ad.obs.cell_type.isin(pos_cts), tf].X.mean() - ad[ad.obs.cell_type.isin(neg_cts), tf].X.mean()\n",
    "        print(tf, tf_delta)\n",
    "    else:\n",
    "        print(tf)"
   ]
  },
  {
   "cell_type": "markdown",
   "id": "fdeb6b7f-b989-4d4d-ac58-2fd559d10619",
   "metadata": {},
   "source": [
    "https://www.genetics.opentargets.org/Variant/17_78187152_C_T/associations\n",
    "eQTL: blood, brain, monocytes"
   ]
  },
  {
   "cell_type": "code",
   "execution_count": null,
   "id": "64247784-5bcd-45cf-a694-284230c9f39b",
   "metadata": {},
   "outputs": [],
   "source": [
    "rs='rs144204502'\n",
    "gene = top[top.rsid==rs].gene.tolist()[0]\n",
    "traits = top[top.rsid==rs].trait_name.tolist()[0]\n",
    "top_cts = top[top.rsid==rs].ct_z2.tolist()[0]\n",
    "rel_pos = gwas.obs[gwas.obs.rsid==rs].rel_pos.tolist()[0]\n",
    "ref_allele = gwas.obs.loc[gwas.obs.rsid==rs, 'ref_tx'].tolist()[0]\n",
    "alt_allele = gwas.obs.loc[gwas.obs.rsid==rs, 'alt_tx'].tolist()[0]\n",
    "\n",
    "df = pd.DataFrame({\n",
    "    'ct': gwas.var_names,\n",
    "    'vep': top[top.rsid==rs].deltas.tolist()[0],\n",
    "    'exp':np.array(gwas[gwas.obs.rsid==rs].layers['gene_exp']).squeeze()\n",
    "})\n",
    "df['z>2'] = df.ct.isin(top_cts)\n",
    "\n",
    "print(gene)\n",
    "print(traits)\n",
    "print(top_cts)\n",
    "display(gwas.obs.loc[gwas.obs.rsid==rs])"
   ]
  },
  {
   "cell_type": "code",
   "execution_count": null,
   "id": "fe29e5f5-b0d0-4e46-90b9-3a4a3c320077",
   "metadata": {},
   "outputs": [],
   "source": [
    "(\n",
    " ggplot(df, aes(x='exp', y='vep', color='z>2')) + geom_point() + theme_classic() \n",
    "    + theme(figure_size=(3,2)) + ylab('VEP') + xlab('Measured gene expression')\n",
    "    +ggtitle(f'{rs}, {gene}')\n",
    ")"
   ]
  },
  {
   "cell_type": "code",
   "execution_count": null,
   "id": "39fad069-03e3-4799-b884-a0d9ad95c220",
   "metadata": {},
   "outputs": [],
   "source": [
    "#attr_ref, attr_alt = get_attrs(gene,ref_allele,alt_allele, rel_pos, ['erythroid lineage cell'])\n",
    "plot_attributions(attr_ref[:, rel_pos-15:rel_pos+15], figsize=(4,1), ylim=(-.4, .6))\n",
    "plot_attributions(attr_alt[:, rel_pos-15:rel_pos+15], figsize=(4,1), ylim=(-.4, .6))"
   ]
  },
  {
   "cell_type": "code",
   "execution_count": null,
   "id": "9ab0b291-f93c-44a7-a8ce-655c8360a2f3",
   "metadata": {},
   "outputs": [],
   "source": [
    "cmp = compare_motifs(ref_seq='CCAAATCTCCCGCCAG', alt_seq='CCAAATCTCCCACCAG', motifs='hocomoco_v12', pthresh=.001)\n",
    "cmp"
   ]
  },
  {
   "cell_type": "code",
   "execution_count": null,
   "id": "911545b7-e9db-4dbe-b4ce-89385a0a0d87",
   "metadata": {},
   "outputs": [],
   "source": [
    "pos_cts = top_cts\n",
    "neg_cts = df[(df.exp > 2.2) & (df.vep < .05)].ct.tolist()\n",
    "print(neg_cts)\n",
    "\n",
    "for tf in [x.split('.')[0] for x in cmp[cmp.ref > cmp.alt].motif]:\n",
    "    if tf.startswith('ZN'):\n",
    "        tf = tf.replace('ZN', 'ZNF')\n",
    "    if tf.startswith('ZBT'):\n",
    "        tf = tf.replace('ZBT', 'ZBTB')\n",
    "    if tf in ad.var_names:\n",
    "        tf_delta = ad[ad.obs.cell_type.isin(pos_cts), tf].X.mean() - ad[ad.obs.cell_type.isin(neg_cts), tf].X.mean()\n",
    "        print(tf, tf_delta)\n",
    "    else:\n",
    "        print(tf)"
   ]
  },
  {
   "cell_type": "markdown",
   "id": "439bd380-94ec-4457-b2d6-92a1dffb8044",
   "metadata": {},
   "source": [
    "GWAS catalog: missing\n",
    "\n",
    "Opentargets: https://www.genetics.opentargets.org/Variant/2_10122732_G_A/associations\n",
    "\n",
    "eQTL: None for RRM2, blood for other genes"
   ]
  },
  {
   "cell_type": "code",
   "execution_count": null,
   "id": "7593822f-8dd0-411a-a337-5453fef6a2a9",
   "metadata": {},
   "outputs": [],
   "source": [
    "rs='rs72542787'\n",
    "gene = top[top.rsid==rs].gene.tolist()[0]\n",
    "traits = top[top.rsid==rs].trait_name.tolist()[0]\n",
    "top_cts = top[top.rsid==rs].ct_z2.tolist()[0]\n",
    "rel_pos = gwas.obs[gwas.obs.rsid==rs].rel_pos.tolist()[0]\n",
    "ref_allele = gwas.obs.loc[gwas.obs.rsid==rs, 'ref_tx'].tolist()[0]\n",
    "alt_allele = gwas.obs.loc[gwas.obs.rsid==rs, 'alt_tx'].tolist()[0]\n",
    "\n",
    "df = pd.DataFrame({\n",
    "    'ct': gwas.var_names,\n",
    "    'vep': top[top.rsid==rs].deltas.tolist()[0],\n",
    "    'exp':np.array(gwas[gwas.obs.rsid==rs].layers['gene_exp']).squeeze()\n",
    "})\n",
    "df['z>2'] = df.ct.isin(top_cts)\n",
    "\n",
    "print(gene)\n",
    "print(traits)\n",
    "print(top_cts)\n",
    "display(gwas.obs.loc[gwas.obs.rsid==rs])"
   ]
  },
  {
   "cell_type": "code",
   "execution_count": null,
   "id": "a62f0026-56c8-44e7-be38-cc6ef409fc1c",
   "metadata": {},
   "outputs": [],
   "source": [
    "df['Cell Type'] = 'Other'\n",
    "df.loc[df.ct.isin(['erythroid lineage cell']), 'Cell Type'] = 'erythroid lineage cell'\n",
    "df.loc[df.ct.isin(['granulocyte']), 'Cell Type'] = 'granulocyte'"
   ]
  },
  {
   "cell_type": "code",
   "execution_count": null,
   "id": "6b6feeac-3332-421a-93ee-c975b48ca67e",
   "metadata": {},
   "outputs": [],
   "source": [
    "(\n",
    " ggplot(df, aes(x='exp', y='vep', color='Cell Type')) + geom_point() + theme_classic() \n",
    "    + theme(figure_size=(3,2)) + ylab('VEP') + xlab('Measured gene expression')\n",
    "    +ggtitle(f'{rs}, {gene}')\n",
    ")"
   ]
  },
  {
   "cell_type": "code",
   "execution_count": null,
   "id": "69c72685-4406-4f8b-89a3-cdd1700efa49",
   "metadata": {},
   "outputs": [],
   "source": [
    "df.sort_values('exp', ascending=False).head(5)"
   ]
  },
  {
   "cell_type": "code",
   "execution_count": null,
   "id": "7ccfc313-7fc6-4e6d-815b-a03693fe0bc5",
   "metadata": {},
   "outputs": [],
   "source": [
    "attr_ref, attr_alt = get_attrs(gene,ref_allele,alt_allele, rel_pos, ['erythroid lineage cell'])\n",
    "plot_attributions(attr_ref[:, rel_pos-15:rel_pos+25], figsize=(4,1))\n",
    "plot_attributions(attr_alt[:, rel_pos-15:rel_pos+25], figsize=(4,1))"
   ]
  },
  {
   "cell_type": "code",
   "execution_count": null,
   "id": "d7435a82-dcf6-42b0-adc9-2050c67c5e7e",
   "metadata": {},
   "outputs": [],
   "source": [
    "cmp = compare_motifs(ref_seq='TGAGGGGGCGCCCGTGCACCCTGTCC', alt_seq='TGAGGGGACGCCCGTGCACCCTGTCC', motifs='hocomoco_v12')\n",
    "cmp"
   ]
  },
  {
   "cell_type": "code",
   "execution_count": null,
   "id": "57bc0fca-c7d5-47a4-b52a-3ee3a7b6bcfe",
   "metadata": {},
   "outputs": [],
   "source": [
    "pos_cts = ['erythroid lineage cell']\n",
    "neg_cts = df[(df.exp > 2) & (df.vep < .04)].ct.tolist()\n",
    "print(neg_cts)\n",
    "\n",
    "for tf in [x.split('.')[0] for x in cmp[cmp.alt > cmp.ref].motif]:\n",
    "    if tf.startswith('ZN'):\n",
    "        tf = tf.replace('ZN', 'ZNF')\n",
    "    if tf.startswith('ZBT'):\n",
    "        tf = tf.replace('ZBT', 'ZBTB')\n",
    "    if tf in ad.var_names:\n",
    "        tf_delta = ad[ad.obs.cell_type.isin(pos_cts), tf].X.mean() - ad[ad.obs.cell_type.isin(neg_cts), tf].X.mean()\n",
    "        if tf_delta > 0.1:\n",
    "            print(tf, tf_delta)\n",
    "    else:\n",
    "        print(tf)"
   ]
  },
  {
   "cell_type": "code",
   "execution_count": null,
   "id": "b091ed35-ec75-4c5b-b2a3-369d6a8d7b64",
   "metadata": {},
   "outputs": [],
   "source": [
    "pos_cts = ['erythroid lineage cell']\n",
    "neg_cts = df[(df.exp > 2) & (df.vep < .04)].ct.tolist()\n",
    "print(neg_cts)\n",
    "\n",
    "for tf in [x.split('.')[0] for x in cmp[cmp.alt < cmp.ref].motif]:\n",
    "    if tf.startswith('ZN') and (~tf.startswith('ZNF')):\n",
    "        tf = tf.replace('ZN', 'ZNF')\n",
    "    if tf.startswith('ZBT'):\n",
    "        tf = tf.replace('ZBT', 'ZBTB')\n",
    "    if tf in ad.var_names:\n",
    "        tf_delta = ad[ad.obs.cell_type.isin(pos_cts), tf].X.mean() - ad[ad.obs.cell_type.isin(neg_cts), tf].X.mean()\n",
    "        if tf_delta > 0.1:\n",
    "            print(tf, tf_delta)\n",
    "    else:\n",
    "        print(tf)"
   ]
  },
  {
   "cell_type": "code",
   "execution_count": null,
   "id": "b0aa129f-c3d2-4c2e-90bf-7ec79c386c86",
   "metadata": {},
   "outputs": [],
   "source": [
    "plot_pwm(hocomoco['E2F4.H12CORE.2.S.B'])"
   ]
  },
  {
   "cell_type": "raw",
   "id": "c26d4af5-3051-4632-ac0e-add603f5ba6e",
   "metadata": {},
   "source": [
    "https://www.genetics.opentargets.org/Variant/19_3136093_C_T/associations\n",
    "eQTL: blood"
   ]
  },
  {
   "cell_type": "code",
   "execution_count": null,
   "id": "1d3a882c-b908-4e70-b83a-2d4a32533ff2",
   "metadata": {},
   "outputs": [],
   "source": [
    "rs='rs117552144'\n",
    "gene = top[top.rsid==rs].gene.tolist()[0]\n",
    "traits = top[top.rsid==rs].trait_name.tolist()[0]\n",
    "top_cts = top[top.rsid==rs].ct_z2.tolist()[0]\n",
    "rel_pos = gwas.obs[gwas.obs.rsid==rs].rel_pos.tolist()[0]\n",
    "ref_allele = gwas.obs.loc[gwas.obs.rsid==rs, 'ref_tx'].tolist()[0]\n",
    "alt_allele = gwas.obs.loc[gwas.obs.rsid==rs, 'alt_tx'].tolist()[0]\n",
    "\n",
    "df = pd.DataFrame({\n",
    "    'ct': gwas.var_names,\n",
    "    'vep': top[top.rsid==rs].deltas.tolist()[0],\n",
    "    'exp':np.array(gwas[gwas.obs.rsid==rs].layers['gene_exp']).squeeze()\n",
    "})\n",
    "df['z>2'] = df.ct.isin(top_cts)\n",
    "\n",
    "print(gene)\n",
    "print(traits)\n",
    "print(top_cts)\n",
    "print(gwas.obs.loc[gwas.obs.rsid==rs, 'tss_dist'].tolist()[0], ref_allele, alt_allele)\n",
    "display(gwas.obs.loc[gwas.obs.rsid==rs])"
   ]
  },
  {
   "cell_type": "code",
   "execution_count": null,
   "id": "cd0de18c-bc21-43a3-9aec-6d7ad1c88f9a",
   "metadata": {},
   "outputs": [],
   "source": [
    "df.sort_values('vep', ascending=False).head(6)"
   ]
  },
  {
   "cell_type": "code",
   "execution_count": null,
   "id": "2087d0b0-937b-426b-b7a9-dcac77f645f6",
   "metadata": {},
   "outputs": [],
   "source": [
    "df['Cell Type'] = df.ct.apply(lambda x: x if x in ['mucus secreting cell', 'club cell','goblet cell', 'lung secretory cell'] else 'Other')"
   ]
  },
  {
   "cell_type": "code",
   "execution_count": null,
   "id": "a84812a1-92b3-400e-a58e-ab120f0192fd",
   "metadata": {},
   "outputs": [],
   "source": [
    "(\n",
    " ggplot(df, aes(x='exp', y='vep', color='Cell Type')) + geom_point() + theme_classic() \n",
    "    + theme(figure_size=(3.7,2.2)) + ylab('      Decima VEP score\\n(Background subtracted)') \n",
    "    + xlab('Measured gene\\n    expression')\n",
    "    +ggtitle(f'{rs}, {gene}')\n",
    "    +scale_color_manual(['gray', 'red', 'green', 'orange', 'blue'])\n",
    ")"
   ]
  },
  {
   "cell_type": "code",
   "execution_count": null,
   "id": "664e05dc-90d5-4125-97d3-e8aea051e505",
   "metadata": {},
   "outputs": [],
   "source": [
    "attr_ref, attr_alt = get_attrs(gene,ref_allele,alt_allele, rel_pos, top_cts)\n",
    "plot_attributions(attr_ref[:, rel_pos-10:rel_pos+10], figsize=(5.5,2),\n",
    "                 alpha=.25, highlight_positions=[10])\n",
    "plot_attributions(attr_alt[:, rel_pos-10:rel_pos+10], figsize=(5.5, 2),\n",
    "                 alpha=.25, highlight_positions=[10])"
   ]
  },
  {
   "cell_type": "code",
   "execution_count": null,
   "id": "faef85ae-8274-4c58-88dc-55bedc4f4765",
   "metadata": {},
   "outputs": [],
   "source": [
    "scan_sequences('GGGTTTTCCCCCC', motifs='hocomoco_v12', pthresh=.001)"
   ]
  },
  {
   "cell_type": "code",
   "execution_count": null,
   "id": "330ce346-8cde-4edf-ae54-bb2b626c8130",
   "metadata": {},
   "outputs": [],
   "source": [
    "scan_sequences('GGGTTTTCCCTCC', motifs='hocomoco_v12', pthresh=.002)"
   ]
  },
  {
   "cell_type": "code",
   "execution_count": null,
   "id": "b6876dfd-0e96-49a5-b24c-8dee8d0042f9",
   "metadata": {},
   "outputs": [],
   "source": [
    "plot_pwm(hocomoco['NFKB1.H12CORE.0.PS.A'])"
   ]
  },
  {
   "cell_type": "code",
   "execution_count": null,
   "id": "90a4941a-9010-4601-be91-67202970bb5f",
   "metadata": {},
   "outputs": [],
   "source": [
    "pos_cts = ['mucus secreting cell', 'club cell','goblet cell', 'lung secretory cell']\n",
    "neg_cts = df[(df.exp > 2) & (df.vep < .02)].ct.tolist()\n",
    "print(neg_cts)\n",
    "\n",
    "for tf in [x.split('.')[0] for x in cmp[cmp.ref > cmp.alt].motif]:\n",
    "    if tf.startswith('ZN'):\n",
    "        tf = tf.replace('ZN', 'ZNF')\n",
    "    if tf.startswith('ZBT'):\n",
    "        tf = tf.replace('ZBT', 'ZBTB')\n",
    "    if tf in ad.var_names:\n",
    "        tf_delta = ad[ad.obs.cell_type.isin(pos_cts), tf].X.mean() - ad[ad.obs.cell_type.isin(neg_cts), tf].X.mean()\n",
    "        print(tf, tf_delta)\n",
    "    else:\n",
    "        print(tf)"
   ]
  },
  {
   "cell_type": "markdown",
   "id": "968ffb4d-8dfd-48f3-b26b-d945ab8829a2",
   "metadata": {},
   "source": [
    "eQTL: https://www.genetics.opentargets.org/Variant/3_196632439_G_A/associations\n",
    "\n",
    "Tibial nerve"
   ]
  },
  {
   "cell_type": "code",
   "execution_count": null,
   "id": "3fb90989-aad8-48d6-ba74-10ebb47d9dab",
   "metadata": {},
   "outputs": [],
   "source": [
    "rs='rs1684466'\n",
    "gene = top[top.rsid==rs].gene.tolist()[0]\n",
    "traits = top[top.rsid==rs].trait_name.tolist()[0]\n",
    "top_cts = top[top.rsid==rs].ct_z2.tolist()[0]\n",
    "rel_pos = gwas.obs[gwas.obs.rsid==rs].rel_pos.tolist()[0]\n",
    "ref_allele = gwas.obs.loc[gwas.obs.rsid==rs, 'ref_tx'].tolist()[0]\n",
    "alt_allele = gwas.obs.loc[gwas.obs.rsid==rs, 'alt_tx'].tolist()[0]\n",
    "\n",
    "df = pd.DataFrame({\n",
    "    'ct': gwas.var_names,\n",
    "    'vep': top[top.rsid==rs].deltas.tolist()[0],\n",
    "    'exp':np.array(gwas[gwas.obs.rsid==rs].layers['gene_exp']).squeeze()\n",
    "})\n",
    "df['z>2'] = df.ct.isin(top_cts)\n",
    "\n",
    "print(gene)\n",
    "print(traits)\n",
    "print(top_cts)\n",
    "display(gwas.obs.loc[gwas.obs.rsid==rs])"
   ]
  },
  {
   "cell_type": "code",
   "execution_count": null,
   "id": "a63bea3b-1330-42d8-9990-d727c26b27fd",
   "metadata": {},
   "outputs": [],
   "source": [
    "(\n",
    " ggplot(df, aes(x='exp', y='vep', color='z>2')) + geom_point() + theme_classic() \n",
    "    + theme(figure_size=(3,2)) + ylab('VEP') + xlab('Measured gene expression')\n",
    "    +ggtitle(f'{rs}, {gene}')\n",
    ")"
   ]
  },
  {
   "cell_type": "code",
   "execution_count": null,
   "id": "87274a0b-0cd6-4de5-aad0-7a7e84f6abee",
   "metadata": {},
   "outputs": [],
   "source": [
    "df.sort_values('exp', ascending=False).head(10)"
   ]
  },
  {
   "cell_type": "code",
   "execution_count": null,
   "id": "c3fa326c-3f04-476d-85ef-b3c589a57478",
   "metadata": {},
   "outputs": [],
   "source": [
    "attr_ref, attr_alt = get_attrs(gene,ref_allele,alt_allele, rel_pos, top_cts)\n",
    "plot_attributions(attr_ref[:, rel_pos-15:rel_pos+15], figsize=(4,1))\n",
    "plot_attributions(attr_alt[:, rel_pos-15:rel_pos+15], figsize=(4,1))"
   ]
  },
  {
   "cell_type": "code",
   "execution_count": null,
   "id": "a0e7e001-0db8-4dc9-ac74-03305b8d96cb",
   "metadata": {},
   "outputs": [],
   "source": [
    "cmp = compare_motifs(ref_seq='CCGCTCCCGGCCGGGAGTCGCT', alt_seq='CCGCTCCCGGCCGGAAGTCGCT', motifs='hocomoco_v12', pthresh=.001)\n",
    "cmp"
   ]
  },
  {
   "cell_type": "code",
   "execution_count": null,
   "id": "43c5a897-3c6d-424c-b5cb-a3dda69a51a6",
   "metadata": {},
   "outputs": [],
   "source": [
    "pos_cts = top_cts\n",
    "neg_cts = df[(df.exp > 2) & (df.vep < .02)].ct.tolist()\n",
    "print(neg_cts)\n",
    "\n",
    "for tf in [x.split('.')[0] for x in cmp[cmp.alt > cmp.ref].motif]:\n",
    "    if tf.startswith('ZN'):\n",
    "        tf = tf.replace('ZN', 'ZNF')\n",
    "    if tf.startswith('ZBT'):\n",
    "        tf = tf.replace('ZBT', 'ZBTB')\n",
    "    if tf in ad.var_names:\n",
    "        tf_delta = ad[ad.obs.cell_type.isin(pos_cts), tf].X.mean() - ad[ad.obs.cell_type.isin(neg_cts), tf].X.mean()\n",
    "        if tf_delta>0.1:\n",
    "            print(tf, tf_delta)\n",
    "    else:\n",
    "        print(tf)"
   ]
  },
  {
   "cell_type": "code",
   "execution_count": null,
   "id": "5b559a70-d6b3-4fb3-b1ee-1df634363c02",
   "metadata": {},
   "outputs": [],
   "source": [
    "rs='rs12722502'\n",
    "gene = top[top.rsid==rs].gene.tolist()[0]\n",
    "traits = top[top.rsid==rs].trait_name.tolist()[0]\n",
    "top_cts = top[top.rsid==rs].ct_z2.tolist()[0]\n",
    "rel_pos = gwas.obs[gwas.obs.rsid==rs].rel_pos.tolist()[0]\n",
    "ref_allele = gwas.obs.loc[gwas.obs.rsid==rs, 'ref_tx'].tolist()[0]\n",
    "alt_allele = gwas.obs.loc[gwas.obs.rsid==rs, 'alt_tx'].tolist()[0]\n",
    "\n",
    "df = pd.DataFrame({\n",
    "    'ct': gwas.var_names,\n",
    "    'vep': top[top.rsid==rs].deltas.tolist()[0],\n",
    "    'exp':np.array(gwas[gwas.obs.rsid==rs].layers['gene_exp']).squeeze()\n",
    "})\n",
    "df['z>2'] = df.ct.isin(top_cts)\n",
    "\n",
    "print(gene)\n",
    "print(traits)\n",
    "print(top_cts)\n",
    "display(gwas.obs.loc[gwas.obs.rsid==rs])"
   ]
  },
  {
   "cell_type": "code",
   "execution_count": null,
   "id": "a9067426-1a30-4142-b637-534f80f726c0",
   "metadata": {},
   "outputs": [],
   "source": [
    "(\n",
    " ggplot(df, aes(x='exp', y='vep', color='z>2')) + geom_point() + theme_classic() \n",
    "    + theme(figure_size=(3,2)) + ylab('VEP') + xlab('Measured gene expression')\n",
    "    +ggtitle(f'{rs}, {gene}')\n",
    ")"
   ]
  },
  {
   "cell_type": "code",
   "execution_count": null,
   "id": "dcf21826-1222-4c76-9c1d-baf08e626c2c",
   "metadata": {},
   "outputs": [],
   "source": [
    "df.sort_values('exp', ascending=False).head(10)"
   ]
  },
  {
   "cell_type": "code",
   "execution_count": null,
   "id": "2436de1c-da4c-432c-a058-8dc9ea0aa661",
   "metadata": {},
   "outputs": [],
   "source": [
    "attr_ref, attr_alt = get_attrs(gene,ref_allele,alt_allele, rel_pos, ['CD4-positive, alpha-beta T cell', 'CD8-positive, alpha-beta T cell'])\n",
    "plot_attributions(attr_ref[:, rel_pos-10:rel_pos+10], figsize=(5.5,2),\n",
    "                 alpha=.25, highlight_positions=[10])\n",
    "plot_attributions(attr_alt[:, rel_pos-10:rel_pos+10], figsize=(5.5, 2),\n",
    "                 alpha=.25, highlight_positions=[10])"
   ]
  },
  {
   "cell_type": "code",
   "execution_count": null,
   "id": "f32e0097-1ded-481f-b363-8b058f0bd030",
   "metadata": {
    "jupyter": {
     "source_hidden": true
    }
   },
   "outputs": [],
   "source": [
    "rs='rs1049728'\n",
    "gene = top[top.rsid==rs].gene.tolist()[0]\n",
    "traits = top[top.rsid==rs].trait_name.tolist()[0]\n",
    "top_cts = top[top.rsid==rs].ct_z2.tolist()[0]\n",
    "rel_pos = gwas.obs[gwas.obs.rsid==rs].rel_pos.tolist()[0]\n",
    "ref_allele = gwas.obs.loc[gwas.obs.rsid==rs, 'ref_tx'].tolist()[0]\n",
    "alt_allele = gwas.obs.loc[gwas.obs.rsid==rs, 'alt_tx'].tolist()[0]\n",
    "\n",
    "df = pd.DataFrame({\n",
    "    'ct': gwas.var_names,\n",
    "    'vep': top[top.rsid==rs].deltas.tolist()[0],\n",
    "    'exp':np.array(gwas[gwas.obs.rsid==rs].layers['gene_exp']).squeeze()\n",
    "})\n",
    "df['z>2'] = df.ct.isin(top_cts)\n",
    "\n",
    "print(gene)\n",
    "print(traits)\n",
    "print(top_cts)\n",
    "display(gwas.obs.loc[gwas.obs.rsid==rs])\n",
    "\n",
    "(\n",
    " ggplot(df, aes(x='exp', y='vep', color='z>2')) + geom_point() + theme_classic() \n",
    "    + theme(figure_size=(3,2)) + ylab('VEP') + xlab('Measured gene expression')\n",
    "    +ggtitle(f'{rs}, {gene}')\n",
    ")"
   ]
  },
  {
   "cell_type": "code",
   "execution_count": null,
   "id": "e707a195-fa76-4bb3-a4f3-1ad9e6db223a",
   "metadata": {},
   "outputs": [],
   "source": [
    "df.sort_values('vep', ascending=False).head(20)"
   ]
  },
  {
   "cell_type": "code",
   "execution_count": null,
   "id": "9948b102-71f1-48b5-8ae2-097e308bc66c",
   "metadata": {},
   "outputs": [],
   "source": [
    "attr_ref, attr_alt = get_attrs(gene,ref_allele,alt_allele, rel_pos, ['enterocyte'])\n",
    "plot_attributions(attr_ref[:, rel_pos-10:rel_pos+10], figsize=(5.5,2),\n",
    "                 alpha=.25, highlight_positions=[10])\n",
    "plot_attributions(attr_alt[:, rel_pos-10:rel_pos+10], figsize=(5.5, 2),\n",
    "                 alpha=.25, highlight_positions=[10])"
   ]
  },
  {
   "cell_type": "code",
   "execution_count": null,
   "id": "f1f4ff29-1cce-4ba2-bcaa-e32a2ef985a1",
   "metadata": {
    "scrolled": true
   },
   "outputs": [],
   "source": [
    "cmp = compare_motifs(ref_seq='CACTTGGACTCTTGCTC', alt_seq='CACTTGGAGTCTTGCTC', motifs='hocomoco_v12', pthresh=.001)\n",
    "cmp"
   ]
  },
  {
   "cell_type": "code",
   "execution_count": null,
   "id": "742bf911-afef-4110-9aa4-3e59ca8e0e30",
   "metadata": {},
   "outputs": [],
   "source": [
    "pos_cts = top_cts\n",
    "neg_cts = df[(df.exp > 3) & (df.vep < .03)].ct.tolist()\n",
    "print(neg_cts)\n",
    "\n",
    "for tf in [x.split('.')[0] for x in cmp[cmp.ref > cmp.alt].motif]:\n",
    "    if tf.startswith('ZN'):\n",
    "        tf = tf.replace('ZN', 'ZNF')\n",
    "    if tf.startswith('ZBT'):\n",
    "        tf = tf.replace('ZBT', 'ZBTB')\n",
    "    if tf in ad.var_names:\n",
    "        tf_delta = ad[ad.obs.cell_type.isin(pos_cts), tf].X.mean() - ad[ad.obs.cell_type.isin(neg_cts), tf].X.mean()\n",
    "        print(tf, tf_delta)\n",
    "    else:\n",
    "        print(tf)"
   ]
  },
  {
   "cell_type": "code",
   "execution_count": null,
   "id": "75445928-0626-4422-ad96-805c617d7444",
   "metadata": {
    "jupyter": {
     "source_hidden": true
    }
   },
   "outputs": [],
   "source": [
    "rs='rs11553699'\n",
    "gene = top[top.rsid==rs].gene.tolist()[0]\n",
    "traits = top[top.rsid==rs].trait_name.tolist()[0]\n",
    "top_cts = top[top.rsid==rs].ct_z2.tolist()[0]\n",
    "rel_pos = gwas.obs[gwas.obs.rsid==rs].rel_pos.tolist()[0]\n",
    "ref_allele = gwas.obs.loc[gwas.obs.rsid==rs, 'ref_tx'].tolist()[0]\n",
    "alt_allele = gwas.obs.loc[gwas.obs.rsid==rs, 'alt_tx'].tolist()[0]\n",
    "\n",
    "df = pd.DataFrame({\n",
    "    'ct': gwas.var_names,\n",
    "    'vep': top[top.rsid==rs].deltas.tolist()[0],\n",
    "    'exp':np.array(gwas[gwas.obs.rsid==rs].layers['gene_exp']).squeeze()\n",
    "})\n",
    "df['z>2'] = df.ct.isin(top_cts)\n",
    "\n",
    "print(gene)\n",
    "print(traits)\n",
    "print(top_cts)\n",
    "display(gwas.obs.loc[gwas.obs.rsid==rs])"
   ]
  },
  {
   "cell_type": "code",
   "execution_count": null,
   "id": "c29bc8d7-3e70-45b7-a6de-788ab287c268",
   "metadata": {},
   "outputs": [],
   "source": [
    "gwas.obs.loc[gwas.obs.rsid==rs, ['pos', 'strand', 'tss_dist', 'canonical_tss_dist', 'gene_end_', 'ensembl_canonical_tss_']]"
   ]
  },
  {
   "cell_type": "code",
   "execution_count": null,
   "id": "b8a9f944-13da-433f-9b3c-805796a43d9b",
   "metadata": {
    "jupyter": {
     "source_hidden": true
    }
   },
   "outputs": [],
   "source": [
    "df['Cell Type'] = 'Other'\n",
    "df.loc[df.ct.isin(['hematopoietic stem cell']), 'Cell Type'] = 'hematopoietic stem cell'\n",
    "(\n",
    " ggplot(df, aes(x='exp', y='vep', color='Cell Type')) + geom_point() + theme_classic() \n",
    "    + theme(figure_size=(3,2)) + ylab('VEP') + xlab('Measured gene\\nexpression')\n",
    "    +ggtitle(f'{rs}, {gene}')\n",
    ")"
   ]
  },
  {
   "cell_type": "code",
   "execution_count": null,
   "id": "c222825b-a23c-489c-8f14-dc20fa36d1c2",
   "metadata": {},
   "outputs": [],
   "source": [
    "attr_ref, attr_alt = get_attrs(gene,ref_allele,alt_allele, rel_pos, ['hematopoietic stem cell'])\n",
    "plot_attributions(attr_ref[:, rel_pos-10:rel_pos+10], figsize=(5.5,2),\n",
    "                 alpha=.25, highlight_positions=[10])\n",
    "plot_attributions(attr_alt[:, rel_pos-10:rel_pos+10], figsize=(5.5, 2),\n",
    "                 alpha=.25, highlight_positions=[10])"
   ]
  },
  {
   "cell_type": "markdown",
   "id": "74ce36ef-dc2e-4426-86f5-b84bbec30d3c",
   "metadata": {},
   "source": [
    "## rs79755767"
   ]
  },
  {
   "cell_type": "code",
   "execution_count": null,
   "id": "4a244296-9dbf-4562-9f3e-8c4250fc58e4",
   "metadata": {},
   "outputs": [],
   "source": [
    "rs='rs79755767'\n",
    "gene = top[top.rsid==rs].gene.tolist()[0]\n",
    "traits = top[top.rsid==rs].trait_name.tolist()[0]\n",
    "top_cts = top[top.rsid==rs].ct_z2.tolist()[0]\n",
    "rel_pos = gwas.obs[gwas.obs.rsid==rs].rel_pos.tolist()[0]\n",
    "ref_allele = gwas.obs.loc[gwas.obs.rsid==rs, 'ref_tx'].tolist()[0]\n",
    "alt_allele = gwas.obs.loc[gwas.obs.rsid==rs, 'alt_tx'].tolist()[0]\n",
    "\n",
    "df = pd.DataFrame({\n",
    "    'ct': gwas.var_names,\n",
    "    'vep': top[top.rsid==rs].deltas.tolist()[0],\n",
    "    'exp':np.array(gwas[gwas.obs.rsid==rs].layers['gene_exp']).squeeze()\n",
    "})\n",
    "df['z>2'] = df.ct.isin(top_cts)\n",
    "\n",
    "print(gene)\n",
    "print(traits)\n",
    "print(top_cts)\n",
    "display(gwas.obs.loc[gwas.obs.rsid==rs])\n"
   ]
  },
  {
   "cell_type": "code",
   "execution_count": null,
   "id": "15091bc5-f8dd-4e1f-af08-c8b841171f39",
   "metadata": {},
   "outputs": [],
   "source": [
    "df['Cell Type'] = 'Other'\n",
    "df.loc[df.ct.isin(['erythroid lineage cell']), 'Cell Type'] = 'Erythroid   \\nlineage cell'\n",
    "df.loc[df.ct.isin(['hematopoietic stem cell']), 'Cell Type'] = 'Hematopoietic\\nstem cell        '\n",
    "df.loc[df.ct.isin(['megakaryocyte']), 'Cell Type'] = 'Megakaryocyte         '\n",
    "\n",
    "(\n",
    " ggplot(df, aes(x='exp', y='vep', color='Cell Type')) + geom_point() + theme_classic() \n",
    "    + theme(figure_size=(3.5,2.2)) \n",
    "    + ylab('Predicted absolute logFC\\n(background subtracted)') \n",
    "    + xlab('Measured gene\\n  expression')\n",
    "    + scale_color_manual(['red', 'blue', 'orange', 'gray'])\n",
    ")"
   ]
  },
  {
   "cell_type": "code",
   "execution_count": null,
   "id": "1f8f75fa-f91c-4fd7-8cdf-912a2356e4df",
   "metadata": {},
   "outputs": [],
   "source": [
    "attr_ref, attr_alt = get_attrs(gene,ref_allele,alt_allele, rel_pos, ['hematopoietic stem cell', 'erythroid lineage cell'])\n",
    "plot_attributions(attr_ref[:, rel_pos-10:rel_pos+10], figsize=(5.5,2),\n",
    "                 alpha=.25, highlight_positions=[10], ylim=(-.15, .29))\n",
    "plot_attributions(attr_alt[:, rel_pos-10:rel_pos+10], figsize=(5.5, 2),\n",
    "                 alpha=.25, highlight_positions=[10], ylim=(-.15, .29))"
   ]
  },
  {
   "cell_type": "code",
   "execution_count": null,
   "id": "ed9c6b57-ec21-4d8b-9d63-7f8635b1921c",
   "metadata": {},
   "outputs": [],
   "source": [
    "cmp = compare_motifs(ref_seq='CGGGGTAACCGCCCGGCT', alt_seq='CGGGGTAACTGCCCGGCT', motifs='hocomoco_v12')\n",
    "cmp"
   ]
  },
  {
   "cell_type": "code",
   "execution_count": null,
   "id": "a96f8ac8-b5e1-4412-a1f0-4620c472f690",
   "metadata": {},
   "outputs": [],
   "source": [
    "pos_cts = ['hematopoietic stem cell', 'erythroid lineage cell']\n",
    "neg_cts = df[(df.exp > 2) & (df.vep < .04)].ct.tolist()\n",
    "print(neg_cts)\n",
    "\n",
    "for tf in [x.split('.')[0] for x in cmp[cmp.alt < cmp.ref].motif]:\n",
    "    if tf.startswith('ZN') and (~tf.startswith('ZNF')):\n",
    "        tf = tf.replace('ZN', 'ZNF')\n",
    "    if tf.startswith('ZBT'):\n",
    "        tf = tf.replace('ZBT', 'ZBTB')\n",
    "    if tf in ad.var_names:\n",
    "        tf_delta = ad[ad.obs.cell_type.isin(pos_cts), tf].X.mean() - ad[ad.obs.cell_type.isin(neg_cts), tf].X.mean()\n",
    "        if tf_delta > 0.1:\n",
    "            print(tf, tf_delta)\n",
    "    else:\n",
    "        print(tf)"
   ]
  },
  {
   "cell_type": "code",
   "execution_count": null,
   "id": "56325e8b-e8ab-42be-95c4-f174af5f671d",
   "metadata": {},
   "outputs": [],
   "source": [
    "plot_pwm(hocomoco['RUNX2.H12CORE.1.S.B'])"
   ]
  },
  {
   "cell_type": "markdown",
   "id": "276fced5-cf35-4cfd-b444-3c63512ce35a",
   "metadata": {},
   "source": [
    "No eQTL"
   ]
  },
  {
   "cell_type": "code",
   "execution_count": null,
   "id": "a7524264-25ee-48a2-b70a-e21f69b9216c",
   "metadata": {},
   "outputs": [],
   "source": [
    "rs='rs74401481'\n",
    "gene = top[top.rsid==rs].gene.tolist()[0]\n",
    "traits = top[top.rsid==rs].trait_name.tolist()[0]\n",
    "top_cts = top[top.rsid==rs].ct_z2.tolist()[0]\n",
    "rel_pos = gwas.obs[gwas.obs.rsid==rs].rel_pos.tolist()[0]\n",
    "ref_allele = gwas.obs.loc[gwas.obs.rsid==rs, 'ref_tx'].tolist()[0]\n",
    "alt_allele = gwas.obs.loc[gwas.obs.rsid==rs, 'alt_tx'].tolist()[0]\n",
    "\n",
    "df = pd.DataFrame({\n",
    "    'ct': gwas.var_names,\n",
    "    'vep': top[top.rsid==rs].deltas.tolist()[0],\n",
    "    'exp':np.array(gwas[gwas.obs.rsid==rs].layers['gene_exp']).squeeze()\n",
    "})\n",
    "df['z>2'] = df.ct.isin(top_cts)\n",
    "\n",
    "print(gene)\n",
    "print(traits)\n",
    "print(top_cts)\n",
    "print(ref_allele, alt_allele)\n",
    "print(gwas.obs.loc[gwas.obs.rsid==rs, 'tss_dist'].tolist()[0])\n",
    "\n",
    "display(gwas.obs[gwas.obs.rsid==rs][['variant', 'rsid', 'vep', 'gene', 'strand', 'gene_mask_start', 'tss_dist', 'has_eqtl', 'same', 'same_canonical']])"
   ]
  },
  {
   "cell_type": "code",
   "execution_count": null,
   "id": "6ad605e7-7867-47bc-a1b7-66260718eb3c",
   "metadata": {},
   "outputs": [],
   "source": [
    "ad.var.loc['KLF16']"
   ]
  },
  {
   "cell_type": "code",
   "execution_count": null,
   "id": "a4afec1b-2aa8-4554-ba59-8b2b9d9a7189",
   "metadata": {},
   "outputs": [],
   "source": [
    "(\n",
    " ggplot(df, aes(x='exp', y='vep', color='z>2')) + geom_point() + theme_classic() \n",
    "    + theme(figure_size=(3,2)) + ylab('VEP') + xlab('Measured gene expression')\n",
    "    +ggtitle(f'{rs}, {gene}')\n",
    ")"
   ]
  },
  {
   "cell_type": "code",
   "execution_count": null,
   "id": "8d9a027b-3875-4747-ae75-cf69a52ad2bf",
   "metadata": {},
   "outputs": [],
   "source": [
    "df.sort_values('exp', ascending=False).head(10)"
   ]
  },
  {
   "cell_type": "code",
   "execution_count": null,
   "id": "f950d658-1e08-4bef-8fef-bddfbd160068",
   "metadata": {},
   "outputs": [],
   "source": [
    "#attr_ref, attr_alt = get_attrs(gene,ref_allele,alt_allele, rel_pos, top_cts)\n",
    "plot_attributions(attr_ref[:, rel_pos-15:rel_pos+15], figsize=(4,1), ylim=(-.05, .13))\n",
    "plot_attributions(attr_alt[:, rel_pos-15:rel_pos+15], figsize=(4,1), ylim=(-.05, .13))"
   ]
  },
  {
   "cell_type": "code",
   "execution_count": null,
   "id": "10fa150a-ae92-4595-9569-d8b376aff82d",
   "metadata": {},
   "outputs": [],
   "source": [
    "cmp = compare_motifs(ref_seq='GGCTGGTTAGGGG', alt_seq='GGCTGATTAGGGG', motifs='hocomoco_v12', pthresh=.001)\n",
    "cmp"
   ]
  },
  {
   "cell_type": "code",
   "execution_count": null,
   "id": "5f83ae25-4209-40e7-bbaa-541d2c32077d",
   "metadata": {},
   "outputs": [],
   "source": [
    "pos_cts = ['erythroid lineage cell']\n",
    "neg_cts = df[(df.exp > 2) & (df.vep < .02)].ct.tolist()\n",
    "\n",
    "for tf in [x.split('.')[0] for x in cmp[cmp.alt > cmp.ref].motif]:\n",
    "    if tf.startswith('ZN'):\n",
    "        tf = tf.replace('ZN', 'ZNF')\n",
    "    if tf.startswith('ZBT'):\n",
    "        tf = tf.replace('ZBT', 'ZBTB')\n",
    "    if tf in ad.var_names:\n",
    "        tf_delta = ad[ad.obs.cell_type.isin(pos_cts), tf].X.mean() - ad[ad.obs.cell_type.isin(neg_cts), tf].X.mean()\n",
    "        if tf_delta > .1:\n",
    "            print(tf, tf_delta)\n",
    "    else:\n",
    "        print(tf)"
   ]
  },
  {
   "cell_type": "code",
   "execution_count": null,
   "id": "6a166864-8970-45f6-bda6-aa416cb9a0f9",
   "metadata": {},
   "outputs": [],
   "source": [
    "plot_pwm(hocomoco['GATA1.H12CORE.1.PSM.A'])"
   ]
  },
  {
   "cell_type": "code",
   "execution_count": null,
   "id": "0c241584-f967-47cf-8247-a6a333fba9fd",
   "metadata": {},
   "outputs": [],
   "source": [
    "plot_pwm(hocomoco['GATA4.H12CORE.0.PSM.A'])"
   ]
  },
  {
   "cell_type": "code",
   "execution_count": null,
   "id": "b577c937-79a3-4fef-9ca1-f1678ad3e7bc",
   "metadata": {},
   "outputs": [],
   "source": []
  }
 ],
 "metadata": {
  "kernelspec": {
   "display_name": "Python 3 (ipykernel)",
   "language": "python",
   "name": "python3"
  },
  "language_info": {
   "codemirror_mode": {
    "name": "ipython",
    "version": 3
   },
   "file_extension": ".py",
   "mimetype": "text/x-python",
   "name": "python",
   "nbconvert_exporter": "python",
   "pygments_lexer": "ipython3",
   "version": "3.11.9"
  }
 },
 "nbformat": 4,
 "nbformat_minor": 5
}
