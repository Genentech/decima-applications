{
 "cells": [
  {
   "cell_type": "code",
   "execution_count": null,
   "id": "8f387740-5c08-48db-92b7-8c8b567cc709",
   "metadata": {},
   "outputs": [],
   "source": [
    "import polars as pl\n",
    "import pandas as pd\n",
    "import os, sys\n",
    "from tqdm import tqdm\n",
    "\n",
    "from grelu.data.preprocess import filter_blacklist\n",
    "from grelu.data.utils import get_chromosomes"
   ]
  },
  {
   "cell_type": "markdown",
   "id": "9dc361b4-7b39-4e53-9c3e-3ef8b93e4aaf",
   "metadata": {},
   "source": [
    "## Paths"
   ]
  },
  {
   "cell_type": "code",
   "execution_count": null,
   "id": "b62f6614-61fc-4a14-b12f-0017a75054fe",
   "metadata": {},
   "outputs": [],
   "source": [
    "gwas_dir = '/gstore/data/humgenet/projects/statgen/GWAS/Benchmark_GWAS/'\n",
    "gnomad_file = '/data/gnomAD/gnomad-regulatory-variants.tsv'\n",
    "trait_file = os.path.join(gwas_dir, 'disease_list.txt')\n",
    "\n",
    "out_dir='/gstore/data/resbioai/grelu/decima/20240823/gwas_44traits/negative_variants'"
   ]
  },
  {
   "cell_type": "markdown",
   "id": "244c0bf7-c5e1-4615-99e7-5b6913ad19ba",
   "metadata": {},
   "source": [
    "## Load gnomad regulatory variants <100 kb from TSS"
   ]
  },
  {
   "cell_type": "code",
   "execution_count": null,
   "id": "61d93fb1-042e-4126-8fe5-da488918f18c",
   "metadata": {},
   "outputs": [],
   "source": [
    "%%time\n",
    "snps = pl.read_csv(gnomad_file, has_header=False, separator='\\t', columns=[0, 1, 2, 3, 4, 5, 8],\n",
    "    new_columns=['chrom', 'pos', 'rsid', 'ref', 'alt', 'af', 'vep']).unique()\n",
    "print(len(snps))\n",
    "snps.head(3)"
   ]
  },
  {
   "cell_type": "markdown",
   "id": "5bf93098-9e7a-4b4a-86fe-0d06299cf794",
   "metadata": {},
   "source": [
    "## Filter by allele frequency"
   ]
  },
  {
   "cell_type": "code",
   "execution_count": null,
   "id": "b5e884a9-361e-4335-b6b0-19e48c51ab10",
   "metadata": {},
   "outputs": [],
   "source": [
    "# MAF > 1%\n",
    "snps = snps.with_columns(maf = snps['af'].apply(lambda x: 1-x if x > .5 else x))\n",
    "snps = snps.drop(columns=['af'])\n",
    "snps = snps.filter(pl.col('maf') > 0.01)\n",
    "len(snps)"
   ]
  },
  {
   "cell_type": "markdown",
   "id": "e8c88eb7-3930-4da5-89e0-4a2fe51f1888",
   "metadata": {},
   "source": [
    "## Filter by chromosome"
   ]
  },
  {
   "cell_type": "code",
   "execution_count": null,
   "id": "80aa6752-98ba-41c7-8752-a6f126a7b6ae",
   "metadata": {},
   "outputs": [],
   "source": [
    "%%time\n",
    "snps = snps.filter(pl.col(\"chrom\").is_in(get_chromosomes('autosomesXY')))\n",
    "len(snps)"
   ]
  },
  {
   "cell_type": "markdown",
   "id": "5345034f-084b-4150-8bdd-576cdfa6abb0",
   "metadata": {},
   "source": [
    "## Filter SNPs with clear alleles"
   ]
  },
  {
   "cell_type": "code",
   "execution_count": null,
   "id": "270b48f5-512a-47b1-9b96-e99a970b2a94",
   "metadata": {},
   "outputs": [],
   "source": [
    "%%time\n",
    "snps = snps.filter(pl.col(\"ref\").is_in([\"A\", \"C\", \"G\", \"T\"]))\n",
    "snps = snps.filter(pl.col(\"alt\").is_in([\"A\", \"C\", \"G\", \"T\"]))\n",
    "len(snps)"
   ]
  },
  {
   "cell_type": "markdown",
   "id": "ab50e52d-08d8-4c36-8ddc-0b057199d116",
   "metadata": {},
   "source": [
    "## Load GWAS SNPs"
   ]
  },
  {
   "cell_type": "code",
   "execution_count": null,
   "id": "bc8ced04-8e8f-4ab7-9d26-0d17e0dd3676",
   "metadata": {},
   "outputs": [],
   "source": [
    "traits = pl.read_csv(trait_file, has_header=False, new_columns=['trait_ID', 'study', 'trait_name'], separator=' ')\n",
    "traits.head(2)"
   ]
  },
  {
   "cell_type": "code",
   "execution_count": null,
   "id": "316d6747-115d-4c5b-889f-2c48066c1f8a",
   "metadata": {},
   "outputs": [],
   "source": [
    "%%time\n",
    "gwas = []\n",
    "for row in tqdm(traits.iter_rows()):\n",
    "    susie_file = os.path.join(gwas_dir, 'Complete', row[0], f'{row[1]}.susie.gwfinemap.b38.gz')\n",
    "    df = pl.read_csv(susie_file, separator='\\t',columns=[0,1,2, 3, 4, 6,9,10],\n",
    "             new_columns = ['chrom', 'rsid', 'pos', 'ref', 'alt', 'MAF', 'p', 'PIP'])\n",
    "    gwas.append(df)\n",
    "\n",
    "gwas = pl.concat(gwas)\n",
    "gwas.head()"
   ]
  },
  {
   "cell_type": "markdown",
   "id": "9b44a223-2a12-4679-b2e5-10decbe9d171",
   "metadata": {},
   "source": [
    "## Get max PIP for each GWAS SNP"
   ]
  },
  {
   "cell_type": "code",
   "execution_count": null,
   "id": "cb7dbf23-fa58-4cc5-80fa-9889d2415692",
   "metadata": {},
   "outputs": [],
   "source": [
    "gwas = gwas.group_by(['chrom', 'pos', 'ref', 'alt', 'rsid']).agg([pl.max(\"PIP\")])\n",
    "gwas.head()"
   ]
  },
  {
   "cell_type": "markdown",
   "id": "8a8025ea-4099-494b-9a14-e1138278b9d9",
   "metadata": {},
   "source": [
    "## Filter by GWAS PIP"
   ]
  },
  {
   "cell_type": "code",
   "execution_count": null,
   "id": "276e88e8-ae15-44fe-9b61-1d79974c9e69",
   "metadata": {},
   "outputs": [],
   "source": [
    "# Max PIP < 0.01\n",
    "snps = snps.filter(~pl.col('rsid').is_in(gwas.filter(pl.col('PIP') > 0.01)['rsid']))\n",
    "len(snps)"
   ]
  },
  {
   "cell_type": "markdown",
   "id": "3c5dc9c4-5071-4561-8338-9aa17d531b9e",
   "metadata": {},
   "source": [
    "## Filter blacklist"
   ]
  },
  {
   "cell_type": "code",
   "execution_count": null,
   "id": "cc321de6-feea-4363-b9a1-ba19af5c722d",
   "metadata": {},
   "outputs": [],
   "source": [
    "%%time\n",
    "snps = snps.to_pandas()\n",
    "snps['start'] = snps['pos'].tolist()\n",
    "snps['end'] = snps['start']+1\n",
    "snps = snps[['chrom', 'start', 'end'] + [x for x in snps.columns if x not in ['chrom', 'start', 'end']]]\n",
    "snps = filter_blacklist(snps, 'hg38')\n",
    "snps = snps.drop(columns=['start', 'end'])\n",
    "len(snps)"
   ]
  },
  {
   "cell_type": "markdown",
   "id": "c3ff4eec-16eb-461b-b7f1-2d351fa2b1fa",
   "metadata": {},
   "source": [
    "## Add variant ID"
   ]
  },
  {
   "cell_type": "code",
   "execution_count": null,
   "id": "8eda08c3-25d2-46c2-8d5f-4509bada647c",
   "metadata": {},
   "outputs": [],
   "source": [
    "snps['variant'] = snps['chrom'] + '_' + snps['pos'].astype(str) + '_' + snps['ref'] + '_' + snps['alt']"
   ]
  },
  {
   "cell_type": "markdown",
   "id": "61c23b78-9a59-499e-94aa-01784d4d4d46",
   "metadata": {},
   "source": [
    "## Save"
   ]
  },
  {
   "cell_type": "code",
   "execution_count": null,
   "id": "c805d973-7cd0-4120-8b6d-76b51ea2c7e3",
   "metadata": {},
   "outputs": [],
   "source": [
    "out_file = os.path.join(out_dir, 'negative_variants.csv')\n",
    "snps.to_csv(out_file, index=None)"
   ]
  },
  {
   "cell_type": "code",
   "execution_count": null,
   "id": "2833e55f-3837-4907-8f86-29db91081db4",
   "metadata": {},
   "outputs": [],
   "source": []
  }
 ],
 "metadata": {
  "kernelspec": {
   "display_name": "Python 3 (ipykernel)",
   "language": "python",
   "name": "python3"
  },
  "language_info": {
   "codemirror_mode": {
    "name": "ipython",
    "version": 3
   },
   "file_extension": ".py",
   "mimetype": "text/x-python",
   "name": "python",
   "nbconvert_exporter": "python",
   "pygments_lexer": "ipython3",
   "version": "3.11.9"
  }
 },
 "nbformat": 4,
 "nbformat_minor": 5
}
