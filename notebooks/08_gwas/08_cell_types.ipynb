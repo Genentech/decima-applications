{
 "cells": [
  {
   "cell_type": "code",
   "execution_count": null,
   "id": "db87d3b6-f73c-4848-809a-3a876814b9b9",
   "metadata": {},
   "outputs": [],
   "source": [
    "import numpy as np\n",
    "import pandas as pd\n",
    "import os, sys\n",
    "import anndata\n",
    "from plotnine import *\n",
    "import seaborn as sns\n",
    "import scanpy as sc"
   ]
  },
  {
   "cell_type": "markdown",
   "id": "9a73a477-498f-4cde-950e-6f7356266ea1",
   "metadata": {},
   "source": [
    "## Paths"
   ]
  },
  {
   "cell_type": "code",
   "execution_count": null,
   "id": "6c88366f-2539-415b-8e3d-3df623cce2c3",
   "metadata": {},
   "outputs": [],
   "source": [
    "save_dir='/gstore/data/resbioai/grelu/decima/20240823'\n",
    "matrix_file=os.path.join(save_dir, 'data.h5ad')\n",
    "out_dir = os.path.join(save_dir, 'gwas_44traits')\n",
    "pred_file = os.path.join(out_dir, 'gwas_variant_predictions_matched.h5ad')\n",
    "\n",
    "pos_file = os.path.join(out_dir, 'positive_variants/positive_variants_and_traits.csv')\n",
    "matched_neg_file = os.path.join(out_dir, 'negative_variants/negatives_matched.csv')"
   ]
  },
  {
   "cell_type": "markdown",
   "id": "eb8582c8-0690-4ecd-9fee-1bb9fce5dd78",
   "metadata": {},
   "source": [
    "## Load data"
   ]
  },
  {
   "cell_type": "code",
   "execution_count": null,
   "id": "85af3505-b582-4c93-a5f5-564d3e49b862",
   "metadata": {},
   "outputs": [],
   "source": [
    "ad=anndata.read_h5ad(matrix_file)\n",
    "gwas=anndata.read_h5ad(pred_file)"
   ]
  },
  {
   "cell_type": "code",
   "execution_count": null,
   "id": "5967dc62-6dee-4e70-b5ad-0a3732755c66",
   "metadata": {},
   "outputs": [],
   "source": [
    "match = pd.read_csv(matched_neg_file)\n",
    "match = match.groupby(['pos_variant', 'gene']).variant.apply(list).reset_index()\n",
    "\n",
    "traits = pd.read_csv(pos_file)"
   ]
  },
  {
   "cell_type": "code",
   "execution_count": null,
   "id": "acca07e2-28bc-4a9f-a651-145d081ed00a",
   "metadata": {},
   "outputs": [],
   "source": [
    "traits = traits[['variant', 'trait_name']].merge(match, left_on='variant', right_on='pos_variant').drop(columns='variant_x')\n",
    "traits.head(2)"
   ]
  },
  {
   "cell_type": "markdown",
   "id": "f49c8b77-fffe-41f6-8a81-3bff3c520026",
   "metadata": {},
   "source": [
    "## Filter variant-gene combinations for Decima"
   ]
  },
  {
   "cell_type": "code",
   "execution_count": null,
   "id": "c1599921-928a-4bbb-8dae-31fd7a123105",
   "metadata": {},
   "outputs": [],
   "source": [
    "traits = traits.merge(gwas.obs[['variant', 'gene', 'pval']].rename(columns={'variant':'pos_variant'})).copy()"
   ]
  },
  {
   "cell_type": "markdown",
   "id": "c5eabe20-5e59-4ad7-b649-a0ad2ee9c72a",
   "metadata": {},
   "source": [
    "## Filter p-values"
   ]
  },
  {
   "cell_type": "code",
   "execution_count": null,
   "id": "10405af5-6517-42a0-b14f-2cc8251d1e3c",
   "metadata": {},
   "outputs": [],
   "source": [
    "traits= traits[traits.pval < .01]\n",
    "len(traits)"
   ]
  },
  {
   "cell_type": "markdown",
   "id": "21888b6b-9418-4514-8ff1-93ea8cec5478",
   "metadata": {},
   "source": [
    "## Assign traits to categories"
   ]
  },
  {
   "cell_type": "code",
   "execution_count": null,
   "id": "cae029ba-52fa-4274-8ce7-3012fe18cf86",
   "metadata": {},
   "outputs": [],
   "source": [
    "category_mapping = {\n",
    "        'hdl': 'lipids',\n",
    "        'ldl': 'lipids',\n",
    "        'cholesterol': 'lipids',\n",
    "        'triglycerides': 'triglycerides',\n",
    "    \n",
    "        'cardiovascular_disease': 'cardiovascular_disease',\n",
    "        'coronary_artery_disease': 'coronary_artery_disease',\n",
    "        'hypertension': 'hypertension',\n",
    "\n",
    "        'fasting_glucose': 'Metabolic Traits',\n",
    "        'glucose': 'Metabolic Traits',\n",
    "        'hba1c': 'Metabolic Traits',\n",
    "        't2d': 'Metabolic Traits',\n",
    "    \n",
    "        'whr_adj_bmi': 'BMI-related Traits',\n",
    "        'body_mass_index': 'BMI-related Traits',    \n",
    "    \n",
    "        'mean_corpuscular_hemoglobin': 'Blood-related Traits',\n",
    "        'red_count': 'Blood-related Traits',\n",
    "        'platelet_count': 'Blood-related Traits',\n",
    "        'red_blood_cell_width': 'Blood-related Traits',\n",
    "    \n",
    "        'autoimmune_disease': 'Autoimmune and Inflammatory Diseases',\n",
    "        'crohns_disease': 'Autoimmune and Inflammatory Diseases',\n",
    "        'inflammatory_bowel_disease': 'Autoimmune and Inflammatory Diseases',\n",
    "        'multiple_sclerosis': 'Autoimmune and Inflammatory Diseases',\n",
    "        'lupus': 'Autoimmune and Inflammatory Diseases',\n",
    "        'asthma': 'Autoimmune and Inflammatory Diseases',\n",
    "        'eczema': 'Autoimmune and Inflammatory Diseases',\n",
    "\n",
    "        'hypothyroidism': 'Endocrine and Reproductive Traits',\n",
    "        'age_of_menarche': 'Endocrine and Reproductive Traits',\n",
    "        'bone_mineral_density': 'Bone Health',\n",
    "        'resp_ent': 'Respiratory Conditions',\n",
    "\n",
    "        'alzheimers_disease': 'Neurological and Psychiatric Disorders',\n",
    "        'schizophrenia': 'Neurological and Psychiatric Disorders',\n",
    "        'bipolar_disorder': 'Neurological and Psychiatric Disorders',\n",
    "        'neuroticism': 'Neurological and Psychiatric Disorders',\n",
    "    \n",
    "        'positive_mood_disorder': 'Neurological and Psychiatric Disorders',\n",
    "        'college_education': 'Cognitive and Educational Traits',\n",
    "        'intelligence': 'Cognitive and Educational Traits',\n",
    "        'years_education': 'Cognitive and Educational Traits',\n",
    "        'college_educatiojn':'Cognitive and Educational Traits',\n",
    "\n",
    "        'height':'height',\n",
    "    }"
   ]
  },
  {
   "cell_type": "code",
   "execution_count": null,
   "id": "d3f81ebf-0050-45eb-b79c-c6ed1f56b2ea",
   "metadata": {},
   "outputs": [],
   "source": [
    "traits['category'] = traits.trait_name.map(category_mapping)"
   ]
  },
  {
   "cell_type": "markdown",
   "id": "b1191989-03a4-4fe0-af8a-da5e88228487",
   "metadata": {},
   "source": [
    "## Get scores for each variant"
   ]
  },
  {
   "cell_type": "code",
   "execution_count": null,
   "id": "5220ea71-aaf9-4f49-9bf6-71809dcf15e0",
   "metadata": {},
   "outputs": [],
   "source": [
    "ad.obs['celltype_coarse'] = ad.obs.apply(lambda row:row.celltype_coarse if row.dataset=='skin_atlas' else row.cell_type, axis=1)"
   ]
  },
  {
   "cell_type": "code",
   "execution_count": null,
   "id": "f64920d3-049a-4fa4-a1d2-22b1140c04eb",
   "metadata": {},
   "outputs": [],
   "source": [
    "gwas.var = gwas.var.merge(ad.obs[['cell_type', 'celltype_coarse']].drop_duplicates(), left_index=True, right_on='cell_type').set_index('cell_type')"
   ]
  },
  {
   "cell_type": "code",
   "execution_count": null,
   "id": "1cd6904e-7b8b-4c98-a0ad-8bce2f09e52f",
   "metadata": {},
   "outputs": [],
   "source": [
    "gwas_agg = sc.get.aggregate(gwas, by='celltype_coarse', func='mean', axis=1)"
   ]
  },
  {
   "cell_type": "code",
   "execution_count": null,
   "id": "d350042f-65be-4b23-818c-ebe263c8ccab",
   "metadata": {},
   "outputs": [],
   "source": [
    "gwas_agg.X = np.abs(gwas_agg.layers['mean'])"
   ]
  },
  {
   "cell_type": "code",
   "execution_count": null,
   "id": "37a0dba5-1f39-4353-9eb8-e86984df6385",
   "metadata": {},
   "outputs": [],
   "source": [
    "traits['scores'] = traits.pos_variant.apply(lambda x: np.array(gwas_agg[gwas_agg.obs.variant==x].X).squeeze())\n",
    "traits['neg_scores'] = traits.variant_y.apply(lambda x: np.array(gwas_agg[gwas_agg.obs.variant.isin(x)].X.mean(0)))\n",
    "traits['deltas'] = traits.apply(lambda row: row.scores - row.neg_scores, axis=1)\n",
    "traits['delta_z'] = traits.deltas.apply(lambda x: (x - x.mean())/x.std())"
   ]
  },
  {
   "cell_type": "code",
   "execution_count": null,
   "id": "6c6b93e0-7798-4c6b-a81a-2fcf67ac0542",
   "metadata": {},
   "outputs": [],
   "source": [
    "traits.category.value_counts()"
   ]
  },
  {
   "cell_type": "markdown",
   "id": "63f0eb16-adcb-418a-8d5a-c53df4efae41",
   "metadata": {},
   "source": [
    "## Plot heatmap"
   ]
  },
  {
   "cell_type": "code",
   "execution_count": null,
   "id": "f98992db-bc0d-4f57-8a83-e8d729a52673",
   "metadata": {},
   "outputs": [],
   "source": [
    "res = pd.DataFrame(np.vstack(traits.delta_z), index=traits.category, columns=gwas_agg.var_names)\n",
    "res = res.reset_index().groupby('category').apply(lambda x: x.mean(0))\n",
    "res = res.loc[['Autoimmune and Inflammatory Diseases', 'Blood-related Traits', 'height', 'triglycerides', \n",
    "                    'Neurological and Psychiatric Disorders', 'Respiratory Conditions']]"
   ]
  },
  {
   "cell_type": "code",
   "execution_count": null,
   "id": "e33d18f8-f433-49c2-bd96-a81b0c3168a0",
   "metadata": {},
   "outputs": [],
   "source": [
    "sel_cts = list(np.unique([\n",
    "    'CD8-positive, alpha-beta T cell', 'mucosal invariant T cell', 'mature NK T cell', 'regulatory T cell', 'natural killer cell', 'CD4-positive, alpha-beta T cell', 'innate lymphoid cell',\n",
    "    'megakaryocyte', 'erythroid lineage cell', 'common lymphoid progenitor', 'memory B cell', 'mature NK T cell', \n",
    "    'Oligodendrocyte', 'Committed oligodendrocyte precursor', 'Hippocampal dentate gyrus', 'MGE interneuron', \n",
    "    'megakaryocyte', 'common lymphoid progenitor', 'naive B cell', 'club cell', 'lung secretory cell',\n",
    "    'VEC', 'blood vessel endothelial cell', 'vascular associated smooth muscle cell', 'capillary endothelial cell', 'Fibroblasts',\n",
    "    'enterocyte','hepatocyte']))"
   ]
  },
  {
   "cell_type": "code",
   "execution_count": null,
   "id": "576d180b-8b1a-4dc5-8c96-9d1462a12315",
   "metadata": {},
   "outputs": [],
   "source": [
    "g=sns.clustermap(res.loc[:, sel_cts].T,\n",
    "               cmap='RdBu_r', figsize=(5.5, 10), col_cluster=False, center=0)\n",
    "g.fig.subplots_adjust(right=0.7)\n",
    "g.ax_cbar.set_position((0.8, .2, .03, .4))"
   ]
  },
  {
   "cell_type": "code",
   "execution_count": null,
   "id": "c19ab163-8a10-4ba0-bd6a-ec4a4ca17b88",
   "metadata": {},
   "outputs": [],
   "source": [
    "#traits_filt = traits[traits.category.isin(['Blood-related Traits', 'height', 'Autoimmune and Inflammatory Diseases', 'Triglycerides'])]\n",
    "traits_filt = traits_filt[(traits.unique_trait)]\n",
    "print(len(traits_filt))\n",
    "traits_filt[['category', 'trait_name']].value_counts().reset_index().sort_values(['category', 'count'], ascending=False)"
   ]
  },
  {
   "cell_type": "code",
   "execution_count": null,
   "id": "57424be9-f9f1-470f-8258-bdf97c005be4",
   "metadata": {},
   "outputs": [],
   "source": [
    "res = pd.DataFrame(np.vstack(traits_filt.delta_z), index=traits_filt.category, columns=gwas_agg.var_names)\n",
    "res = res.reset_index().groupby('category').apply(lambda x: x.mean(0))"
   ]
  },
  {
   "cell_type": "code",
   "execution_count": null,
   "id": "bff43b74-1311-488e-ba63-2ab054825271",
   "metadata": {},
   "outputs": [],
   "source": [
    "for c in res.index:\n",
    "    print(c)\n",
    "    print(gwas_agg.var_names[res.loc[c].argsort()[::-1][:9]].tolist())\n",
    "    print(\"\")"
   ]
  },
  {
   "cell_type": "code",
   "execution_count": null,
   "id": "f6569896-d4f4-45a8-b448-f82b0418bbe9",
   "metadata": {},
   "outputs": [],
   "source": [
    "sel_cts =['T cell', 'CD8-positive, alpha-beta T cell', 'NK', 'mucosal invariant T cell', 'mature NK T cell', 'regulatory T cell', \n",
    "          'erythroid lineage cell', 'megakaryocyte', 'common lymphoid progenitor', 'hematopoietic stem cell',\n",
    "          'hepatocyte', 'enterocyte',\n",
    "          'VEC', 'blood vessel endothelial cell', 'capillary endothelial cell', \n",
    "          'vascular associated smooth muscle cell', 'fibroblast']\n"
   ]
  },
  {
   "cell_type": "code",
   "execution_count": null,
   "id": "76d89032-e2a6-43c7-af2b-611fa8a14c18",
   "metadata": {},
   "outputs": [],
   "source": [
    "sns.clustermap(res.loc[:, sel_cts], cmap='viridis', figsize=(10, 5), row_cluster=False)"
   ]
  },
  {
   "cell_type": "code",
   "execution_count": null,
   "id": "b15d2973-f232-4f0d-802d-e944d1d9691e",
   "metadata": {},
   "outputs": [],
   "source": []
  }
 ],
 "metadata": {
  "kernelspec": {
   "display_name": "Python 3 (ipykernel)",
   "language": "python",
   "name": "python3"
  },
  "language_info": {
   "codemirror_mode": {
    "name": "ipython",
    "version": 3
   },
   "file_extension": ".py",
   "mimetype": "text/x-python",
   "name": "python",
   "nbconvert_exporter": "python",
   "pygments_lexer": "ipython3",
   "version": "3.11.9"
  }
 },
 "nbformat": 4,
 "nbformat_minor": 5
}
