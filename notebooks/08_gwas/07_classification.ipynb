{
 "cells": [
  {
   "cell_type": "code",
   "execution_count": null,
   "id": "3c1d11fb-f0a1-4fb3-a509-ed9de66eaa48",
   "metadata": {},
   "outputs": [],
   "source": [
    "import numpy as np\n",
    "import pandas as pd\n",
    "import os, sys\n",
    "import anndata\n",
    "from sklearn.metrics import roc_auc_score, average_precision_score, precision_recall_curve\n",
    "from plotnine import *\n",
    "import scipy.stats as stats\n",
    "from scipy.stats import mannwhitneyu, fisher_exact\n",
    "\n",
    "from grelu.resources import load_model\n",
    "\n",
    "import warnings\n",
    "warnings.filterwarnings('ignore')"
   ]
  },
  {
   "cell_type": "markdown",
   "id": "f8f50312-5a8a-4f03-b4c8-e02f68b2d0fa",
   "metadata": {},
   "source": [
    "## Paths"
   ]
  },
  {
   "cell_type": "code",
   "execution_count": null,
   "id": "2710a8cd-b26d-46c4-b52f-653461b3654e",
   "metadata": {},
   "outputs": [],
   "source": [
    "save_dir='/gstore/data/resbioai/grelu/decima/20240823'\n",
    "eqtl_file  = '/gstore/data/omni/regulatory_elements/decima_files/decima_pos_eQTL_overlaps.csv'\n",
    "\n",
    "out_dir = os.path.join(save_dir, 'gwas_44traits')\n",
    "pos_dir = os.path.join(out_dir, 'positive_variants')\n",
    "neg_dir = os.path.join(out_dir, 'negative_variants')\n",
    "\n",
    "pos_file = os.path.join(pos_dir, 'positive_variants_and_traits.csv')\n",
    "matched_neg_file = os.path.join(neg_dir, 'negatives_matched.csv')"
   ]
  },
  {
   "cell_type": "code",
   "execution_count": null,
   "id": "08ab19d3-db73-4c38-a645-58544ed5d1b5",
   "metadata": {},
   "outputs": [],
   "source": [
    "decima_pos_file = os.path.join(pos_dir, 'decima_preds_agg.h5ad')\n",
    "decima_neg_file = os.path.join(neg_dir, 'decima_preds_agg.h5ad')\n",
    "gene_pos_file = os.path.join(pos_dir, 'gene_preds_agg.h5ad')\n",
    "gene_neg_file = os.path.join(neg_dir, 'gene_preds_agg.h5ad')\n",
    "tss_pos_file = os.path.join(pos_dir, 'tss_preds_agg.h5ad')\n",
    "tss_neg_file = os.path.join(neg_dir, 'tss_preds_agg.h5ad')"
   ]
  },
  {
   "cell_type": "markdown",
   "id": "5cb3e693-c91e-4ece-b707-011bd164effc",
   "metadata": {},
   "source": [
    "## Load predictions"
   ]
  },
  {
   "cell_type": "code",
   "execution_count": null,
   "id": "2c25c6fa-c8e7-41fd-a194-6ca7b3d6a76b",
   "metadata": {},
   "outputs": [],
   "source": [
    "decima_pos_preds = anndata.read_h5ad(decima_pos_file)\n",
    "decima_neg_preds =anndata.read_h5ad(decima_neg_file)\n",
    "print(decima_pos_preds.shape, decima_neg_preds.shape)\n",
    "\n",
    "gene_pos_preds = anndata.read_h5ad(gene_pos_file)\n",
    "gene_neg_preds =anndata.read_h5ad(gene_neg_file)\n",
    "print(gene_pos_preds.shape, gene_neg_preds.shape)\n",
    "\n",
    "tss_pos_preds = anndata.read_h5ad(tss_pos_file)\n",
    "tss_neg_preds =anndata.read_h5ad(tss_neg_file)\n",
    "print(tss_pos_preds.shape, tss_neg_preds.shape)"
   ]
  },
  {
   "cell_type": "markdown",
   "id": "ab305639-6f7b-4e6a-b7af-45ade27bec78",
   "metadata": {},
   "source": [
    "## Load variants"
   ]
  },
  {
   "cell_type": "code",
   "execution_count": null,
   "id": "aaf7a053-06f3-4011-b713-5214ce9591b3",
   "metadata": {},
   "outputs": [],
   "source": [
    "match = pd.read_csv(matched_neg_file)\n",
    "match = match.groupby(['pos_variant', 'gene']).variant.apply(list).reset_index()"
   ]
  },
  {
   "cell_type": "code",
   "execution_count": null,
   "id": "bf5373a8-c7ba-41e5-9b62-b3566e9bd090",
   "metadata": {},
   "outputs": [],
   "source": [
    "traits = pd.read_csv(pos_file)"
   ]
  },
  {
   "cell_type": "markdown",
   "id": "0ddc3078-e116-41ef-974d-d1bbe78efbc6",
   "metadata": {},
   "source": [
    "## Calculate aggregate score for each variant-gene pair"
   ]
  },
  {
   "cell_type": "code",
   "execution_count": null,
   "id": "b768a880-88e2-49b2-9260-92298b8508c7",
   "metadata": {},
   "outputs": [],
   "source": [
    "for ad in [decima_pos_preds, decima_neg_preds, gene_pos_preds,\n",
    "          gene_neg_preds, tss_pos_preds, tss_neg_preds]:\n",
    "    ad.obs['score'] = np.mean(np.abs(ad.X), 1)\n",
    "    ad.obs['abs_tss_dist'] = np.abs(ad.obs.tss_dist)"
   ]
  },
  {
   "cell_type": "markdown",
   "id": "5180559e-5752-43be-8a74-c964c92ec5a2",
   "metadata": {},
   "source": [
    "## Compare overall scores"
   ]
  },
  {
   "cell_type": "code",
   "execution_count": null,
   "id": "8aac2655-ba03-4fc0-a17f-3159c9184c2b",
   "metadata": {},
   "outputs": [],
   "source": [
    "for p, n, m in [[decima_pos_preds, decima_neg_preds, 'Decima'],\n",
    "             [gene_pos_preds, gene_neg_preds, 'RNA'],\n",
    "                [tss_pos_preds, tss_neg_preds, 'CAGE']]:\n",
    "    p.obs['label'] = 1\n",
    "    p.obs['label_str'] = 'GWAS'\n",
    "    n.obs['label'] = 0\n",
    "    n.obs['label_str'] = 'Control'\n",
    "\n",
    "    labels = p.obs.label_str.tolist() + n.obs.label_str.tolist()\n",
    "    scores = p.obs.score.tolist() + n.obs.score.tolist()\n",
    "\n",
    "    print(m, p.obs.score.mean(), n.obs.score.mean(), mannwhitneyu(p.obs.score, n.obs.score, alternative='greater').pvalue)\n",
    "    display((\n",
    "        ggplot(pd.DataFrame({\n",
    "            'label':labels, 'score':scores}), aes(x='label', y='scores')) \n",
    "        + geom_boxplot(outlier_size=.1) + theme_classic() + theme(figure_size=(3,2.6))\n",
    "        + scale_y_log10() + ggtitle(m) + xlab('Variant Type') + ylab('VEP score')\n",
    "    ))"
   ]
  },
  {
   "cell_type": "markdown",
   "id": "69a75426-6883-41fd-a012-b6e0f7632e86",
   "metadata": {},
   "source": [
    "## Overall classification"
   ]
  },
  {
   "cell_type": "code",
   "execution_count": null,
   "id": "710452c8-dd73-4297-bccc-c388448e0117",
   "metadata": {},
   "outputs": [],
   "source": [
    "for p, n, m in [[decima_pos_preds, decima_neg_preds, 'Decima'],\n",
    "             [gene_pos_preds, gene_neg_preds, 'RNA'],\n",
    "                [tss_pos_preds, tss_neg_preds, 'CAGE']]:\n",
    "    \n",
    "    labels = p.obs.label.tolist() + n.obs.label.tolist()\n",
    "    scores = p.obs.score.tolist() + n.obs.score.tolist()\n",
    "    dists = np.array(\n",
    "        p.obs['abs_tss_dist'].tolist() + n.obs['abs_tss_dist'].tolist())\n",
    "\n",
    "    ap = np.round(average_precision_score(labels, scores), 2)\n",
    "    auroc = np.round(roc_auc_score(labels, scores), 2)\n",
    "    ap_dist = np.round(average_precision_score(labels, -dists), 2)\n",
    "    auroc_dist = np.round(roc_auc_score(labels, -dists), 2)\n",
    "\n",
    "    print(m, len(p), len(n), ap, ap_dist, auroc, auroc_dist)\n",
    "\n",
    "    pr, re, _ = precision_recall_curve(labels, scores)\n",
    "    df = pd.DataFrame({'Precision':pr, 'Recall':re})\n",
    "    df['Method'] = m\n",
    "\n",
    "    pr, re, _ = precision_recall_curve(labels, -dists)\n",
    "    df = pd.concat([df, pd.DataFrame({'Precision':pr, 'Recall':re, 'Method':'Distance'})])\n",
    "    df.Method= pd.Categorical(df.Method, categories=[m, 'Distance'])\n",
    "\n",
    "    display((\n",
    "        ggplot(df, aes(x='Recall', y='Precision', color='Method'))\n",
    "            + geom_point() + theme_classic() + theme(figure_size=(4,2))\n",
    "    ))"
   ]
  },
  {
   "cell_type": "markdown",
   "id": "ddaa9c70-40c9-487c-b332-90312190cc2e",
   "metadata": {},
   "source": [
    "## Per variant classification"
   ]
  },
  {
   "cell_type": "code",
   "execution_count": null,
   "id": "93da376a-006b-438a-8400-4d3c2385d446",
   "metadata": {},
   "outputs": [],
   "source": [
    "for p, n, m in [[decima_pos_preds, decima_neg_preds, 'Decima'],\n",
    "             [gene_pos_preds, gene_neg_preds, 'RNA'],\n",
    "                [tss_pos_preds, tss_neg_preds, 'CAGE']]:\n",
    "\n",
    "    top_10 = match.merge(p.obs[['variant', 'gene']].rename(columns={'variant': 'pos_variant'}))\n",
    "    top_10 = top_10.apply(\n",
    "        lambda row: n[(n.obs.gene==row.gene) & (n.obs.variant.isin(row.variant))].obs.sort_values('abs_tss_dist').head(12).index.tolist(),\n",
    "    axis=1)\n",
    "    n_ = n[np.concatenate(top_10).tolist()].copy()\n",
    "    labels = p.obs.label.tolist() + n_.obs.label.tolist()\n",
    "    scores = p.obs.score.tolist() + n_.obs.score.tolist()\n",
    "\n",
    "    is_best = []\n",
    "    pvals = []\n",
    "    for row in p.obs.iterrows():\n",
    "        row=row[1]\n",
    "        pos_score = row['score']\n",
    "        variant = row['variant']\n",
    "        gene = row['gene']\n",
    "        matched_variants = match.loc[(match.pos_variant==variant) & (match.gene==gene), 'variant'].tolist()[0]\n",
    "        neg_scores = n_.obs.loc[(n_.obs.variant.isin(matched_variants)) & (n_.obs.gene==gene), 'score']\n",
    "        \n",
    "        is_best.append(pos_score > neg_scores.max())\n",
    "        z = (pos_score - neg_scores.mean())/neg_scores.std()\n",
    "        pvals.append(stats.norm.sf(z))\n",
    "\n",
    "    p.obs['pval'] = pvals\n",
    "    p.obs['sig_05'] = [x < .05 for x in pvals]\n",
    "    p.obs['is_best'] = is_best\n",
    "    \n",
    "    print(m, len(p), len(n_), p.obs.is_best.value_counts(normalize=True)[True], p.obs.sig_05.value_counts(normalize=True)[True])"
   ]
  },
  {
   "cell_type": "markdown",
   "id": "f0ee751f-6547-4829-9a09-f0edcc58dbb6",
   "metadata": {},
   "source": [
    "## eQTLs"
   ]
  },
  {
   "cell_type": "code",
   "execution_count": null,
   "id": "ccd9af21-ddaf-4a69-89fb-603307392724",
   "metadata": {},
   "outputs": [],
   "source": [
    "pos_variant_file = '/gstore/data/resbioai/grelu/decima/20240823/gwas_44traits/positive_variants/positive_variants.csv'\n",
    "eqtl_file = '/gstore/data/omni/regulatory_elements/decima_files/fine_mapped_OT_eqtl.txt'"
   ]
  },
  {
   "cell_type": "code",
   "execution_count": null,
   "id": "b636ce09-7e1b-4497-8fca-1b14d5cb1355",
   "metadata": {},
   "outputs": [],
   "source": [
    "pos_variants = pd.read_csv(pos_variant_file)\n",
    "eqtl = pd.read_table(eqtl_file)"
   ]
  },
  {
   "cell_type": "code",
   "execution_count": null,
   "id": "97328d81-2df8-4b4b-83bd-7867be944cbf",
   "metadata": {},
   "outputs": [],
   "source": [
    "gwas_variants = pos_variants.variant.unique()\n",
    "eqtl_variants = 'chr' + eqtl['tag_variant_id']"
   ]
  },
  {
   "cell_type": "code",
   "execution_count": null,
   "id": "88cc4a9f-dd43-4009-bcfb-1371b838286e",
   "metadata": {},
   "outputs": [],
   "source": [
    "p.obs['has_eqtl'] = p.obs.variant.isin(eqtl_variants)"
   ]
  },
  {
   "cell_type": "code",
   "execution_count": null,
   "id": "7691302c-77de-47bc-aef6-e15aea1df71e",
   "metadata": {},
   "outputs": [],
   "source": [
    "p.obs[['variant', 'has_eqtl']].drop_duplicates().has_eqtl.value_counts(normalize=True)"
   ]
  },
  {
   "cell_type": "code",
   "execution_count": null,
   "id": "053cef04-e63d-4922-95fd-fbc1a1a983a8",
   "metadata": {},
   "outputs": [],
   "source": [
    "df = p.obs[['has_eqtl', 'sig_05']].value_counts().unstack()\n",
    "df"
   ]
  },
  {
   "cell_type": "code",
   "execution_count": null,
   "id": "482e6efe-f042-4a44-98cb-903af0c94f55",
   "metadata": {},
   "outputs": [],
   "source": [
    "58/(38+37)"
   ]
  },
  {
   "cell_type": "code",
   "execution_count": null,
   "id": "0278f870-fe35-4b95-9913-317372fab8a6",
   "metadata": {},
   "outputs": [],
   "source": [
    "fisher_exact(p.obs[['has_eqtl', 'sig_05']].value_counts().unstack())"
   ]
  },
  {
   "cell_type": "markdown",
   "id": "14ca8e93-730b-4f20-a959-739c3e1412d3",
   "metadata": {},
   "source": [
    "## Save Decima results"
   ]
  },
  {
   "cell_type": "code",
   "execution_count": null,
   "id": "7b27aeb0-e425-4755-abef-a3417c6c034c",
   "metadata": {},
   "outputs": [],
   "source": [
    "ad = anndata.concat([decima_pos_preds, decima_neg_preds], join='outer')"
   ]
  },
  {
   "cell_type": "code",
   "execution_count": null,
   "id": "89204c56-0b64-4e82-a53e-c93ddad6ba2f",
   "metadata": {
    "scrolled": true
   },
   "outputs": [],
   "source": [
    "ad.write_h5ad(os.path.join(out_dir, 'gwas_variant_predictions_matched.h5ad'))"
   ]
  },
  {
   "cell_type": "code",
   "execution_count": null,
   "id": "06f5bdfe-71ba-4422-81dd-f2fd74803aa5",
   "metadata": {},
   "outputs": [],
   "source": []
  }
 ],
 "metadata": {
  "kernelspec": {
   "display_name": "Python 3 (ipykernel)",
   "language": "python",
   "name": "python3"
  },
  "language_info": {
   "codemirror_mode": {
    "name": "ipython",
    "version": 3
   },
   "file_extension": ".py",
   "mimetype": "text/x-python",
   "name": "python",
   "nbconvert_exporter": "python",
   "pygments_lexer": "ipython3",
   "version": "3.11.9"
  }
 },
 "nbformat": 4,
 "nbformat_minor": 5
}
