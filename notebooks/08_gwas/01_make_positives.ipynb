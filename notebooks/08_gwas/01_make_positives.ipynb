{
 "cells": [
  {
   "cell_type": "code",
   "execution_count": null,
   "id": "c043d258-f2cc-443e-8bb2-655b78a48aa4",
   "metadata": {},
   "outputs": [],
   "source": [
    "import polars as pl\n",
    "import pandas as pd\n",
    "import os, sys\n",
    "from tqdm import tqdm\n",
    "\n",
    "from grelu.data.preprocess import filter_blacklist\n",
    "from grelu.data.utils import get_chromosomes"
   ]
  },
  {
   "cell_type": "markdown",
   "id": "064829cd-dc01-4994-9be8-d0c8de2f2fc5",
   "metadata": {},
   "source": [
    "## Paths"
   ]
  },
  {
   "cell_type": "code",
   "execution_count": null,
   "id": "303c100e-924c-4cca-b537-d9b7d89827b4",
   "metadata": {},
   "outputs": [],
   "source": [
    "gwas_dir = '/gstore/data/humgenet/projects/statgen/GWAS/Benchmark_GWAS/'\n",
    "matrix_file='/gstore/data/resbioai/grelu/decima/20240823/data.h5ad'\n",
    "trait_file = os.path.join(gwas_dir, 'disease_list.txt')\n",
    "gnomad_file = '/data/gnomAD/gnomad-regulatory-variants.tsv'"
   ]
  },
  {
   "cell_type": "markdown",
   "id": "78bc18ee-3059-4b65-8929-042184bdeeed",
   "metadata": {},
   "source": [
    "## Load GWAS SNPs"
   ]
  },
  {
   "cell_type": "code",
   "execution_count": null,
   "id": "9e0de1c0-e01d-4d38-bb87-c5fff00f196b",
   "metadata": {},
   "outputs": [],
   "source": [
    "traits = pl.read_csv(trait_file, has_header=False, new_columns=['trait_ID', 'study', 'trait_name'], \n",
    "                     separator=' ')\n",
    "traits.head(2)"
   ]
  },
  {
   "cell_type": "code",
   "execution_count": null,
   "id": "6e8e8ec5-340f-4807-b197-3c7f0a269fd7",
   "metadata": {},
   "outputs": [],
   "source": [
    "snps = []\n",
    "for row in tqdm(traits.iter_rows()):\n",
    "    susie_file = os.path.join(gwas_dir, 'Complete', row[0], f'{row[1]}.susie.gwfinemap.b38.gz')\n",
    "    df = pl.read_csv(susie_file, separator='\\t',columns=[0,1,2, 3, 4, 6, 9, 10],\n",
    "             new_columns = ['chrom', 'rsid', 'pos', 'ref', 'alt', 'MAF', 'p', 'PIP'])\n",
    "    df = df.with_columns(pl.lit(row[0]).alias('trait_ID'))\n",
    "    df = df.with_columns(pl.lit(row[1]).alias('study'))\n",
    "    df = df.with_columns(pl.lit(row[2]).alias('trait_name'))\n",
    "    snps.append(df)\n",
    "\n",
    "snps = pl.concat(snps)"
   ]
  },
  {
   "cell_type": "markdown",
   "id": "a5e9f196-aaf5-4d90-9571-ddeb00522bc8",
   "metadata": {},
   "source": [
    "## Load gnomad regulatory variants within 100 kb of decima gene TSS"
   ]
  },
  {
   "cell_type": "code",
   "execution_count": null,
   "id": "fe5bc828-5922-40b8-979b-6c08656d38ed",
   "metadata": {},
   "outputs": [],
   "source": [
    "%%time\n",
    "gnomad = pl.read_csv(gnomad_file, has_header=False, separator='\\t', columns=[0, 1, 2, 3, 4, 5, 8],\n",
    "    new_columns=['chrom', 'pos', 'rsid', 'ref', 'alt', 'af', 'vep']).unique()\n",
    "print(len(gnomad))\n",
    "gnomad.head(3)"
   ]
  },
  {
   "cell_type": "markdown",
   "id": "31988f42-2a6c-482e-a3d9-30287d364eff",
   "metadata": {},
   "source": [
    "## Subset gwas variants with high PIP"
   ]
  },
  {
   "cell_type": "code",
   "execution_count": null,
   "id": "968ec54e-f298-4f1b-9f19-42a491a9009b",
   "metadata": {},
   "outputs": [],
   "source": [
    "print(len(snps))\n",
    "snps = snps.filter(pl.col(\"PIP\") > 0.9)\n",
    "print(len(snps))"
   ]
  },
  {
   "cell_type": "markdown",
   "id": "2c4a9fce-6fc1-4762-8e08-353616fab1a4",
   "metadata": {},
   "source": [
    "## Select regulatory variants <100kb from TSS"
   ]
  },
  {
   "cell_type": "code",
   "execution_count": null,
   "id": "d0fa81d1-3b0e-4a5d-ad98-271f0cea8a2a",
   "metadata": {},
   "outputs": [],
   "source": [
    "%%time\n",
    "snps = snps.join(gnomad, on=['chrom', 'pos', 'rsid', 'ref', 'alt'], how = 'inner')\n",
    "snps = snps.with_columns(maf = snps['af'].apply(lambda x: 1-x if x > .5 else x))\n",
    "snps = snps.drop(columns=['af'])\n",
    "print(len(snps))"
   ]
  },
  {
   "cell_type": "markdown",
   "id": "a86a6d0d-9cb3-40a3-89ee-2aba8b9842f2",
   "metadata": {},
   "source": [
    "## Filter chromosomes"
   ]
  },
  {
   "cell_type": "code",
   "execution_count": null,
   "id": "8a234bc3-c467-4981-8d78-4b14153c0cb8",
   "metadata": {},
   "outputs": [],
   "source": [
    "snps = snps.filter(pl.col(\"chrom\").is_in(get_chromosomes('autosomesXY')))\n",
    "len(snps)"
   ]
  },
  {
   "cell_type": "markdown",
   "id": "33ab242f-cfd8-40e4-abf4-c9a4f6fe0824",
   "metadata": {},
   "source": [
    "## Filter SNVs with clear alleles"
   ]
  },
  {
   "cell_type": "code",
   "execution_count": null,
   "id": "7d3d7459-4475-443e-bde3-c8d36ab6abaa",
   "metadata": {},
   "outputs": [],
   "source": [
    "snps = snps.filter(pl.col(\"ref\").is_in([\"A\", \"C\", \"G\", \"T\"]))\n",
    "snps = snps.filter(pl.col(\"alt\").is_in([\"A\", \"C\", \"G\", \"T\"]))\n",
    "len(snps)"
   ]
  },
  {
   "cell_type": "markdown",
   "id": "b61a29a4-6a77-4e77-81ac-b94ce3bfa356",
   "metadata": {},
   "source": [
    "## Filter blacklist"
   ]
  },
  {
   "cell_type": "code",
   "execution_count": null,
   "id": "b42a99cf-b3c0-4ddf-b816-ede613cd71bd",
   "metadata": {},
   "outputs": [],
   "source": [
    "snps = snps.to_pandas()\n",
    "snps['start'] = snps['pos'].tolist()\n",
    "snps['end'] = snps['start']+1\n",
    "snps = snps[['chrom', 'start', 'end'] + [x for x in snps.columns if x not in ['chrom', 'start', 'end']]]\n",
    "snps = filter_blacklist(snps, 'hg38')\n",
    "snps = snps.drop(columns=['start', 'end'])\n",
    "len(snps)"
   ]
  },
  {
   "cell_type": "markdown",
   "id": "4622b23f-9dc6-4c39-a0e2-d23a9062c632",
   "metadata": {},
   "source": [
    "## Filter significant p-value"
   ]
  },
  {
   "cell_type": "code",
   "execution_count": null,
   "id": "f3a23ff8-638c-4d1e-b8ba-e8b396f3472d",
   "metadata": {},
   "outputs": [],
   "source": [
    "snps = snps[snps.p < 1e-6].copy()\n",
    "len(snps)"
   ]
  },
  {
   "cell_type": "markdown",
   "id": "06f11cee-bd24-456b-add3-93e4c8758cea",
   "metadata": {},
   "source": [
    "## Assign variant ID"
   ]
  },
  {
   "cell_type": "code",
   "execution_count": null,
   "id": "6a739bbb-c16b-499a-8597-c089a212c8fd",
   "metadata": {},
   "outputs": [],
   "source": [
    "snps['variant'] = snps.chrom.astype(str) + '_' + snps.pos.astype(str) + '_' + snps.ref.astype(str) + '_' + snps.alt.astype(str)"
   ]
  },
  {
   "cell_type": "markdown",
   "id": "984e389b-d3d8-42d0-9f63-4b33e6975568",
   "metadata": {},
   "source": [
    "## Get unique variants"
   ]
  },
  {
   "cell_type": "code",
   "execution_count": null,
   "id": "f26b16e8-c863-401e-b970-12f644796344",
   "metadata": {},
   "outputs": [],
   "source": [
    "pos_variants = snps.groupby(['chrom', 'pos', 'ref', 'alt', 'variant', 'rsid', 'vep','maf']).p.min().reset_index(name='min_p')"
   ]
  },
  {
   "cell_type": "code",
   "execution_count": null,
   "id": "9daffb0b-1ad5-4aee-a04a-848d61e47760",
   "metadata": {},
   "outputs": [],
   "source": [
    "len(pos_variants)"
   ]
  },
  {
   "cell_type": "markdown",
   "id": "30517273-cb49-40b0-b6e0-f56c4c39e62f",
   "metadata": {},
   "source": [
    "## Save"
   ]
  },
  {
   "cell_type": "code",
   "execution_count": null,
   "id": "e76a2e15-f6bc-47ab-8758-20fed31d61ff",
   "metadata": {},
   "outputs": [],
   "source": [
    "out_dir='/gstore/data/resbioai/grelu/decima/20240823/gwas_44traits/positive_variants'"
   ]
  },
  {
   "cell_type": "code",
   "execution_count": null,
   "id": "2426612c-b8d9-468e-9717-f00bca156da8",
   "metadata": {},
   "outputs": [],
   "source": [
    "pos_file = os.path.join(out_dir, 'positive_variants_and_traits.csv')\n",
    "pos_variants_file = os.path.join(out_dir, 'positive_variants.csv')"
   ]
  },
  {
   "cell_type": "code",
   "execution_count": null,
   "id": "e83435d9-6172-4b6a-acca-ab3bab3d0e05",
   "metadata": {},
   "outputs": [],
   "source": [
    "snps.to_csv(pos_file, index=False)\n",
    "pos_variants.to_csv(pos_variants_file, index=False)"
   ]
  },
  {
   "cell_type": "code",
   "execution_count": null,
   "id": "b61086b4-89b9-46a5-a7e7-6deffe90fa59",
   "metadata": {},
   "outputs": [],
   "source": []
  }
 ],
 "metadata": {
  "kernelspec": {
   "display_name": "Python 3 (ipykernel)",
   "language": "python",
   "name": "python3"
  },
  "language_info": {
   "codemirror_mode": {
    "name": "ipython",
    "version": 3
   },
   "file_extension": ".py",
   "mimetype": "text/x-python",
   "name": "python",
   "nbconvert_exporter": "python",
   "pygments_lexer": "ipython3",
   "version": "3.11.9"
  }
 },
 "nbformat": 4,
 "nbformat_minor": 5
}
